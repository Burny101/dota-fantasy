{
 "cells": [
  {
   "cell_type": "code",
   "execution_count": 63,
   "id": "initial_id",
   "metadata": {
    "collapsed": true,
    "ExecuteTime": {
     "end_time": "2025-07-26T17:18:43.672895500Z",
     "start_time": "2025-07-26T17:18:43.515678400Z"
    }
   },
   "outputs": [],
   "source": [
    "import pandas as pd\n",
    "import numpy as np\n",
    "import tensorflow as tf\n",
    "from tensorflow.keras import layers, models\n",
    "import json\n",
    "from sklearn.model_selection import train_test_split\n",
    "from sklearn.metrics import root_mean_squared_error"
   ]
  },
  {
   "cell_type": "code",
   "execution_count": 64,
   "outputs": [],
   "source": [
    "with open('data/curated/player_data.json', 'r') as f:\n",
    "    player_data = json.load(f)"
   ],
   "metadata": {
    "collapsed": false,
    "ExecuteTime": {
     "end_time": "2025-07-26T17:18:43.723639600Z",
     "start_time": "2025-07-26T17:18:43.519683300Z"
    }
   },
   "id": "39f3c80b5f2bc912"
  },
  {
   "cell_type": "code",
   "execution_count": 65,
   "outputs": [],
   "source": [
    "df = pd.DataFrame(player_data)"
   ],
   "metadata": {
    "collapsed": false,
    "ExecuteTime": {
     "end_time": "2025-07-26T17:18:43.829717100Z",
     "start_time": "2025-07-26T17:18:43.690999300Z"
    }
   },
   "id": "77ad740acc4052b8"
  },
  {
   "cell_type": "code",
   "execution_count": 66,
   "outputs": [],
   "source": [
    "df = df.astype({\n",
    "    'match_id': 'string',\n",
    "    'account_id': 'string',\n",
    "    'hero_id': 'string',\n",
    "    'radiant_team_id': 'string',\n",
    "    'dire_team_id': 'string',\n",
    "    'win': 'boolean',\n",
    "    'firstblood_claimed': 'boolean',\n",
    "    'team_id': 'string',\n",
    "    'enemy_team_id': 'string',\n",
    "    'valveId': 'string',\n",
    "})"
   ],
   "metadata": {
    "collapsed": false,
    "ExecuteTime": {
     "end_time": "2025-07-26T17:18:43.876889Z",
     "start_time": "2025-07-26T17:18:43.831713Z"
    }
   },
   "id": "771885b884c2e4c2"
  },
  {
   "cell_type": "code",
   "execution_count": 67,
   "outputs": [],
   "source": [
    "q1_glicko = df['glicko2_rating'].quantile(0.25)\n",
    "df['glicko2_rating'] = df['glicko2_rating'].fillna(q1_glicko)\n",
    "q1_enemy_glicko = df['enemy_glicko2_rating'].quantile(0.25)\n",
    "df['enemy_glicko2_rating'] = df['enemy_glicko2_rating'].fillna(q1_enemy_glicko)"
   ],
   "metadata": {
    "collapsed": false,
    "ExecuteTime": {
     "end_time": "2025-07-26T17:18:43.894608300Z",
     "start_time": "2025-07-26T17:18:43.878890600Z"
    }
   },
   "id": "a1a90c9c3cf75c76"
  },
  {
   "cell_type": "code",
   "execution_count": 68,
   "outputs": [],
   "source": [
    "mask = df['rating_advantage'].isna()\n",
    "df.loc[mask, 'rating_advantage'] = df.loc[mask, 'glicko2_rating'] - df.loc[mask, 'enemy_glicko2_rating']"
   ],
   "metadata": {
    "collapsed": false,
    "ExecuteTime": {
     "end_time": "2025-07-26T17:18:43.913889100Z",
     "start_time": "2025-07-26T17:18:43.892606500Z"
    }
   },
   "id": "16f66ae8f37d0bc9"
  },
  {
   "cell_type": "code",
   "execution_count": 69,
   "outputs": [],
   "source": [
    "df = df.sort_values(['account_id', 'match_start_time'])\n"
   ],
   "metadata": {
    "collapsed": false,
    "ExecuteTime": {
     "end_time": "2025-07-26T17:18:43.941644300Z",
     "start_time": "2025-07-26T17:18:43.907784200Z"
    }
   },
   "id": "3d9bc1b98d2ca991"
  },
  {
   "cell_type": "code",
   "execution_count": 70,
   "outputs": [],
   "source": [
    "SEQ_LEN=10"
   ],
   "metadata": {
    "collapsed": false,
    "ExecuteTime": {
     "end_time": "2025-07-26T17:18:43.955823800Z",
     "start_time": "2025-07-26T17:18:43.939644600Z"
    }
   },
   "id": "3202f1ed26a5026c"
  },
  {
   "cell_type": "code",
   "execution_count": 71,
   "outputs": [
    {
     "name": "stdout",
     "output_type": "stream",
     "text": [
      "<class 'pandas.core.frame.DataFrame'>\n",
      "Index: 15530 entries, 1126 to 14947\n",
      "Data columns (total 40 columns):\n",
      " #   Column                   Non-Null Count  Dtype  \n",
      "---  ------                   --------------  -----  \n",
      " 0   match_id                 15530 non-null  string \n",
      " 1   match_start_time         15530 non-null  int64  \n",
      " 2   account_id               15530 non-null  string \n",
      " 3   name                     15530 non-null  object \n",
      " 4   fantasy_role             15530 non-null  object \n",
      " 5   hero_id                  15530 non-null  string \n",
      " 6   hero_variant             15530 non-null  object \n",
      " 7   isRadiant                15530 non-null  bool   \n",
      " 8   radiant_team_id          15530 non-null  string \n",
      " 9   dire_team_id             15530 non-null  string \n",
      " 10  tournament_start_date    15530 non-null  object \n",
      " 11  duration                 15530 non-null  int64  \n",
      " 12  win                      15530 non-null  boolean\n",
      " 13  kills                    15530 non-null  int64  \n",
      " 14  deaths                   15530 non-null  int64  \n",
      " 15  last_hits                15530 non-null  int64  \n",
      " 16  denies                   15530 non-null  int64  \n",
      " 17  gold_per_min             15530 non-null  int64  \n",
      " 18  towers_killed            15530 non-null  int64  \n",
      " 19  roshans_killed           15530 non-null  int64  \n",
      " 20  teamfight_participation  15530 non-null  float64\n",
      " 21  obs_placed               15530 non-null  int64  \n",
      " 22  camps_stacked            15530 non-null  int64  \n",
      " 23  rune_pickups             15530 non-null  int64  \n",
      " 24  firstblood_claimed       15530 non-null  boolean\n",
      " 25  stuns                    15530 non-null  float64\n",
      " 26  creeps_stacked           15530 non-null  int64  \n",
      " 27  assists                  15530 non-null  int64  \n",
      " 28  xp_per_min               15530 non-null  int64  \n",
      " 29  lane_efficiency          15510 non-null  float64\n",
      " 30  team_id                  15530 non-null  string \n",
      " 31  enemy_team_id            15530 non-null  string \n",
      " 32  teamName                 14115 non-null  object \n",
      " 33  valveId                  14115 non-null  string \n",
      " 34  glicko2_rating           15530 non-null  float64\n",
      " 35  enemy_teamName           14115 non-null  object \n",
      " 36  enemy_valveId            14115 non-null  object \n",
      " 37  enemy_glicko2_rating     15530 non-null  float64\n",
      " 38  fantasy_score            15530 non-null  float64\n",
      " 39  rating_advantage         15530 non-null  float64\n",
      "dtypes: bool(1), boolean(2), float64(7), int64(15), object(7), string(8)\n",
      "memory usage: 4.6+ MB\n"
     ]
    }
   ],
   "source": [
    "df.info()"
   ],
   "metadata": {
    "collapsed": false,
    "ExecuteTime": {
     "end_time": "2025-07-26T17:18:44.005747800Z",
     "start_time": "2025-07-26T17:18:43.955823800Z"
    }
   },
   "id": "4df31ab5d196d3d8"
  },
  {
   "cell_type": "code",
   "execution_count": 72,
   "outputs": [],
   "source": [
    "not_features = [\n",
    "    'match_id', 'account_id', 'name', 'radiant_team_id', 'dire_team_id',\n",
    "    'tournament_start_date', 'teamName', 'valveId', 'enemy_teamName', 'enemy_valveId', 'fantasy_score', 'team_id'\n",
    "]"
   ],
   "metadata": {
    "collapsed": false,
    "ExecuteTime": {
     "end_time": "2025-07-26T17:18:44.050898500Z",
     "start_time": "2025-07-26T17:18:44.003746600Z"
    }
   },
   "id": "f90859b5bf5fbbd4"
  },
  {
   "cell_type": "code",
   "execution_count": 73,
   "outputs": [],
   "source": [
    "df['isRadiant'] = df['isRadiant'].astype(int)\n",
    "df['win'] = df['win'].astype(int)\n",
    "df['firstblood_claimed'] = df['firstblood_claimed'].astype(int)"
   ],
   "metadata": {
    "collapsed": false,
    "ExecuteTime": {
     "end_time": "2025-07-26T17:18:44.051899100Z",
     "start_time": "2025-07-26T17:18:44.018759900Z"
    }
   },
   "id": "a7146f2ab928cd1e"
  },
  {
   "cell_type": "code",
   "execution_count": 74,
   "outputs": [],
   "source": [
    "df = pd.get_dummies(df, columns=['fantasy_role', 'hero_id', 'hero_variant'])"
   ],
   "metadata": {
    "collapsed": false,
    "ExecuteTime": {
     "end_time": "2025-07-26T17:18:44.123942Z",
     "start_time": "2025-07-26T17:18:44.032881600Z"
    }
   },
   "id": "a5e2f617e6035d15"
  },
  {
   "cell_type": "code",
   "execution_count": 75,
   "outputs": [],
   "source": [
    "#features = [col for col in df.columns if col not in not_features]\n",
    "features = [col for col in df.columns if col not in not_features and pd.api.types.is_numeric_dtype(df[col])]\n",
    "#df[features].isna().sum()\n",
    "df[features] = df[features].fillna(df[features].mean())"
   ],
   "metadata": {
    "collapsed": false,
    "ExecuteTime": {
     "end_time": "2025-07-26T17:18:45.734891500Z",
     "start_time": "2025-07-26T17:18:45.632625700Z"
    }
   },
   "id": "a9b629c8c0350c95"
  },
  {
   "cell_type": "code",
   "execution_count": 76,
   "outputs": [],
   "source": [
    "\n",
    "X_seqs = []\n",
    "y_seqs = []\n",
    "\n",
    "for _, player_df in df.groupby('account_id'):\n",
    "    player_df = player_df.reset_index(drop=True)\n",
    "    for i in range(len(player_df) - SEQ_LEN):\n",
    "        X_seqs.append(player_df.loc[i:i+SEQ_LEN-1, features].values)\n",
    "        y_seqs.append(player_df.loc[i+SEQ_LEN, 'fantasy_score'])\n",
    "\n",
    "X_seqs = np.array(X_seqs)\n",
    "y_seqs = np.array(y_seqs)"
   ],
   "metadata": {
    "collapsed": false,
    "ExecuteTime": {
     "end_time": "2025-07-26T17:18:57.581816800Z",
     "start_time": "2025-07-26T17:18:47.912719600Z"
    }
   },
   "id": "e99a686055bf7037"
  },
  {
   "cell_type": "code",
   "execution_count": 77,
   "outputs": [],
   "source": [
    "X_train, X_test, y_train, y_test = train_test_split(X_seqs, y_seqs, test_size=0.1, random_state=42)"
   ],
   "metadata": {
    "collapsed": false,
    "ExecuteTime": {
     "end_time": "2025-07-26T17:19:00.561831100Z",
     "start_time": "2025-07-26T17:19:00.423923600Z"
    }
   },
   "id": "3226417a72af794b"
  },
  {
   "cell_type": "code",
   "execution_count": 78,
   "outputs": [
    {
     "data": {
      "text/plain": "\u001B[1mModel: \"sequential_3\"\u001B[0m\n",
      "text/html": "<pre style=\"white-space:pre;overflow-x:auto;line-height:normal;font-family:Menlo,'DejaVu Sans Mono',consolas,'Courier New',monospace\"><span style=\"font-weight: bold\">Model: \"sequential_3\"</span>\n</pre>\n"
     },
     "metadata": {},
     "output_type": "display_data"
    },
    {
     "data": {
      "text/plain": "┏━━━━━━━━━━━━━━━━━━━━━━━━━━━━━━━━━┳━━━━━━━━━━━━━━━━━━━━━━━━┳━━━━━━━━━━━━━━━┓\n┃\u001B[1m \u001B[0m\u001B[1mLayer (type)                   \u001B[0m\u001B[1m \u001B[0m┃\u001B[1m \u001B[0m\u001B[1mOutput Shape          \u001B[0m\u001B[1m \u001B[0m┃\u001B[1m \u001B[0m\u001B[1m      Param #\u001B[0m\u001B[1m \u001B[0m┃\n┡━━━━━━━━━━━━━━━━━━━━━━━━━━━━━━━━━╇━━━━━━━━━━━━━━━━━━━━━━━━╇━━━━━━━━━━━━━━━┩\n│ lstm_3 (\u001B[38;5;33mLSTM\u001B[0m)                   │ (\u001B[38;5;45mNone\u001B[0m, \u001B[38;5;34m64\u001B[0m)             │       \u001B[38;5;34m127,744\u001B[0m │\n├─────────────────────────────────┼────────────────────────┼───────────────┤\n│ dense_3 (\u001B[38;5;33mDense\u001B[0m)                 │ (\u001B[38;5;45mNone\u001B[0m, \u001B[38;5;34m1\u001B[0m)              │            \u001B[38;5;34m65\u001B[0m │\n└─────────────────────────────────┴────────────────────────┴───────────────┘\n",
      "text/html": "<pre style=\"white-space:pre;overflow-x:auto;line-height:normal;font-family:Menlo,'DejaVu Sans Mono',consolas,'Courier New',monospace\">┏━━━━━━━━━━━━━━━━━━━━━━━━━━━━━━━━━┳━━━━━━━━━━━━━━━━━━━━━━━━┳━━━━━━━━━━━━━━━┓\n┃<span style=\"font-weight: bold\"> Layer (type)                    </span>┃<span style=\"font-weight: bold\"> Output Shape           </span>┃<span style=\"font-weight: bold\">       Param # </span>┃\n┡━━━━━━━━━━━━━━━━━━━━━━━━━━━━━━━━━╇━━━━━━━━━━━━━━━━━━━━━━━━╇━━━━━━━━━━━━━━━┩\n│ lstm_3 (<span style=\"color: #0087ff; text-decoration-color: #0087ff\">LSTM</span>)                   │ (<span style=\"color: #00d7ff; text-decoration-color: #00d7ff\">None</span>, <span style=\"color: #00af00; text-decoration-color: #00af00\">64</span>)             │       <span style=\"color: #00af00; text-decoration-color: #00af00\">127,744</span> │\n├─────────────────────────────────┼────────────────────────┼───────────────┤\n│ dense_3 (<span style=\"color: #0087ff; text-decoration-color: #0087ff\">Dense</span>)                 │ (<span style=\"color: #00d7ff; text-decoration-color: #00d7ff\">None</span>, <span style=\"color: #00af00; text-decoration-color: #00af00\">1</span>)              │            <span style=\"color: #00af00; text-decoration-color: #00af00\">65</span> │\n└─────────────────────────────────┴────────────────────────┴───────────────┘\n</pre>\n"
     },
     "metadata": {},
     "output_type": "display_data"
    },
    {
     "data": {
      "text/plain": "\u001B[1m Total params: \u001B[0m\u001B[38;5;34m127,809\u001B[0m (499.25 KB)\n",
      "text/html": "<pre style=\"white-space:pre;overflow-x:auto;line-height:normal;font-family:Menlo,'DejaVu Sans Mono',consolas,'Courier New',monospace\"><span style=\"font-weight: bold\"> Total params: </span><span style=\"color: #00af00; text-decoration-color: #00af00\">127,809</span> (499.25 KB)\n</pre>\n"
     },
     "metadata": {},
     "output_type": "display_data"
    },
    {
     "data": {
      "text/plain": "\u001B[1m Trainable params: \u001B[0m\u001B[38;5;34m127,809\u001B[0m (499.25 KB)\n",
      "text/html": "<pre style=\"white-space:pre;overflow-x:auto;line-height:normal;font-family:Menlo,'DejaVu Sans Mono',consolas,'Courier New',monospace\"><span style=\"font-weight: bold\"> Trainable params: </span><span style=\"color: #00af00; text-decoration-color: #00af00\">127,809</span> (499.25 KB)\n</pre>\n"
     },
     "metadata": {},
     "output_type": "display_data"
    },
    {
     "data": {
      "text/plain": "\u001B[1m Non-trainable params: \u001B[0m\u001B[38;5;34m0\u001B[0m (0.00 B)\n",
      "text/html": "<pre style=\"white-space:pre;overflow-x:auto;line-height:normal;font-family:Menlo,'DejaVu Sans Mono',consolas,'Courier New',monospace\"><span style=\"font-weight: bold\"> Non-trainable params: </span><span style=\"color: #00af00; text-decoration-color: #00af00\">0</span> (0.00 B)\n</pre>\n"
     },
     "metadata": {},
     "output_type": "display_data"
    },
    {
     "name": "stdout",
     "output_type": "stream",
     "text": [
      "Epoch 1/20\n",
      "\u001B[1m340/340\u001B[0m \u001B[32m━━━━━━━━━━━━━━━━━━━━\u001B[0m\u001B[37m\u001B[0m \u001B[1m3s\u001B[0m 4ms/step - loss: 192.2426 - val_loss: 100.8829\n",
      "Epoch 2/20\n",
      "\u001B[1m340/340\u001B[0m \u001B[32m━━━━━━━━━━━━━━━━━━━━\u001B[0m\u001B[37m\u001B[0m \u001B[1m1s\u001B[0m 4ms/step - loss: 88.0633 - val_loss: 46.6722\n",
      "Epoch 3/20\n",
      "\u001B[1m340/340\u001B[0m \u001B[32m━━━━━━━━━━━━━━━━━━━━\u001B[0m\u001B[37m\u001B[0m \u001B[1m1s\u001B[0m 4ms/step - loss: 43.4799 - val_loss: 28.0038\n",
      "Epoch 4/20\n",
      "\u001B[1m340/340\u001B[0m \u001B[32m━━━━━━━━━━━━━━━━━━━━\u001B[0m\u001B[37m\u001B[0m \u001B[1m1s\u001B[0m 4ms/step - loss: 28.4734 - val_loss: 23.6215\n",
      "Epoch 5/20\n",
      "\u001B[1m340/340\u001B[0m \u001B[32m━━━━━━━━━━━━━━━━━━━━\u001B[0m\u001B[37m\u001B[0m \u001B[1m1s\u001B[0m 4ms/step - loss: 25.2763 - val_loss: 23.0700\n",
      "Epoch 6/20\n",
      "\u001B[1m340/340\u001B[0m \u001B[32m━━━━━━━━━━━━━━━━━━━━\u001B[0m\u001B[37m\u001B[0m \u001B[1m1s\u001B[0m 4ms/step - loss: 24.3575 - val_loss: 23.0850\n",
      "Epoch 7/20\n",
      "\u001B[1m340/340\u001B[0m \u001B[32m━━━━━━━━━━━━━━━━━━━━\u001B[0m\u001B[37m\u001B[0m \u001B[1m1s\u001B[0m 4ms/step - loss: 24.2671 - val_loss: 23.1157\n",
      "Epoch 8/20\n",
      "\u001B[1m340/340\u001B[0m \u001B[32m━━━━━━━━━━━━━━━━━━━━\u001B[0m\u001B[37m\u001B[0m \u001B[1m1s\u001B[0m 4ms/step - loss: 24.8130 - val_loss: 23.1027\n",
      "Epoch 9/20\n",
      "\u001B[1m340/340\u001B[0m \u001B[32m━━━━━━━━━━━━━━━━━━━━\u001B[0m\u001B[37m\u001B[0m \u001B[1m1s\u001B[0m 4ms/step - loss: 24.5381 - val_loss: 23.1287\n",
      "Epoch 10/20\n",
      "\u001B[1m340/340\u001B[0m \u001B[32m━━━━━━━━━━━━━━━━━━━━\u001B[0m\u001B[37m\u001B[0m \u001B[1m1s\u001B[0m 4ms/step - loss: 24.3508 - val_loss: 23.1116\n",
      "Epoch 11/20\n",
      "\u001B[1m340/340\u001B[0m \u001B[32m━━━━━━━━━━━━━━━━━━━━\u001B[0m\u001B[37m\u001B[0m \u001B[1m1s\u001B[0m 4ms/step - loss: 24.3433 - val_loss: 23.1446\n",
      "Epoch 12/20\n",
      "\u001B[1m340/340\u001B[0m \u001B[32m━━━━━━━━━━━━━━━━━━━━\u001B[0m\u001B[37m\u001B[0m \u001B[1m1s\u001B[0m 4ms/step - loss: 24.6934 - val_loss: 23.1733\n",
      "Epoch 13/20\n",
      "\u001B[1m340/340\u001B[0m \u001B[32m━━━━━━━━━━━━━━━━━━━━\u001B[0m\u001B[37m\u001B[0m \u001B[1m1s\u001B[0m 4ms/step - loss: 24.2151 - val_loss: 23.1413\n",
      "Epoch 14/20\n",
      "\u001B[1m340/340\u001B[0m \u001B[32m━━━━━━━━━━━━━━━━━━━━\u001B[0m\u001B[37m\u001B[0m \u001B[1m1s\u001B[0m 4ms/step - loss: 24.5376 - val_loss: 23.0985\n",
      "Epoch 15/20\n",
      "\u001B[1m340/340\u001B[0m \u001B[32m━━━━━━━━━━━━━━━━━━━━\u001B[0m\u001B[37m\u001B[0m \u001B[1m1s\u001B[0m 4ms/step - loss: 23.3555 - val_loss: 23.1098\n",
      "Epoch 16/20\n",
      "\u001B[1m340/340\u001B[0m \u001B[32m━━━━━━━━━━━━━━━━━━━━\u001B[0m\u001B[37m\u001B[0m \u001B[1m1s\u001B[0m 4ms/step - loss: 24.4048 - val_loss: 23.1296\n",
      "Epoch 17/20\n",
      "\u001B[1m340/340\u001B[0m \u001B[32m━━━━━━━━━━━━━━━━━━━━\u001B[0m\u001B[37m\u001B[0m \u001B[1m1s\u001B[0m 4ms/step - loss: 24.3383 - val_loss: 23.1119\n",
      "Epoch 18/20\n",
      "\u001B[1m340/340\u001B[0m \u001B[32m━━━━━━━━━━━━━━━━━━━━\u001B[0m\u001B[37m\u001B[0m \u001B[1m1s\u001B[0m 4ms/step - loss: 24.1238 - val_loss: 23.1348\n",
      "Epoch 19/20\n",
      "\u001B[1m340/340\u001B[0m \u001B[32m━━━━━━━━━━━━━━━━━━━━\u001B[0m\u001B[37m\u001B[0m \u001B[1m1s\u001B[0m 4ms/step - loss: 25.2468 - val_loss: 23.1089\n",
      "Epoch 20/20\n",
      "\u001B[1m340/340\u001B[0m \u001B[32m━━━━━━━━━━━━━━━━━━━━\u001B[0m\u001B[37m\u001B[0m \u001B[1m1s\u001B[0m 4ms/step - loss: 24.8295 - val_loss: 23.1050\n"
     ]
    }
   ],
   "source": [
    "model = models.Sequential([\n",
    "    layers.Input(shape=(SEQ_LEN, X_train.shape[2])),\n",
    "    layers.LSTM(64, return_sequences=False),\n",
    "    layers.Dense(1)\n",
    "])\n",
    "model.compile(optimizer='adam', loss='mse')\n",
    "model.summary()\n",
    "\n",
    "history = model.fit(X_train, y_train, epochs=20, batch_size=32, validation_split=0.1)"
   ],
   "metadata": {
    "collapsed": false,
    "ExecuteTime": {
     "end_time": "2025-07-26T17:19:28.298164Z",
     "start_time": "2025-07-26T17:19:01.321803200Z"
    }
   },
   "id": "f2186820a17c4c06"
  },
  {
   "cell_type": "code",
   "execution_count": 79,
   "outputs": [
    {
     "name": "stdout",
     "output_type": "stream",
     "text": [
      "\u001B[1m42/42\u001B[0m \u001B[32m━━━━━━━━━━━━━━━━━━━━\u001B[0m\u001B[37m\u001B[0m \u001B[1m0s\u001B[0m 4ms/step\n",
      "LSTM RMSE: 4.807088396014597\n"
     ]
    }
   ],
   "source": [
    "from sklearn.metrics import mean_squared_error\n",
    "y_pred = model.predict(X_test)\n",
    "print(\"LSTM RMSE:\", root_mean_squared_error(y_test, y_pred))"
   ],
   "metadata": {
    "collapsed": false,
    "ExecuteTime": {
     "end_time": "2025-07-26T17:19:40.353994200Z",
     "start_time": "2025-07-26T17:19:40.019696Z"
    }
   },
   "id": "aa35c774b5fffd61"
  },
  {
   "cell_type": "code",
   "execution_count": null,
   "outputs": [],
   "source": [],
   "metadata": {
    "collapsed": false
   },
   "id": "e122e8b25ca0ea7a"
  }
 ],
 "metadata": {
  "kernelspec": {
   "name": "tf",
   "language": "python",
   "display_name": "Python (tf)"
  },
  "language_info": {
   "codemirror_mode": {
    "name": "ipython",
    "version": 2
   },
   "file_extension": ".py",
   "mimetype": "text/x-python",
   "name": "python",
   "nbconvert_exporter": "python",
   "pygments_lexer": "ipython2",
   "version": "2.7.6"
  }
 },
 "nbformat": 4,
 "nbformat_minor": 5
}
