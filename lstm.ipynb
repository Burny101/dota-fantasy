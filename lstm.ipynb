{
 "cells": [
  {
   "cell_type": "code",
   "execution_count": 1,
   "id": "initial_id",
   "metadata": {
    "collapsed": true,
    "ExecuteTime": {
     "end_time": "2025-07-29T16:51:25.518101Z",
     "start_time": "2025-07-29T16:51:21.166008200Z"
    }
   },
   "outputs": [
    {
     "name": "stderr",
     "output_type": "stream",
     "text": [
      "C:\\Users\\Bernhard\\.conda\\envs\\tf_new\\lib\\site-packages\\requests\\__init__.py:86: RequestsDependencyWarning: Unable to find acceptable character detection dependency (chardet or charset_normalizer).\n",
      "  warnings.warn(\n"
     ]
    }
   ],
   "source": [
    "import pandas as pd\n",
    "import numpy as np\n",
    "import os\n",
    "import tensorflow as tf\n",
    "from tensorflow.keras import layers, models\n",
    "from tensorflow.keras.callbacks import EarlyStopping\n",
    "import json\n",
    "from sklearn.model_selection import train_test_split\n",
    "from sklearn.metrics import root_mean_squared_error\n",
    "from sklearn.preprocessing import StandardScaler\n",
    "from sklearn.metrics import mean_absolute_error, r2_score, root_mean_squared_error\n"
   ]
  },
  {
   "cell_type": "code",
   "execution_count": 2,
   "outputs": [],
   "source": [
    "with open('data/curated/player_data.json', 'r') as f:\n",
    "    player_data = json.load(f)"
   ],
   "metadata": {
    "collapsed": false,
    "ExecuteTime": {
     "end_time": "2025-07-29T16:51:25.696917800Z",
     "start_time": "2025-07-29T16:51:25.515598700Z"
    }
   },
   "id": "39f3c80b5f2bc912"
  },
  {
   "cell_type": "code",
   "execution_count": 3,
   "outputs": [],
   "source": [
    "df = pd.DataFrame(player_data)"
   ],
   "metadata": {
    "collapsed": false,
    "ExecuteTime": {
     "end_time": "2025-07-29T16:51:25.814011900Z",
     "start_time": "2025-07-29T16:51:25.691913200Z"
    }
   },
   "id": "77ad740acc4052b8"
  },
  {
   "cell_type": "code",
   "execution_count": 4,
   "outputs": [],
   "source": [
    "df = df.astype({\n",
    "    'match_id': 'string',\n",
    "    'account_id': 'string',\n",
    "    'hero_id': 'string',\n",
    "    'radiant_team_id': 'string',\n",
    "    'dire_team_id': 'string',\n",
    "    'win': 'boolean',\n",
    "    'firstblood_claimed': 'boolean',\n",
    "    'team_id': 'string',\n",
    "    'enemy_team_id': 'string',\n",
    "    'valveId': 'string',\n",
    "})"
   ],
   "metadata": {
    "collapsed": false,
    "ExecuteTime": {
     "end_time": "2025-07-29T16:51:25.841623600Z",
     "start_time": "2025-07-29T16:51:25.813011100Z"
    }
   },
   "id": "771885b884c2e4c2"
  },
  {
   "cell_type": "code",
   "execution_count": 5,
   "outputs": [],
   "source": [
    "q1_glicko = df['glicko2_rating'].quantile(0.25)\n",
    "df['glicko2_rating'] = df['glicko2_rating'].fillna(q1_glicko)\n",
    "q1_enemy_glicko = df['enemy_glicko2_rating'].quantile(0.25)\n",
    "df['enemy_glicko2_rating'] = df['enemy_glicko2_rating'].fillna(q1_enemy_glicko)"
   ],
   "metadata": {
    "collapsed": false,
    "ExecuteTime": {
     "end_time": "2025-07-29T16:51:25.865688500Z",
     "start_time": "2025-07-29T16:51:25.841623600Z"
    }
   },
   "id": "a1a90c9c3cf75c76"
  },
  {
   "cell_type": "code",
   "execution_count": 6,
   "outputs": [],
   "source": [
    "mask = df['rating_advantage'].isna()\n",
    "df.loc[mask, 'rating_advantage'] = df.loc[mask, 'glicko2_rating'] - df.loc[mask, 'enemy_glicko2_rating']"
   ],
   "metadata": {
    "collapsed": false,
    "ExecuteTime": {
     "end_time": "2025-07-29T16:51:25.882023700Z",
     "start_time": "2025-07-29T16:51:25.860519200Z"
    }
   },
   "id": "16f66ae8f37d0bc9"
  },
  {
   "cell_type": "code",
   "execution_count": 7,
   "outputs": [],
   "source": [
    "df = df.sort_values(['account_id', 'match_start_time'])\n"
   ],
   "metadata": {
    "collapsed": false,
    "ExecuteTime": {
     "end_time": "2025-07-29T16:51:25.906740Z",
     "start_time": "2025-07-29T16:51:25.866688700Z"
    }
   },
   "id": "3d9bc1b98d2ca991"
  },
  {
   "cell_type": "code",
   "execution_count": 8,
   "outputs": [],
   "source": [
    "SEQ_LEN=5"
   ],
   "metadata": {
    "collapsed": false,
    "ExecuteTime": {
     "end_time": "2025-07-29T16:51:25.922235800Z",
     "start_time": "2025-07-29T16:51:25.891907800Z"
    }
   },
   "id": "3202f1ed26a5026c"
  },
  {
   "cell_type": "code",
   "execution_count": 9,
   "outputs": [
    {
     "name": "stdout",
     "output_type": "stream",
     "text": [
      "<class 'pandas.core.frame.DataFrame'>\n",
      "Index: 15437 entries, 1126 to 14854\n",
      "Data columns (total 46 columns):\n",
      " #   Column                    Non-Null Count  Dtype  \n",
      "---  ------                    --------------  -----  \n",
      " 0   match_id                  15437 non-null  string \n",
      " 1   match_start_time          15437 non-null  int64  \n",
      " 2   account_id                15437 non-null  string \n",
      " 3   name                      15437 non-null  object \n",
      " 4   fantasy_role              15437 non-null  object \n",
      " 5   hero_id                   15437 non-null  string \n",
      " 6   hero_variant              15437 non-null  object \n",
      " 7   isRadiant                 15437 non-null  bool   \n",
      " 8   radiant_team_id           15437 non-null  string \n",
      " 9   dire_team_id              15437 non-null  string \n",
      " 10  tournament_start_date     15437 non-null  object \n",
      " 11  duration                  15437 non-null  int64  \n",
      " 12  win                       15437 non-null  boolean\n",
      " 13  kills                     15437 non-null  int64  \n",
      " 14  deaths                    15437 non-null  int64  \n",
      " 15  last_hits                 15437 non-null  int64  \n",
      " 16  denies                    15437 non-null  int64  \n",
      " 17  gold_per_min              15437 non-null  int64  \n",
      " 18  towers_killed             15437 non-null  int64  \n",
      " 19  roshans_killed            15437 non-null  int64  \n",
      " 20  teamfight_participation   15437 non-null  float64\n",
      " 21  obs_placed                15437 non-null  int64  \n",
      " 22  camps_stacked             15437 non-null  int64  \n",
      " 23  rune_pickups              15437 non-null  int64  \n",
      " 24  firstblood_claimed        15437 non-null  boolean\n",
      " 25  stuns                     15437 non-null  float64\n",
      " 26  creeps_stacked            15437 non-null  int64  \n",
      " 27  assists                   15437 non-null  int64  \n",
      " 28  xp_per_min                15437 non-null  int64  \n",
      " 29  lane_efficiency           15417 non-null  float64\n",
      " 30  team_id                   15437 non-null  string \n",
      " 31  enemy_team_id             15437 non-null  string \n",
      " 32  teamName                  14094 non-null  object \n",
      " 33  valveId                   14094 non-null  string \n",
      " 34  glicko2_rating            15437 non-null  float64\n",
      " 35  enemy_teamName            14034 non-null  object \n",
      " 36  enemy_valveId             14034 non-null  object \n",
      " 37  enemy_glicko2_rating      15437 non-null  float64\n",
      " 38  fantasy_score             15437 non-null  float64\n",
      " 39  rating_advantage          15437 non-null  float64\n",
      " 40  rolling_winrate_10        15226 non-null  float64\n",
      " 41  rolling_winrate_15        15226 non-null  float64\n",
      " 42  rolling_fantasy_score_10  15226 non-null  float64\n",
      " 43  rolling_fantasy_score_15  15226 non-null  float64\n",
      " 44  rolling_enemy_glicko2_10  15202 non-null  float64\n",
      " 45  rolling_enemy_glicko2_15  15202 non-null  float64\n",
      "dtypes: bool(1), boolean(2), float64(13), int64(15), object(7), string(8)\n",
      "memory usage: 5.3+ MB\n"
     ]
    }
   ],
   "source": [
    "df.info()"
   ],
   "metadata": {
    "collapsed": false,
    "ExecuteTime": {
     "end_time": "2025-07-29T16:51:25.967690500Z",
     "start_time": "2025-07-29T16:51:25.915065200Z"
    }
   },
   "id": "4df31ab5d196d3d8"
  },
  {
   "cell_type": "code",
   "execution_count": 10,
   "outputs": [],
   "source": [
    "not_features = [\n",
    "    'match_id', 'name', 'match_start_time', 'radiant_team_id', 'dire_team_id',\n",
    "    'tournament_start_date', 'teamName', 'valveId', 'enemy_teamName', 'enemy_valveId', 'fantasy_score',\n",
    "    'rolling_winrate_10',\n",
    "    'rolling_winrate_15',\n",
    "    'rolling_fantasy_score_10',\n",
    "    'rolling_fantasy_score_15',\n",
    "    'rolling_enemy_glicko2_10',\n",
    "    'rolling_enemy_glicko2_15',\n",
    "]"
   ],
   "metadata": {
    "collapsed": false,
    "ExecuteTime": {
     "end_time": "2025-07-29T16:51:25.973713600Z",
     "start_time": "2025-07-29T16:51:25.941575100Z"
    }
   },
   "id": "f90859b5bf5fbbd4"
  },
  {
   "cell_type": "code",
   "execution_count": 11,
   "outputs": [],
   "source": [
    "not_features_fe = [\n",
    "    'match_id', 'name', 'match_start_time', 'radiant_team_id', 'dire_team_id',\n",
    "    'tournament_start_date', 'teamName', 'valveId', 'enemy_teamName', 'enemy_valveId', 'fantasy_score',\n",
    "]"
   ],
   "metadata": {
    "collapsed": false,
    "ExecuteTime": {
     "end_time": "2025-07-29T16:51:25.991881600Z",
     "start_time": "2025-07-29T16:51:25.965564800Z"
    }
   },
   "id": "eb87d42becd52eb1"
  },
  {
   "cell_type": "code",
   "execution_count": 12,
   "outputs": [],
   "source": [
    "df['isRadiant'] = df['isRadiant'].astype(int)\n",
    "df['win'] = df['win'].astype(int)\n",
    "df['firstblood_claimed'] = df['firstblood_claimed'].astype(int)"
   ],
   "metadata": {
    "collapsed": false,
    "ExecuteTime": {
     "end_time": "2025-07-29T16:51:26.022010700Z",
     "start_time": "2025-07-29T16:51:25.973713600Z"
    }
   },
   "id": "a7146f2ab928cd1e"
  },
  {
   "cell_type": "code",
   "execution_count": 13,
   "outputs": [],
   "source": [
    "df = pd.get_dummies(df, columns=['fantasy_role', 'hero_id', 'hero_variant'])"
   ],
   "metadata": {
    "collapsed": false,
    "ExecuteTime": {
     "end_time": "2025-07-29T16:51:26.041610400Z",
     "start_time": "2025-07-29T16:51:25.991881600Z"
    }
   },
   "id": "f3e69683a2f93c2a"
  },
  {
   "cell_type": "markdown",
   "source": [
    "# LSTM without FE"
   ],
   "metadata": {
    "collapsed": false
   },
   "id": "6547d8493bfc7086"
  },
  {
   "cell_type": "code",
   "execution_count": 14,
   "outputs": [],
   "source": [
    "#features = [col for col in df.columns if col not in not_features]\n",
    "features = [col for col in df.columns if col not in not_features and pd.api.types.is_numeric_dtype(df[col])]#df[features].isna().sum()\n",
    "df[features] = df[features].fillna(df[features].mean())"
   ],
   "metadata": {
    "collapsed": false,
    "ExecuteTime": {
     "end_time": "2025-07-29T16:51:26.186535300Z",
     "start_time": "2025-07-29T16:51:26.041610400Z"
    }
   },
   "id": "a9b629c8c0350c95"
  },
  {
   "cell_type": "code",
   "execution_count": 15,
   "outputs": [],
   "source": [
    "scaler = StandardScaler()\n",
    "df[features] = scaler.fit_transform(df[features])"
   ],
   "metadata": {
    "collapsed": false,
    "ExecuteTime": {
     "end_time": "2025-07-29T16:51:26.497496Z",
     "start_time": "2025-07-29T16:51:26.173518Z"
    }
   },
   "id": "dd01fd2551a3fb96"
  },
  {
   "cell_type": "markdown",
   "source": [
    "Create sequences"
   ],
   "metadata": {
    "collapsed": false
   },
   "id": "eb1da37c52cdf9be"
  },
  {
   "cell_type": "code",
   "execution_count": 16,
   "outputs": [],
   "source": [
    "X_seqs = []\n",
    "y_seqs = []\n",
    "\n",
    "for _, player_df in df.groupby('account_id'):\n",
    "    player_df = player_df.reset_index(drop=True)\n",
    "    for i in range(len(player_df) - SEQ_LEN):\n",
    "        X_seqs.append(player_df.loc[i:i+SEQ_LEN-1, features].values)\n",
    "        y_seqs.append(player_df.loc[i+SEQ_LEN, 'fantasy_score'])\n",
    "\n",
    "X_seqs = np.array(X_seqs)\n",
    "y_seqs = np.array(y_seqs)"
   ],
   "metadata": {
    "collapsed": false,
    "ExecuteTime": {
     "end_time": "2025-07-29T16:51:36.591771100Z",
     "start_time": "2025-07-29T16:51:26.496487100Z"
    }
   },
   "id": "e99a686055bf7037"
  },
  {
   "cell_type": "code",
   "execution_count": 17,
   "outputs": [],
   "source": [
    "X_train, X_test, y_train, y_test = train_test_split(X_seqs, y_seqs, test_size=0.20, random_state=1001)"
   ],
   "metadata": {
    "collapsed": false,
    "ExecuteTime": {
     "end_time": "2025-07-29T16:51:36.672096900Z",
     "start_time": "2025-07-29T16:51:36.597309100Z"
    }
   },
   "id": "3226417a72af794b"
  },
  {
   "cell_type": "code",
   "execution_count": 18,
   "outputs": [],
   "source": [
    "early_stop = EarlyStopping(\n",
    "    monitor='val_loss',      \n",
    "    patience=3,\n",
    "    restore_best_weights=True\n",
    ")"
   ],
   "metadata": {
    "collapsed": false,
    "ExecuteTime": {
     "end_time": "2025-07-29T16:51:36.691721900Z",
     "start_time": "2025-07-29T16:51:36.672096900Z"
    }
   },
   "id": "9a32603f3a68af5d"
  },
  {
   "cell_type": "code",
   "execution_count": 19,
   "outputs": [
    {
     "data": {
      "text/plain": "\u001B[1mModel: \"sequential\"\u001B[0m\n",
      "text/html": "<pre style=\"white-space:pre;overflow-x:auto;line-height:normal;font-family:Menlo,'DejaVu Sans Mono',consolas,'Courier New',monospace\"><span style=\"font-weight: bold\">Model: \"sequential\"</span>\n</pre>\n"
     },
     "metadata": {},
     "output_type": "display_data"
    },
    {
     "data": {
      "text/plain": "┏━━━━━━━━━━━━━━━━━━━━━━━━━━━━━━━━━┳━━━━━━━━━━━━━━━━━━━━━━━━┳━━━━━━━━━━━━━━━┓\n┃\u001B[1m \u001B[0m\u001B[1mLayer (type)                   \u001B[0m\u001B[1m \u001B[0m┃\u001B[1m \u001B[0m\u001B[1mOutput Shape          \u001B[0m\u001B[1m \u001B[0m┃\u001B[1m \u001B[0m\u001B[1m      Param #\u001B[0m\u001B[1m \u001B[0m┃\n┡━━━━━━━━━━━━━━━━━━━━━━━━━━━━━━━━━╇━━━━━━━━━━━━━━━━━━━━━━━━╇━━━━━━━━━━━━━━━┩\n│ lstm (\u001B[38;5;33mLSTM\u001B[0m)                     │ (\u001B[38;5;45mNone\u001B[0m, \u001B[38;5;34m5\u001B[0m, \u001B[38;5;34m256\u001B[0m)         │       \u001B[38;5;34m705,536\u001B[0m │\n├─────────────────────────────────┼────────────────────────┼───────────────┤\n│ dropout (\u001B[38;5;33mDropout\u001B[0m)               │ (\u001B[38;5;45mNone\u001B[0m, \u001B[38;5;34m5\u001B[0m, \u001B[38;5;34m256\u001B[0m)         │             \u001B[38;5;34m0\u001B[0m │\n├─────────────────────────────────┼────────────────────────┼───────────────┤\n│ lstm_1 (\u001B[38;5;33mLSTM\u001B[0m)                   │ (\u001B[38;5;45mNone\u001B[0m, \u001B[38;5;34m5\u001B[0m, \u001B[38;5;34m256\u001B[0m)         │       \u001B[38;5;34m525,312\u001B[0m │\n├─────────────────────────────────┼────────────────────────┼───────────────┤\n│ lstm_2 (\u001B[38;5;33mLSTM\u001B[0m)                   │ (\u001B[38;5;45mNone\u001B[0m, \u001B[38;5;34m5\u001B[0m, \u001B[38;5;34m128\u001B[0m)         │       \u001B[38;5;34m197,120\u001B[0m │\n├─────────────────────────────────┼────────────────────────┼───────────────┤\n│ lstm_3 (\u001B[38;5;33mLSTM\u001B[0m)                   │ (\u001B[38;5;45mNone\u001B[0m, \u001B[38;5;34m5\u001B[0m, \u001B[38;5;34m64\u001B[0m)          │        \u001B[38;5;34m49,408\u001B[0m │\n├─────────────────────────────────┼────────────────────────┼───────────────┤\n│ dense (\u001B[38;5;33mDense\u001B[0m)                   │ (\u001B[38;5;45mNone\u001B[0m, \u001B[38;5;34m5\u001B[0m, \u001B[38;5;34m1\u001B[0m)           │            \u001B[38;5;34m65\u001B[0m │\n└─────────────────────────────────┴────────────────────────┴───────────────┘\n",
      "text/html": "<pre style=\"white-space:pre;overflow-x:auto;line-height:normal;font-family:Menlo,'DejaVu Sans Mono',consolas,'Courier New',monospace\">┏━━━━━━━━━━━━━━━━━━━━━━━━━━━━━━━━━┳━━━━━━━━━━━━━━━━━━━━━━━━┳━━━━━━━━━━━━━━━┓\n┃<span style=\"font-weight: bold\"> Layer (type)                    </span>┃<span style=\"font-weight: bold\"> Output Shape           </span>┃<span style=\"font-weight: bold\">       Param # </span>┃\n┡━━━━━━━━━━━━━━━━━━━━━━━━━━━━━━━━━╇━━━━━━━━━━━━━━━━━━━━━━━━╇━━━━━━━━━━━━━━━┩\n│ lstm (<span style=\"color: #0087ff; text-decoration-color: #0087ff\">LSTM</span>)                     │ (<span style=\"color: #00d7ff; text-decoration-color: #00d7ff\">None</span>, <span style=\"color: #00af00; text-decoration-color: #00af00\">5</span>, <span style=\"color: #00af00; text-decoration-color: #00af00\">256</span>)         │       <span style=\"color: #00af00; text-decoration-color: #00af00\">705,536</span> │\n├─────────────────────────────────┼────────────────────────┼───────────────┤\n│ dropout (<span style=\"color: #0087ff; text-decoration-color: #0087ff\">Dropout</span>)               │ (<span style=\"color: #00d7ff; text-decoration-color: #00d7ff\">None</span>, <span style=\"color: #00af00; text-decoration-color: #00af00\">5</span>, <span style=\"color: #00af00; text-decoration-color: #00af00\">256</span>)         │             <span style=\"color: #00af00; text-decoration-color: #00af00\">0</span> │\n├─────────────────────────────────┼────────────────────────┼───────────────┤\n│ lstm_1 (<span style=\"color: #0087ff; text-decoration-color: #0087ff\">LSTM</span>)                   │ (<span style=\"color: #00d7ff; text-decoration-color: #00d7ff\">None</span>, <span style=\"color: #00af00; text-decoration-color: #00af00\">5</span>, <span style=\"color: #00af00; text-decoration-color: #00af00\">256</span>)         │       <span style=\"color: #00af00; text-decoration-color: #00af00\">525,312</span> │\n├─────────────────────────────────┼────────────────────────┼───────────────┤\n│ lstm_2 (<span style=\"color: #0087ff; text-decoration-color: #0087ff\">LSTM</span>)                   │ (<span style=\"color: #00d7ff; text-decoration-color: #00d7ff\">None</span>, <span style=\"color: #00af00; text-decoration-color: #00af00\">5</span>, <span style=\"color: #00af00; text-decoration-color: #00af00\">128</span>)         │       <span style=\"color: #00af00; text-decoration-color: #00af00\">197,120</span> │\n├─────────────────────────────────┼────────────────────────┼───────────────┤\n│ lstm_3 (<span style=\"color: #0087ff; text-decoration-color: #0087ff\">LSTM</span>)                   │ (<span style=\"color: #00d7ff; text-decoration-color: #00d7ff\">None</span>, <span style=\"color: #00af00; text-decoration-color: #00af00\">5</span>, <span style=\"color: #00af00; text-decoration-color: #00af00\">64</span>)          │        <span style=\"color: #00af00; text-decoration-color: #00af00\">49,408</span> │\n├─────────────────────────────────┼────────────────────────┼───────────────┤\n│ dense (<span style=\"color: #0087ff; text-decoration-color: #0087ff\">Dense</span>)                   │ (<span style=\"color: #00d7ff; text-decoration-color: #00d7ff\">None</span>, <span style=\"color: #00af00; text-decoration-color: #00af00\">5</span>, <span style=\"color: #00af00; text-decoration-color: #00af00\">1</span>)           │            <span style=\"color: #00af00; text-decoration-color: #00af00\">65</span> │\n└─────────────────────────────────┴────────────────────────┴───────────────┘\n</pre>\n"
     },
     "metadata": {},
     "output_type": "display_data"
    },
    {
     "data": {
      "text/plain": "\u001B[1m Total params: \u001B[0m\u001B[38;5;34m1,477,441\u001B[0m (5.64 MB)\n",
      "text/html": "<pre style=\"white-space:pre;overflow-x:auto;line-height:normal;font-family:Menlo,'DejaVu Sans Mono',consolas,'Courier New',monospace\"><span style=\"font-weight: bold\"> Total params: </span><span style=\"color: #00af00; text-decoration-color: #00af00\">1,477,441</span> (5.64 MB)\n</pre>\n"
     },
     "metadata": {},
     "output_type": "display_data"
    },
    {
     "data": {
      "text/plain": "\u001B[1m Trainable params: \u001B[0m\u001B[38;5;34m1,477,441\u001B[0m (5.64 MB)\n",
      "text/html": "<pre style=\"white-space:pre;overflow-x:auto;line-height:normal;font-family:Menlo,'DejaVu Sans Mono',consolas,'Courier New',monospace\"><span style=\"font-weight: bold\"> Trainable params: </span><span style=\"color: #00af00; text-decoration-color: #00af00\">1,477,441</span> (5.64 MB)\n</pre>\n"
     },
     "metadata": {},
     "output_type": "display_data"
    },
    {
     "data": {
      "text/plain": "\u001B[1m Non-trainable params: \u001B[0m\u001B[38;5;34m0\u001B[0m (0.00 B)\n",
      "text/html": "<pre style=\"white-space:pre;overflow-x:auto;line-height:normal;font-family:Menlo,'DejaVu Sans Mono',consolas,'Courier New',monospace\"><span style=\"font-weight: bold\"> Non-trainable params: </span><span style=\"color: #00af00; text-decoration-color: #00af00\">0</span> (0.00 B)\n</pre>\n"
     },
     "metadata": {},
     "output_type": "display_data"
    },
    {
     "name": "stdout",
     "output_type": "stream",
     "text": [
      "Epoch 1/30\n",
      "\u001B[1m324/324\u001B[0m \u001B[32m━━━━━━━━━━━━━━━━━━━━\u001B[0m\u001B[37m\u001B[0m \u001B[1m9s\u001B[0m 18ms/step - loss: 79.4669 - val_loss: 27.0072\n",
      "Epoch 2/30\n",
      "\u001B[1m324/324\u001B[0m \u001B[32m━━━━━━━━━━━━━━━━━━━━\u001B[0m\u001B[37m\u001B[0m \u001B[1m5s\u001B[0m 16ms/step - loss: 25.1415 - val_loss: 25.7938\n",
      "Epoch 3/30\n",
      "\u001B[1m324/324\u001B[0m \u001B[32m━━━━━━━━━━━━━━━━━━━━\u001B[0m\u001B[37m\u001B[0m \u001B[1m5s\u001B[0m 16ms/step - loss: 25.0028 - val_loss: 25.3532\n",
      "Epoch 4/30\n",
      "\u001B[1m324/324\u001B[0m \u001B[32m━━━━━━━━━━━━━━━━━━━━\u001B[0m\u001B[37m\u001B[0m \u001B[1m5s\u001B[0m 15ms/step - loss: 24.9256 - val_loss: 24.9942\n",
      "Epoch 5/30\n",
      "\u001B[1m324/324\u001B[0m \u001B[32m━━━━━━━━━━━━━━━━━━━━\u001B[0m\u001B[37m\u001B[0m \u001B[1m5s\u001B[0m 16ms/step - loss: 24.1587 - val_loss: 24.7750\n",
      "Epoch 6/30\n",
      "\u001B[1m324/324\u001B[0m \u001B[32m━━━━━━━━━━━━━━━━━━━━\u001B[0m\u001B[37m\u001B[0m \u001B[1m5s\u001B[0m 16ms/step - loss: 24.2456 - val_loss: 24.6322\n",
      "Epoch 7/30\n",
      "\u001B[1m324/324\u001B[0m \u001B[32m━━━━━━━━━━━━━━━━━━━━\u001B[0m\u001B[37m\u001B[0m \u001B[1m5s\u001B[0m 15ms/step - loss: 24.3883 - val_loss: 24.5345\n",
      "Epoch 8/30\n",
      "\u001B[1m324/324\u001B[0m \u001B[32m━━━━━━━━━━━━━━━━━━━━\u001B[0m\u001B[37m\u001B[0m \u001B[1m5s\u001B[0m 16ms/step - loss: 24.7290 - val_loss: 24.5116\n",
      "Epoch 9/30\n",
      "\u001B[1m324/324\u001B[0m \u001B[32m━━━━━━━━━━━━━━━━━━━━\u001B[0m\u001B[37m\u001B[0m \u001B[1m5s\u001B[0m 15ms/step - loss: 24.0564 - val_loss: 24.4860\n",
      "Epoch 10/30\n",
      "\u001B[1m324/324\u001B[0m \u001B[32m━━━━━━━━━━━━━━━━━━━━\u001B[0m\u001B[37m\u001B[0m \u001B[1m5s\u001B[0m 16ms/step - loss: 24.2062 - val_loss: 24.4670\n",
      "Epoch 11/30\n",
      "\u001B[1m324/324\u001B[0m \u001B[32m━━━━━━━━━━━━━━━━━━━━\u001B[0m\u001B[37m\u001B[0m \u001B[1m5s\u001B[0m 17ms/step - loss: 23.4742 - val_loss: 24.4728\n",
      "Epoch 12/30\n",
      "\u001B[1m324/324\u001B[0m \u001B[32m━━━━━━━━━━━━━━━━━━━━\u001B[0m\u001B[37m\u001B[0m \u001B[1m5s\u001B[0m 16ms/step - loss: 24.7489 - val_loss: 24.4497\n",
      "Epoch 13/30\n",
      "\u001B[1m324/324\u001B[0m \u001B[32m━━━━━━━━━━━━━━━━━━━━\u001B[0m\u001B[37m\u001B[0m \u001B[1m5s\u001B[0m 16ms/step - loss: 23.4162 - val_loss: 24.4369\n",
      "Epoch 14/30\n",
      "\u001B[1m324/324\u001B[0m \u001B[32m━━━━━━━━━━━━━━━━━━━━\u001B[0m\u001B[37m\u001B[0m \u001B[1m5s\u001B[0m 16ms/step - loss: 23.1997 - val_loss: 24.4508\n",
      "Epoch 15/30\n",
      "\u001B[1m324/324\u001B[0m \u001B[32m━━━━━━━━━━━━━━━━━━━━\u001B[0m\u001B[37m\u001B[0m \u001B[1m5s\u001B[0m 16ms/step - loss: 23.9642 - val_loss: 24.4601\n",
      "Epoch 16/30\n",
      "\u001B[1m324/324\u001B[0m \u001B[32m━━━━━━━━━━━━━━━━━━━━\u001B[0m\u001B[37m\u001B[0m \u001B[1m5s\u001B[0m 16ms/step - loss: 24.1836 - val_loss: 24.4736\n"
     ]
    }
   ],
   "source": [
    "model = models.Sequential([\n",
    "    layers.Input(shape=(SEQ_LEN, X_train.shape[2])),\n",
    "    layers.LSTM(256, return_sequences=True),\n",
    "    layers.Dropout(0.3),\n",
    "    layers.LSTM(256, return_sequences=True),\n",
    "    layers.LSTM(128, return_sequences=True),\n",
    "    layers.LSTM(64, return_sequences=True),\n",
    "    layers.Dense(1)\n",
    "])\n",
    "model.compile(optimizer='adam', loss='mse')\n",
    "model.summary()\n",
    "\n",
    "history = model.fit(\n",
    "    X_train, y_train,\n",
    "    epochs=30,\n",
    "    batch_size=32,\n",
    "    validation_split=0.1,\n",
    "    callbacks=[early_stop]\n",
    ")"
   ],
   "metadata": {
    "collapsed": false,
    "ExecuteTime": {
     "end_time": "2025-07-29T16:53:02.347208400Z",
     "start_time": "2025-07-29T16:51:36.691721900Z"
    }
   },
   "id": "f2186820a17c4c06"
  },
  {
   "cell_type": "markdown",
   "source": [
    "# LSTM with FE"
   ],
   "metadata": {
    "collapsed": false
   },
   "id": "eb54785018d46c6d"
  },
  {
   "cell_type": "code",
   "execution_count": 20,
   "outputs": [],
   "source": [
    "features_fe = [col for col in df.columns if col not in not_features and pd.api.types.is_numeric_dtype(df[col])]#df[features].isna().sum()\n",
    "df[features_fe] = df[features_fe].fillna(df[features_fe].mean())"
   ],
   "metadata": {
    "collapsed": false,
    "ExecuteTime": {
     "end_time": "2025-07-29T16:53:02.673947100Z",
     "start_time": "2025-07-29T16:53:02.347208400Z"
    }
   },
   "id": "28732ff357b783b6"
  },
  {
   "cell_type": "code",
   "execution_count": 21,
   "outputs": [],
   "source": [
    "scaler = StandardScaler()\n",
    "df[features_fe] = scaler.fit_transform(df[features_fe])"
   ],
   "metadata": {
    "collapsed": false,
    "ExecuteTime": {
     "end_time": "2025-07-29T16:53:02.882511700Z",
     "start_time": "2025-07-29T16:53:02.676024100Z"
    }
   },
   "id": "698404b4081ed32e"
  },
  {
   "cell_type": "code",
   "execution_count": 22,
   "outputs": [],
   "source": [
    "X_seqs_fe = []\n",
    "y_seqs_fe = []\n",
    "\n",
    "for _, player_df in df.groupby('account_id'):\n",
    "    player_df = player_df.reset_index(drop=True)\n",
    "    for i in range(len(player_df) - SEQ_LEN):\n",
    "        X_seqs_fe.append(player_df.loc[i:i+SEQ_LEN-1, features_fe].values)\n",
    "        y_seqs_fe.append(player_df.loc[i+SEQ_LEN, 'fantasy_score'])\n",
    "\n",
    "X_seqs_fe = np.array(X_seqs_fe)\n",
    "y_seqs_fe = np.array(y_seqs_fe)"
   ],
   "metadata": {
    "collapsed": false,
    "ExecuteTime": {
     "end_time": "2025-07-29T16:53:12.304374600Z",
     "start_time": "2025-07-29T16:53:02.887474Z"
    }
   },
   "id": "2b0d0cdc91a311b3"
  },
  {
   "cell_type": "code",
   "execution_count": 23,
   "outputs": [],
   "source": [
    "X_train_fe, X_test_fe, y_train_fe, y_test_fe = train_test_split(X_seqs_fe, y_seqs_fe, test_size=0.20, random_state=1001)"
   ],
   "metadata": {
    "collapsed": false,
    "ExecuteTime": {
     "end_time": "2025-07-29T16:53:12.392638700Z",
     "start_time": "2025-07-29T16:53:12.304374600Z"
    }
   },
   "id": "ca4a665f84dc1f7a"
  },
  {
   "cell_type": "code",
   "execution_count": 24,
   "outputs": [
    {
     "data": {
      "text/plain": "\u001B[1mModel: \"sequential_1\"\u001B[0m\n",
      "text/html": "<pre style=\"white-space:pre;overflow-x:auto;line-height:normal;font-family:Menlo,'DejaVu Sans Mono',consolas,'Courier New',monospace\"><span style=\"font-weight: bold\">Model: \"sequential_1\"</span>\n</pre>\n"
     },
     "metadata": {},
     "output_type": "display_data"
    },
    {
     "data": {
      "text/plain": "┏━━━━━━━━━━━━━━━━━━━━━━━━━━━━━━━━━┳━━━━━━━━━━━━━━━━━━━━━━━━┳━━━━━━━━━━━━━━━┓\n┃\u001B[1m \u001B[0m\u001B[1mLayer (type)                   \u001B[0m\u001B[1m \u001B[0m┃\u001B[1m \u001B[0m\u001B[1mOutput Shape          \u001B[0m\u001B[1m \u001B[0m┃\u001B[1m \u001B[0m\u001B[1m      Param #\u001B[0m\u001B[1m \u001B[0m┃\n┡━━━━━━━━━━━━━━━━━━━━━━━━━━━━━━━━━╇━━━━━━━━━━━━━━━━━━━━━━━━╇━━━━━━━━━━━━━━━┩\n│ lstm_4 (\u001B[38;5;33mLSTM\u001B[0m)                   │ (\u001B[38;5;45mNone\u001B[0m, \u001B[38;5;34m5\u001B[0m, \u001B[38;5;34m256\u001B[0m)         │       \u001B[38;5;34m705,536\u001B[0m │\n├─────────────────────────────────┼────────────────────────┼───────────────┤\n│ dropout_1 (\u001B[38;5;33mDropout\u001B[0m)             │ (\u001B[38;5;45mNone\u001B[0m, \u001B[38;5;34m5\u001B[0m, \u001B[38;5;34m256\u001B[0m)         │             \u001B[38;5;34m0\u001B[0m │\n├─────────────────────────────────┼────────────────────────┼───────────────┤\n│ lstm_5 (\u001B[38;5;33mLSTM\u001B[0m)                   │ (\u001B[38;5;45mNone\u001B[0m, \u001B[38;5;34m5\u001B[0m, \u001B[38;5;34m256\u001B[0m)         │       \u001B[38;5;34m525,312\u001B[0m │\n├─────────────────────────────────┼────────────────────────┼───────────────┤\n│ lstm_6 (\u001B[38;5;33mLSTM\u001B[0m)                   │ (\u001B[38;5;45mNone\u001B[0m, \u001B[38;5;34m5\u001B[0m, \u001B[38;5;34m128\u001B[0m)         │       \u001B[38;5;34m197,120\u001B[0m │\n├─────────────────────────────────┼────────────────────────┼───────────────┤\n│ lstm_7 (\u001B[38;5;33mLSTM\u001B[0m)                   │ (\u001B[38;5;45mNone\u001B[0m, \u001B[38;5;34m5\u001B[0m, \u001B[38;5;34m64\u001B[0m)          │        \u001B[38;5;34m49,408\u001B[0m │\n├─────────────────────────────────┼────────────────────────┼───────────────┤\n│ dense_1 (\u001B[38;5;33mDense\u001B[0m)                 │ (\u001B[38;5;45mNone\u001B[0m, \u001B[38;5;34m5\u001B[0m, \u001B[38;5;34m1\u001B[0m)           │            \u001B[38;5;34m65\u001B[0m │\n└─────────────────────────────────┴────────────────────────┴───────────────┘\n",
      "text/html": "<pre style=\"white-space:pre;overflow-x:auto;line-height:normal;font-family:Menlo,'DejaVu Sans Mono',consolas,'Courier New',monospace\">┏━━━━━━━━━━━━━━━━━━━━━━━━━━━━━━━━━┳━━━━━━━━━━━━━━━━━━━━━━━━┳━━━━━━━━━━━━━━━┓\n┃<span style=\"font-weight: bold\"> Layer (type)                    </span>┃<span style=\"font-weight: bold\"> Output Shape           </span>┃<span style=\"font-weight: bold\">       Param # </span>┃\n┡━━━━━━━━━━━━━━━━━━━━━━━━━━━━━━━━━╇━━━━━━━━━━━━━━━━━━━━━━━━╇━━━━━━━━━━━━━━━┩\n│ lstm_4 (<span style=\"color: #0087ff; text-decoration-color: #0087ff\">LSTM</span>)                   │ (<span style=\"color: #00d7ff; text-decoration-color: #00d7ff\">None</span>, <span style=\"color: #00af00; text-decoration-color: #00af00\">5</span>, <span style=\"color: #00af00; text-decoration-color: #00af00\">256</span>)         │       <span style=\"color: #00af00; text-decoration-color: #00af00\">705,536</span> │\n├─────────────────────────────────┼────────────────────────┼───────────────┤\n│ dropout_1 (<span style=\"color: #0087ff; text-decoration-color: #0087ff\">Dropout</span>)             │ (<span style=\"color: #00d7ff; text-decoration-color: #00d7ff\">None</span>, <span style=\"color: #00af00; text-decoration-color: #00af00\">5</span>, <span style=\"color: #00af00; text-decoration-color: #00af00\">256</span>)         │             <span style=\"color: #00af00; text-decoration-color: #00af00\">0</span> │\n├─────────────────────────────────┼────────────────────────┼───────────────┤\n│ lstm_5 (<span style=\"color: #0087ff; text-decoration-color: #0087ff\">LSTM</span>)                   │ (<span style=\"color: #00d7ff; text-decoration-color: #00d7ff\">None</span>, <span style=\"color: #00af00; text-decoration-color: #00af00\">5</span>, <span style=\"color: #00af00; text-decoration-color: #00af00\">256</span>)         │       <span style=\"color: #00af00; text-decoration-color: #00af00\">525,312</span> │\n├─────────────────────────────────┼────────────────────────┼───────────────┤\n│ lstm_6 (<span style=\"color: #0087ff; text-decoration-color: #0087ff\">LSTM</span>)                   │ (<span style=\"color: #00d7ff; text-decoration-color: #00d7ff\">None</span>, <span style=\"color: #00af00; text-decoration-color: #00af00\">5</span>, <span style=\"color: #00af00; text-decoration-color: #00af00\">128</span>)         │       <span style=\"color: #00af00; text-decoration-color: #00af00\">197,120</span> │\n├─────────────────────────────────┼────────────────────────┼───────────────┤\n│ lstm_7 (<span style=\"color: #0087ff; text-decoration-color: #0087ff\">LSTM</span>)                   │ (<span style=\"color: #00d7ff; text-decoration-color: #00d7ff\">None</span>, <span style=\"color: #00af00; text-decoration-color: #00af00\">5</span>, <span style=\"color: #00af00; text-decoration-color: #00af00\">64</span>)          │        <span style=\"color: #00af00; text-decoration-color: #00af00\">49,408</span> │\n├─────────────────────────────────┼────────────────────────┼───────────────┤\n│ dense_1 (<span style=\"color: #0087ff; text-decoration-color: #0087ff\">Dense</span>)                 │ (<span style=\"color: #00d7ff; text-decoration-color: #00d7ff\">None</span>, <span style=\"color: #00af00; text-decoration-color: #00af00\">5</span>, <span style=\"color: #00af00; text-decoration-color: #00af00\">1</span>)           │            <span style=\"color: #00af00; text-decoration-color: #00af00\">65</span> │\n└─────────────────────────────────┴────────────────────────┴───────────────┘\n</pre>\n"
     },
     "metadata": {},
     "output_type": "display_data"
    },
    {
     "data": {
      "text/plain": "\u001B[1m Total params: \u001B[0m\u001B[38;5;34m1,477,441\u001B[0m (5.64 MB)\n",
      "text/html": "<pre style=\"white-space:pre;overflow-x:auto;line-height:normal;font-family:Menlo,'DejaVu Sans Mono',consolas,'Courier New',monospace\"><span style=\"font-weight: bold\"> Total params: </span><span style=\"color: #00af00; text-decoration-color: #00af00\">1,477,441</span> (5.64 MB)\n</pre>\n"
     },
     "metadata": {},
     "output_type": "display_data"
    },
    {
     "data": {
      "text/plain": "\u001B[1m Trainable params: \u001B[0m\u001B[38;5;34m1,477,441\u001B[0m (5.64 MB)\n",
      "text/html": "<pre style=\"white-space:pre;overflow-x:auto;line-height:normal;font-family:Menlo,'DejaVu Sans Mono',consolas,'Courier New',monospace\"><span style=\"font-weight: bold\"> Trainable params: </span><span style=\"color: #00af00; text-decoration-color: #00af00\">1,477,441</span> (5.64 MB)\n</pre>\n"
     },
     "metadata": {},
     "output_type": "display_data"
    },
    {
     "data": {
      "text/plain": "\u001B[1m Non-trainable params: \u001B[0m\u001B[38;5;34m0\u001B[0m (0.00 B)\n",
      "text/html": "<pre style=\"white-space:pre;overflow-x:auto;line-height:normal;font-family:Menlo,'DejaVu Sans Mono',consolas,'Courier New',monospace\"><span style=\"font-weight: bold\"> Non-trainable params: </span><span style=\"color: #00af00; text-decoration-color: #00af00\">0</span> (0.00 B)\n</pre>\n"
     },
     "metadata": {},
     "output_type": "display_data"
    },
    {
     "name": "stdout",
     "output_type": "stream",
     "text": [
      "Epoch 1/30\n",
      "\u001B[1m324/324\u001B[0m \u001B[32m━━━━━━━━━━━━━━━━━━━━\u001B[0m\u001B[37m\u001B[0m \u001B[1m9s\u001B[0m 17ms/step - loss: 77.8265 - val_loss: 27.3076\n",
      "Epoch 2/30\n",
      "\u001B[1m324/324\u001B[0m \u001B[32m━━━━━━━━━━━━━━━━━━━━\u001B[0m\u001B[37m\u001B[0m \u001B[1m5s\u001B[0m 16ms/step - loss: 26.5736 - val_loss: 26.6591\n",
      "Epoch 3/30\n",
      "\u001B[1m324/324\u001B[0m \u001B[32m━━━━━━━━━━━━━━━━━━━━\u001B[0m\u001B[37m\u001B[0m \u001B[1m5s\u001B[0m 16ms/step - loss: 26.3071 - val_loss: 26.3080\n",
      "Epoch 4/30\n",
      "\u001B[1m324/324\u001B[0m \u001B[32m━━━━━━━━━━━━━━━━━━━━\u001B[0m\u001B[37m\u001B[0m \u001B[1m5s\u001B[0m 16ms/step - loss: 25.9919 - val_loss: 25.7579\n",
      "Epoch 5/30\n",
      "\u001B[1m324/324\u001B[0m \u001B[32m━━━━━━━━━━━━━━━━━━━━\u001B[0m\u001B[37m\u001B[0m \u001B[1m5s\u001B[0m 16ms/step - loss: 25.4280 - val_loss: 25.3314\n",
      "Epoch 6/30\n",
      "\u001B[1m324/324\u001B[0m \u001B[32m━━━━━━━━━━━━━━━━━━━━\u001B[0m\u001B[37m\u001B[0m \u001B[1m5s\u001B[0m 16ms/step - loss: 24.3948 - val_loss: 24.9864\n",
      "Epoch 7/30\n",
      "\u001B[1m324/324\u001B[0m \u001B[32m━━━━━━━━━━━━━━━━━━━━\u001B[0m\u001B[37m\u001B[0m \u001B[1m5s\u001B[0m 16ms/step - loss: 25.0060 - val_loss: 24.8162\n",
      "Epoch 8/30\n",
      "\u001B[1m324/324\u001B[0m \u001B[32m━━━━━━━━━━━━━━━━━━━━\u001B[0m\u001B[37m\u001B[0m \u001B[1m5s\u001B[0m 16ms/step - loss: 24.1044 - val_loss: 24.6481\n",
      "Epoch 9/30\n",
      "\u001B[1m324/324\u001B[0m \u001B[32m━━━━━━━━━━━━━━━━━━━━\u001B[0m\u001B[37m\u001B[0m \u001B[1m5s\u001B[0m 16ms/step - loss: 24.3028 - val_loss: 24.6704\n",
      "Epoch 10/30\n",
      "\u001B[1m324/324\u001B[0m \u001B[32m━━━━━━━━━━━━━━━━━━━━\u001B[0m\u001B[37m\u001B[0m \u001B[1m5s\u001B[0m 16ms/step - loss: 23.6144 - val_loss: 24.5830\n",
      "Epoch 11/30\n",
      "\u001B[1m324/324\u001B[0m \u001B[32m━━━━━━━━━━━━━━━━━━━━\u001B[0m\u001B[37m\u001B[0m \u001B[1m5s\u001B[0m 16ms/step - loss: 24.1890 - val_loss: 24.5728\n",
      "Epoch 12/30\n",
      "\u001B[1m324/324\u001B[0m \u001B[32m━━━━━━━━━━━━━━━━━━━━\u001B[0m\u001B[37m\u001B[0m \u001B[1m5s\u001B[0m 15ms/step - loss: 23.3878 - val_loss: 24.4967\n",
      "Epoch 13/30\n",
      "\u001B[1m324/324\u001B[0m \u001B[32m━━━━━━━━━━━━━━━━━━━━\u001B[0m\u001B[37m\u001B[0m \u001B[1m5s\u001B[0m 16ms/step - loss: 23.7894 - val_loss: 24.4840\n",
      "Epoch 14/30\n",
      "\u001B[1m324/324\u001B[0m \u001B[32m━━━━━━━━━━━━━━━━━━━━\u001B[0m\u001B[37m\u001B[0m \u001B[1m5s\u001B[0m 16ms/step - loss: 24.0380 - val_loss: 24.4972\n",
      "Epoch 15/30\n",
      "\u001B[1m324/324\u001B[0m \u001B[32m━━━━━━━━━━━━━━━━━━━━\u001B[0m\u001B[37m\u001B[0m \u001B[1m5s\u001B[0m 16ms/step - loss: 23.9788 - val_loss: 24.4912\n",
      "Epoch 16/30\n",
      "\u001B[1m324/324\u001B[0m \u001B[32m━━━━━━━━━━━━━━━━━━━━\u001B[0m\u001B[37m\u001B[0m \u001B[1m5s\u001B[0m 16ms/step - loss: 24.3361 - val_loss: 24.4437\n",
      "Epoch 17/30\n",
      "\u001B[1m324/324\u001B[0m \u001B[32m━━━━━━━━━━━━━━━━━━━━\u001B[0m\u001B[37m\u001B[0m \u001B[1m5s\u001B[0m 16ms/step - loss: 23.6895 - val_loss: 24.5075\n",
      "Epoch 18/30\n",
      "\u001B[1m324/324\u001B[0m \u001B[32m━━━━━━━━━━━━━━━━━━━━\u001B[0m\u001B[37m\u001B[0m \u001B[1m5s\u001B[0m 16ms/step - loss: 24.3471 - val_loss: 24.5008\n",
      "Epoch 19/30\n",
      "\u001B[1m324/324\u001B[0m \u001B[32m━━━━━━━━━━━━━━━━━━━━\u001B[0m\u001B[37m\u001B[0m \u001B[1m5s\u001B[0m 16ms/step - loss: 24.0221 - val_loss: 24.4272\n",
      "Epoch 20/30\n",
      "\u001B[1m324/324\u001B[0m \u001B[32m━━━━━━━━━━━━━━━━━━━━\u001B[0m\u001B[37m\u001B[0m \u001B[1m5s\u001B[0m 16ms/step - loss: 23.3675 - val_loss: 24.4296\n",
      "Epoch 21/30\n",
      "\u001B[1m324/324\u001B[0m \u001B[32m━━━━━━━━━━━━━━━━━━━━\u001B[0m\u001B[37m\u001B[0m \u001B[1m5s\u001B[0m 16ms/step - loss: 24.0394 - val_loss: 24.4941\n",
      "Epoch 22/30\n",
      "\u001B[1m324/324\u001B[0m \u001B[32m━━━━━━━━━━━━━━━━━━━━\u001B[0m\u001B[37m\u001B[0m \u001B[1m5s\u001B[0m 16ms/step - loss: 24.2048 - val_loss: 24.4465\n"
     ]
    }
   ],
   "source": [
    "model_fe = models.Sequential([\n",
    "    layers.Input(shape=(SEQ_LEN, X_train_fe.shape[2])),\n",
    "    layers.LSTM(256, return_sequences=True),\n",
    "    layers.Dropout(0.3),\n",
    "    layers.LSTM(256, return_sequences=True),\n",
    "    layers.LSTM(128, return_sequences=True),\n",
    "    layers.LSTM(64, return_sequences=True),\n",
    "    layers.Dense(1)\n",
    "])\n",
    "model_fe.compile(optimizer='adam', loss='mse')\n",
    "model_fe.summary()\n",
    "\n",
    "history = model_fe.fit(\n",
    "    X_train_fe, y_train_fe,\n",
    "    epochs=30,\n",
    "    batch_size=32,\n",
    "    validation_split=0.1,\n",
    "    callbacks=[early_stop]\n",
    ")"
   ],
   "metadata": {
    "collapsed": false,
    "ExecuteTime": {
     "end_time": "2025-07-29T16:55:08.648788400Z",
     "start_time": "2025-07-29T16:53:12.392638700Z"
    }
   },
   "id": "88a6fde55eeddde3"
  },
  {
   "cell_type": "markdown",
   "source": [
    "# Comparison LSTM with/without FE"
   ],
   "metadata": {
    "collapsed": false
   },
   "id": "e534ddd39e1d18a2"
  },
  {
   "cell_type": "code",
   "execution_count": 25,
   "outputs": [
    {
     "name": "stdout",
     "output_type": "stream",
     "text": [
      "\u001B[1m90/90\u001B[0m \u001B[32m━━━━━━━━━━━━━━━━━━━━\u001B[0m\u001B[37m\u001B[0m \u001B[1m1s\u001B[0m 9ms/step\n"
     ]
    },
    {
     "ename": "ValueError",
     "evalue": "Found array with dim 3, while dim <= 2 is required.",
     "output_type": "error",
     "traceback": [
      "\u001B[1;31m---------------------------------------------------------------------------\u001B[0m",
      "\u001B[1;31mValueError\u001B[0m                                Traceback (most recent call last)",
      "Cell \u001B[1;32mIn[25], line 2\u001B[0m\n\u001B[0;32m      1\u001B[0m y_pred \u001B[38;5;241m=\u001B[39m model\u001B[38;5;241m.\u001B[39mpredict(X_test)\n\u001B[1;32m----> 2\u001B[0m \u001B[38;5;28mprint\u001B[39m(\u001B[38;5;124m\"\u001B[39m\u001B[38;5;124mLSTM without FE, RMSE:\u001B[39m\u001B[38;5;124m\"\u001B[39m, \u001B[43mroot_mean_squared_error\u001B[49m\u001B[43m(\u001B[49m\u001B[43my_test\u001B[49m\u001B[43m,\u001B[49m\u001B[43m \u001B[49m\u001B[43my_pred\u001B[49m\u001B[43m)\u001B[49m)\n",
      "File \u001B[1;32m~\\.conda\\envs\\tf_new\\lib\\site-packages\\sklearn\\utils\\_param_validation.py:218\u001B[0m, in \u001B[0;36mvalidate_params.<locals>.decorator.<locals>.wrapper\u001B[1;34m(*args, **kwargs)\u001B[0m\n\u001B[0;32m    212\u001B[0m \u001B[38;5;28;01mtry\u001B[39;00m:\n\u001B[0;32m    213\u001B[0m     \u001B[38;5;28;01mwith\u001B[39;00m config_context(\n\u001B[0;32m    214\u001B[0m         skip_parameter_validation\u001B[38;5;241m=\u001B[39m(\n\u001B[0;32m    215\u001B[0m             prefer_skip_nested_validation \u001B[38;5;129;01mor\u001B[39;00m global_skip_validation\n\u001B[0;32m    216\u001B[0m         )\n\u001B[0;32m    217\u001B[0m     ):\n\u001B[1;32m--> 218\u001B[0m         \u001B[38;5;28;01mreturn\u001B[39;00m func(\u001B[38;5;241m*\u001B[39margs, \u001B[38;5;241m*\u001B[39m\u001B[38;5;241m*\u001B[39mkwargs)\n\u001B[0;32m    219\u001B[0m \u001B[38;5;28;01mexcept\u001B[39;00m InvalidParameterError \u001B[38;5;28;01mas\u001B[39;00m e:\n\u001B[0;32m    220\u001B[0m     \u001B[38;5;66;03m# When the function is just a wrapper around an estimator, we allow\u001B[39;00m\n\u001B[0;32m    221\u001B[0m     \u001B[38;5;66;03m# the function to delegate validation to the estimator, but we replace\u001B[39;00m\n\u001B[0;32m    222\u001B[0m     \u001B[38;5;66;03m# the name of the estimator by the name of the function in the error\u001B[39;00m\n\u001B[0;32m    223\u001B[0m     \u001B[38;5;66;03m# message to avoid confusion.\u001B[39;00m\n\u001B[0;32m    224\u001B[0m     msg \u001B[38;5;241m=\u001B[39m re\u001B[38;5;241m.\u001B[39msub(\n\u001B[0;32m    225\u001B[0m         \u001B[38;5;124mr\u001B[39m\u001B[38;5;124m\"\u001B[39m\u001B[38;5;124mparameter of \u001B[39m\u001B[38;5;124m\\\u001B[39m\u001B[38;5;124mw+ must be\u001B[39m\u001B[38;5;124m\"\u001B[39m,\n\u001B[0;32m    226\u001B[0m         \u001B[38;5;124mf\u001B[39m\u001B[38;5;124m\"\u001B[39m\u001B[38;5;124mparameter of \u001B[39m\u001B[38;5;132;01m{\u001B[39;00mfunc\u001B[38;5;241m.\u001B[39m\u001B[38;5;18m__qualname__\u001B[39m\u001B[38;5;132;01m}\u001B[39;00m\u001B[38;5;124m must be\u001B[39m\u001B[38;5;124m\"\u001B[39m,\n\u001B[0;32m    227\u001B[0m         \u001B[38;5;28mstr\u001B[39m(e),\n\u001B[0;32m    228\u001B[0m     )\n",
      "File \u001B[1;32m~\\.conda\\envs\\tf_new\\lib\\site-packages\\sklearn\\metrics\\_regression.py:665\u001B[0m, in \u001B[0;36mroot_mean_squared_error\u001B[1;34m(y_true, y_pred, sample_weight, multioutput)\u001B[0m\n\u001B[0;32m    615\u001B[0m \u001B[38;5;250m\u001B[39m\u001B[38;5;124;03m\"\"\"Root mean squared error regression loss.\u001B[39;00m\n\u001B[0;32m    616\u001B[0m \n\u001B[0;32m    617\u001B[0m \u001B[38;5;124;03mRead more in the :ref:`User Guide <mean_squared_error>`.\u001B[39;00m\n\u001B[1;32m   (...)\u001B[0m\n\u001B[0;32m    659\u001B[0m \u001B[38;5;124;03m0.822...\u001B[39;00m\n\u001B[0;32m    660\u001B[0m \u001B[38;5;124;03m\"\"\"\u001B[39;00m\n\u001B[0;32m    662\u001B[0m xp, _ \u001B[38;5;241m=\u001B[39m get_namespace(y_true, y_pred, sample_weight, multioutput)\n\u001B[0;32m    664\u001B[0m output_errors \u001B[38;5;241m=\u001B[39m xp\u001B[38;5;241m.\u001B[39msqrt(\n\u001B[1;32m--> 665\u001B[0m     \u001B[43mmean_squared_error\u001B[49m\u001B[43m(\u001B[49m\n\u001B[0;32m    666\u001B[0m \u001B[43m        \u001B[49m\u001B[43my_true\u001B[49m\u001B[43m,\u001B[49m\u001B[43m \u001B[49m\u001B[43my_pred\u001B[49m\u001B[43m,\u001B[49m\u001B[43m \u001B[49m\u001B[43msample_weight\u001B[49m\u001B[38;5;241;43m=\u001B[39;49m\u001B[43msample_weight\u001B[49m\u001B[43m,\u001B[49m\u001B[43m \u001B[49m\u001B[43mmultioutput\u001B[49m\u001B[38;5;241;43m=\u001B[39;49m\u001B[38;5;124;43m\"\u001B[39;49m\u001B[38;5;124;43mraw_values\u001B[39;49m\u001B[38;5;124;43m\"\u001B[39;49m\n\u001B[0;32m    667\u001B[0m \u001B[43m    \u001B[49m\u001B[43m)\u001B[49m\n\u001B[0;32m    668\u001B[0m )\n\u001B[0;32m    670\u001B[0m \u001B[38;5;28;01mif\u001B[39;00m \u001B[38;5;28misinstance\u001B[39m(multioutput, \u001B[38;5;28mstr\u001B[39m):\n\u001B[0;32m    671\u001B[0m     \u001B[38;5;28;01mif\u001B[39;00m multioutput \u001B[38;5;241m==\u001B[39m \u001B[38;5;124m\"\u001B[39m\u001B[38;5;124mraw_values\u001B[39m\u001B[38;5;124m\"\u001B[39m:\n",
      "File \u001B[1;32m~\\.conda\\envs\\tf_new\\lib\\site-packages\\sklearn\\utils\\_param_validation.py:191\u001B[0m, in \u001B[0;36mvalidate_params.<locals>.decorator.<locals>.wrapper\u001B[1;34m(*args, **kwargs)\u001B[0m\n\u001B[0;32m    189\u001B[0m global_skip_validation \u001B[38;5;241m=\u001B[39m get_config()[\u001B[38;5;124m\"\u001B[39m\u001B[38;5;124mskip_parameter_validation\u001B[39m\u001B[38;5;124m\"\u001B[39m]\n\u001B[0;32m    190\u001B[0m \u001B[38;5;28;01mif\u001B[39;00m global_skip_validation:\n\u001B[1;32m--> 191\u001B[0m     \u001B[38;5;28;01mreturn\u001B[39;00m func(\u001B[38;5;241m*\u001B[39margs, \u001B[38;5;241m*\u001B[39m\u001B[38;5;241m*\u001B[39mkwargs)\n\u001B[0;32m    193\u001B[0m func_sig \u001B[38;5;241m=\u001B[39m signature(func)\n\u001B[0;32m    195\u001B[0m \u001B[38;5;66;03m# Map *args/**kwargs to the function signature\u001B[39;00m\n",
      "File \u001B[1;32m~\\.conda\\envs\\tf_new\\lib\\site-packages\\sklearn\\metrics\\_regression.py:580\u001B[0m, in \u001B[0;36mmean_squared_error\u001B[1;34m(y_true, y_pred, sample_weight, multioutput)\u001B[0m\n\u001B[0;32m    530\u001B[0m \u001B[38;5;250m\u001B[39m\u001B[38;5;124;03m\"\"\"Mean squared error regression loss.\u001B[39;00m\n\u001B[0;32m    531\u001B[0m \n\u001B[0;32m    532\u001B[0m \u001B[38;5;124;03mRead more in the :ref:`User Guide <mean_squared_error>`.\u001B[39;00m\n\u001B[1;32m   (...)\u001B[0m\n\u001B[0;32m    576\u001B[0m \u001B[38;5;124;03m0.825...\u001B[39;00m\n\u001B[0;32m    577\u001B[0m \u001B[38;5;124;03m\"\"\"\u001B[39;00m\n\u001B[0;32m    578\u001B[0m xp, _ \u001B[38;5;241m=\u001B[39m get_namespace(y_true, y_pred, sample_weight, multioutput)\n\u001B[0;32m    579\u001B[0m _, y_true, y_pred, sample_weight, multioutput \u001B[38;5;241m=\u001B[39m (\n\u001B[1;32m--> 580\u001B[0m     \u001B[43m_check_reg_targets_with_floating_dtype\u001B[49m\u001B[43m(\u001B[49m\n\u001B[0;32m    581\u001B[0m \u001B[43m        \u001B[49m\u001B[43my_true\u001B[49m\u001B[43m,\u001B[49m\u001B[43m \u001B[49m\u001B[43my_pred\u001B[49m\u001B[43m,\u001B[49m\u001B[43m \u001B[49m\u001B[43msample_weight\u001B[49m\u001B[43m,\u001B[49m\u001B[43m \u001B[49m\u001B[43mmultioutput\u001B[49m\u001B[43m,\u001B[49m\u001B[43m \u001B[49m\u001B[43mxp\u001B[49m\u001B[38;5;241;43m=\u001B[39;49m\u001B[43mxp\u001B[49m\n\u001B[0;32m    582\u001B[0m \u001B[43m    \u001B[49m\u001B[43m)\u001B[49m\n\u001B[0;32m    583\u001B[0m )\n\u001B[0;32m    584\u001B[0m output_errors \u001B[38;5;241m=\u001B[39m _average((y_true \u001B[38;5;241m-\u001B[39m y_pred) \u001B[38;5;241m*\u001B[39m\u001B[38;5;241m*\u001B[39m \u001B[38;5;241m2\u001B[39m, axis\u001B[38;5;241m=\u001B[39m\u001B[38;5;241m0\u001B[39m, weights\u001B[38;5;241m=\u001B[39msample_weight)\n\u001B[0;32m    586\u001B[0m \u001B[38;5;28;01mif\u001B[39;00m \u001B[38;5;28misinstance\u001B[39m(multioutput, \u001B[38;5;28mstr\u001B[39m):\n",
      "File \u001B[1;32m~\\.conda\\envs\\tf_new\\lib\\site-packages\\sklearn\\metrics\\_regression.py:209\u001B[0m, in \u001B[0;36m_check_reg_targets_with_floating_dtype\u001B[1;34m(y_true, y_pred, sample_weight, multioutput, xp)\u001B[0m\n\u001B[0;32m    160\u001B[0m \u001B[38;5;250m\u001B[39m\u001B[38;5;124;03m\"\"\"Ensures y_true, y_pred, and sample_weight correspond to same regression task.\u001B[39;00m\n\u001B[0;32m    161\u001B[0m \n\u001B[0;32m    162\u001B[0m \u001B[38;5;124;03mExtends `_check_reg_targets` by automatically selecting a suitable floating-point\u001B[39;00m\n\u001B[1;32m   (...)\u001B[0m\n\u001B[0;32m    205\u001B[0m \u001B[38;5;124;03m    correct keyword.\u001B[39;00m\n\u001B[0;32m    206\u001B[0m \u001B[38;5;124;03m\"\"\"\u001B[39;00m\n\u001B[0;32m    207\u001B[0m dtype_name \u001B[38;5;241m=\u001B[39m _find_matching_floating_dtype(y_true, y_pred, sample_weight, xp\u001B[38;5;241m=\u001B[39mxp)\n\u001B[1;32m--> 209\u001B[0m y_type, y_true, y_pred, sample_weight, multioutput \u001B[38;5;241m=\u001B[39m \u001B[43m_check_reg_targets\u001B[49m\u001B[43m(\u001B[49m\n\u001B[0;32m    210\u001B[0m \u001B[43m    \u001B[49m\u001B[43my_true\u001B[49m\u001B[43m,\u001B[49m\u001B[43m \u001B[49m\u001B[43my_pred\u001B[49m\u001B[43m,\u001B[49m\u001B[43m \u001B[49m\u001B[43msample_weight\u001B[49m\u001B[43m,\u001B[49m\u001B[43m \u001B[49m\u001B[43mmultioutput\u001B[49m\u001B[43m,\u001B[49m\u001B[43m \u001B[49m\u001B[43mdtype\u001B[49m\u001B[38;5;241;43m=\u001B[39;49m\u001B[43mdtype_name\u001B[49m\u001B[43m,\u001B[49m\u001B[43m \u001B[49m\u001B[43mxp\u001B[49m\u001B[38;5;241;43m=\u001B[39;49m\u001B[43mxp\u001B[49m\n\u001B[0;32m    211\u001B[0m \u001B[43m\u001B[49m\u001B[43m)\u001B[49m\n\u001B[0;32m    213\u001B[0m \u001B[38;5;28;01mreturn\u001B[39;00m y_type, y_true, y_pred, sample_weight, multioutput\n",
      "File \u001B[1;32m~\\.conda\\envs\\tf_new\\lib\\site-packages\\sklearn\\metrics\\_regression.py:116\u001B[0m, in \u001B[0;36m_check_reg_targets\u001B[1;34m(y_true, y_pred, sample_weight, multioutput, dtype, xp)\u001B[0m\n\u001B[0;32m    114\u001B[0m check_consistent_length(y_true, y_pred, sample_weight)\n\u001B[0;32m    115\u001B[0m y_true \u001B[38;5;241m=\u001B[39m check_array(y_true, ensure_2d\u001B[38;5;241m=\u001B[39m\u001B[38;5;28;01mFalse\u001B[39;00m, dtype\u001B[38;5;241m=\u001B[39mdtype)\n\u001B[1;32m--> 116\u001B[0m y_pred \u001B[38;5;241m=\u001B[39m \u001B[43mcheck_array\u001B[49m\u001B[43m(\u001B[49m\u001B[43my_pred\u001B[49m\u001B[43m,\u001B[49m\u001B[43m \u001B[49m\u001B[43mensure_2d\u001B[49m\u001B[38;5;241;43m=\u001B[39;49m\u001B[38;5;28;43;01mFalse\u001B[39;49;00m\u001B[43m,\u001B[49m\u001B[43m \u001B[49m\u001B[43mdtype\u001B[49m\u001B[38;5;241;43m=\u001B[39;49m\u001B[43mdtype\u001B[49m\u001B[43m)\u001B[49m\n\u001B[0;32m    117\u001B[0m \u001B[38;5;28;01mif\u001B[39;00m sample_weight \u001B[38;5;129;01mis\u001B[39;00m \u001B[38;5;129;01mnot\u001B[39;00m \u001B[38;5;28;01mNone\u001B[39;00m:\n\u001B[0;32m    118\u001B[0m     sample_weight \u001B[38;5;241m=\u001B[39m _check_sample_weight(sample_weight, y_true, dtype\u001B[38;5;241m=\u001B[39mdtype)\n",
      "File \u001B[1;32m~\\.conda\\envs\\tf_new\\lib\\site-packages\\sklearn\\utils\\validation.py:1099\u001B[0m, in \u001B[0;36mcheck_array\u001B[1;34m(array, accept_sparse, accept_large_sparse, dtype, order, copy, force_writeable, force_all_finite, ensure_all_finite, ensure_non_negative, ensure_2d, allow_nd, ensure_min_samples, ensure_min_features, estimator, input_name)\u001B[0m\n\u001B[0;32m   1094\u001B[0m     \u001B[38;5;28;01mraise\u001B[39;00m \u001B[38;5;167;01mValueError\u001B[39;00m(\n\u001B[0;32m   1095\u001B[0m         \u001B[38;5;124m\"\u001B[39m\u001B[38;5;124mdtype=\u001B[39m\u001B[38;5;124m'\u001B[39m\u001B[38;5;124mnumeric\u001B[39m\u001B[38;5;124m'\u001B[39m\u001B[38;5;124m is not compatible with arrays of bytes/strings.\u001B[39m\u001B[38;5;124m\"\u001B[39m\n\u001B[0;32m   1096\u001B[0m         \u001B[38;5;124m\"\u001B[39m\u001B[38;5;124mConvert your data to numeric values explicitly instead.\u001B[39m\u001B[38;5;124m\"\u001B[39m\n\u001B[0;32m   1097\u001B[0m     )\n\u001B[0;32m   1098\u001B[0m \u001B[38;5;28;01mif\u001B[39;00m \u001B[38;5;129;01mnot\u001B[39;00m allow_nd \u001B[38;5;129;01mand\u001B[39;00m array\u001B[38;5;241m.\u001B[39mndim \u001B[38;5;241m>\u001B[39m\u001B[38;5;241m=\u001B[39m \u001B[38;5;241m3\u001B[39m:\n\u001B[1;32m-> 1099\u001B[0m     \u001B[38;5;28;01mraise\u001B[39;00m \u001B[38;5;167;01mValueError\u001B[39;00m(\n\u001B[0;32m   1100\u001B[0m         \u001B[38;5;124mf\u001B[39m\u001B[38;5;124m\"\u001B[39m\u001B[38;5;124mFound array with dim \u001B[39m\u001B[38;5;132;01m{\u001B[39;00marray\u001B[38;5;241m.\u001B[39mndim\u001B[38;5;132;01m}\u001B[39;00m\u001B[38;5;124m,\u001B[39m\u001B[38;5;124m\"\u001B[39m\n\u001B[0;32m   1101\u001B[0m         \u001B[38;5;124mf\u001B[39m\u001B[38;5;124m\"\u001B[39m\u001B[38;5;124m while dim <= 2 is required\u001B[39m\u001B[38;5;132;01m{\u001B[39;00mcontext\u001B[38;5;132;01m}\u001B[39;00m\u001B[38;5;124m.\u001B[39m\u001B[38;5;124m\"\u001B[39m\n\u001B[0;32m   1102\u001B[0m     )\n\u001B[0;32m   1104\u001B[0m \u001B[38;5;28;01mif\u001B[39;00m ensure_all_finite:\n\u001B[0;32m   1105\u001B[0m     _assert_all_finite(\n\u001B[0;32m   1106\u001B[0m         array,\n\u001B[0;32m   1107\u001B[0m         input_name\u001B[38;5;241m=\u001B[39minput_name,\n\u001B[0;32m   1108\u001B[0m         estimator_name\u001B[38;5;241m=\u001B[39mestimator_name,\n\u001B[0;32m   1109\u001B[0m         allow_nan\u001B[38;5;241m=\u001B[39mensure_all_finite \u001B[38;5;241m==\u001B[39m \u001B[38;5;124m\"\u001B[39m\u001B[38;5;124mallow-nan\u001B[39m\u001B[38;5;124m\"\u001B[39m,\n\u001B[0;32m   1110\u001B[0m     )\n",
      "\u001B[1;31mValueError\u001B[0m: Found array with dim 3, while dim <= 2 is required."
     ]
    }
   ],
   "source": [
    "y_pred = model.predict(X_test)\n",
    "print(\"LSTM without FE, RMSE:\", root_mean_squared_error(y_test, y_pred))"
   ],
   "metadata": {
    "collapsed": false,
    "ExecuteTime": {
     "end_time": "2025-07-29T16:55:10.108949700Z",
     "start_time": "2025-07-29T16:55:08.648591600Z"
    }
   },
   "id": "aa35c774b5fffd61"
  },
  {
   "cell_type": "code",
   "execution_count": null,
   "outputs": [],
   "source": [
    "y_train_pred = model.predict(X_train)\n",
    "y_test_pred = model.predict(X_test)"
   ],
   "metadata": {
    "collapsed": false,
    "ExecuteTime": {
     "end_time": "2025-07-29T16:55:10.116054300Z",
     "start_time": "2025-07-29T16:55:10.110969800Z"
    }
   },
   "id": "aa5e860eafe81f0b"
  },
  {
   "cell_type": "code",
   "execution_count": null,
   "outputs": [],
   "source": [
    "print(\"LSTM without FE, Train RMSE:\", root_mean_squared_error(y_train, y_train_pred))\n",
    "print(\"LSTM without FE, Test RMSE:\", root_mean_squared_error(y_test, y_test_pred))\n",
    "print(\"LSTM without FE, Train MAE:\", mean_absolute_error(y_train, y_train_pred))\n",
    "print(\"LSTM without FE, Test MAE:\", mean_absolute_error(y_test, y_test_pred))\n",
    "print(\"LSTM without FE, Train R2:\", r2_score(y_train, y_train_pred))\n",
    "print(\"LSTM without FE, Test R2:\", r2_score(y_test, y_test_pred))"
   ],
   "metadata": {
    "collapsed": false,
    "ExecuteTime": {
     "start_time": "2025-07-29T16:55:10.113482100Z"
    }
   },
   "id": "b11ff8891c7e88be"
  },
  {
   "cell_type": "code",
   "execution_count": null,
   "outputs": [],
   "source": [
    "y_pred_fe = model_fe.predict(X_test_fe)\n",
    "print(\"LSTM with FE, RMSE:\", root_mean_squared_error(y_test_fe, y_pred_fe))"
   ],
   "metadata": {
    "collapsed": false,
    "ExecuteTime": {
     "start_time": "2025-07-29T16:55:10.115055Z"
    }
   },
   "id": "a3b042789e17003a"
  },
  {
   "cell_type": "code",
   "execution_count": null,
   "outputs": [],
   "source": [
    "print(\"LSTM with FE, Train RMSE:\", root_mean_squared_error(y_train, y_train_pred))\n",
    "print(\"LSTM with FE, Test RMSE:\", root_mean_squared_error(y_test, y_test_pred))\n",
    "print(\"LSTM with FE, Train MAE:\", mean_absolute_error(y_train, y_train_pred))\n",
    "print(\"LSTM with FE, Test MAE:\", mean_absolute_error(y_test, y_test_pred))\n",
    "print(\"LSTM with FE, Train R2:\", r2_score(y_train, y_train_pred))\n",
    "print(\"LSTM with FE, Test R2:\", r2_score(y_test, y_test_pred))"
   ],
   "metadata": {
    "collapsed": false,
    "ExecuteTime": {
     "end_time": "2025-07-29T16:55:10.169734300Z",
     "start_time": "2025-07-29T16:55:10.117054400Z"
    }
   },
   "id": "ab7ad1c7cf930adb"
  },
  {
   "cell_type": "code",
   "execution_count": null,
   "outputs": [],
   "source": [
    "def make_symmetric_matchups(matchups):\n",
    "    symmetric = []\n",
    "    for t1, t2 in matchups:\n",
    "        symmetric.append((t1, t2))\n",
    "        symmetric.append((t2, t1))\n",
    "    return symmetric"
   ],
   "metadata": {
    "collapsed": false,
    "ExecuteTime": {
     "start_time": "2025-07-29T16:55:10.119056200Z"
    }
   },
   "id": "6f651f81d420033a"
  },
  {
   "cell_type": "code",
   "execution_count": null,
   "outputs": [],
   "source": [
    "def predict_players_for_matchups_lstm(df, model, matchup_list, features, seq_len=10, lineup_dir=\"data/lineups\"):\n",
    "    results = []\n",
    "    for team_id, enemy_team_id in matchup_list:\n",
    "        lineup_path = os.path.join(lineup_dir, f\"team_lineup_{team_id}.json\")\n",
    "        try:\n",
    "            with open(lineup_path, \"r\", encoding=\"utf-8\") as f:\n",
    "                lineup = [p for p in json.load(f) if p.get(\"is_current_team_member\")]\n",
    "        except FileNotFoundError:\n",
    "            continue\n",
    "\n",
    "        for player in lineup:\n",
    "            account_id = str(player[\"account_id\"])\n",
    "            player_hist = df[df[\"account_id\"] == account_id].sort_values(\"match_start_time\")\n",
    "            if len(player_hist) < seq_len:\n",
    "                continue\n",
    "\n",
    "            seq_df = player_hist.iloc[-seq_len:].copy()\n",
    "            seq_df[\"team_id\"] = team_id\n",
    "            seq_df[\"enemy_team_id\"] = enemy_team_id\n",
    "\n",
    "            # Preprocessing (same as training)\n",
    "            seq_df['isRadiant'] = seq_df['isRadiant'].astype(int)\n",
    "            seq_df['win'] = seq_df['win'].astype(int)\n",
    "            seq_df['firstblood_claimed'] = seq_df['firstblood_claimed'].astype(int)\n",
    "            for col in features:\n",
    "                if col not in seq_df.columns:\n",
    "                    seq_df[col] = 0\n",
    "            seq_df = seq_df[features]\n",
    "            seq_df = seq_df.fillna(seq_df.mean()).astype(np.float32)\n",
    "            print(seq_df.head())\n",
    "            print(seq_df.sum())\n",
    "            X_pred = seq_df.values.reshape(1, seq_len, len(features))\n",
    "            pred_score = model.predict(X_pred)[0][0]\n",
    "            results.append({\n",
    "                \"account_id\": account_id,\n",
    "                \"name\": player.get(\"name\", \"\"),\n",
    "                \"team_id\": team_id,\n",
    "                \"enemy_team_id\": enemy_team_id,\n",
    "                \"predicted_fantasy_score\": pred_score\n",
    "            })\n",
    "    return pd.DataFrame(results)"
   ],
   "metadata": {
    "collapsed": false,
    "ExecuteTime": {
     "start_time": "2025-07-29T16:55:10.121182800Z"
    }
   },
   "id": "e122e8b25ca0ea7a"
  },
  {
   "cell_type": "code",
   "execution_count": null,
   "outputs": [],
   "source": [
    "matchups = [('7119388', '8261500'), ('8597976', '7119388'), ('8597976', '8261500')] # Spirit vs. Xtreme Gaming, Spirit vs. Talon\n",
    "symmetric_matchups = make_symmetric_matchups(matchups)\n",
    "result = predict_players_for_matchups_lstm(df, model, symmetric_matchups, features, seq_len=SEQ_LEN)"
   ],
   "metadata": {
    "collapsed": false,
    "ExecuteTime": {
     "start_time": "2025-07-29T16:55:10.122182Z"
    }
   },
   "id": "5f390438c5659e0f"
  },
  {
   "cell_type": "code",
   "execution_count": null,
   "outputs": [],
   "source": [
    "result"
   ],
   "metadata": {
    "collapsed": false,
    "ExecuteTime": {
     "start_time": "2025-07-29T16:55:10.124183700Z"
    }
   },
   "id": "51257cf979188e04"
  },
  {
   "cell_type": "code",
   "execution_count": null,
   "outputs": [],
   "source": [
    "#print(np.std(X_test, axis=0)) "
   ],
   "metadata": {
    "collapsed": false,
    "ExecuteTime": {
     "start_time": "2025-07-29T16:55:10.126186400Z"
    }
   },
   "id": "7c4b21a71ee6479c"
  },
  {
   "cell_type": "code",
   "execution_count": null,
   "outputs": [],
   "source": [
    "print(np.mean(y_train))"
   ],
   "metadata": {
    "collapsed": false,
    "ExecuteTime": {
     "start_time": "2025-07-29T16:55:10.127001400Z"
    }
   },
   "id": "f1e04ffe29648731"
  },
  {
   "cell_type": "code",
   "execution_count": null,
   "outputs": [],
   "source": [
    "y_train[0]"
   ],
   "metadata": {
    "collapsed": false,
    "ExecuteTime": {
     "start_time": "2025-07-29T16:55:10.129016200Z"
    }
   },
   "id": "1894d6c5a83abef2"
  },
  {
   "cell_type": "code",
   "execution_count": null,
   "outputs": [],
   "source": [
    "y_train[1]"
   ],
   "metadata": {
    "collapsed": false,
    "ExecuteTime": {
     "start_time": "2025-07-29T16:55:10.129016200Z"
    }
   },
   "id": "4a97c2d97f242e6f"
  },
  {
   "cell_type": "code",
   "execution_count": null,
   "outputs": [],
   "source": [
    "y_pred = model.predict(X_test)\n",
    "print(y_pred[:10])"
   ],
   "metadata": {
    "collapsed": false,
    "ExecuteTime": {
     "start_time": "2025-07-29T16:55:10.129016200Z"
    }
   },
   "id": "80caec4821007c7b"
  },
  {
   "cell_type": "code",
   "execution_count": null,
   "outputs": [],
   "source": [],
   "metadata": {
    "collapsed": false,
    "ExecuteTime": {
     "start_time": "2025-07-29T16:55:10.133028500Z"
    }
   },
   "id": "fbed2024f79ef305"
  }
 ],
 "metadata": {
  "kernelspec": {
   "name": "tf_new",
   "language": "python",
   "display_name": "Python (tf_new)"
  },
  "language_info": {
   "codemirror_mode": {
    "name": "ipython",
    "version": 2
   },
   "file_extension": ".py",
   "mimetype": "text/x-python",
   "name": "python",
   "nbconvert_exporter": "python",
   "pygments_lexer": "ipython2",
   "version": "2.7.6"
  }
 },
 "nbformat": 4,
 "nbformat_minor": 5
}
