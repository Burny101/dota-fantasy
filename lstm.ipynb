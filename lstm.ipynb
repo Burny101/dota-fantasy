{
 "cells": [
  {
   "cell_type": "code",
   "execution_count": 99,
   "id": "initial_id",
   "metadata": {
    "collapsed": true,
    "ExecuteTime": {
     "end_time": "2025-07-26T18:44:37.906229100Z",
     "start_time": "2025-07-26T18:44:37.585484400Z"
    }
   },
   "outputs": [],
   "source": [
    "import pandas as pd\n",
    "import numpy as np\n",
    "import os\n",
    "import tensorflow as tf\n",
    "from tensorflow.keras import layers, models\n",
    "import json\n",
    "from sklearn.model_selection import train_test_split\n",
    "from sklearn.metrics import root_mean_squared_error"
   ]
  },
  {
   "cell_type": "code",
   "execution_count": 100,
   "outputs": [],
   "source": [
    "with open('data/curated/player_data.json', 'r') as f:\n",
    "    player_data = json.load(f)"
   ],
   "metadata": {
    "collapsed": false,
    "ExecuteTime": {
     "end_time": "2025-07-26T18:44:37.950488300Z",
     "start_time": "2025-07-26T18:44:37.598658800Z"
    }
   },
   "id": "39f3c80b5f2bc912"
  },
  {
   "cell_type": "code",
   "execution_count": 101,
   "outputs": [],
   "source": [
    "df = pd.DataFrame(player_data)"
   ],
   "metadata": {
    "collapsed": false,
    "ExecuteTime": {
     "end_time": "2025-07-26T18:44:37.950488300Z",
     "start_time": "2025-07-26T18:44:37.769690400Z"
    }
   },
   "id": "77ad740acc4052b8"
  },
  {
   "cell_type": "code",
   "execution_count": 102,
   "outputs": [],
   "source": [
    "df = df.astype({\n",
    "    'match_id': 'string',\n",
    "    'account_id': 'string',\n",
    "    'hero_id': 'string',\n",
    "    'radiant_team_id': 'string',\n",
    "    'dire_team_id': 'string',\n",
    "    'win': 'boolean',\n",
    "    'firstblood_claimed': 'boolean',\n",
    "    'team_id': 'string',\n",
    "    'enemy_team_id': 'string',\n",
    "    'valveId': 'string',\n",
    "})"
   ],
   "metadata": {
    "collapsed": false,
    "ExecuteTime": {
     "end_time": "2025-07-26T18:44:37.953490500Z",
     "start_time": "2025-07-26T18:44:37.897115400Z"
    }
   },
   "id": "771885b884c2e4c2"
  },
  {
   "cell_type": "code",
   "execution_count": 103,
   "outputs": [],
   "source": [
    "q1_glicko = df['glicko2_rating'].quantile(0.25)\n",
    "df['glicko2_rating'] = df['glicko2_rating'].fillna(q1_glicko)\n",
    "q1_enemy_glicko = df['enemy_glicko2_rating'].quantile(0.25)\n",
    "df['enemy_glicko2_rating'] = df['enemy_glicko2_rating'].fillna(q1_enemy_glicko)"
   ],
   "metadata": {
    "collapsed": false,
    "ExecuteTime": {
     "end_time": "2025-07-26T18:44:37.978696100Z",
     "start_time": "2025-07-26T18:44:37.944481900Z"
    }
   },
   "id": "a1a90c9c3cf75c76"
  },
  {
   "cell_type": "code",
   "execution_count": 104,
   "outputs": [],
   "source": [
    "mask = df['rating_advantage'].isna()\n",
    "df.loc[mask, 'rating_advantage'] = df.loc[mask, 'glicko2_rating'] - df.loc[mask, 'enemy_glicko2_rating']"
   ],
   "metadata": {
    "collapsed": false,
    "ExecuteTime": {
     "end_time": "2025-07-26T18:44:37.998878500Z",
     "start_time": "2025-07-26T18:44:37.959495700Z"
    }
   },
   "id": "16f66ae8f37d0bc9"
  },
  {
   "cell_type": "code",
   "execution_count": 105,
   "outputs": [],
   "source": [
    "df = df.sort_values(['account_id', 'match_start_time'])\n"
   ],
   "metadata": {
    "collapsed": false,
    "ExecuteTime": {
     "end_time": "2025-07-26T18:44:38.018026500Z",
     "start_time": "2025-07-26T18:44:37.976605500Z"
    }
   },
   "id": "3d9bc1b98d2ca991"
  },
  {
   "cell_type": "code",
   "execution_count": 106,
   "outputs": [],
   "source": [
    "SEQ_LEN=10"
   ],
   "metadata": {
    "collapsed": false,
    "ExecuteTime": {
     "end_time": "2025-07-26T18:44:38.023029900Z",
     "start_time": "2025-07-26T18:44:38.005885Z"
    }
   },
   "id": "3202f1ed26a5026c"
  },
  {
   "cell_type": "code",
   "execution_count": 107,
   "outputs": [
    {
     "name": "stdout",
     "output_type": "stream",
     "text": [
      "<class 'pandas.core.frame.DataFrame'>\n",
      "Index: 15530 entries, 1126 to 14947\n",
      "Data columns (total 40 columns):\n",
      " #   Column                   Non-Null Count  Dtype  \n",
      "---  ------                   --------------  -----  \n",
      " 0   match_id                 15530 non-null  string \n",
      " 1   match_start_time         15530 non-null  int64  \n",
      " 2   account_id               15530 non-null  string \n",
      " 3   name                     15530 non-null  object \n",
      " 4   fantasy_role             15530 non-null  object \n",
      " 5   hero_id                  15530 non-null  string \n",
      " 6   hero_variant             15530 non-null  object \n",
      " 7   isRadiant                15530 non-null  bool   \n",
      " 8   radiant_team_id          15530 non-null  string \n",
      " 9   dire_team_id             15530 non-null  string \n",
      " 10  tournament_start_date    15530 non-null  object \n",
      " 11  duration                 15530 non-null  int64  \n",
      " 12  win                      15530 non-null  boolean\n",
      " 13  kills                    15530 non-null  int64  \n",
      " 14  deaths                   15530 non-null  int64  \n",
      " 15  last_hits                15530 non-null  int64  \n",
      " 16  denies                   15530 non-null  int64  \n",
      " 17  gold_per_min             15530 non-null  int64  \n",
      " 18  towers_killed            15530 non-null  int64  \n",
      " 19  roshans_killed           15530 non-null  int64  \n",
      " 20  teamfight_participation  15530 non-null  float64\n",
      " 21  obs_placed               15530 non-null  int64  \n",
      " 22  camps_stacked            15530 non-null  int64  \n",
      " 23  rune_pickups             15530 non-null  int64  \n",
      " 24  firstblood_claimed       15530 non-null  boolean\n",
      " 25  stuns                    15530 non-null  float64\n",
      " 26  creeps_stacked           15530 non-null  int64  \n",
      " 27  assists                  15530 non-null  int64  \n",
      " 28  xp_per_min               15530 non-null  int64  \n",
      " 29  lane_efficiency          15510 non-null  float64\n",
      " 30  team_id                  15530 non-null  string \n",
      " 31  enemy_team_id            15530 non-null  string \n",
      " 32  teamName                 14115 non-null  object \n",
      " 33  valveId                  14115 non-null  string \n",
      " 34  glicko2_rating           15530 non-null  float64\n",
      " 35  enemy_teamName           14115 non-null  object \n",
      " 36  enemy_valveId            14115 non-null  object \n",
      " 37  enemy_glicko2_rating     15530 non-null  float64\n",
      " 38  fantasy_score            15530 non-null  float64\n",
      " 39  rating_advantage         15530 non-null  float64\n",
      "dtypes: bool(1), boolean(2), float64(7), int64(15), object(7), string(8)\n",
      "memory usage: 4.6+ MB\n"
     ]
    }
   ],
   "source": [
    "df.info()"
   ],
   "metadata": {
    "collapsed": false,
    "ExecuteTime": {
     "end_time": "2025-07-26T18:44:38.074024500Z",
     "start_time": "2025-07-26T18:44:38.021026900Z"
    }
   },
   "id": "4df31ab5d196d3d8"
  },
  {
   "cell_type": "code",
   "execution_count": 108,
   "outputs": [],
   "source": [
    "not_features = [\n",
    "    'match_id', 'account_id', 'name', 'radiant_team_id', 'dire_team_id',\n",
    "    'tournament_start_date', 'teamName', 'valveId', 'enemy_teamName', 'enemy_valveId', 'fantasy_score', 'team_id'\n",
    "]"
   ],
   "metadata": {
    "collapsed": false,
    "ExecuteTime": {
     "end_time": "2025-07-26T18:44:38.110439200Z",
     "start_time": "2025-07-26T18:44:38.069018700Z"
    }
   },
   "id": "f90859b5bf5fbbd4"
  },
  {
   "cell_type": "code",
   "execution_count": 109,
   "outputs": [],
   "source": [
    "df['isRadiant'] = df['isRadiant'].astype(int)\n",
    "df['win'] = df['win'].astype(int)\n",
    "df['firstblood_claimed'] = df['firstblood_claimed'].astype(int)"
   ],
   "metadata": {
    "collapsed": false,
    "ExecuteTime": {
     "end_time": "2025-07-26T18:44:38.111439900Z",
     "start_time": "2025-07-26T18:44:38.084137200Z"
    }
   },
   "id": "a7146f2ab928cd1e"
  },
  {
   "cell_type": "code",
   "execution_count": 110,
   "outputs": [],
   "source": [
    "for col in ['fantasy_role', 'hero_id', 'hero_variant']:\n",
    "    if col in df.columns:\n",
    "        seq_df = pd.get_dummies(df, columns=[col])"
   ],
   "metadata": {
    "collapsed": false,
    "ExecuteTime": {
     "end_time": "2025-07-26T18:44:38.190981100Z",
     "start_time": "2025-07-26T18:44:38.099429400Z"
    }
   },
   "id": "a5e2f617e6035d15"
  },
  {
   "cell_type": "code",
   "execution_count": 111,
   "outputs": [],
   "source": [
    "#features = [col for col in df.columns if col not in not_features]\n",
    "features = [col for col in df.columns if col not in not_features and pd.api.types.is_numeric_dtype(df[col])]\n",
    "#df[features].isna().sum()\n",
    "df[features] = df[features].fillna(df[features].mean())"
   ],
   "metadata": {
    "collapsed": false,
    "ExecuteTime": {
     "end_time": "2025-07-26T18:44:38.223119200Z",
     "start_time": "2025-07-26T18:44:38.191981Z"
    }
   },
   "id": "a9b629c8c0350c95"
  },
  {
   "cell_type": "code",
   "execution_count": 112,
   "outputs": [],
   "source": [
    "\n",
    "X_seqs = []\n",
    "y_seqs = []\n",
    "\n",
    "for _, player_df in df.groupby('account_id'):\n",
    "    player_df = player_df.reset_index(drop=True)\n",
    "    for i in range(len(player_df) - SEQ_LEN):\n",
    "        X_seqs.append(player_df.loc[i:i+SEQ_LEN-1, features].values)\n",
    "        y_seqs.append(player_df.loc[i+SEQ_LEN, 'fantasy_score'])\n",
    "\n",
    "X_seqs = np.array(X_seqs)\n",
    "y_seqs = np.array(y_seqs)"
   ],
   "metadata": {
    "collapsed": false,
    "ExecuteTime": {
     "end_time": "2025-07-26T18:44:45.831631400Z",
     "start_time": "2025-07-26T18:44:38.223119200Z"
    }
   },
   "id": "e99a686055bf7037"
  },
  {
   "cell_type": "code",
   "execution_count": 113,
   "outputs": [],
   "source": [
    "X_train, X_test, y_train, y_test = train_test_split(X_seqs, y_seqs, test_size=0.1, random_state=42)"
   ],
   "metadata": {
    "collapsed": false,
    "ExecuteTime": {
     "end_time": "2025-07-26T18:44:45.878638800Z",
     "start_time": "2025-07-26T18:44:45.831631400Z"
    }
   },
   "id": "3226417a72af794b"
  },
  {
   "cell_type": "code",
   "execution_count": 114,
   "outputs": [
    {
     "data": {
      "text/plain": "\u001B[1mModel: \"sequential_4\"\u001B[0m\n",
      "text/html": "<pre style=\"white-space:pre;overflow-x:auto;line-height:normal;font-family:Menlo,'DejaVu Sans Mono',consolas,'Courier New',monospace\"><span style=\"font-weight: bold\">Model: \"sequential_4\"</span>\n</pre>\n"
     },
     "metadata": {},
     "output_type": "display_data"
    },
    {
     "data": {
      "text/plain": "┏━━━━━━━━━━━━━━━━━━━━━━━━━━━━━━━━━┳━━━━━━━━━━━━━━━━━━━━━━━━┳━━━━━━━━━━━━━━━┓\n┃\u001B[1m \u001B[0m\u001B[1mLayer (type)                   \u001B[0m\u001B[1m \u001B[0m┃\u001B[1m \u001B[0m\u001B[1mOutput Shape          \u001B[0m\u001B[1m \u001B[0m┃\u001B[1m \u001B[0m\u001B[1m      Param #\u001B[0m\u001B[1m \u001B[0m┃\n┡━━━━━━━━━━━━━━━━━━━━━━━━━━━━━━━━━╇━━━━━━━━━━━━━━━━━━━━━━━━╇━━━━━━━━━━━━━━━┩\n│ lstm_4 (\u001B[38;5;33mLSTM\u001B[0m)                   │ (\u001B[38;5;45mNone\u001B[0m, \u001B[38;5;34m64\u001B[0m)             │        \u001B[38;5;34m22,784\u001B[0m │\n├─────────────────────────────────┼────────────────────────┼───────────────┤\n│ dense_4 (\u001B[38;5;33mDense\u001B[0m)                 │ (\u001B[38;5;45mNone\u001B[0m, \u001B[38;5;34m1\u001B[0m)              │            \u001B[38;5;34m65\u001B[0m │\n└─────────────────────────────────┴────────────────────────┴───────────────┘\n",
      "text/html": "<pre style=\"white-space:pre;overflow-x:auto;line-height:normal;font-family:Menlo,'DejaVu Sans Mono',consolas,'Courier New',monospace\">┏━━━━━━━━━━━━━━━━━━━━━━━━━━━━━━━━━┳━━━━━━━━━━━━━━━━━━━━━━━━┳━━━━━━━━━━━━━━━┓\n┃<span style=\"font-weight: bold\"> Layer (type)                    </span>┃<span style=\"font-weight: bold\"> Output Shape           </span>┃<span style=\"font-weight: bold\">       Param # </span>┃\n┡━━━━━━━━━━━━━━━━━━━━━━━━━━━━━━━━━╇━━━━━━━━━━━━━━━━━━━━━━━━╇━━━━━━━━━━━━━━━┩\n│ lstm_4 (<span style=\"color: #0087ff; text-decoration-color: #0087ff\">LSTM</span>)                   │ (<span style=\"color: #00d7ff; text-decoration-color: #00d7ff\">None</span>, <span style=\"color: #00af00; text-decoration-color: #00af00\">64</span>)             │        <span style=\"color: #00af00; text-decoration-color: #00af00\">22,784</span> │\n├─────────────────────────────────┼────────────────────────┼───────────────┤\n│ dense_4 (<span style=\"color: #0087ff; text-decoration-color: #0087ff\">Dense</span>)                 │ (<span style=\"color: #00d7ff; text-decoration-color: #00d7ff\">None</span>, <span style=\"color: #00af00; text-decoration-color: #00af00\">1</span>)              │            <span style=\"color: #00af00; text-decoration-color: #00af00\">65</span> │\n└─────────────────────────────────┴────────────────────────┴───────────────┘\n</pre>\n"
     },
     "metadata": {},
     "output_type": "display_data"
    },
    {
     "data": {
      "text/plain": "\u001B[1m Total params: \u001B[0m\u001B[38;5;34m22,849\u001B[0m (89.25 KB)\n",
      "text/html": "<pre style=\"white-space:pre;overflow-x:auto;line-height:normal;font-family:Menlo,'DejaVu Sans Mono',consolas,'Courier New',monospace\"><span style=\"font-weight: bold\"> Total params: </span><span style=\"color: #00af00; text-decoration-color: #00af00\">22,849</span> (89.25 KB)\n</pre>\n"
     },
     "metadata": {},
     "output_type": "display_data"
    },
    {
     "data": {
      "text/plain": "\u001B[1m Trainable params: \u001B[0m\u001B[38;5;34m22,849\u001B[0m (89.25 KB)\n",
      "text/html": "<pre style=\"white-space:pre;overflow-x:auto;line-height:normal;font-family:Menlo,'DejaVu Sans Mono',consolas,'Courier New',monospace\"><span style=\"font-weight: bold\"> Trainable params: </span><span style=\"color: #00af00; text-decoration-color: #00af00\">22,849</span> (89.25 KB)\n</pre>\n"
     },
     "metadata": {},
     "output_type": "display_data"
    },
    {
     "data": {
      "text/plain": "\u001B[1m Non-trainable params: \u001B[0m\u001B[38;5;34m0\u001B[0m (0.00 B)\n",
      "text/html": "<pre style=\"white-space:pre;overflow-x:auto;line-height:normal;font-family:Menlo,'DejaVu Sans Mono',consolas,'Courier New',monospace\"><span style=\"font-weight: bold\"> Non-trainable params: </span><span style=\"color: #00af00; text-decoration-color: #00af00\">0</span> (0.00 B)\n</pre>\n"
     },
     "metadata": {},
     "output_type": "display_data"
    },
    {
     "name": "stdout",
     "output_type": "stream",
     "text": [
      "Epoch 1/20\n",
      "\u001B[1m340/340\u001B[0m \u001B[32m━━━━━━━━━━━━━━━━━━━━\u001B[0m\u001B[37m\u001B[0m \u001B[1m2s\u001B[0m 3ms/step - loss: 227.3612 - val_loss: 145.0984\n",
      "Epoch 2/20\n",
      "\u001B[1m340/340\u001B[0m \u001B[32m━━━━━━━━━━━━━━━━━━━━\u001B[0m\u001B[37m\u001B[0m \u001B[1m1s\u001B[0m 3ms/step - loss: 136.2067 - val_loss: 83.6161\n",
      "Epoch 3/20\n",
      "\u001B[1m340/340\u001B[0m \u001B[32m━━━━━━━━━━━━━━━━━━━━\u001B[0m\u001B[37m\u001B[0m \u001B[1m1s\u001B[0m 3ms/step - loss: 77.8408 - val_loss: 49.2093\n",
      "Epoch 4/20\n",
      "\u001B[1m340/340\u001B[0m \u001B[32m━━━━━━━━━━━━━━━━━━━━\u001B[0m\u001B[37m\u001B[0m \u001B[1m1s\u001B[0m 3ms/step - loss: 46.3427 - val_loss: 32.3748\n",
      "Epoch 5/20\n",
      "\u001B[1m340/340\u001B[0m \u001B[32m━━━━━━━━━━━━━━━━━━━━\u001B[0m\u001B[37m\u001B[0m \u001B[1m1s\u001B[0m 3ms/step - loss: 32.3013 - val_loss: 25.6007\n",
      "Epoch 6/20\n",
      "\u001B[1m340/340\u001B[0m \u001B[32m━━━━━━━━━━━━━━━━━━━━\u001B[0m\u001B[37m\u001B[0m \u001B[1m1s\u001B[0m 3ms/step - loss: 27.1478 - val_loss: 23.5151\n",
      "Epoch 7/20\n",
      "\u001B[1m340/340\u001B[0m \u001B[32m━━━━━━━━━━━━━━━━━━━━\u001B[0m\u001B[37m\u001B[0m \u001B[1m1s\u001B[0m 3ms/step - loss: 24.5771 - val_loss: 23.0872\n",
      "Epoch 8/20\n",
      "\u001B[1m340/340\u001B[0m \u001B[32m━━━━━━━━━━━━━━━━━━━━\u001B[0m\u001B[37m\u001B[0m \u001B[1m1s\u001B[0m 3ms/step - loss: 24.3983 - val_loss: 23.0737\n",
      "Epoch 9/20\n",
      "\u001B[1m340/340\u001B[0m \u001B[32m━━━━━━━━━━━━━━━━━━━━\u001B[0m\u001B[37m\u001B[0m \u001B[1m1s\u001B[0m 3ms/step - loss: 23.9239 - val_loss: 23.1051\n",
      "Epoch 10/20\n",
      "\u001B[1m340/340\u001B[0m \u001B[32m━━━━━━━━━━━━━━━━━━━━\u001B[0m\u001B[37m\u001B[0m \u001B[1m1s\u001B[0m 3ms/step - loss: 24.7623 - val_loss: 23.1120\n",
      "Epoch 11/20\n",
      "\u001B[1m340/340\u001B[0m \u001B[32m━━━━━━━━━━━━━━━━━━━━\u001B[0m\u001B[37m\u001B[0m \u001B[1m1s\u001B[0m 3ms/step - loss: 24.0561 - val_loss: 23.1239\n",
      "Epoch 12/20\n",
      "\u001B[1m340/340\u001B[0m \u001B[32m━━━━━━━━━━━━━━━━━━━━\u001B[0m\u001B[37m\u001B[0m \u001B[1m1s\u001B[0m 3ms/step - loss: 23.6883 - val_loss: 23.1403\n",
      "Epoch 13/20\n",
      "\u001B[1m340/340\u001B[0m \u001B[32m━━━━━━━━━━━━━━━━━━━━\u001B[0m\u001B[37m\u001B[0m \u001B[1m1s\u001B[0m 3ms/step - loss: 24.1090 - val_loss: 23.1135\n",
      "Epoch 14/20\n",
      "\u001B[1m340/340\u001B[0m \u001B[32m━━━━━━━━━━━━━━━━━━━━\u001B[0m\u001B[37m\u001B[0m \u001B[1m1s\u001B[0m 3ms/step - loss: 24.3836 - val_loss: 23.1267\n",
      "Epoch 15/20\n",
      "\u001B[1m340/340\u001B[0m \u001B[32m━━━━━━━━━━━━━━━━━━━━\u001B[0m\u001B[37m\u001B[0m \u001B[1m1s\u001B[0m 3ms/step - loss: 24.0483 - val_loss: 23.1159\n",
      "Epoch 16/20\n",
      "\u001B[1m340/340\u001B[0m \u001B[32m━━━━━━━━━━━━━━━━━━━━\u001B[0m\u001B[37m\u001B[0m \u001B[1m1s\u001B[0m 3ms/step - loss: 24.2380 - val_loss: 23.1048\n",
      "Epoch 17/20\n",
      "\u001B[1m340/340\u001B[0m \u001B[32m━━━━━━━━━━━━━━━━━━━━\u001B[0m\u001B[37m\u001B[0m \u001B[1m1s\u001B[0m 3ms/step - loss: 24.0527 - val_loss: 23.0965\n",
      "Epoch 18/20\n",
      "\u001B[1m340/340\u001B[0m \u001B[32m━━━━━━━━━━━━━━━━━━━━\u001B[0m\u001B[37m\u001B[0m \u001B[1m1s\u001B[0m 3ms/step - loss: 24.3727 - val_loss: 23.1001\n",
      "Epoch 19/20\n",
      "\u001B[1m340/340\u001B[0m \u001B[32m━━━━━━━━━━━━━━━━━━━━\u001B[0m\u001B[37m\u001B[0m \u001B[1m1s\u001B[0m 3ms/step - loss: 23.9801 - val_loss: 23.1794\n",
      "Epoch 20/20\n",
      "\u001B[1m340/340\u001B[0m \u001B[32m━━━━━━━━━━━━━━━━━━━━\u001B[0m\u001B[37m\u001B[0m \u001B[1m1s\u001B[0m 3ms/step - loss: 23.8421 - val_loss: 23.1608\n"
     ]
    }
   ],
   "source": [
    "model = models.Sequential([\n",
    "    layers.Input(shape=(SEQ_LEN, X_train.shape[2])),\n",
    "    layers.LSTM(64, return_sequences=False),\n",
    "    layers.Dense(1)\n",
    "])\n",
    "model.compile(optimizer='adam', loss='mse')\n",
    "model.summary()\n",
    "\n",
    "history = model.fit(X_train, y_train, epochs=20, batch_size=32, validation_split=0.1)"
   ],
   "metadata": {
    "collapsed": false,
    "ExecuteTime": {
     "end_time": "2025-07-26T18:45:06.089610800Z",
     "start_time": "2025-07-26T18:44:45.881692400Z"
    }
   },
   "id": "f2186820a17c4c06"
  },
  {
   "cell_type": "code",
   "execution_count": 115,
   "outputs": [
    {
     "name": "stdout",
     "output_type": "stream",
     "text": [
      "\u001B[1m42/42\u001B[0m \u001B[32m━━━━━━━━━━━━━━━━━━━━\u001B[0m\u001B[37m\u001B[0m \u001B[1m0s\u001B[0m 4ms/step\n",
      "LSTM RMSE: 4.810679186983202\n"
     ]
    }
   ],
   "source": [
    "from sklearn.metrics import mean_squared_error\n",
    "y_pred = model.predict(X_test)\n",
    "print(\"LSTM RMSE:\", root_mean_squared_error(y_test, y_pred))"
   ],
   "metadata": {
    "collapsed": false,
    "ExecuteTime": {
     "end_time": "2025-07-26T18:45:06.414034900Z",
     "start_time": "2025-07-26T18:45:06.089610800Z"
    }
   },
   "id": "aa35c774b5fffd61"
  },
  {
   "cell_type": "code",
   "execution_count": 116,
   "outputs": [],
   "source": [
    "def make_symmetric_matchups(matchups):\n",
    "    symmetric = []\n",
    "    for t1, t2 in matchups:\n",
    "        symmetric.append((t1, t2))\n",
    "        symmetric.append((t2, t1))\n",
    "    return symmetric"
   ],
   "metadata": {
    "collapsed": false,
    "ExecuteTime": {
     "end_time": "2025-07-26T18:45:06.428047900Z",
     "start_time": "2025-07-26T18:45:06.406027400Z"
    }
   },
   "id": "6f651f81d420033a"
  },
  {
   "cell_type": "code",
   "execution_count": 117,
   "outputs": [],
   "source": [
    "def predict_players_for_matchups_lstm(df, model, matchup_list, features, seq_len=10, lineup_dir=\"data/lineups\"):\n",
    "    results = []\n",
    "    for team_id, enemy_team_id in matchup_list:\n",
    "        lineup_path = os.path.join(lineup_dir, f\"team_lineup_{team_id}.json\")\n",
    "        try:\n",
    "            with open(lineup_path, \"r\", encoding=\"utf-8\") as f:\n",
    "                lineup = [p for p in json.load(f) if p.get(\"is_current_team_member\")]\n",
    "        except FileNotFoundError:\n",
    "            continue\n",
    "\n",
    "        for player in lineup:\n",
    "            account_id = str(player[\"account_id\"])\n",
    "            player_hist = df[df[\"account_id\"] == account_id].sort_values(\"match_start_time\")\n",
    "            if len(player_hist) < seq_len:\n",
    "                continue\n",
    "\n",
    "            seq_df = player_hist.iloc[-seq_len:].copy()\n",
    "            seq_df[\"team_id\"] = team_id\n",
    "            seq_df[\"enemy_team_id\"] = enemy_team_id\n",
    "\n",
    "            # Preprocessing (same as training)\n",
    "            seq_df['isRadiant'] = seq_df['isRadiant'].astype(int)\n",
    "            seq_df['win'] = seq_df['win'].astype(int)\n",
    "            seq_df['firstblood_claimed'] = seq_df['firstblood_claimed'].astype(int)\n",
    "            seq_df = pd.get_dummies(seq_df, columns=['fantasy_role', 'hero_id', 'hero_variant'])\n",
    "            for col in features:\n",
    "                if col not in seq_df.columns:\n",
    "                    seq_df[col] = 0\n",
    "            seq_df = seq_df[features]\n",
    "            seq_df = seq_df.fillna(seq_df.mean()).astype(np.float32)\n",
    "\n",
    "            X_pred = seq_df.values.reshape(1, seq_len, len(features))\n",
    "            pred_score = model.predict(X_pred)[0][0]\n",
    "            results.append({\n",
    "                \"account_id\": account_id,\n",
    "                \"name\": player.get(\"name\", \"\"),\n",
    "                \"team_id\": team_id,\n",
    "                \"enemy_team_id\": enemy_team_id,\n",
    "                \"predicted_fantasy_score\": pred_score\n",
    "            })\n",
    "    return pd.DataFrame(results)"
   ],
   "metadata": {
    "collapsed": false,
    "ExecuteTime": {
     "end_time": "2025-07-26T18:45:06.454071600Z",
     "start_time": "2025-07-26T18:45:06.426045700Z"
    }
   },
   "id": "e122e8b25ca0ea7a"
  },
  {
   "cell_type": "code",
   "execution_count": 122,
   "outputs": [
    {
     "name": "stdout",
     "output_type": "stream",
     "text": [
      "[[ 1.74773490e+09  1.00000000e+00  3.32700000e+03  0.00000000e+00\n",
      "   6.00000000e+00  8.00000000e+00  4.66000000e+02  1.50000000e+01\n",
      "   5.53000000e+02  1.00000000e+00  0.00000000e+00  6.20689630e-01\n",
      "   1.00000000e+00  2.00000000e+00  1.00000000e+01  0.00000000e+00\n",
      "   3.65669000e+01  4.00000000e+00  1.20000000e+01  7.34000000e+02\n",
      "   7.02910267e-01  1.88005943e+03  2.00390851e+03 -1.23849071e+02]\n",
      " [ 1.74774030e+09  0.00000000e+00  1.45800000e+03  1.00000000e+00\n",
      "   4.00000000e+00  2.00000000e+00  1.54000000e+02  9.00000000e+00\n",
      "   5.26000000e+02  0.00000000e+00  0.00000000e+00  6.92307700e-01\n",
      "   2.00000000e+00  0.00000000e+00  1.00000000e+01  0.00000000e+00\n",
      "   3.46326450e+01  0.00000000e+00  1.40000000e+01  6.44000000e+02\n",
      "   8.67421180e-01  1.88005943e+03  2.00390851e+03 -1.23849071e+02]\n",
      " [ 1.74775290e+09  0.00000000e+00  3.08000000e+03  0.00000000e+00\n",
      "   1.00000000e+00  6.00000000e+00  3.86000000e+02  1.00000000e+01\n",
      "   5.08000000e+02  2.00000000e+00  1.00000000e+00  5.90909060e-01\n",
      "   1.00000000e+00  2.00000000e+00  9.00000000e+00  0.00000000e+00\n",
      "   2.48339960e+01  4.00000000e+00  1.20000000e+01  6.34000000e+02\n",
      "   6.63096200e-01  1.88005943e+03  1.99712415e+03 -1.17064716e+02]\n",
      " [ 1.74775770e+09  1.00000000e+00  2.59200000e+03  1.00000000e+00\n",
      "   1.20000000e+01  6.00000000e+00  3.84000000e+02  3.00000000e+00\n",
      "   7.10000000e+02  0.00000000e+00  0.00000000e+00  9.65517200e-01\n",
      "   1.00000000e+00  0.00000000e+00  1.00000000e+01  0.00000000e+00\n",
      "   1.49799120e+02  0.00000000e+00  1.60000000e+01  9.65000000e+02\n",
      "   7.00282943e-01  1.88005943e+03  1.99712415e+03 -1.17064716e+02]\n",
      " [ 1.74782130e+09  1.00000000e+00  2.21700000e+03  1.00000000e+00\n",
      "   4.00000000e+00  4.00000000e+00  2.75000000e+02  1.00000000e+01\n",
      "   5.07000000e+02  1.00000000e+00  0.00000000e+00  6.52173940e-01\n",
      "   2.00000000e+00  1.00000000e+00  1.20000000e+01  0.00000000e+00\n",
      "   5.80311850e+01  1.00000000e+00  1.10000000e+01  6.69000000e+02\n",
      "   7.26354082e-01  1.88005943e+03  1.84928662e+03  3.07728146e+01]\n",
      " [ 1.74782552e+09  1.00000000e+00  2.86800000e+03  0.00000000e+00\n",
      "   8.00000000e+00  6.00000000e+00  4.13000000e+02  2.00000000e+01\n",
      "   5.86000000e+02  0.00000000e+00  0.00000000e+00  6.66666700e-01\n",
      "   2.00000000e+00  0.00000000e+00  8.00000000e+00  0.00000000e+00\n",
      "   4.04002460e+01  0.00000000e+00  8.00000000e+00  7.43000000e+02\n",
      "   8.48221504e-01  1.88005943e+03  1.84928662e+03  3.07728146e+01]\n",
      " [ 1.74784062e+09  1.00000000e+00  2.09200000e+03  0.00000000e+00\n",
      "   8.00000000e+00  6.00000000e+00  2.70000000e+02  1.60000000e+01\n",
      "   5.22000000e+02  1.00000000e+00  0.00000000e+00  6.25000000e-01\n",
      "   2.00000000e+00  0.00000000e+00  9.00000000e+00  1.00000000e+00\n",
      "   2.15658900e+01  0.00000000e+00  2.00000000e+00  5.61000000e+02\n",
      "   8.99151172e-01  1.88005943e+03  1.94234979e+03 -6.22903531e+01]\n",
      " [ 1.74784452e+09  0.00000000e+00  2.37900000e+03  0.00000000e+00\n",
      "   5.00000000e+00  5.00000000e+00  3.36000000e+02  8.00000000e+00\n",
      "   5.69000000e+02  1.00000000e+00  0.00000000e+00  7.77777800e-01\n",
      "   2.00000000e+00  1.00000000e+00  1.40000000e+01  0.00000000e+00\n",
      "   5.50000000e+00  3.00000000e+00  9.00000000e+00  7.99000000e+02\n",
      "   8.61964430e-01  1.88005943e+03  1.94234979e+03 -6.22903531e+01]\n",
      " [ 1.74790770e+09  1.00000000e+00  2.11300000e+03  1.00000000e+00\n",
      "   1.30000000e+01  3.00000000e+00  2.68000000e+02  7.00000000e+00\n",
      "   6.43000000e+02  0.00000000e+00  1.00000000e+00  8.43750000e-01\n",
      "   2.00000000e+00  0.00000000e+00  1.80000000e+01  0.00000000e+00\n",
      "   3.25665500e+01  0.00000000e+00  1.40000000e+01  6.42000000e+02\n",
      "   8.77728375e-01  1.88005943e+03  1.88286849e+03 -2.80906056e+00]\n",
      " [ 1.74791160e+09  0.00000000e+00  1.21000000e+03  0.00000000e+00\n",
      "   1.00000000e+00  5.00000000e+00  1.18000000e+02  5.00000000e+00\n",
      "   3.53000000e+02  0.00000000e+00  0.00000000e+00  1.11111110e-01\n",
      "   2.00000000e+00  2.00000000e+00  7.00000000e+00  0.00000000e+00\n",
      "   0.00000000e+00  3.00000000e+00  0.00000000e+00  4.24000000e+02\n",
      "   6.27930477e-01  1.88005943e+03  1.88286849e+03 -2.80906056e+00]]\n"
     ]
    }
   ],
   "source": [
    "print(X_test[0])"
   ],
   "metadata": {
    "collapsed": false,
    "ExecuteTime": {
     "end_time": "2025-07-26T18:49:56.306635600Z",
     "start_time": "2025-07-26T18:49:56.282881900Z"
    }
   },
   "id": "9873a1b5e9cb8c90"
  },
  {
   "cell_type": "code",
   "execution_count": 118,
   "outputs": [
    {
     "name": "stdout",
     "output_type": "stream",
     "text": [
      "\u001B[1m1/1\u001B[0m \u001B[32m━━━━━━━━━━━━━━━━━━━━\u001B[0m\u001B[37m\u001B[0m \u001B[1m0s\u001B[0m 26ms/step\n",
      "\u001B[1m1/1\u001B[0m \u001B[32m━━━━━━━━━━━━━━━━━━━━\u001B[0m\u001B[37m\u001B[0m \u001B[1m0s\u001B[0m 26ms/step\n",
      "\u001B[1m1/1\u001B[0m \u001B[32m━━━━━━━━━━━━━━━━━━━━\u001B[0m\u001B[37m\u001B[0m \u001B[1m0s\u001B[0m 25ms/step\n",
      "\u001B[1m1/1\u001B[0m \u001B[32m━━━━━━━━━━━━━━━━━━━━\u001B[0m\u001B[37m\u001B[0m \u001B[1m0s\u001B[0m 26ms/step\n",
      "\u001B[1m1/1\u001B[0m \u001B[32m━━━━━━━━━━━━━━━━━━━━\u001B[0m\u001B[37m\u001B[0m \u001B[1m0s\u001B[0m 24ms/step\n",
      "\u001B[1m1/1\u001B[0m \u001B[32m━━━━━━━━━━━━━━━━━━━━\u001B[0m\u001B[37m\u001B[0m \u001B[1m0s\u001B[0m 26ms/step\n",
      "\u001B[1m1/1\u001B[0m \u001B[32m━━━━━━━━━━━━━━━━━━━━\u001B[0m\u001B[37m\u001B[0m \u001B[1m0s\u001B[0m 25ms/step\n",
      "\u001B[1m1/1\u001B[0m \u001B[32m━━━━━━━━━━━━━━━━━━━━\u001B[0m\u001B[37m\u001B[0m \u001B[1m0s\u001B[0m 25ms/step\n",
      "\u001B[1m1/1\u001B[0m \u001B[32m━━━━━━━━━━━━━━━━━━━━\u001B[0m\u001B[37m\u001B[0m \u001B[1m0s\u001B[0m 28ms/step\n",
      "\u001B[1m1/1\u001B[0m \u001B[32m━━━━━━━━━━━━━━━━━━━━\u001B[0m\u001B[37m\u001B[0m \u001B[1m0s\u001B[0m 26ms/step\n",
      "\u001B[1m1/1\u001B[0m \u001B[32m━━━━━━━━━━━━━━━━━━━━\u001B[0m\u001B[37m\u001B[0m \u001B[1m0s\u001B[0m 24ms/step\n",
      "\u001B[1m1/1\u001B[0m \u001B[32m━━━━━━━━━━━━━━━━━━━━\u001B[0m\u001B[37m\u001B[0m \u001B[1m0s\u001B[0m 30ms/step\n",
      "\u001B[1m1/1\u001B[0m \u001B[32m━━━━━━━━━━━━━━━━━━━━\u001B[0m\u001B[37m\u001B[0m \u001B[1m0s\u001B[0m 26ms/step\n",
      "\u001B[1m1/1\u001B[0m \u001B[32m━━━━━━━━━━━━━━━━━━━━\u001B[0m\u001B[37m\u001B[0m \u001B[1m0s\u001B[0m 26ms/step\n",
      "\u001B[1m1/1\u001B[0m \u001B[32m━━━━━━━━━━━━━━━━━━━━\u001B[0m\u001B[37m\u001B[0m \u001B[1m0s\u001B[0m 26ms/step\n",
      "\u001B[1m1/1\u001B[0m \u001B[32m━━━━━━━━━━━━━━━━━━━━\u001B[0m\u001B[37m\u001B[0m \u001B[1m0s\u001B[0m 25ms/step\n",
      "\u001B[1m1/1\u001B[0m \u001B[32m━━━━━━━━━━━━━━━━━━━━\u001B[0m\u001B[37m\u001B[0m \u001B[1m0s\u001B[0m 30ms/step\n",
      "\u001B[1m1/1\u001B[0m \u001B[32m━━━━━━━━━━━━━━━━━━━━\u001B[0m\u001B[37m\u001B[0m \u001B[1m0s\u001B[0m 25ms/step\n",
      "\u001B[1m1/1\u001B[0m \u001B[32m━━━━━━━━━━━━━━━━━━━━\u001B[0m\u001B[37m\u001B[0m \u001B[1m0s\u001B[0m 25ms/step\n",
      "\u001B[1m1/1\u001B[0m \u001B[32m━━━━━━━━━━━━━━━━━━━━\u001B[0m\u001B[37m\u001B[0m \u001B[1m0s\u001B[0m 30ms/step\n",
      "\u001B[1m1/1\u001B[0m \u001B[32m━━━━━━━━━━━━━━━━━━━━\u001B[0m\u001B[37m\u001B[0m \u001B[1m0s\u001B[0m 29ms/step\n",
      "\u001B[1m1/1\u001B[0m \u001B[32m━━━━━━━━━━━━━━━━━━━━\u001B[0m\u001B[37m\u001B[0m \u001B[1m0s\u001B[0m 24ms/step\n",
      "\u001B[1m1/1\u001B[0m \u001B[32m━━━━━━━━━━━━━━━━━━━━\u001B[0m\u001B[37m\u001B[0m \u001B[1m0s\u001B[0m 25ms/step\n",
      "\u001B[1m1/1\u001B[0m \u001B[32m━━━━━━━━━━━━━━━━━━━━\u001B[0m\u001B[37m\u001B[0m \u001B[1m0s\u001B[0m 26ms/step\n",
      "\u001B[1m1/1\u001B[0m \u001B[32m━━━━━━━━━━━━━━━━━━━━\u001B[0m\u001B[37m\u001B[0m \u001B[1m0s\u001B[0m 25ms/step\n",
      "\u001B[1m1/1\u001B[0m \u001B[32m━━━━━━━━━━━━━━━━━━━━\u001B[0m\u001B[37m\u001B[0m \u001B[1m0s\u001B[0m 27ms/step\n",
      "\u001B[1m1/1\u001B[0m \u001B[32m━━━━━━━━━━━━━━━━━━━━\u001B[0m\u001B[37m\u001B[0m \u001B[1m0s\u001B[0m 26ms/step\n",
      "\u001B[1m1/1\u001B[0m \u001B[32m━━━━━━━━━━━━━━━━━━━━\u001B[0m\u001B[37m\u001B[0m \u001B[1m0s\u001B[0m 28ms/step\n",
      "\u001B[1m1/1\u001B[0m \u001B[32m━━━━━━━━━━━━━━━━━━━━\u001B[0m\u001B[37m\u001B[0m \u001B[1m0s\u001B[0m 25ms/step\n",
      "\u001B[1m1/1\u001B[0m \u001B[32m━━━━━━━━━━━━━━━━━━━━\u001B[0m\u001B[37m\u001B[0m \u001B[1m0s\u001B[0m 25ms/step\n",
      "\u001B[1m1/1\u001B[0m \u001B[32m━━━━━━━━━━━━━━━━━━━━\u001B[0m\u001B[37m\u001B[0m \u001B[1m0s\u001B[0m 26ms/step\n",
      "\u001B[1m1/1\u001B[0m \u001B[32m━━━━━━━━━━━━━━━━━━━━\u001B[0m\u001B[37m\u001B[0m \u001B[1m0s\u001B[0m 24ms/step\n",
      "\u001B[1m1/1\u001B[0m \u001B[32m━━━━━━━━━━━━━━━━━━━━\u001B[0m\u001B[37m\u001B[0m \u001B[1m0s\u001B[0m 25ms/step\n",
      "\u001B[1m1/1\u001B[0m \u001B[32m━━━━━━━━━━━━━━━━━━━━\u001B[0m\u001B[37m\u001B[0m \u001B[1m0s\u001B[0m 24ms/step\n",
      "\u001B[1m1/1\u001B[0m \u001B[32m━━━━━━━━━━━━━━━━━━━━\u001B[0m\u001B[37m\u001B[0m \u001B[1m0s\u001B[0m 25ms/step\n",
      "\u001B[1m1/1\u001B[0m \u001B[32m━━━━━━━━━━━━━━━━━━━━\u001B[0m\u001B[37m\u001B[0m \u001B[1m0s\u001B[0m 24ms/step\n",
      "\u001B[1m1/1\u001B[0m \u001B[32m━━━━━━━━━━━━━━━━━━━━\u001B[0m\u001B[37m\u001B[0m \u001B[1m0s\u001B[0m 29ms/step\n",
      "\u001B[1m1/1\u001B[0m \u001B[32m━━━━━━━━━━━━━━━━━━━━\u001B[0m\u001B[37m\u001B[0m \u001B[1m0s\u001B[0m 24ms/step\n",
      "\u001B[1m1/1\u001B[0m \u001B[32m━━━━━━━━━━━━━━━━━━━━\u001B[0m\u001B[37m\u001B[0m \u001B[1m0s\u001B[0m 25ms/step\n",
      "\u001B[1m1/1\u001B[0m \u001B[32m━━━━━━━━━━━━━━━━━━━━\u001B[0m\u001B[37m\u001B[0m \u001B[1m0s\u001B[0m 24ms/step\n",
      "\u001B[1m1/1\u001B[0m \u001B[32m━━━━━━━━━━━━━━━━━━━━\u001B[0m\u001B[37m\u001B[0m \u001B[1m0s\u001B[0m 25ms/step\n",
      "\u001B[1m1/1\u001B[0m \u001B[32m━━━━━━━━━━━━━━━━━━━━\u001B[0m\u001B[37m\u001B[0m \u001B[1m0s\u001B[0m 24ms/step\n",
      "\u001B[1m1/1\u001B[0m \u001B[32m━━━━━━━━━━━━━━━━━━━━\u001B[0m\u001B[37m\u001B[0m \u001B[1m0s\u001B[0m 24ms/step\n",
      "\u001B[1m1/1\u001B[0m \u001B[32m━━━━━━━━━━━━━━━━━━━━\u001B[0m\u001B[37m\u001B[0m \u001B[1m0s\u001B[0m 26ms/step\n",
      "\u001B[1m1/1\u001B[0m \u001B[32m━━━━━━━━━━━━━━━━━━━━\u001B[0m\u001B[37m\u001B[0m \u001B[1m0s\u001B[0m 25ms/step\n",
      "\u001B[1m1/1\u001B[0m \u001B[32m━━━━━━━━━━━━━━━━━━━━\u001B[0m\u001B[37m\u001B[0m \u001B[1m0s\u001B[0m 24ms/step\n"
     ]
    }
   ],
   "source": [
    "matchups = [('7119388', '8261500'), ('8597976', '7119388'), ('8597976', '8261500')] # Spirit vs. Xtreme Gaming, Spirit vs. Talon\n",
    "symmetric_matchups = make_symmetric_matchups(matchups)\n",
    "result = predict_players_for_matchups_lstm(df, model, symmetric_matchups, features, seq_len=SEQ_LEN)"
   ],
   "metadata": {
    "collapsed": false,
    "ExecuteTime": {
     "end_time": "2025-07-26T18:45:09.734773Z",
     "start_time": "2025-07-26T18:45:06.439056600Z"
    }
   },
   "id": "5f390438c5659e0f"
  },
  {
   "cell_type": "code",
   "execution_count": 119,
   "outputs": [
    {
     "data": {
      "text/plain": "   account_id      name  team_id enemy_team_id  predicted_fantasy_score\n0   113331514  Miposhka  7119388       8261500                  14.7918\n1   321580662    Yatoro  7119388       8261500                  14.7918\n2   302214028  Collapse  7119388       8261500                  14.7918\n3   106305042      Larl  7119388       8261500                  14.7918\n4   847565596       rue  7119388       8261500                  14.7918\n5   203351055     Malik  7119388       8261500                  14.7918\n6   137129583        Xm  8261500       7119388                  14.7918\n7   157475523      XinQ  8261500       7119388                  14.7918\n8   129958758       Xxs  8261500       7119388                  14.7918\n9   898754153       Ame  8261500       7119388                  14.7918\n10  138543123       Pyw  8261500       7119388                  14.7918\n11  185908355         楼  8261500       7119388                  14.7918\n12   76904792   poloson  8261500       7119388                  14.7918\n13  145957968       niu  8261500       7119388                  14.7918\n14  158847773  Tianming  8261500       7119388                  14.7918\n15  191597529    Undyne  8261500       7119388                  14.7918\n16  301750126    Mikoto  8597976       7119388                  14.7918\n17  152859296    Jhocam  8597976       7119388                  14.7918\n18  126842529       Ws`  8597976       7119388                  14.7918\n19  375507918  23savage  8597976       7119388                  14.7918\n20  184950344     Kuku^  8597976       7119388                  14.7918\n21  293904640     ponyo  8597976       7119388                  14.7918\n22  355168766   Natsumi  8597976       7119388                  14.7918\n23  113331514  Miposhka  7119388       8597976                  14.7918\n24  321580662    Yatoro  7119388       8597976                  14.7918\n25  302214028  Collapse  7119388       8597976                  14.7918\n26  106305042      Larl  7119388       8597976                  14.7918\n27  847565596       rue  7119388       8597976                  14.7918\n28  203351055     Malik  7119388       8597976                  14.7918\n29  301750126    Mikoto  8597976       8261500                  14.7918\n30  152859296    Jhocam  8597976       8261500                  14.7918\n31  126842529       Ws`  8597976       8261500                  14.7918\n32  375507918  23savage  8597976       8261500                  14.7918\n33  184950344     Kuku^  8597976       8261500                  14.7918\n34  293904640     ponyo  8597976       8261500                  14.7918\n35  355168766   Natsumi  8597976       8261500                  14.7918\n36  137129583        Xm  8261500       8597976                  14.7918\n37  157475523      XinQ  8261500       8597976                  14.7918\n38  129958758       Xxs  8261500       8597976                  14.7918\n39  898754153       Ame  8261500       8597976                  14.7918\n40  138543123       Pyw  8261500       8597976                  14.7918\n41  185908355         楼  8261500       8597976                  14.7918\n42   76904792   poloson  8261500       8597976                  14.7918\n43  145957968       niu  8261500       8597976                  14.7918\n44  158847773  Tianming  8261500       8597976                  14.7918\n45  191597529    Undyne  8261500       8597976                  14.7918",
      "text/html": "<div>\n<style scoped>\n    .dataframe tbody tr th:only-of-type {\n        vertical-align: middle;\n    }\n\n    .dataframe tbody tr th {\n        vertical-align: top;\n    }\n\n    .dataframe thead th {\n        text-align: right;\n    }\n</style>\n<table border=\"1\" class=\"dataframe\">\n  <thead>\n    <tr style=\"text-align: right;\">\n      <th></th>\n      <th>account_id</th>\n      <th>name</th>\n      <th>team_id</th>\n      <th>enemy_team_id</th>\n      <th>predicted_fantasy_score</th>\n    </tr>\n  </thead>\n  <tbody>\n    <tr>\n      <th>0</th>\n      <td>113331514</td>\n      <td>Miposhka</td>\n      <td>7119388</td>\n      <td>8261500</td>\n      <td>14.7918</td>\n    </tr>\n    <tr>\n      <th>1</th>\n      <td>321580662</td>\n      <td>Yatoro</td>\n      <td>7119388</td>\n      <td>8261500</td>\n      <td>14.7918</td>\n    </tr>\n    <tr>\n      <th>2</th>\n      <td>302214028</td>\n      <td>Collapse</td>\n      <td>7119388</td>\n      <td>8261500</td>\n      <td>14.7918</td>\n    </tr>\n    <tr>\n      <th>3</th>\n      <td>106305042</td>\n      <td>Larl</td>\n      <td>7119388</td>\n      <td>8261500</td>\n      <td>14.7918</td>\n    </tr>\n    <tr>\n      <th>4</th>\n      <td>847565596</td>\n      <td>rue</td>\n      <td>7119388</td>\n      <td>8261500</td>\n      <td>14.7918</td>\n    </tr>\n    <tr>\n      <th>5</th>\n      <td>203351055</td>\n      <td>Malik</td>\n      <td>7119388</td>\n      <td>8261500</td>\n      <td>14.7918</td>\n    </tr>\n    <tr>\n      <th>6</th>\n      <td>137129583</td>\n      <td>Xm</td>\n      <td>8261500</td>\n      <td>7119388</td>\n      <td>14.7918</td>\n    </tr>\n    <tr>\n      <th>7</th>\n      <td>157475523</td>\n      <td>XinQ</td>\n      <td>8261500</td>\n      <td>7119388</td>\n      <td>14.7918</td>\n    </tr>\n    <tr>\n      <th>8</th>\n      <td>129958758</td>\n      <td>Xxs</td>\n      <td>8261500</td>\n      <td>7119388</td>\n      <td>14.7918</td>\n    </tr>\n    <tr>\n      <th>9</th>\n      <td>898754153</td>\n      <td>Ame</td>\n      <td>8261500</td>\n      <td>7119388</td>\n      <td>14.7918</td>\n    </tr>\n    <tr>\n      <th>10</th>\n      <td>138543123</td>\n      <td>Pyw</td>\n      <td>8261500</td>\n      <td>7119388</td>\n      <td>14.7918</td>\n    </tr>\n    <tr>\n      <th>11</th>\n      <td>185908355</td>\n      <td>楼</td>\n      <td>8261500</td>\n      <td>7119388</td>\n      <td>14.7918</td>\n    </tr>\n    <tr>\n      <th>12</th>\n      <td>76904792</td>\n      <td>poloson</td>\n      <td>8261500</td>\n      <td>7119388</td>\n      <td>14.7918</td>\n    </tr>\n    <tr>\n      <th>13</th>\n      <td>145957968</td>\n      <td>niu</td>\n      <td>8261500</td>\n      <td>7119388</td>\n      <td>14.7918</td>\n    </tr>\n    <tr>\n      <th>14</th>\n      <td>158847773</td>\n      <td>Tianming</td>\n      <td>8261500</td>\n      <td>7119388</td>\n      <td>14.7918</td>\n    </tr>\n    <tr>\n      <th>15</th>\n      <td>191597529</td>\n      <td>Undyne</td>\n      <td>8261500</td>\n      <td>7119388</td>\n      <td>14.7918</td>\n    </tr>\n    <tr>\n      <th>16</th>\n      <td>301750126</td>\n      <td>Mikoto</td>\n      <td>8597976</td>\n      <td>7119388</td>\n      <td>14.7918</td>\n    </tr>\n    <tr>\n      <th>17</th>\n      <td>152859296</td>\n      <td>Jhocam</td>\n      <td>8597976</td>\n      <td>7119388</td>\n      <td>14.7918</td>\n    </tr>\n    <tr>\n      <th>18</th>\n      <td>126842529</td>\n      <td>Ws`</td>\n      <td>8597976</td>\n      <td>7119388</td>\n      <td>14.7918</td>\n    </tr>\n    <tr>\n      <th>19</th>\n      <td>375507918</td>\n      <td>23savage</td>\n      <td>8597976</td>\n      <td>7119388</td>\n      <td>14.7918</td>\n    </tr>\n    <tr>\n      <th>20</th>\n      <td>184950344</td>\n      <td>Kuku^</td>\n      <td>8597976</td>\n      <td>7119388</td>\n      <td>14.7918</td>\n    </tr>\n    <tr>\n      <th>21</th>\n      <td>293904640</td>\n      <td>ponyo</td>\n      <td>8597976</td>\n      <td>7119388</td>\n      <td>14.7918</td>\n    </tr>\n    <tr>\n      <th>22</th>\n      <td>355168766</td>\n      <td>Natsumi</td>\n      <td>8597976</td>\n      <td>7119388</td>\n      <td>14.7918</td>\n    </tr>\n    <tr>\n      <th>23</th>\n      <td>113331514</td>\n      <td>Miposhka</td>\n      <td>7119388</td>\n      <td>8597976</td>\n      <td>14.7918</td>\n    </tr>\n    <tr>\n      <th>24</th>\n      <td>321580662</td>\n      <td>Yatoro</td>\n      <td>7119388</td>\n      <td>8597976</td>\n      <td>14.7918</td>\n    </tr>\n    <tr>\n      <th>25</th>\n      <td>302214028</td>\n      <td>Collapse</td>\n      <td>7119388</td>\n      <td>8597976</td>\n      <td>14.7918</td>\n    </tr>\n    <tr>\n      <th>26</th>\n      <td>106305042</td>\n      <td>Larl</td>\n      <td>7119388</td>\n      <td>8597976</td>\n      <td>14.7918</td>\n    </tr>\n    <tr>\n      <th>27</th>\n      <td>847565596</td>\n      <td>rue</td>\n      <td>7119388</td>\n      <td>8597976</td>\n      <td>14.7918</td>\n    </tr>\n    <tr>\n      <th>28</th>\n      <td>203351055</td>\n      <td>Malik</td>\n      <td>7119388</td>\n      <td>8597976</td>\n      <td>14.7918</td>\n    </tr>\n    <tr>\n      <th>29</th>\n      <td>301750126</td>\n      <td>Mikoto</td>\n      <td>8597976</td>\n      <td>8261500</td>\n      <td>14.7918</td>\n    </tr>\n    <tr>\n      <th>30</th>\n      <td>152859296</td>\n      <td>Jhocam</td>\n      <td>8597976</td>\n      <td>8261500</td>\n      <td>14.7918</td>\n    </tr>\n    <tr>\n      <th>31</th>\n      <td>126842529</td>\n      <td>Ws`</td>\n      <td>8597976</td>\n      <td>8261500</td>\n      <td>14.7918</td>\n    </tr>\n    <tr>\n      <th>32</th>\n      <td>375507918</td>\n      <td>23savage</td>\n      <td>8597976</td>\n      <td>8261500</td>\n      <td>14.7918</td>\n    </tr>\n    <tr>\n      <th>33</th>\n      <td>184950344</td>\n      <td>Kuku^</td>\n      <td>8597976</td>\n      <td>8261500</td>\n      <td>14.7918</td>\n    </tr>\n    <tr>\n      <th>34</th>\n      <td>293904640</td>\n      <td>ponyo</td>\n      <td>8597976</td>\n      <td>8261500</td>\n      <td>14.7918</td>\n    </tr>\n    <tr>\n      <th>35</th>\n      <td>355168766</td>\n      <td>Natsumi</td>\n      <td>8597976</td>\n      <td>8261500</td>\n      <td>14.7918</td>\n    </tr>\n    <tr>\n      <th>36</th>\n      <td>137129583</td>\n      <td>Xm</td>\n      <td>8261500</td>\n      <td>8597976</td>\n      <td>14.7918</td>\n    </tr>\n    <tr>\n      <th>37</th>\n      <td>157475523</td>\n      <td>XinQ</td>\n      <td>8261500</td>\n      <td>8597976</td>\n      <td>14.7918</td>\n    </tr>\n    <tr>\n      <th>38</th>\n      <td>129958758</td>\n      <td>Xxs</td>\n      <td>8261500</td>\n      <td>8597976</td>\n      <td>14.7918</td>\n    </tr>\n    <tr>\n      <th>39</th>\n      <td>898754153</td>\n      <td>Ame</td>\n      <td>8261500</td>\n      <td>8597976</td>\n      <td>14.7918</td>\n    </tr>\n    <tr>\n      <th>40</th>\n      <td>138543123</td>\n      <td>Pyw</td>\n      <td>8261500</td>\n      <td>8597976</td>\n      <td>14.7918</td>\n    </tr>\n    <tr>\n      <th>41</th>\n      <td>185908355</td>\n      <td>楼</td>\n      <td>8261500</td>\n      <td>8597976</td>\n      <td>14.7918</td>\n    </tr>\n    <tr>\n      <th>42</th>\n      <td>76904792</td>\n      <td>poloson</td>\n      <td>8261500</td>\n      <td>8597976</td>\n      <td>14.7918</td>\n    </tr>\n    <tr>\n      <th>43</th>\n      <td>145957968</td>\n      <td>niu</td>\n      <td>8261500</td>\n      <td>8597976</td>\n      <td>14.7918</td>\n    </tr>\n    <tr>\n      <th>44</th>\n      <td>158847773</td>\n      <td>Tianming</td>\n      <td>8261500</td>\n      <td>8597976</td>\n      <td>14.7918</td>\n    </tr>\n    <tr>\n      <th>45</th>\n      <td>191597529</td>\n      <td>Undyne</td>\n      <td>8261500</td>\n      <td>8597976</td>\n      <td>14.7918</td>\n    </tr>\n  </tbody>\n</table>\n</div>"
     },
     "execution_count": 119,
     "metadata": {},
     "output_type": "execute_result"
    }
   ],
   "source": [
    "result"
   ],
   "metadata": {
    "collapsed": false,
    "ExecuteTime": {
     "end_time": "2025-07-26T18:46:34.054292700Z",
     "start_time": "2025-07-26T18:46:33.985085700Z"
    }
   },
   "id": "51257cf979188e04"
  },
  {
   "cell_type": "code",
   "execution_count": 120,
   "outputs": [
    {
     "name": "stdout",
     "output_type": "stream",
     "text": [
      "[[7.75108408e+06 4.99938688e-01 7.01182517e+02 4.99515831e-01\n",
      "  3.99935614e+00 2.93183958e+00 1.77812931e+02 6.27790807e+00\n",
      "  1.71484529e+02 1.76007563e+00 5.41532861e-01 1.51123340e-01\n",
      "  4.93938353e+00 2.69908967e+00 4.90468394e+00 3.08650973e-01\n",
      "  3.83221563e+01 1.06700209e+01 6.99049054e+00 2.05986508e+02\n",
      "  2.20934171e-01 1.01445966e+02 1.09258207e+02 1.37424343e+02]\n",
      " [7.77068946e+06 4.99938688e-01 6.59718831e+02 4.98847433e-01\n",
      "  3.90623602e+00 2.96848199e+00 1.74469369e+02 6.26600488e+00\n",
      "  1.73097451e+02 1.71827227e+00 5.15881923e-01 1.49930088e-01\n",
      "  4.61615761e+00 2.83049211e+00 5.04078504e+00 2.77785535e-01\n",
      "  3.51064812e+01 1.10269735e+01 7.06258561e+00 2.05013026e+02\n",
      "  2.20610238e-01 1.01861630e+02 1.07308649e+02 1.40304167e+02]\n",
      " [7.76958785e+06 4.99829669e-01 6.60509630e+02 4.99913104e-01\n",
      "  3.90659304e+00 3.03205700e+00 1.79370666e+02 6.22060949e+00\n",
      "  1.70954976e+02 1.67941596e+00 5.13266694e-01 1.57030706e-01\n",
      "  4.73511376e+00 2.59309004e+00 4.68310321e+00 2.87576233e-01\n",
      "  3.68128265e+01 9.85128088e+00 6.79512769e+00 1.98243247e+02\n",
      "  2.21295908e-01 1.01183283e+02 1.05035721e+02 1.35980213e+02]\n",
      " [7.77806569e+06 4.99866382e-01 6.74756514e+02 4.98897594e-01\n",
      "  4.08714240e+00 2.97628977e+00 1.84401884e+02 6.39229722e+00\n",
      "  1.77304621e+02 1.80816946e+00 5.59830705e-01 1.49319278e-01\n",
      "  4.73965659e+00 2.55364595e+00 4.85635707e+00 2.90732121e-01\n",
      "  3.69907097e+01 9.70556697e+00 6.94824607e+00 2.11466753e+02\n",
      "  2.16337428e-01 1.00361801e+02 1.04540664e+02 1.34693297e+02]\n",
      " [7.78288818e+06 4.99938688e-01 6.56738835e+02 4.99666098e-01\n",
      "  4.07598283e+00 2.98343171e+00 1.76011008e+02 6.12484422e+00\n",
      "  1.73253151e+02 1.51989273e+00 4.88831240e-01 1.51230343e-01\n",
      "  4.57000761e+00 2.57896611e+00 4.83313036e+00 3.08650973e-01\n",
      "  3.62229991e+01 9.89238951e+00 6.43874467e+00 2.05889540e+02\n",
      "  2.17916169e-01 1.00691562e+02 1.06263860e+02 1.36698152e+02]\n",
      " [7.75989203e+06 4.99998749e-01 6.97168640e+02 4.99968719e-01\n",
      "  3.83296817e+00 3.03669024e+00 1.89230070e+02 6.31743686e+00\n",
      "  1.75409263e+02 1.64961912e+00 5.05404728e-01 1.41011354e-01\n",
      "  4.64944670e+00 2.84745517e+00 4.78280255e+00 3.05778358e-01\n",
      "  3.43943040e+01 1.14287315e+01 6.81661685e+00 2.04538217e+02\n",
      "  2.19052541e-01 1.01132861e+02 1.07592324e+02 1.38698623e+02]\n",
      " [7.78637186e+06 4.99999861e-01 7.08711031e+02 4.99949811e-01\n",
      "  4.03763903e+00 3.16825197e+00 1.85190912e+02 6.39864736e+00\n",
      "  1.74687318e+02 1.71632291e+00 5.09943904e-01 1.47930725e-01\n",
      "  4.77668609e+00 2.75140684e+00 4.86259004e+00 3.01879902e-01\n",
      "  3.86235692e+01 1.07567589e+01 6.98035581e+00 2.12015552e+02\n",
      "  2.17856381e-01 1.00558788e+02 1.10623747e+02 1.39183331e+02]\n",
      " [7.77269479e+06 4.99968719e-01 6.63260309e+02 4.99829669e-01\n",
      "  3.99567826e+00 3.06182746e+00 1.83013384e+02 6.00471163e+00\n",
      "  1.76818612e+02 1.77495440e+00 5.12329758e-01 1.45962819e-01\n",
      "  4.84961756e+00 2.62834392e+00 4.84631818e+00 2.95879564e-01\n",
      "  3.79157101e+01 9.92500494e+00 6.65007779e+00 2.07173161e+02\n",
      "  2.20893301e-01 1.00151157e+02 1.08859297e+02 1.36244177e+02]\n",
      " [7.74960449e+06 4.99412288e-01 6.94000843e+02 4.98690230e-01\n",
      "  4.05495999e+00 3.07314159e+00 1.83096471e+02 6.36866463e+00\n",
      "  1.76685552e+02 1.72874768e+00 5.37031845e-01 1.45161451e-01\n",
      "  4.76568507e+00 2.60926420e+00 5.07572691e+00 3.01879902e-01\n",
      "  3.51493365e+01 1.00739831e+01 7.06620115e+00 2.05902842e+02\n",
      "  2.19196754e-01 1.00088212e+02 1.06706566e+02 1.35944931e+02]\n",
      " [7.76157172e+06 4.99999861e-01 6.98838780e+02 4.99938688e-01\n",
      "  3.89404833e+00 3.12930391e+00 1.78118660e+02 6.29610341e+00\n",
      "  1.71372846e+02 1.74797188e+00 4.94675340e-01 1.49240546e-01\n",
      "  4.91947795e+00 2.81345406e+00 4.75180635e+00 3.09598996e-01\n",
      "  3.56188477e+01 1.10967282e+01 7.13937581e+00 2.00918190e+02\n",
      "  2.17814530e-01 1.00192588e+02 1.06727913e+02 1.38400006e+02]]\n"
     ]
    }
   ],
   "source": [
    "#print(np.std(X_test, axis=0)) "
   ],
   "metadata": {
    "collapsed": false,
    "ExecuteTime": {
     "end_time": "2025-07-26T18:48:30.228265900Z",
     "start_time": "2025-07-26T18:48:30.163873900Z"
    }
   },
   "id": "7c4b21a71ee6479c"
  },
  {
   "cell_type": "code",
   "execution_count": 121,
   "outputs": [
    {
     "name": "stdout",
     "output_type": "stream",
     "text": [
      "4.911157654332858\n"
     ]
    }
   ],
   "source": [
    "print(np.std(y_train))"
   ],
   "metadata": {
    "collapsed": false,
    "ExecuteTime": {
     "end_time": "2025-07-26T18:48:58.437482800Z",
     "start_time": "2025-07-26T18:48:58.391291700Z"
    }
   },
   "id": "f1e04ffe29648731"
  },
  {
   "cell_type": "code",
   "execution_count": null,
   "outputs": [],
   "source": [],
   "metadata": {
    "collapsed": false
   },
   "id": "1894d6c5a83abef2"
  }
 ],
 "metadata": {
  "kernelspec": {
   "name": "tf",
   "language": "python",
   "display_name": "Python (tf)"
  },
  "language_info": {
   "codemirror_mode": {
    "name": "ipython",
    "version": 2
   },
   "file_extension": ".py",
   "mimetype": "text/x-python",
   "name": "python",
   "nbconvert_exporter": "python",
   "pygments_lexer": "ipython2",
   "version": "2.7.6"
  }
 },
 "nbformat": 4,
 "nbformat_minor": 5
}
