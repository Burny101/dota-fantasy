{
 "cells": [
  {
   "cell_type": "markdown",
   "id": "3bfceed6",
   "metadata": {},
   "source": [
    "# General Setup"
   ]
  },
  {
   "cell_type": "code",
   "execution_count": 50,
   "id": "5b4b4831",
   "metadata": {
    "ExecuteTime": {
     "end_time": "2025-07-29T14:45:21.117720Z",
     "start_time": "2025-07-29T14:45:21.052637200Z"
    }
   },
   "outputs": [],
   "source": [
    "import json\n",
    "import pandas as pd\n",
    "import subprocess\n",
    "import os"
   ]
  },
  {
   "cell_type": "code",
   "execution_count": 51,
   "id": "e77e2421",
   "metadata": {
    "ExecuteTime": {
     "end_time": "2025-07-29T14:45:21.438978700Z",
     "start_time": "2025-07-29T14:45:21.117720Z"
    }
   },
   "outputs": [],
   "source": [
    "with open('data/curated/player_data.json', 'r') as f:\n",
    "\tplayer_data = json.load(f)"
   ]
  },
  {
   "cell_type": "code",
   "execution_count": 52,
   "id": "8cd004cf",
   "metadata": {
    "ExecuteTime": {
     "end_time": "2025-07-29T14:45:21.633012300Z",
     "start_time": "2025-07-29T14:45:21.441981100Z"
    }
   },
   "outputs": [],
   "source": [
    "df = pd.DataFrame(player_data)"
   ]
  },
  {
   "cell_type": "code",
   "execution_count": 53,
   "id": "8155a30a",
   "metadata": {
    "ExecuteTime": {
     "end_time": "2025-07-29T14:45:21.644612300Z",
     "start_time": "2025-07-29T14:45:21.591124200Z"
    }
   },
   "outputs": [
    {
     "name": "stdout",
     "output_type": "stream",
     "text": [
      "<class 'pandas.core.frame.DataFrame'>\n",
      "Index: 15437 entries, 14216 to 10673\n",
      "Data columns (total 46 columns):\n",
      " #   Column                    Non-Null Count  Dtype  \n",
      "---  ------                    --------------  -----  \n",
      " 0   match_id                  15437 non-null  int64  \n",
      " 1   match_start_time          15437 non-null  int64  \n",
      " 2   account_id                15437 non-null  int64  \n",
      " 3   name                      15437 non-null  object \n",
      " 4   fantasy_role              15437 non-null  object \n",
      " 5   hero_id                   15437 non-null  int64  \n",
      " 6   hero_variant              15437 non-null  object \n",
      " 7   isRadiant                 15437 non-null  bool   \n",
      " 8   radiant_team_id           15437 non-null  int64  \n",
      " 9   dire_team_id              15437 non-null  int64  \n",
      " 10  tournament_start_date     15437 non-null  object \n",
      " 11  duration                  15437 non-null  int64  \n",
      " 12  win                       15437 non-null  int64  \n",
      " 13  kills                     15437 non-null  int64  \n",
      " 14  deaths                    15437 non-null  int64  \n",
      " 15  last_hits                 15437 non-null  int64  \n",
      " 16  denies                    15437 non-null  int64  \n",
      " 17  gold_per_min              15437 non-null  int64  \n",
      " 18  towers_killed             15437 non-null  int64  \n",
      " 19  roshans_killed            15437 non-null  int64  \n",
      " 20  teamfight_participation   15437 non-null  float64\n",
      " 21  obs_placed                15437 non-null  int64  \n",
      " 22  camps_stacked             15437 non-null  int64  \n",
      " 23  rune_pickups              15437 non-null  int64  \n",
      " 24  firstblood_claimed        15437 non-null  int64  \n",
      " 25  stuns                     15437 non-null  float64\n",
      " 26  creeps_stacked            15437 non-null  int64  \n",
      " 27  assists                   15437 non-null  int64  \n",
      " 28  xp_per_min                15437 non-null  int64  \n",
      " 29  lane_efficiency           15417 non-null  float64\n",
      " 30  team_id                   15437 non-null  object \n",
      " 31  enemy_team_id             15437 non-null  object \n",
      " 32  teamName                  14094 non-null  object \n",
      " 33  valveId                   14094 non-null  object \n",
      " 34  glicko2_rating            14094 non-null  float64\n",
      " 35  enemy_teamName            14034 non-null  object \n",
      " 36  enemy_valveId             14034 non-null  object \n",
      " 37  enemy_glicko2_rating      14034 non-null  float64\n",
      " 38  fantasy_score             15437 non-null  float64\n",
      " 39  rating_advantage          12741 non-null  float64\n",
      " 40  rolling_winrate_10        15226 non-null  float64\n",
      " 41  rolling_winrate_15        15226 non-null  float64\n",
      " 42  rolling_fantasy_score_10  15226 non-null  float64\n",
      " 43  rolling_fantasy_score_15  15226 non-null  float64\n",
      " 44  rolling_enemy_glicko2_10  15202 non-null  float64\n",
      " 45  rolling_enemy_glicko2_15  15202 non-null  float64\n",
      "dtypes: bool(1), float64(13), int64(22), object(10)\n",
      "memory usage: 5.4+ MB\n"
     ]
    }
   ],
   "source": [
    "df.info()"
   ]
  },
  {
   "cell_type": "code",
   "execution_count": 54,
   "id": "ebd8a4b9",
   "metadata": {
    "ExecuteTime": {
     "end_time": "2025-07-29T14:45:21.693095200Z",
     "start_time": "2025-07-29T14:45:21.622403Z"
    }
   },
   "outputs": [],
   "source": [
    "df = df.astype({\n",
    "    'match_id': 'string',\n",
    "    'account_id': 'string',\n",
    "    'hero_id': 'string',\n",
    "    'radiant_team_id': 'string',\n",
    "    'dire_team_id': 'string',\n",
    "    'win': 'boolean',\n",
    "    'firstblood_claimed': 'boolean',\n",
    "    'team_id': 'string',\n",
    "\t'enemy_team_id': 'string',\n",
    "    'valveId': 'string',\n",
    "})"
   ]
  },
  {
   "cell_type": "markdown",
   "source": [
    "## Set missing glicko scores to the first quartile\n",
    "*Using the \"..._clean\" data set, this does not affect anything.*\n",
    "Q1 was chosen, because teams that do not have a glicko 2 rating, usually are new or weaker teams."
   ],
   "metadata": {
    "collapsed": false
   },
   "id": "5addb65d4071ced2"
  },
  {
   "cell_type": "code",
   "execution_count": 55,
   "outputs": [],
   "source": [
    "q1_glicko = df['glicko2_rating'].quantile(0.25)\n",
    "df['glicko2_rating'] = df['glicko2_rating'].fillna(q1_glicko)\n",
    "q1_enemy_glicko = df['enemy_glicko2_rating'].quantile(0.25)\n",
    "df['enemy_glicko2_rating'] = df['enemy_glicko2_rating'].fillna(q1_enemy_glicko)"
   ],
   "metadata": {
    "collapsed": false,
    "ExecuteTime": {
     "end_time": "2025-07-29T14:45:21.705625300Z",
     "start_time": "2025-07-29T14:45:21.657013200Z"
    }
   },
   "id": "fca2104a1757eea7"
  },
  {
   "cell_type": "code",
   "execution_count": 56,
   "outputs": [],
   "source": [
    "mask = df['rating_advantage'].isna()\n",
    "df.loc[mask, 'rating_advantage'] = df.loc[mask, 'glicko2_rating'] - df.loc[mask, 'enemy_glicko2_rating']"
   ],
   "metadata": {
    "collapsed": false,
    "ExecuteTime": {
     "end_time": "2025-07-29T14:45:21.705625300Z",
     "start_time": "2025-07-29T14:45:21.669322100Z"
    }
   },
   "id": "c673c6cf0f640d1b"
  },
  {
   "cell_type": "code",
   "execution_count": 57,
   "id": "b7c5804b",
   "metadata": {
    "ExecuteTime": {
     "end_time": "2025-07-29T14:45:21.705625300Z",
     "start_time": "2025-07-29T14:45:21.682854700Z"
    }
   },
   "outputs": [
    {
     "name": "stdout",
     "output_type": "stream",
     "text": [
      "<class 'pandas.core.frame.DataFrame'>\n",
      "Index: 15437 entries, 14216 to 10673\n",
      "Data columns (total 46 columns):\n",
      " #   Column                    Non-Null Count  Dtype  \n",
      "---  ------                    --------------  -----  \n",
      " 0   match_id                  15437 non-null  string \n",
      " 1   match_start_time          15437 non-null  int64  \n",
      " 2   account_id                15437 non-null  string \n",
      " 3   name                      15437 non-null  object \n",
      " 4   fantasy_role              15437 non-null  object \n",
      " 5   hero_id                   15437 non-null  string \n",
      " 6   hero_variant              15437 non-null  object \n",
      " 7   isRadiant                 15437 non-null  bool   \n",
      " 8   radiant_team_id           15437 non-null  string \n",
      " 9   dire_team_id              15437 non-null  string \n",
      " 10  tournament_start_date     15437 non-null  object \n",
      " 11  duration                  15437 non-null  int64  \n",
      " 12  win                       15437 non-null  boolean\n",
      " 13  kills                     15437 non-null  int64  \n",
      " 14  deaths                    15437 non-null  int64  \n",
      " 15  last_hits                 15437 non-null  int64  \n",
      " 16  denies                    15437 non-null  int64  \n",
      " 17  gold_per_min              15437 non-null  int64  \n",
      " 18  towers_killed             15437 non-null  int64  \n",
      " 19  roshans_killed            15437 non-null  int64  \n",
      " 20  teamfight_participation   15437 non-null  float64\n",
      " 21  obs_placed                15437 non-null  int64  \n",
      " 22  camps_stacked             15437 non-null  int64  \n",
      " 23  rune_pickups              15437 non-null  int64  \n",
      " 24  firstblood_claimed        15437 non-null  boolean\n",
      " 25  stuns                     15437 non-null  float64\n",
      " 26  creeps_stacked            15437 non-null  int64  \n",
      " 27  assists                   15437 non-null  int64  \n",
      " 28  xp_per_min                15437 non-null  int64  \n",
      " 29  lane_efficiency           15417 non-null  float64\n",
      " 30  team_id                   15437 non-null  string \n",
      " 31  enemy_team_id             15437 non-null  string \n",
      " 32  teamName                  14094 non-null  object \n",
      " 33  valveId                   14094 non-null  string \n",
      " 34  glicko2_rating            15437 non-null  float64\n",
      " 35  enemy_teamName            14034 non-null  object \n",
      " 36  enemy_valveId             14034 non-null  object \n",
      " 37  enemy_glicko2_rating      15437 non-null  float64\n",
      " 38  fantasy_score             15437 non-null  float64\n",
      " 39  rating_advantage          15437 non-null  float64\n",
      " 40  rolling_winrate_10        15226 non-null  float64\n",
      " 41  rolling_winrate_15        15226 non-null  float64\n",
      " 42  rolling_fantasy_score_10  15226 non-null  float64\n",
      " 43  rolling_fantasy_score_15  15226 non-null  float64\n",
      " 44  rolling_enemy_glicko2_10  15202 non-null  float64\n",
      " 45  rolling_enemy_glicko2_15  15202 non-null  float64\n",
      "dtypes: bool(1), boolean(2), float64(13), int64(15), object(7), string(8)\n",
      "memory usage: 5.3+ MB\n"
     ]
    }
   ],
   "source": [
    "df.info()"
   ]
  },
  {
   "cell_type": "code",
   "execution_count": 57,
   "outputs": [],
   "source": [],
   "metadata": {
    "collapsed": false,
    "ExecuteTime": {
     "end_time": "2025-07-29T14:45:21.736038400Z",
     "start_time": "2025-07-29T14:45:21.705625300Z"
    }
   },
   "id": "4d868de311f53772"
  },
  {
   "cell_type": "markdown",
   "id": "a01a35e4",
   "metadata": {},
   "source": [
    "# XGBoost\n",
    "Without time dimension."
   ]
  },
  {
   "cell_type": "code",
   "execution_count": 58,
   "id": "b201be52",
   "metadata": {
    "ExecuteTime": {
     "end_time": "2025-07-29T14:45:21.778415800Z",
     "start_time": "2025-07-29T14:45:21.713241500Z"
    }
   },
   "outputs": [],
   "source": [
    "import xgboost as xgb\n",
    "from sklearn.model_selection import train_test_split\n",
    "from sklearn.metrics import root_mean_squared_error\n"
   ]
  },
  {
   "cell_type": "code",
   "execution_count": 59,
   "outputs": [],
   "source": [
    "enemy_team_avg = df.groupby('enemy_team_id')['fantasy_score'].mean().rename('enemy_avg_fantasy_score')\n",
    "df = df.merge(enemy_team_avg, left_on='enemy_team_id', right_index=True, how='left')"
   ],
   "metadata": {
    "collapsed": false,
    "ExecuteTime": {
     "end_time": "2025-07-29T14:45:21.802224400Z",
     "start_time": "2025-07-29T14:45:21.717826300Z"
    }
   },
   "id": "975784f9146654d3"
  },
  {
   "cell_type": "code",
   "execution_count": 60,
   "id": "b3eaed14",
   "metadata": {
    "ExecuteTime": {
     "end_time": "2025-07-29T14:45:21.802224400Z",
     "start_time": "2025-07-29T14:45:21.752710500Z"
    }
   },
   "outputs": [],
   "source": [
    "not_features = [\n",
    "\t'match_id', 'name', 'match_start_time', 'radiant_team_id', 'dire_team_id',\n",
    "\t'tournament_start_date', 'teamName', 'valveId', 'enemy_teamName', 'enemy_valveId', 'fantasy_score',\n",
    "    'rolling_winrate_10',\n",
    "    'rolling_winrate_15',\n",
    "    'rolling_fantasy_score_10',\n",
    "    'rolling_fantasy_score_15',\n",
    "    'rolling_enemy_glicko2_10',\n",
    "    'rolling_enemy_glicko2_15',\n",
    "]"
   ]
  },
  {
   "cell_type": "code",
   "execution_count": 61,
   "outputs": [],
   "source": [
    "not_features_fe = [\n",
    "    'match_id', 'name', 'match_start_time', 'radiant_team_id', 'dire_team_id',\n",
    "    'tournament_start_date', 'teamName', 'valveId', 'enemy_teamName', 'enemy_valveId', 'fantasy_score', \n",
    "]"
   ],
   "metadata": {
    "collapsed": false,
    "ExecuteTime": {
     "end_time": "2025-07-29T14:45:21.802744800Z",
     "start_time": "2025-07-29T14:45:21.754148Z"
    }
   },
   "id": "2a7cf6bec73b7141"
  },
  {
   "cell_type": "markdown",
   "source": [
    "# XHBoost without feature engineering"
   ],
   "metadata": {
    "collapsed": false
   },
   "id": "1a1acea112c6ccf"
  },
  {
   "cell_type": "code",
   "execution_count": 62,
   "id": "cc6ee6ae",
   "metadata": {
    "ExecuteTime": {
     "end_time": "2025-07-29T14:45:21.802835500Z",
     "start_time": "2025-07-29T14:45:21.762711300Z"
    }
   },
   "outputs": [],
   "source": [
    "X = df.drop(columns=not_features)\n",
    "y = df['fantasy_score']"
   ]
  },
  {
   "cell_type": "code",
   "execution_count": 63,
   "id": "c0d6f1cc",
   "metadata": {
    "ExecuteTime": {
     "end_time": "2025-07-29T14:45:21.857216600Z",
     "start_time": "2025-07-29T14:45:21.772891Z"
    }
   },
   "outputs": [],
   "source": [
    "X = pd.get_dummies(X, columns=['fantasy_role', 'hero_id', 'hero_variant', 'account_id', 'team_id', 'enemy_team_id'])\n"
   ]
  },
  {
   "cell_type": "code",
   "execution_count": 64,
   "id": "e56d3bf6",
   "metadata": {
    "ExecuteTime": {
     "end_time": "2025-07-29T14:45:21.924575300Z",
     "start_time": "2025-07-29T14:45:21.848618700Z"
    }
   },
   "outputs": [],
   "source": [
    "X_train, X_test, y_train, y_test = train_test_split(X, y, test_size=0.20, random_state=1001)\n"
   ]
  },
  {
   "cell_type": "code",
   "execution_count": 65,
   "id": "1cdb3815",
   "metadata": {
    "ExecuteTime": {
     "end_time": "2025-07-29T14:45:23.415281200Z",
     "start_time": "2025-07-29T14:45:21.923442500Z"
    }
   },
   "outputs": [
    {
     "data": {
      "text/plain": "XGBRegressor(base_score=None, booster=None, callbacks=None,\n             colsample_bylevel=None, colsample_bynode=None,\n             colsample_bytree=None, device=None, early_stopping_rounds=None,\n             enable_categorical=False, eval_metric=None, feature_types=None,\n             feature_weights=None, gamma=None, grow_policy=None,\n             importance_type=None, interaction_constraints=None,\n             learning_rate=None, max_bin=None, max_cat_threshold=None,\n             max_cat_to_onehot=None, max_delta_step=None, max_depth=None,\n             max_leaves=None, min_child_weight=None, missing=nan,\n             monotone_constraints=None, multi_strategy=None, n_estimators=None,\n             n_jobs=None, num_parallel_tree=None, ...)",
      "text/html": "<style>#sk-container-id-4 {\n  /* Definition of color scheme common for light and dark mode */\n  --sklearn-color-text: #000;\n  --sklearn-color-text-muted: #666;\n  --sklearn-color-line: gray;\n  /* Definition of color scheme for unfitted estimators */\n  --sklearn-color-unfitted-level-0: #fff5e6;\n  --sklearn-color-unfitted-level-1: #f6e4d2;\n  --sklearn-color-unfitted-level-2: #ffe0b3;\n  --sklearn-color-unfitted-level-3: chocolate;\n  /* Definition of color scheme for fitted estimators */\n  --sklearn-color-fitted-level-0: #f0f8ff;\n  --sklearn-color-fitted-level-1: #d4ebff;\n  --sklearn-color-fitted-level-2: #b3dbfd;\n  --sklearn-color-fitted-level-3: cornflowerblue;\n\n  /* Specific color for light theme */\n  --sklearn-color-text-on-default-background: var(--sg-text-color, var(--theme-code-foreground, var(--jp-content-font-color1, black)));\n  --sklearn-color-background: var(--sg-background-color, var(--theme-background, var(--jp-layout-color0, white)));\n  --sklearn-color-border-box: var(--sg-text-color, var(--theme-code-foreground, var(--jp-content-font-color1, black)));\n  --sklearn-color-icon: #696969;\n\n  @media (prefers-color-scheme: dark) {\n    /* Redefinition of color scheme for dark theme */\n    --sklearn-color-text-on-default-background: var(--sg-text-color, var(--theme-code-foreground, var(--jp-content-font-color1, white)));\n    --sklearn-color-background: var(--sg-background-color, var(--theme-background, var(--jp-layout-color0, #111)));\n    --sklearn-color-border-box: var(--sg-text-color, var(--theme-code-foreground, var(--jp-content-font-color1, white)));\n    --sklearn-color-icon: #878787;\n  }\n}\n\n#sk-container-id-4 {\n  color: var(--sklearn-color-text);\n}\n\n#sk-container-id-4 pre {\n  padding: 0;\n}\n\n#sk-container-id-4 input.sk-hidden--visually {\n  border: 0;\n  clip: rect(1px 1px 1px 1px);\n  clip: rect(1px, 1px, 1px, 1px);\n  height: 1px;\n  margin: -1px;\n  overflow: hidden;\n  padding: 0;\n  position: absolute;\n  width: 1px;\n}\n\n#sk-container-id-4 div.sk-dashed-wrapped {\n  border: 1px dashed var(--sklearn-color-line);\n  margin: 0 0.4em 0.5em 0.4em;\n  box-sizing: border-box;\n  padding-bottom: 0.4em;\n  background-color: var(--sklearn-color-background);\n}\n\n#sk-container-id-4 div.sk-container {\n  /* jupyter's `normalize.less` sets `[hidden] { display: none; }`\n     but bootstrap.min.css set `[hidden] { display: none !important; }`\n     so we also need the `!important` here to be able to override the\n     default hidden behavior on the sphinx rendered scikit-learn.org.\n     See: https://github.com/scikit-learn/scikit-learn/issues/21755 */\n  display: inline-block !important;\n  position: relative;\n}\n\n#sk-container-id-4 div.sk-text-repr-fallback {\n  display: none;\n}\n\ndiv.sk-parallel-item,\ndiv.sk-serial,\ndiv.sk-item {\n  /* draw centered vertical line to link estimators */\n  background-image: linear-gradient(var(--sklearn-color-text-on-default-background), var(--sklearn-color-text-on-default-background));\n  background-size: 2px 100%;\n  background-repeat: no-repeat;\n  background-position: center center;\n}\n\n/* Parallel-specific style estimator block */\n\n#sk-container-id-4 div.sk-parallel-item::after {\n  content: \"\";\n  width: 100%;\n  border-bottom: 2px solid var(--sklearn-color-text-on-default-background);\n  flex-grow: 1;\n}\n\n#sk-container-id-4 div.sk-parallel {\n  display: flex;\n  align-items: stretch;\n  justify-content: center;\n  background-color: var(--sklearn-color-background);\n  position: relative;\n}\n\n#sk-container-id-4 div.sk-parallel-item {\n  display: flex;\n  flex-direction: column;\n}\n\n#sk-container-id-4 div.sk-parallel-item:first-child::after {\n  align-self: flex-end;\n  width: 50%;\n}\n\n#sk-container-id-4 div.sk-parallel-item:last-child::after {\n  align-self: flex-start;\n  width: 50%;\n}\n\n#sk-container-id-4 div.sk-parallel-item:only-child::after {\n  width: 0;\n}\n\n/* Serial-specific style estimator block */\n\n#sk-container-id-4 div.sk-serial {\n  display: flex;\n  flex-direction: column;\n  align-items: center;\n  background-color: var(--sklearn-color-background);\n  padding-right: 1em;\n  padding-left: 1em;\n}\n\n\n/* Toggleable style: style used for estimator/Pipeline/ColumnTransformer box that is\nclickable and can be expanded/collapsed.\n- Pipeline and ColumnTransformer use this feature and define the default style\n- Estimators will overwrite some part of the style using the `sk-estimator` class\n*/\n\n/* Pipeline and ColumnTransformer style (default) */\n\n#sk-container-id-4 div.sk-toggleable {\n  /* Default theme specific background. It is overwritten whether we have a\n  specific estimator or a Pipeline/ColumnTransformer */\n  background-color: var(--sklearn-color-background);\n}\n\n/* Toggleable label */\n#sk-container-id-4 label.sk-toggleable__label {\n  cursor: pointer;\n  display: flex;\n  width: 100%;\n  margin-bottom: 0;\n  padding: 0.5em;\n  box-sizing: border-box;\n  text-align: center;\n  align-items: start;\n  justify-content: space-between;\n  gap: 0.5em;\n}\n\n#sk-container-id-4 label.sk-toggleable__label .caption {\n  font-size: 0.6rem;\n  font-weight: lighter;\n  color: var(--sklearn-color-text-muted);\n}\n\n#sk-container-id-4 label.sk-toggleable__label-arrow:before {\n  /* Arrow on the left of the label */\n  content: \"▸\";\n  float: left;\n  margin-right: 0.25em;\n  color: var(--sklearn-color-icon);\n}\n\n#sk-container-id-4 label.sk-toggleable__label-arrow:hover:before {\n  color: var(--sklearn-color-text);\n}\n\n/* Toggleable content - dropdown */\n\n#sk-container-id-4 div.sk-toggleable__content {\n  display: none;\n  text-align: left;\n  /* unfitted */\n  background-color: var(--sklearn-color-unfitted-level-0);\n}\n\n#sk-container-id-4 div.sk-toggleable__content.fitted {\n  /* fitted */\n  background-color: var(--sklearn-color-fitted-level-0);\n}\n\n#sk-container-id-4 div.sk-toggleable__content pre {\n  margin: 0.2em;\n  border-radius: 0.25em;\n  color: var(--sklearn-color-text);\n  /* unfitted */\n  background-color: var(--sklearn-color-unfitted-level-0);\n}\n\n#sk-container-id-4 div.sk-toggleable__content.fitted pre {\n  /* unfitted */\n  background-color: var(--sklearn-color-fitted-level-0);\n}\n\n#sk-container-id-4 input.sk-toggleable__control:checked~div.sk-toggleable__content {\n  /* Expand drop-down */\n  display: block;\n  width: 100%;\n  overflow: visible;\n}\n\n#sk-container-id-4 input.sk-toggleable__control:checked~label.sk-toggleable__label-arrow:before {\n  content: \"▾\";\n}\n\n/* Pipeline/ColumnTransformer-specific style */\n\n#sk-container-id-4 div.sk-label input.sk-toggleable__control:checked~label.sk-toggleable__label {\n  color: var(--sklearn-color-text);\n  background-color: var(--sklearn-color-unfitted-level-2);\n}\n\n#sk-container-id-4 div.sk-label.fitted input.sk-toggleable__control:checked~label.sk-toggleable__label {\n  background-color: var(--sklearn-color-fitted-level-2);\n}\n\n/* Estimator-specific style */\n\n/* Colorize estimator box */\n#sk-container-id-4 div.sk-estimator input.sk-toggleable__control:checked~label.sk-toggleable__label {\n  /* unfitted */\n  background-color: var(--sklearn-color-unfitted-level-2);\n}\n\n#sk-container-id-4 div.sk-estimator.fitted input.sk-toggleable__control:checked~label.sk-toggleable__label {\n  /* fitted */\n  background-color: var(--sklearn-color-fitted-level-2);\n}\n\n#sk-container-id-4 div.sk-label label.sk-toggleable__label,\n#sk-container-id-4 div.sk-label label {\n  /* The background is the default theme color */\n  color: var(--sklearn-color-text-on-default-background);\n}\n\n/* On hover, darken the color of the background */\n#sk-container-id-4 div.sk-label:hover label.sk-toggleable__label {\n  color: var(--sklearn-color-text);\n  background-color: var(--sklearn-color-unfitted-level-2);\n}\n\n/* Label box, darken color on hover, fitted */\n#sk-container-id-4 div.sk-label.fitted:hover label.sk-toggleable__label.fitted {\n  color: var(--sklearn-color-text);\n  background-color: var(--sklearn-color-fitted-level-2);\n}\n\n/* Estimator label */\n\n#sk-container-id-4 div.sk-label label {\n  font-family: monospace;\n  font-weight: bold;\n  display: inline-block;\n  line-height: 1.2em;\n}\n\n#sk-container-id-4 div.sk-label-container {\n  text-align: center;\n}\n\n/* Estimator-specific */\n#sk-container-id-4 div.sk-estimator {\n  font-family: monospace;\n  border: 1px dotted var(--sklearn-color-border-box);\n  border-radius: 0.25em;\n  box-sizing: border-box;\n  margin-bottom: 0.5em;\n  /* unfitted */\n  background-color: var(--sklearn-color-unfitted-level-0);\n}\n\n#sk-container-id-4 div.sk-estimator.fitted {\n  /* fitted */\n  background-color: var(--sklearn-color-fitted-level-0);\n}\n\n/* on hover */\n#sk-container-id-4 div.sk-estimator:hover {\n  /* unfitted */\n  background-color: var(--sklearn-color-unfitted-level-2);\n}\n\n#sk-container-id-4 div.sk-estimator.fitted:hover {\n  /* fitted */\n  background-color: var(--sklearn-color-fitted-level-2);\n}\n\n/* Specification for estimator info (e.g. \"i\" and \"?\") */\n\n/* Common style for \"i\" and \"?\" */\n\n.sk-estimator-doc-link,\na:link.sk-estimator-doc-link,\na:visited.sk-estimator-doc-link {\n  float: right;\n  font-size: smaller;\n  line-height: 1em;\n  font-family: monospace;\n  background-color: var(--sklearn-color-background);\n  border-radius: 1em;\n  height: 1em;\n  width: 1em;\n  text-decoration: none !important;\n  margin-left: 0.5em;\n  text-align: center;\n  /* unfitted */\n  border: var(--sklearn-color-unfitted-level-1) 1pt solid;\n  color: var(--sklearn-color-unfitted-level-1);\n}\n\n.sk-estimator-doc-link.fitted,\na:link.sk-estimator-doc-link.fitted,\na:visited.sk-estimator-doc-link.fitted {\n  /* fitted */\n  border: var(--sklearn-color-fitted-level-1) 1pt solid;\n  color: var(--sklearn-color-fitted-level-1);\n}\n\n/* On hover */\ndiv.sk-estimator:hover .sk-estimator-doc-link:hover,\n.sk-estimator-doc-link:hover,\ndiv.sk-label-container:hover .sk-estimator-doc-link:hover,\n.sk-estimator-doc-link:hover {\n  /* unfitted */\n  background-color: var(--sklearn-color-unfitted-level-3);\n  color: var(--sklearn-color-background);\n  text-decoration: none;\n}\n\ndiv.sk-estimator.fitted:hover .sk-estimator-doc-link.fitted:hover,\n.sk-estimator-doc-link.fitted:hover,\ndiv.sk-label-container:hover .sk-estimator-doc-link.fitted:hover,\n.sk-estimator-doc-link.fitted:hover {\n  /* fitted */\n  background-color: var(--sklearn-color-fitted-level-3);\n  color: var(--sklearn-color-background);\n  text-decoration: none;\n}\n\n/* Span, style for the box shown on hovering the info icon */\n.sk-estimator-doc-link span {\n  display: none;\n  z-index: 9999;\n  position: relative;\n  font-weight: normal;\n  right: .2ex;\n  padding: .5ex;\n  margin: .5ex;\n  width: min-content;\n  min-width: 20ex;\n  max-width: 50ex;\n  color: var(--sklearn-color-text);\n  box-shadow: 2pt 2pt 4pt #999;\n  /* unfitted */\n  background: var(--sklearn-color-unfitted-level-0);\n  border: .5pt solid var(--sklearn-color-unfitted-level-3);\n}\n\n.sk-estimator-doc-link.fitted span {\n  /* fitted */\n  background: var(--sklearn-color-fitted-level-0);\n  border: var(--sklearn-color-fitted-level-3);\n}\n\n.sk-estimator-doc-link:hover span {\n  display: block;\n}\n\n/* \"?\"-specific style due to the `<a>` HTML tag */\n\n#sk-container-id-4 a.estimator_doc_link {\n  float: right;\n  font-size: 1rem;\n  line-height: 1em;\n  font-family: monospace;\n  background-color: var(--sklearn-color-background);\n  border-radius: 1rem;\n  height: 1rem;\n  width: 1rem;\n  text-decoration: none;\n  /* unfitted */\n  color: var(--sklearn-color-unfitted-level-1);\n  border: var(--sklearn-color-unfitted-level-1) 1pt solid;\n}\n\n#sk-container-id-4 a.estimator_doc_link.fitted {\n  /* fitted */\n  border: var(--sklearn-color-fitted-level-1) 1pt solid;\n  color: var(--sklearn-color-fitted-level-1);\n}\n\n/* On hover */\n#sk-container-id-4 a.estimator_doc_link:hover {\n  /* unfitted */\n  background-color: var(--sklearn-color-unfitted-level-3);\n  color: var(--sklearn-color-background);\n  text-decoration: none;\n}\n\n#sk-container-id-4 a.estimator_doc_link.fitted:hover {\n  /* fitted */\n  background-color: var(--sklearn-color-fitted-level-3);\n}\n\n.estimator-table summary {\n    padding: .5rem;\n    font-family: monospace;\n    cursor: pointer;\n}\n\n.estimator-table details[open] {\n    padding-left: 0.1rem;\n    padding-right: 0.1rem;\n    padding-bottom: 0.3rem;\n}\n\n.estimator-table .parameters-table {\n    margin-left: auto !important;\n    margin-right: auto !important;\n}\n\n.estimator-table .parameters-table tr:nth-child(odd) {\n    background-color: #fff;\n}\n\n.estimator-table .parameters-table tr:nth-child(even) {\n    background-color: #f6f6f6;\n}\n\n.estimator-table .parameters-table tr:hover {\n    background-color: #e0e0e0;\n}\n\n.estimator-table table td {\n    border: 1px solid rgba(106, 105, 104, 0.232);\n}\n\n.user-set td {\n    color:rgb(255, 94, 0);\n    text-align: left;\n}\n\n.user-set td.value pre {\n    color:rgb(255, 94, 0) !important;\n    background-color: transparent !important;\n}\n\n.default td {\n    color: black;\n    text-align: left;\n}\n\n.user-set td i,\n.default td i {\n    color: black;\n}\n\n.copy-paste-icon {\n    background-image: url(data:image/svg+xml;base64,PHN2ZyB4bWxucz0iaHR0cDovL3d3dy53My5vcmcvMjAwMC9zdmciIHZpZXdCb3g9IjAgMCA0NDggNTEyIj48IS0tIUZvbnQgQXdlc29tZSBGcmVlIDYuNy4yIGJ5IEBmb250YXdlc29tZSAtIGh0dHBzOi8vZm9udGF3ZXNvbWUuY29tIExpY2Vuc2UgLSBodHRwczovL2ZvbnRhd2Vzb21lLmNvbS9saWNlbnNlL2ZyZWUgQ29weXJpZ2h0IDIwMjUgRm9udGljb25zLCBJbmMuLS0+PHBhdGggZD0iTTIwOCAwTDMzMi4xIDBjMTIuNyAwIDI0LjkgNS4xIDMzLjkgMTQuMWw2Ny45IDY3LjljOSA5IDE0LjEgMjEuMiAxNC4xIDMzLjlMNDQ4IDMzNmMwIDI2LjUtMjEuNSA0OC00OCA0OGwtMTkyIDBjLTI2LjUgMC00OC0yMS41LTQ4LTQ4bDAtMjg4YzAtMjYuNSAyMS41LTQ4IDQ4LTQ4ek00OCAxMjhsODAgMCAwIDY0LTY0IDAgMCAyNTYgMTkyIDAgMC0zMiA2NCAwIDAgNDhjMCAyNi41LTIxLjUgNDgtNDggNDhMNDggNTEyYy0yNi41IDAtNDgtMjEuNS00OC00OEwwIDE3NmMwLTI2LjUgMjEuNS00OCA0OC00OHoiLz48L3N2Zz4=);\n    background-repeat: no-repeat;\n    background-size: 14px 14px;\n    background-position: 0;\n    display: inline-block;\n    width: 14px;\n    height: 14px;\n    cursor: pointer;\n}\n</style><body><div id=\"sk-container-id-4\" class=\"sk-top-container\"><div class=\"sk-text-repr-fallback\"><pre>XGBRegressor(base_score=None, booster=None, callbacks=None,\n             colsample_bylevel=None, colsample_bynode=None,\n             colsample_bytree=None, device=None, early_stopping_rounds=None,\n             enable_categorical=False, eval_metric=None, feature_types=None,\n             feature_weights=None, gamma=None, grow_policy=None,\n             importance_type=None, interaction_constraints=None,\n             learning_rate=None, max_bin=None, max_cat_threshold=None,\n             max_cat_to_onehot=None, max_delta_step=None, max_depth=None,\n             max_leaves=None, min_child_weight=None, missing=nan,\n             monotone_constraints=None, multi_strategy=None, n_estimators=None,\n             n_jobs=None, num_parallel_tree=None, ...)</pre><b>In a Jupyter environment, please rerun this cell to show the HTML representation or trust the notebook. <br />On GitHub, the HTML representation is unable to render, please try loading this page with nbviewer.org.</b></div><div class=\"sk-container\" hidden><div class=\"sk-item\"><div class=\"sk-estimator fitted sk-toggleable\"><input class=\"sk-toggleable__control sk-hidden--visually\" id=\"sk-estimator-id-4\" type=\"checkbox\" checked><label for=\"sk-estimator-id-4\" class=\"sk-toggleable__label fitted sk-toggleable__label-arrow\"><div><div>XGBRegressor</div></div><div><a class=\"sk-estimator-doc-link fitted\" rel=\"noreferrer\" target=\"_blank\" href=\"https://xgboost.readthedocs.io/en/release_3.0.0/python/python_api.html#xgboost.XGBRegressor\">?<span>Documentation for XGBRegressor</span></a><span class=\"sk-estimator-doc-link fitted\">i<span>Fitted</span></span></div></label><div class=\"sk-toggleable__content fitted\" data-param-prefix=\"\">\n        <div class=\"estimator-table\">\n            <details>\n                <summary>Parameters</summary>\n                <table class=\"parameters-table\">\n                  <tbody>\n                    \n        <tr class=\"default\">\n            <td><i class=\"copy-paste-icon\"\n                 onclick=\"copyToClipboard('objective',\n                          this.parentElement.nextElementSibling)\"\n            ></i></td>\n            <td class=\"param\">objective&nbsp;</td>\n            <td class=\"value\">&#x27;reg:squarederror&#x27;</td>\n        </tr>\n    \n\n        <tr class=\"user-set\">\n            <td><i class=\"copy-paste-icon\"\n                 onclick=\"copyToClipboard('base_score',\n                          this.parentElement.nextElementSibling)\"\n            ></i></td>\n            <td class=\"param\">base_score&nbsp;</td>\n            <td class=\"value\">None</td>\n        </tr>\n    \n\n        <tr class=\"user-set\">\n            <td><i class=\"copy-paste-icon\"\n                 onclick=\"copyToClipboard('booster',\n                          this.parentElement.nextElementSibling)\"\n            ></i></td>\n            <td class=\"param\">booster&nbsp;</td>\n            <td class=\"value\">None</td>\n        </tr>\n    \n\n        <tr class=\"user-set\">\n            <td><i class=\"copy-paste-icon\"\n                 onclick=\"copyToClipboard('callbacks',\n                          this.parentElement.nextElementSibling)\"\n            ></i></td>\n            <td class=\"param\">callbacks&nbsp;</td>\n            <td class=\"value\">None</td>\n        </tr>\n    \n\n        <tr class=\"user-set\">\n            <td><i class=\"copy-paste-icon\"\n                 onclick=\"copyToClipboard('colsample_bylevel',\n                          this.parentElement.nextElementSibling)\"\n            ></i></td>\n            <td class=\"param\">colsample_bylevel&nbsp;</td>\n            <td class=\"value\">None</td>\n        </tr>\n    \n\n        <tr class=\"user-set\">\n            <td><i class=\"copy-paste-icon\"\n                 onclick=\"copyToClipboard('colsample_bynode',\n                          this.parentElement.nextElementSibling)\"\n            ></i></td>\n            <td class=\"param\">colsample_bynode&nbsp;</td>\n            <td class=\"value\">None</td>\n        </tr>\n    \n\n        <tr class=\"user-set\">\n            <td><i class=\"copy-paste-icon\"\n                 onclick=\"copyToClipboard('colsample_bytree',\n                          this.parentElement.nextElementSibling)\"\n            ></i></td>\n            <td class=\"param\">colsample_bytree&nbsp;</td>\n            <td class=\"value\">None</td>\n        </tr>\n    \n\n        <tr class=\"user-set\">\n            <td><i class=\"copy-paste-icon\"\n                 onclick=\"copyToClipboard('device',\n                          this.parentElement.nextElementSibling)\"\n            ></i></td>\n            <td class=\"param\">device&nbsp;</td>\n            <td class=\"value\">None</td>\n        </tr>\n    \n\n        <tr class=\"user-set\">\n            <td><i class=\"copy-paste-icon\"\n                 onclick=\"copyToClipboard('early_stopping_rounds',\n                          this.parentElement.nextElementSibling)\"\n            ></i></td>\n            <td class=\"param\">early_stopping_rounds&nbsp;</td>\n            <td class=\"value\">None</td>\n        </tr>\n    \n\n        <tr class=\"user-set\">\n            <td><i class=\"copy-paste-icon\"\n                 onclick=\"copyToClipboard('enable_categorical',\n                          this.parentElement.nextElementSibling)\"\n            ></i></td>\n            <td class=\"param\">enable_categorical&nbsp;</td>\n            <td class=\"value\">False</td>\n        </tr>\n    \n\n        <tr class=\"user-set\">\n            <td><i class=\"copy-paste-icon\"\n                 onclick=\"copyToClipboard('eval_metric',\n                          this.parentElement.nextElementSibling)\"\n            ></i></td>\n            <td class=\"param\">eval_metric&nbsp;</td>\n            <td class=\"value\">None</td>\n        </tr>\n    \n\n        <tr class=\"user-set\">\n            <td><i class=\"copy-paste-icon\"\n                 onclick=\"copyToClipboard('feature_types',\n                          this.parentElement.nextElementSibling)\"\n            ></i></td>\n            <td class=\"param\">feature_types&nbsp;</td>\n            <td class=\"value\">None</td>\n        </tr>\n    \n\n        <tr class=\"user-set\">\n            <td><i class=\"copy-paste-icon\"\n                 onclick=\"copyToClipboard('feature_weights',\n                          this.parentElement.nextElementSibling)\"\n            ></i></td>\n            <td class=\"param\">feature_weights&nbsp;</td>\n            <td class=\"value\">None</td>\n        </tr>\n    \n\n        <tr class=\"user-set\">\n            <td><i class=\"copy-paste-icon\"\n                 onclick=\"copyToClipboard('gamma',\n                          this.parentElement.nextElementSibling)\"\n            ></i></td>\n            <td class=\"param\">gamma&nbsp;</td>\n            <td class=\"value\">None</td>\n        </tr>\n    \n\n        <tr class=\"user-set\">\n            <td><i class=\"copy-paste-icon\"\n                 onclick=\"copyToClipboard('grow_policy',\n                          this.parentElement.nextElementSibling)\"\n            ></i></td>\n            <td class=\"param\">grow_policy&nbsp;</td>\n            <td class=\"value\">None</td>\n        </tr>\n    \n\n        <tr class=\"user-set\">\n            <td><i class=\"copy-paste-icon\"\n                 onclick=\"copyToClipboard('importance_type',\n                          this.parentElement.nextElementSibling)\"\n            ></i></td>\n            <td class=\"param\">importance_type&nbsp;</td>\n            <td class=\"value\">None</td>\n        </tr>\n    \n\n        <tr class=\"user-set\">\n            <td><i class=\"copy-paste-icon\"\n                 onclick=\"copyToClipboard('interaction_constraints',\n                          this.parentElement.nextElementSibling)\"\n            ></i></td>\n            <td class=\"param\">interaction_constraints&nbsp;</td>\n            <td class=\"value\">None</td>\n        </tr>\n    \n\n        <tr class=\"user-set\">\n            <td><i class=\"copy-paste-icon\"\n                 onclick=\"copyToClipboard('learning_rate',\n                          this.parentElement.nextElementSibling)\"\n            ></i></td>\n            <td class=\"param\">learning_rate&nbsp;</td>\n            <td class=\"value\">None</td>\n        </tr>\n    \n\n        <tr class=\"user-set\">\n            <td><i class=\"copy-paste-icon\"\n                 onclick=\"copyToClipboard('max_bin',\n                          this.parentElement.nextElementSibling)\"\n            ></i></td>\n            <td class=\"param\">max_bin&nbsp;</td>\n            <td class=\"value\">None</td>\n        </tr>\n    \n\n        <tr class=\"user-set\">\n            <td><i class=\"copy-paste-icon\"\n                 onclick=\"copyToClipboard('max_cat_threshold',\n                          this.parentElement.nextElementSibling)\"\n            ></i></td>\n            <td class=\"param\">max_cat_threshold&nbsp;</td>\n            <td class=\"value\">None</td>\n        </tr>\n    \n\n        <tr class=\"user-set\">\n            <td><i class=\"copy-paste-icon\"\n                 onclick=\"copyToClipboard('max_cat_to_onehot',\n                          this.parentElement.nextElementSibling)\"\n            ></i></td>\n            <td class=\"param\">max_cat_to_onehot&nbsp;</td>\n            <td class=\"value\">None</td>\n        </tr>\n    \n\n        <tr class=\"user-set\">\n            <td><i class=\"copy-paste-icon\"\n                 onclick=\"copyToClipboard('max_delta_step',\n                          this.parentElement.nextElementSibling)\"\n            ></i></td>\n            <td class=\"param\">max_delta_step&nbsp;</td>\n            <td class=\"value\">None</td>\n        </tr>\n    \n\n        <tr class=\"user-set\">\n            <td><i class=\"copy-paste-icon\"\n                 onclick=\"copyToClipboard('max_depth',\n                          this.parentElement.nextElementSibling)\"\n            ></i></td>\n            <td class=\"param\">max_depth&nbsp;</td>\n            <td class=\"value\">None</td>\n        </tr>\n    \n\n        <tr class=\"user-set\">\n            <td><i class=\"copy-paste-icon\"\n                 onclick=\"copyToClipboard('max_leaves',\n                          this.parentElement.nextElementSibling)\"\n            ></i></td>\n            <td class=\"param\">max_leaves&nbsp;</td>\n            <td class=\"value\">None</td>\n        </tr>\n    \n\n        <tr class=\"user-set\">\n            <td><i class=\"copy-paste-icon\"\n                 onclick=\"copyToClipboard('min_child_weight',\n                          this.parentElement.nextElementSibling)\"\n            ></i></td>\n            <td class=\"param\">min_child_weight&nbsp;</td>\n            <td class=\"value\">None</td>\n        </tr>\n    \n\n        <tr class=\"user-set\">\n            <td><i class=\"copy-paste-icon\"\n                 onclick=\"copyToClipboard('missing',\n                          this.parentElement.nextElementSibling)\"\n            ></i></td>\n            <td class=\"param\">missing&nbsp;</td>\n            <td class=\"value\">nan</td>\n        </tr>\n    \n\n        <tr class=\"user-set\">\n            <td><i class=\"copy-paste-icon\"\n                 onclick=\"copyToClipboard('monotone_constraints',\n                          this.parentElement.nextElementSibling)\"\n            ></i></td>\n            <td class=\"param\">monotone_constraints&nbsp;</td>\n            <td class=\"value\">None</td>\n        </tr>\n    \n\n        <tr class=\"user-set\">\n            <td><i class=\"copy-paste-icon\"\n                 onclick=\"copyToClipboard('multi_strategy',\n                          this.parentElement.nextElementSibling)\"\n            ></i></td>\n            <td class=\"param\">multi_strategy&nbsp;</td>\n            <td class=\"value\">None</td>\n        </tr>\n    \n\n        <tr class=\"user-set\">\n            <td><i class=\"copy-paste-icon\"\n                 onclick=\"copyToClipboard('n_estimators',\n                          this.parentElement.nextElementSibling)\"\n            ></i></td>\n            <td class=\"param\">n_estimators&nbsp;</td>\n            <td class=\"value\">None</td>\n        </tr>\n    \n\n        <tr class=\"user-set\">\n            <td><i class=\"copy-paste-icon\"\n                 onclick=\"copyToClipboard('n_jobs',\n                          this.parentElement.nextElementSibling)\"\n            ></i></td>\n            <td class=\"param\">n_jobs&nbsp;</td>\n            <td class=\"value\">None</td>\n        </tr>\n    \n\n        <tr class=\"user-set\">\n            <td><i class=\"copy-paste-icon\"\n                 onclick=\"copyToClipboard('num_parallel_tree',\n                          this.parentElement.nextElementSibling)\"\n            ></i></td>\n            <td class=\"param\">num_parallel_tree&nbsp;</td>\n            <td class=\"value\">None</td>\n        </tr>\n    \n\n        <tr class=\"user-set\">\n            <td><i class=\"copy-paste-icon\"\n                 onclick=\"copyToClipboard('random_state',\n                          this.parentElement.nextElementSibling)\"\n            ></i></td>\n            <td class=\"param\">random_state&nbsp;</td>\n            <td class=\"value\">None</td>\n        </tr>\n    \n\n        <tr class=\"user-set\">\n            <td><i class=\"copy-paste-icon\"\n                 onclick=\"copyToClipboard('reg_alpha',\n                          this.parentElement.nextElementSibling)\"\n            ></i></td>\n            <td class=\"param\">reg_alpha&nbsp;</td>\n            <td class=\"value\">None</td>\n        </tr>\n    \n\n        <tr class=\"user-set\">\n            <td><i class=\"copy-paste-icon\"\n                 onclick=\"copyToClipboard('reg_lambda',\n                          this.parentElement.nextElementSibling)\"\n            ></i></td>\n            <td class=\"param\">reg_lambda&nbsp;</td>\n            <td class=\"value\">None</td>\n        </tr>\n    \n\n        <tr class=\"user-set\">\n            <td><i class=\"copy-paste-icon\"\n                 onclick=\"copyToClipboard('sampling_method',\n                          this.parentElement.nextElementSibling)\"\n            ></i></td>\n            <td class=\"param\">sampling_method&nbsp;</td>\n            <td class=\"value\">None</td>\n        </tr>\n    \n\n        <tr class=\"user-set\">\n            <td><i class=\"copy-paste-icon\"\n                 onclick=\"copyToClipboard('scale_pos_weight',\n                          this.parentElement.nextElementSibling)\"\n            ></i></td>\n            <td class=\"param\">scale_pos_weight&nbsp;</td>\n            <td class=\"value\">None</td>\n        </tr>\n    \n\n        <tr class=\"user-set\">\n            <td><i class=\"copy-paste-icon\"\n                 onclick=\"copyToClipboard('subsample',\n                          this.parentElement.nextElementSibling)\"\n            ></i></td>\n            <td class=\"param\">subsample&nbsp;</td>\n            <td class=\"value\">None</td>\n        </tr>\n    \n\n        <tr class=\"user-set\">\n            <td><i class=\"copy-paste-icon\"\n                 onclick=\"copyToClipboard('tree_method',\n                          this.parentElement.nextElementSibling)\"\n            ></i></td>\n            <td class=\"param\">tree_method&nbsp;</td>\n            <td class=\"value\">None</td>\n        </tr>\n    \n\n        <tr class=\"user-set\">\n            <td><i class=\"copy-paste-icon\"\n                 onclick=\"copyToClipboard('validate_parameters',\n                          this.parentElement.nextElementSibling)\"\n            ></i></td>\n            <td class=\"param\">validate_parameters&nbsp;</td>\n            <td class=\"value\">None</td>\n        </tr>\n    \n\n        <tr class=\"user-set\">\n            <td><i class=\"copy-paste-icon\"\n                 onclick=\"copyToClipboard('verbosity',\n                          this.parentElement.nextElementSibling)\"\n            ></i></td>\n            <td class=\"param\">verbosity&nbsp;</td>\n            <td class=\"value\">None</td>\n        </tr>\n    \n                  </tbody>\n                </table>\n            </details>\n        </div>\n    </div></div></div></div></div><script>function copyToClipboard(text, element) {\n    // Get the parameter prefix from the closest toggleable content\n    const toggleableContent = element.closest('.sk-toggleable__content');\n    const paramPrefix = toggleableContent ? toggleableContent.dataset.paramPrefix : '';\n    const fullParamName = paramPrefix ? `${paramPrefix}${text}` : text;\n\n    const originalStyle = element.style;\n    const computedStyle = window.getComputedStyle(element);\n    const originalWidth = computedStyle.width;\n    const originalHTML = element.innerHTML.replace('Copied!', '');\n\n    navigator.clipboard.writeText(fullParamName)\n        .then(() => {\n            element.style.width = originalWidth;\n            element.style.color = 'green';\n            element.innerHTML = \"Copied!\";\n\n            setTimeout(() => {\n                element.innerHTML = originalHTML;\n                element.style = originalStyle;\n            }, 2000);\n        })\n        .catch(err => {\n            console.error('Failed to copy:', err);\n            element.style.color = 'red';\n            element.innerHTML = \"Failed!\";\n            setTimeout(() => {\n                element.innerHTML = originalHTML;\n                element.style = originalStyle;\n            }, 2000);\n        });\n    return false;\n}\n\ndocument.querySelectorAll('.fa-regular.fa-copy').forEach(function(element) {\n    const toggleableContent = element.closest('.sk-toggleable__content');\n    const paramPrefix = toggleableContent ? toggleableContent.dataset.paramPrefix : '';\n    const paramName = element.parentElement.nextElementSibling.textContent.trim();\n    const fullParamName = paramPrefix ? `${paramPrefix}${paramName}` : paramName;\n\n    element.setAttribute('title', fullParamName);\n});\n</script></body>"
     },
     "execution_count": 65,
     "metadata": {},
     "output_type": "execute_result"
    }
   ],
   "source": [
    "model = xgb.XGBRegressor()\n",
    "model.fit(X_train, y_train)"
   ]
  },
  {
   "cell_type": "code",
   "execution_count": 66,
   "id": "c00c66ed",
   "metadata": {
    "ExecuteTime": {
     "end_time": "2025-07-29T14:45:23.543559300Z",
     "start_time": "2025-07-29T14:45:23.414287500Z"
    }
   },
   "outputs": [
    {
     "name": "stdout",
     "output_type": "stream",
     "text": [
      "RMSE: 0.8673414545412719\n"
     ]
    }
   ],
   "source": [
    "y_pred = model.predict(X_test)\n",
    "print(\"RMSE:\", root_mean_squared_error(y_test, y_pred))"
   ]
  },
  {
   "cell_type": "markdown",
   "source": [
    "# XGBoost with Feature Engineering"
   ],
   "metadata": {
    "collapsed": false
   },
   "id": "ab2b8953dc52bd69"
  },
  {
   "cell_type": "code",
   "execution_count": 67,
   "outputs": [],
   "source": [
    "X_fe = df.drop(columns=not_features_fe)\n",
    "y_fe = df['fantasy_score']"
   ],
   "metadata": {
    "collapsed": false,
    "ExecuteTime": {
     "end_time": "2025-07-29T14:45:23.559754600Z",
     "start_time": "2025-07-29T14:45:23.545561300Z"
    }
   },
   "id": "3bf982d09a960a8f"
  },
  {
   "cell_type": "code",
   "execution_count": 68,
   "outputs": [],
   "source": [
    "X_fe = pd.get_dummies(X_fe, columns=['fantasy_role', 'hero_id', 'hero_variant', 'account_id', 'team_id', 'enemy_team_id'])"
   ],
   "metadata": {
    "collapsed": false,
    "ExecuteTime": {
     "end_time": "2025-07-29T14:45:23.652617500Z",
     "start_time": "2025-07-29T14:45:23.555696300Z"
    }
   },
   "id": "74f20af453b5e5c6"
  },
  {
   "cell_type": "code",
   "execution_count": 69,
   "outputs": [],
   "source": [
    "X_fe_train, X_fe_test, y_fe_train, y_fe_test = train_test_split(X_fe, y_fe, test_size=0.20, random_state=1001)"
   ],
   "metadata": {
    "collapsed": false,
    "ExecuteTime": {
     "end_time": "2025-07-29T14:45:23.717697300Z",
     "start_time": "2025-07-29T14:45:23.652617500Z"
    }
   },
   "id": "4d01a37d36ac7862"
  },
  {
   "cell_type": "code",
   "execution_count": 70,
   "outputs": [
    {
     "data": {
      "text/plain": "XGBRegressor(base_score=None, booster=None, callbacks=None,\n             colsample_bylevel=None, colsample_bynode=None,\n             colsample_bytree=None, device=None, early_stopping_rounds=None,\n             enable_categorical=False, eval_metric=None, feature_types=None,\n             feature_weights=None, gamma=None, grow_policy=None,\n             importance_type=None, interaction_constraints=None,\n             learning_rate=None, max_bin=None, max_cat_threshold=None,\n             max_cat_to_onehot=None, max_delta_step=None, max_depth=None,\n             max_leaves=None, min_child_weight=None, missing=nan,\n             monotone_constraints=None, multi_strategy=None, n_estimators=None,\n             n_jobs=None, num_parallel_tree=None, ...)",
      "text/html": "<style>#sk-container-id-5 {\n  /* Definition of color scheme common for light and dark mode */\n  --sklearn-color-text: #000;\n  --sklearn-color-text-muted: #666;\n  --sklearn-color-line: gray;\n  /* Definition of color scheme for unfitted estimators */\n  --sklearn-color-unfitted-level-0: #fff5e6;\n  --sklearn-color-unfitted-level-1: #f6e4d2;\n  --sklearn-color-unfitted-level-2: #ffe0b3;\n  --sklearn-color-unfitted-level-3: chocolate;\n  /* Definition of color scheme for fitted estimators */\n  --sklearn-color-fitted-level-0: #f0f8ff;\n  --sklearn-color-fitted-level-1: #d4ebff;\n  --sklearn-color-fitted-level-2: #b3dbfd;\n  --sklearn-color-fitted-level-3: cornflowerblue;\n\n  /* Specific color for light theme */\n  --sklearn-color-text-on-default-background: var(--sg-text-color, var(--theme-code-foreground, var(--jp-content-font-color1, black)));\n  --sklearn-color-background: var(--sg-background-color, var(--theme-background, var(--jp-layout-color0, white)));\n  --sklearn-color-border-box: var(--sg-text-color, var(--theme-code-foreground, var(--jp-content-font-color1, black)));\n  --sklearn-color-icon: #696969;\n\n  @media (prefers-color-scheme: dark) {\n    /* Redefinition of color scheme for dark theme */\n    --sklearn-color-text-on-default-background: var(--sg-text-color, var(--theme-code-foreground, var(--jp-content-font-color1, white)));\n    --sklearn-color-background: var(--sg-background-color, var(--theme-background, var(--jp-layout-color0, #111)));\n    --sklearn-color-border-box: var(--sg-text-color, var(--theme-code-foreground, var(--jp-content-font-color1, white)));\n    --sklearn-color-icon: #878787;\n  }\n}\n\n#sk-container-id-5 {\n  color: var(--sklearn-color-text);\n}\n\n#sk-container-id-5 pre {\n  padding: 0;\n}\n\n#sk-container-id-5 input.sk-hidden--visually {\n  border: 0;\n  clip: rect(1px 1px 1px 1px);\n  clip: rect(1px, 1px, 1px, 1px);\n  height: 1px;\n  margin: -1px;\n  overflow: hidden;\n  padding: 0;\n  position: absolute;\n  width: 1px;\n}\n\n#sk-container-id-5 div.sk-dashed-wrapped {\n  border: 1px dashed var(--sklearn-color-line);\n  margin: 0 0.4em 0.5em 0.4em;\n  box-sizing: border-box;\n  padding-bottom: 0.4em;\n  background-color: var(--sklearn-color-background);\n}\n\n#sk-container-id-5 div.sk-container {\n  /* jupyter's `normalize.less` sets `[hidden] { display: none; }`\n     but bootstrap.min.css set `[hidden] { display: none !important; }`\n     so we also need the `!important` here to be able to override the\n     default hidden behavior on the sphinx rendered scikit-learn.org.\n     See: https://github.com/scikit-learn/scikit-learn/issues/21755 */\n  display: inline-block !important;\n  position: relative;\n}\n\n#sk-container-id-5 div.sk-text-repr-fallback {\n  display: none;\n}\n\ndiv.sk-parallel-item,\ndiv.sk-serial,\ndiv.sk-item {\n  /* draw centered vertical line to link estimators */\n  background-image: linear-gradient(var(--sklearn-color-text-on-default-background), var(--sklearn-color-text-on-default-background));\n  background-size: 2px 100%;\n  background-repeat: no-repeat;\n  background-position: center center;\n}\n\n/* Parallel-specific style estimator block */\n\n#sk-container-id-5 div.sk-parallel-item::after {\n  content: \"\";\n  width: 100%;\n  border-bottom: 2px solid var(--sklearn-color-text-on-default-background);\n  flex-grow: 1;\n}\n\n#sk-container-id-5 div.sk-parallel {\n  display: flex;\n  align-items: stretch;\n  justify-content: center;\n  background-color: var(--sklearn-color-background);\n  position: relative;\n}\n\n#sk-container-id-5 div.sk-parallel-item {\n  display: flex;\n  flex-direction: column;\n}\n\n#sk-container-id-5 div.sk-parallel-item:first-child::after {\n  align-self: flex-end;\n  width: 50%;\n}\n\n#sk-container-id-5 div.sk-parallel-item:last-child::after {\n  align-self: flex-start;\n  width: 50%;\n}\n\n#sk-container-id-5 div.sk-parallel-item:only-child::after {\n  width: 0;\n}\n\n/* Serial-specific style estimator block */\n\n#sk-container-id-5 div.sk-serial {\n  display: flex;\n  flex-direction: column;\n  align-items: center;\n  background-color: var(--sklearn-color-background);\n  padding-right: 1em;\n  padding-left: 1em;\n}\n\n\n/* Toggleable style: style used for estimator/Pipeline/ColumnTransformer box that is\nclickable and can be expanded/collapsed.\n- Pipeline and ColumnTransformer use this feature and define the default style\n- Estimators will overwrite some part of the style using the `sk-estimator` class\n*/\n\n/* Pipeline and ColumnTransformer style (default) */\n\n#sk-container-id-5 div.sk-toggleable {\n  /* Default theme specific background. It is overwritten whether we have a\n  specific estimator or a Pipeline/ColumnTransformer */\n  background-color: var(--sklearn-color-background);\n}\n\n/* Toggleable label */\n#sk-container-id-5 label.sk-toggleable__label {\n  cursor: pointer;\n  display: flex;\n  width: 100%;\n  margin-bottom: 0;\n  padding: 0.5em;\n  box-sizing: border-box;\n  text-align: center;\n  align-items: start;\n  justify-content: space-between;\n  gap: 0.5em;\n}\n\n#sk-container-id-5 label.sk-toggleable__label .caption {\n  font-size: 0.6rem;\n  font-weight: lighter;\n  color: var(--sklearn-color-text-muted);\n}\n\n#sk-container-id-5 label.sk-toggleable__label-arrow:before {\n  /* Arrow on the left of the label */\n  content: \"▸\";\n  float: left;\n  margin-right: 0.25em;\n  color: var(--sklearn-color-icon);\n}\n\n#sk-container-id-5 label.sk-toggleable__label-arrow:hover:before {\n  color: var(--sklearn-color-text);\n}\n\n/* Toggleable content - dropdown */\n\n#sk-container-id-5 div.sk-toggleable__content {\n  display: none;\n  text-align: left;\n  /* unfitted */\n  background-color: var(--sklearn-color-unfitted-level-0);\n}\n\n#sk-container-id-5 div.sk-toggleable__content.fitted {\n  /* fitted */\n  background-color: var(--sklearn-color-fitted-level-0);\n}\n\n#sk-container-id-5 div.sk-toggleable__content pre {\n  margin: 0.2em;\n  border-radius: 0.25em;\n  color: var(--sklearn-color-text);\n  /* unfitted */\n  background-color: var(--sklearn-color-unfitted-level-0);\n}\n\n#sk-container-id-5 div.sk-toggleable__content.fitted pre {\n  /* unfitted */\n  background-color: var(--sklearn-color-fitted-level-0);\n}\n\n#sk-container-id-5 input.sk-toggleable__control:checked~div.sk-toggleable__content {\n  /* Expand drop-down */\n  display: block;\n  width: 100%;\n  overflow: visible;\n}\n\n#sk-container-id-5 input.sk-toggleable__control:checked~label.sk-toggleable__label-arrow:before {\n  content: \"▾\";\n}\n\n/* Pipeline/ColumnTransformer-specific style */\n\n#sk-container-id-5 div.sk-label input.sk-toggleable__control:checked~label.sk-toggleable__label {\n  color: var(--sklearn-color-text);\n  background-color: var(--sklearn-color-unfitted-level-2);\n}\n\n#sk-container-id-5 div.sk-label.fitted input.sk-toggleable__control:checked~label.sk-toggleable__label {\n  background-color: var(--sklearn-color-fitted-level-2);\n}\n\n/* Estimator-specific style */\n\n/* Colorize estimator box */\n#sk-container-id-5 div.sk-estimator input.sk-toggleable__control:checked~label.sk-toggleable__label {\n  /* unfitted */\n  background-color: var(--sklearn-color-unfitted-level-2);\n}\n\n#sk-container-id-5 div.sk-estimator.fitted input.sk-toggleable__control:checked~label.sk-toggleable__label {\n  /* fitted */\n  background-color: var(--sklearn-color-fitted-level-2);\n}\n\n#sk-container-id-5 div.sk-label label.sk-toggleable__label,\n#sk-container-id-5 div.sk-label label {\n  /* The background is the default theme color */\n  color: var(--sklearn-color-text-on-default-background);\n}\n\n/* On hover, darken the color of the background */\n#sk-container-id-5 div.sk-label:hover label.sk-toggleable__label {\n  color: var(--sklearn-color-text);\n  background-color: var(--sklearn-color-unfitted-level-2);\n}\n\n/* Label box, darken color on hover, fitted */\n#sk-container-id-5 div.sk-label.fitted:hover label.sk-toggleable__label.fitted {\n  color: var(--sklearn-color-text);\n  background-color: var(--sklearn-color-fitted-level-2);\n}\n\n/* Estimator label */\n\n#sk-container-id-5 div.sk-label label {\n  font-family: monospace;\n  font-weight: bold;\n  display: inline-block;\n  line-height: 1.2em;\n}\n\n#sk-container-id-5 div.sk-label-container {\n  text-align: center;\n}\n\n/* Estimator-specific */\n#sk-container-id-5 div.sk-estimator {\n  font-family: monospace;\n  border: 1px dotted var(--sklearn-color-border-box);\n  border-radius: 0.25em;\n  box-sizing: border-box;\n  margin-bottom: 0.5em;\n  /* unfitted */\n  background-color: var(--sklearn-color-unfitted-level-0);\n}\n\n#sk-container-id-5 div.sk-estimator.fitted {\n  /* fitted */\n  background-color: var(--sklearn-color-fitted-level-0);\n}\n\n/* on hover */\n#sk-container-id-5 div.sk-estimator:hover {\n  /* unfitted */\n  background-color: var(--sklearn-color-unfitted-level-2);\n}\n\n#sk-container-id-5 div.sk-estimator.fitted:hover {\n  /* fitted */\n  background-color: var(--sklearn-color-fitted-level-2);\n}\n\n/* Specification for estimator info (e.g. \"i\" and \"?\") */\n\n/* Common style for \"i\" and \"?\" */\n\n.sk-estimator-doc-link,\na:link.sk-estimator-doc-link,\na:visited.sk-estimator-doc-link {\n  float: right;\n  font-size: smaller;\n  line-height: 1em;\n  font-family: monospace;\n  background-color: var(--sklearn-color-background);\n  border-radius: 1em;\n  height: 1em;\n  width: 1em;\n  text-decoration: none !important;\n  margin-left: 0.5em;\n  text-align: center;\n  /* unfitted */\n  border: var(--sklearn-color-unfitted-level-1) 1pt solid;\n  color: var(--sklearn-color-unfitted-level-1);\n}\n\n.sk-estimator-doc-link.fitted,\na:link.sk-estimator-doc-link.fitted,\na:visited.sk-estimator-doc-link.fitted {\n  /* fitted */\n  border: var(--sklearn-color-fitted-level-1) 1pt solid;\n  color: var(--sklearn-color-fitted-level-1);\n}\n\n/* On hover */\ndiv.sk-estimator:hover .sk-estimator-doc-link:hover,\n.sk-estimator-doc-link:hover,\ndiv.sk-label-container:hover .sk-estimator-doc-link:hover,\n.sk-estimator-doc-link:hover {\n  /* unfitted */\n  background-color: var(--sklearn-color-unfitted-level-3);\n  color: var(--sklearn-color-background);\n  text-decoration: none;\n}\n\ndiv.sk-estimator.fitted:hover .sk-estimator-doc-link.fitted:hover,\n.sk-estimator-doc-link.fitted:hover,\ndiv.sk-label-container:hover .sk-estimator-doc-link.fitted:hover,\n.sk-estimator-doc-link.fitted:hover {\n  /* fitted */\n  background-color: var(--sklearn-color-fitted-level-3);\n  color: var(--sklearn-color-background);\n  text-decoration: none;\n}\n\n/* Span, style for the box shown on hovering the info icon */\n.sk-estimator-doc-link span {\n  display: none;\n  z-index: 9999;\n  position: relative;\n  font-weight: normal;\n  right: .2ex;\n  padding: .5ex;\n  margin: .5ex;\n  width: min-content;\n  min-width: 20ex;\n  max-width: 50ex;\n  color: var(--sklearn-color-text);\n  box-shadow: 2pt 2pt 4pt #999;\n  /* unfitted */\n  background: var(--sklearn-color-unfitted-level-0);\n  border: .5pt solid var(--sklearn-color-unfitted-level-3);\n}\n\n.sk-estimator-doc-link.fitted span {\n  /* fitted */\n  background: var(--sklearn-color-fitted-level-0);\n  border: var(--sklearn-color-fitted-level-3);\n}\n\n.sk-estimator-doc-link:hover span {\n  display: block;\n}\n\n/* \"?\"-specific style due to the `<a>` HTML tag */\n\n#sk-container-id-5 a.estimator_doc_link {\n  float: right;\n  font-size: 1rem;\n  line-height: 1em;\n  font-family: monospace;\n  background-color: var(--sklearn-color-background);\n  border-radius: 1rem;\n  height: 1rem;\n  width: 1rem;\n  text-decoration: none;\n  /* unfitted */\n  color: var(--sklearn-color-unfitted-level-1);\n  border: var(--sklearn-color-unfitted-level-1) 1pt solid;\n}\n\n#sk-container-id-5 a.estimator_doc_link.fitted {\n  /* fitted */\n  border: var(--sklearn-color-fitted-level-1) 1pt solid;\n  color: var(--sklearn-color-fitted-level-1);\n}\n\n/* On hover */\n#sk-container-id-5 a.estimator_doc_link:hover {\n  /* unfitted */\n  background-color: var(--sklearn-color-unfitted-level-3);\n  color: var(--sklearn-color-background);\n  text-decoration: none;\n}\n\n#sk-container-id-5 a.estimator_doc_link.fitted:hover {\n  /* fitted */\n  background-color: var(--sklearn-color-fitted-level-3);\n}\n\n.estimator-table summary {\n    padding: .5rem;\n    font-family: monospace;\n    cursor: pointer;\n}\n\n.estimator-table details[open] {\n    padding-left: 0.1rem;\n    padding-right: 0.1rem;\n    padding-bottom: 0.3rem;\n}\n\n.estimator-table .parameters-table {\n    margin-left: auto !important;\n    margin-right: auto !important;\n}\n\n.estimator-table .parameters-table tr:nth-child(odd) {\n    background-color: #fff;\n}\n\n.estimator-table .parameters-table tr:nth-child(even) {\n    background-color: #f6f6f6;\n}\n\n.estimator-table .parameters-table tr:hover {\n    background-color: #e0e0e0;\n}\n\n.estimator-table table td {\n    border: 1px solid rgba(106, 105, 104, 0.232);\n}\n\n.user-set td {\n    color:rgb(255, 94, 0);\n    text-align: left;\n}\n\n.user-set td.value pre {\n    color:rgb(255, 94, 0) !important;\n    background-color: transparent !important;\n}\n\n.default td {\n    color: black;\n    text-align: left;\n}\n\n.user-set td i,\n.default td i {\n    color: black;\n}\n\n.copy-paste-icon {\n    background-image: url(data:image/svg+xml;base64,PHN2ZyB4bWxucz0iaHR0cDovL3d3dy53My5vcmcvMjAwMC9zdmciIHZpZXdCb3g9IjAgMCA0NDggNTEyIj48IS0tIUZvbnQgQXdlc29tZSBGcmVlIDYuNy4yIGJ5IEBmb250YXdlc29tZSAtIGh0dHBzOi8vZm9udGF3ZXNvbWUuY29tIExpY2Vuc2UgLSBodHRwczovL2ZvbnRhd2Vzb21lLmNvbS9saWNlbnNlL2ZyZWUgQ29weXJpZ2h0IDIwMjUgRm9udGljb25zLCBJbmMuLS0+PHBhdGggZD0iTTIwOCAwTDMzMi4xIDBjMTIuNyAwIDI0LjkgNS4xIDMzLjkgMTQuMWw2Ny45IDY3LjljOSA5IDE0LjEgMjEuMiAxNC4xIDMzLjlMNDQ4IDMzNmMwIDI2LjUtMjEuNSA0OC00OCA0OGwtMTkyIDBjLTI2LjUgMC00OC0yMS41LTQ4LTQ4bDAtMjg4YzAtMjYuNSAyMS41LTQ4IDQ4LTQ4ek00OCAxMjhsODAgMCAwIDY0LTY0IDAgMCAyNTYgMTkyIDAgMC0zMiA2NCAwIDAgNDhjMCAyNi41LTIxLjUgNDgtNDggNDhMNDggNTEyYy0yNi41IDAtNDgtMjEuNS00OC00OEwwIDE3NmMwLTI2LjUgMjEuNS00OCA0OC00OHoiLz48L3N2Zz4=);\n    background-repeat: no-repeat;\n    background-size: 14px 14px;\n    background-position: 0;\n    display: inline-block;\n    width: 14px;\n    height: 14px;\n    cursor: pointer;\n}\n</style><body><div id=\"sk-container-id-5\" class=\"sk-top-container\"><div class=\"sk-text-repr-fallback\"><pre>XGBRegressor(base_score=None, booster=None, callbacks=None,\n             colsample_bylevel=None, colsample_bynode=None,\n             colsample_bytree=None, device=None, early_stopping_rounds=None,\n             enable_categorical=False, eval_metric=None, feature_types=None,\n             feature_weights=None, gamma=None, grow_policy=None,\n             importance_type=None, interaction_constraints=None,\n             learning_rate=None, max_bin=None, max_cat_threshold=None,\n             max_cat_to_onehot=None, max_delta_step=None, max_depth=None,\n             max_leaves=None, min_child_weight=None, missing=nan,\n             monotone_constraints=None, multi_strategy=None, n_estimators=None,\n             n_jobs=None, num_parallel_tree=None, ...)</pre><b>In a Jupyter environment, please rerun this cell to show the HTML representation or trust the notebook. <br />On GitHub, the HTML representation is unable to render, please try loading this page with nbviewer.org.</b></div><div class=\"sk-container\" hidden><div class=\"sk-item\"><div class=\"sk-estimator fitted sk-toggleable\"><input class=\"sk-toggleable__control sk-hidden--visually\" id=\"sk-estimator-id-5\" type=\"checkbox\" checked><label for=\"sk-estimator-id-5\" class=\"sk-toggleable__label fitted sk-toggleable__label-arrow\"><div><div>XGBRegressor</div></div><div><a class=\"sk-estimator-doc-link fitted\" rel=\"noreferrer\" target=\"_blank\" href=\"https://xgboost.readthedocs.io/en/release_3.0.0/python/python_api.html#xgboost.XGBRegressor\">?<span>Documentation for XGBRegressor</span></a><span class=\"sk-estimator-doc-link fitted\">i<span>Fitted</span></span></div></label><div class=\"sk-toggleable__content fitted\" data-param-prefix=\"\">\n        <div class=\"estimator-table\">\n            <details>\n                <summary>Parameters</summary>\n                <table class=\"parameters-table\">\n                  <tbody>\n                    \n        <tr class=\"default\">\n            <td><i class=\"copy-paste-icon\"\n                 onclick=\"copyToClipboard('objective',\n                          this.parentElement.nextElementSibling)\"\n            ></i></td>\n            <td class=\"param\">objective&nbsp;</td>\n            <td class=\"value\">&#x27;reg:squarederror&#x27;</td>\n        </tr>\n    \n\n        <tr class=\"user-set\">\n            <td><i class=\"copy-paste-icon\"\n                 onclick=\"copyToClipboard('base_score',\n                          this.parentElement.nextElementSibling)\"\n            ></i></td>\n            <td class=\"param\">base_score&nbsp;</td>\n            <td class=\"value\">None</td>\n        </tr>\n    \n\n        <tr class=\"user-set\">\n            <td><i class=\"copy-paste-icon\"\n                 onclick=\"copyToClipboard('booster',\n                          this.parentElement.nextElementSibling)\"\n            ></i></td>\n            <td class=\"param\">booster&nbsp;</td>\n            <td class=\"value\">None</td>\n        </tr>\n    \n\n        <tr class=\"user-set\">\n            <td><i class=\"copy-paste-icon\"\n                 onclick=\"copyToClipboard('callbacks',\n                          this.parentElement.nextElementSibling)\"\n            ></i></td>\n            <td class=\"param\">callbacks&nbsp;</td>\n            <td class=\"value\">None</td>\n        </tr>\n    \n\n        <tr class=\"user-set\">\n            <td><i class=\"copy-paste-icon\"\n                 onclick=\"copyToClipboard('colsample_bylevel',\n                          this.parentElement.nextElementSibling)\"\n            ></i></td>\n            <td class=\"param\">colsample_bylevel&nbsp;</td>\n            <td class=\"value\">None</td>\n        </tr>\n    \n\n        <tr class=\"user-set\">\n            <td><i class=\"copy-paste-icon\"\n                 onclick=\"copyToClipboard('colsample_bynode',\n                          this.parentElement.nextElementSibling)\"\n            ></i></td>\n            <td class=\"param\">colsample_bynode&nbsp;</td>\n            <td class=\"value\">None</td>\n        </tr>\n    \n\n        <tr class=\"user-set\">\n            <td><i class=\"copy-paste-icon\"\n                 onclick=\"copyToClipboard('colsample_bytree',\n                          this.parentElement.nextElementSibling)\"\n            ></i></td>\n            <td class=\"param\">colsample_bytree&nbsp;</td>\n            <td class=\"value\">None</td>\n        </tr>\n    \n\n        <tr class=\"user-set\">\n            <td><i class=\"copy-paste-icon\"\n                 onclick=\"copyToClipboard('device',\n                          this.parentElement.nextElementSibling)\"\n            ></i></td>\n            <td class=\"param\">device&nbsp;</td>\n            <td class=\"value\">None</td>\n        </tr>\n    \n\n        <tr class=\"user-set\">\n            <td><i class=\"copy-paste-icon\"\n                 onclick=\"copyToClipboard('early_stopping_rounds',\n                          this.parentElement.nextElementSibling)\"\n            ></i></td>\n            <td class=\"param\">early_stopping_rounds&nbsp;</td>\n            <td class=\"value\">None</td>\n        </tr>\n    \n\n        <tr class=\"user-set\">\n            <td><i class=\"copy-paste-icon\"\n                 onclick=\"copyToClipboard('enable_categorical',\n                          this.parentElement.nextElementSibling)\"\n            ></i></td>\n            <td class=\"param\">enable_categorical&nbsp;</td>\n            <td class=\"value\">False</td>\n        </tr>\n    \n\n        <tr class=\"user-set\">\n            <td><i class=\"copy-paste-icon\"\n                 onclick=\"copyToClipboard('eval_metric',\n                          this.parentElement.nextElementSibling)\"\n            ></i></td>\n            <td class=\"param\">eval_metric&nbsp;</td>\n            <td class=\"value\">None</td>\n        </tr>\n    \n\n        <tr class=\"user-set\">\n            <td><i class=\"copy-paste-icon\"\n                 onclick=\"copyToClipboard('feature_types',\n                          this.parentElement.nextElementSibling)\"\n            ></i></td>\n            <td class=\"param\">feature_types&nbsp;</td>\n            <td class=\"value\">None</td>\n        </tr>\n    \n\n        <tr class=\"user-set\">\n            <td><i class=\"copy-paste-icon\"\n                 onclick=\"copyToClipboard('feature_weights',\n                          this.parentElement.nextElementSibling)\"\n            ></i></td>\n            <td class=\"param\">feature_weights&nbsp;</td>\n            <td class=\"value\">None</td>\n        </tr>\n    \n\n        <tr class=\"user-set\">\n            <td><i class=\"copy-paste-icon\"\n                 onclick=\"copyToClipboard('gamma',\n                          this.parentElement.nextElementSibling)\"\n            ></i></td>\n            <td class=\"param\">gamma&nbsp;</td>\n            <td class=\"value\">None</td>\n        </tr>\n    \n\n        <tr class=\"user-set\">\n            <td><i class=\"copy-paste-icon\"\n                 onclick=\"copyToClipboard('grow_policy',\n                          this.parentElement.nextElementSibling)\"\n            ></i></td>\n            <td class=\"param\">grow_policy&nbsp;</td>\n            <td class=\"value\">None</td>\n        </tr>\n    \n\n        <tr class=\"user-set\">\n            <td><i class=\"copy-paste-icon\"\n                 onclick=\"copyToClipboard('importance_type',\n                          this.parentElement.nextElementSibling)\"\n            ></i></td>\n            <td class=\"param\">importance_type&nbsp;</td>\n            <td class=\"value\">None</td>\n        </tr>\n    \n\n        <tr class=\"user-set\">\n            <td><i class=\"copy-paste-icon\"\n                 onclick=\"copyToClipboard('interaction_constraints',\n                          this.parentElement.nextElementSibling)\"\n            ></i></td>\n            <td class=\"param\">interaction_constraints&nbsp;</td>\n            <td class=\"value\">None</td>\n        </tr>\n    \n\n        <tr class=\"user-set\">\n            <td><i class=\"copy-paste-icon\"\n                 onclick=\"copyToClipboard('learning_rate',\n                          this.parentElement.nextElementSibling)\"\n            ></i></td>\n            <td class=\"param\">learning_rate&nbsp;</td>\n            <td class=\"value\">None</td>\n        </tr>\n    \n\n        <tr class=\"user-set\">\n            <td><i class=\"copy-paste-icon\"\n                 onclick=\"copyToClipboard('max_bin',\n                          this.parentElement.nextElementSibling)\"\n            ></i></td>\n            <td class=\"param\">max_bin&nbsp;</td>\n            <td class=\"value\">None</td>\n        </tr>\n    \n\n        <tr class=\"user-set\">\n            <td><i class=\"copy-paste-icon\"\n                 onclick=\"copyToClipboard('max_cat_threshold',\n                          this.parentElement.nextElementSibling)\"\n            ></i></td>\n            <td class=\"param\">max_cat_threshold&nbsp;</td>\n            <td class=\"value\">None</td>\n        </tr>\n    \n\n        <tr class=\"user-set\">\n            <td><i class=\"copy-paste-icon\"\n                 onclick=\"copyToClipboard('max_cat_to_onehot',\n                          this.parentElement.nextElementSibling)\"\n            ></i></td>\n            <td class=\"param\">max_cat_to_onehot&nbsp;</td>\n            <td class=\"value\">None</td>\n        </tr>\n    \n\n        <tr class=\"user-set\">\n            <td><i class=\"copy-paste-icon\"\n                 onclick=\"copyToClipboard('max_delta_step',\n                          this.parentElement.nextElementSibling)\"\n            ></i></td>\n            <td class=\"param\">max_delta_step&nbsp;</td>\n            <td class=\"value\">None</td>\n        </tr>\n    \n\n        <tr class=\"user-set\">\n            <td><i class=\"copy-paste-icon\"\n                 onclick=\"copyToClipboard('max_depth',\n                          this.parentElement.nextElementSibling)\"\n            ></i></td>\n            <td class=\"param\">max_depth&nbsp;</td>\n            <td class=\"value\">None</td>\n        </tr>\n    \n\n        <tr class=\"user-set\">\n            <td><i class=\"copy-paste-icon\"\n                 onclick=\"copyToClipboard('max_leaves',\n                          this.parentElement.nextElementSibling)\"\n            ></i></td>\n            <td class=\"param\">max_leaves&nbsp;</td>\n            <td class=\"value\">None</td>\n        </tr>\n    \n\n        <tr class=\"user-set\">\n            <td><i class=\"copy-paste-icon\"\n                 onclick=\"copyToClipboard('min_child_weight',\n                          this.parentElement.nextElementSibling)\"\n            ></i></td>\n            <td class=\"param\">min_child_weight&nbsp;</td>\n            <td class=\"value\">None</td>\n        </tr>\n    \n\n        <tr class=\"user-set\">\n            <td><i class=\"copy-paste-icon\"\n                 onclick=\"copyToClipboard('missing',\n                          this.parentElement.nextElementSibling)\"\n            ></i></td>\n            <td class=\"param\">missing&nbsp;</td>\n            <td class=\"value\">nan</td>\n        </tr>\n    \n\n        <tr class=\"user-set\">\n            <td><i class=\"copy-paste-icon\"\n                 onclick=\"copyToClipboard('monotone_constraints',\n                          this.parentElement.nextElementSibling)\"\n            ></i></td>\n            <td class=\"param\">monotone_constraints&nbsp;</td>\n            <td class=\"value\">None</td>\n        </tr>\n    \n\n        <tr class=\"user-set\">\n            <td><i class=\"copy-paste-icon\"\n                 onclick=\"copyToClipboard('multi_strategy',\n                          this.parentElement.nextElementSibling)\"\n            ></i></td>\n            <td class=\"param\">multi_strategy&nbsp;</td>\n            <td class=\"value\">None</td>\n        </tr>\n    \n\n        <tr class=\"user-set\">\n            <td><i class=\"copy-paste-icon\"\n                 onclick=\"copyToClipboard('n_estimators',\n                          this.parentElement.nextElementSibling)\"\n            ></i></td>\n            <td class=\"param\">n_estimators&nbsp;</td>\n            <td class=\"value\">None</td>\n        </tr>\n    \n\n        <tr class=\"user-set\">\n            <td><i class=\"copy-paste-icon\"\n                 onclick=\"copyToClipboard('n_jobs',\n                          this.parentElement.nextElementSibling)\"\n            ></i></td>\n            <td class=\"param\">n_jobs&nbsp;</td>\n            <td class=\"value\">None</td>\n        </tr>\n    \n\n        <tr class=\"user-set\">\n            <td><i class=\"copy-paste-icon\"\n                 onclick=\"copyToClipboard('num_parallel_tree',\n                          this.parentElement.nextElementSibling)\"\n            ></i></td>\n            <td class=\"param\">num_parallel_tree&nbsp;</td>\n            <td class=\"value\">None</td>\n        </tr>\n    \n\n        <tr class=\"user-set\">\n            <td><i class=\"copy-paste-icon\"\n                 onclick=\"copyToClipboard('random_state',\n                          this.parentElement.nextElementSibling)\"\n            ></i></td>\n            <td class=\"param\">random_state&nbsp;</td>\n            <td class=\"value\">None</td>\n        </tr>\n    \n\n        <tr class=\"user-set\">\n            <td><i class=\"copy-paste-icon\"\n                 onclick=\"copyToClipboard('reg_alpha',\n                          this.parentElement.nextElementSibling)\"\n            ></i></td>\n            <td class=\"param\">reg_alpha&nbsp;</td>\n            <td class=\"value\">None</td>\n        </tr>\n    \n\n        <tr class=\"user-set\">\n            <td><i class=\"copy-paste-icon\"\n                 onclick=\"copyToClipboard('reg_lambda',\n                          this.parentElement.nextElementSibling)\"\n            ></i></td>\n            <td class=\"param\">reg_lambda&nbsp;</td>\n            <td class=\"value\">None</td>\n        </tr>\n    \n\n        <tr class=\"user-set\">\n            <td><i class=\"copy-paste-icon\"\n                 onclick=\"copyToClipboard('sampling_method',\n                          this.parentElement.nextElementSibling)\"\n            ></i></td>\n            <td class=\"param\">sampling_method&nbsp;</td>\n            <td class=\"value\">None</td>\n        </tr>\n    \n\n        <tr class=\"user-set\">\n            <td><i class=\"copy-paste-icon\"\n                 onclick=\"copyToClipboard('scale_pos_weight',\n                          this.parentElement.nextElementSibling)\"\n            ></i></td>\n            <td class=\"param\">scale_pos_weight&nbsp;</td>\n            <td class=\"value\">None</td>\n        </tr>\n    \n\n        <tr class=\"user-set\">\n            <td><i class=\"copy-paste-icon\"\n                 onclick=\"copyToClipboard('subsample',\n                          this.parentElement.nextElementSibling)\"\n            ></i></td>\n            <td class=\"param\">subsample&nbsp;</td>\n            <td class=\"value\">None</td>\n        </tr>\n    \n\n        <tr class=\"user-set\">\n            <td><i class=\"copy-paste-icon\"\n                 onclick=\"copyToClipboard('tree_method',\n                          this.parentElement.nextElementSibling)\"\n            ></i></td>\n            <td class=\"param\">tree_method&nbsp;</td>\n            <td class=\"value\">None</td>\n        </tr>\n    \n\n        <tr class=\"user-set\">\n            <td><i class=\"copy-paste-icon\"\n                 onclick=\"copyToClipboard('validate_parameters',\n                          this.parentElement.nextElementSibling)\"\n            ></i></td>\n            <td class=\"param\">validate_parameters&nbsp;</td>\n            <td class=\"value\">None</td>\n        </tr>\n    \n\n        <tr class=\"user-set\">\n            <td><i class=\"copy-paste-icon\"\n                 onclick=\"copyToClipboard('verbosity',\n                          this.parentElement.nextElementSibling)\"\n            ></i></td>\n            <td class=\"param\">verbosity&nbsp;</td>\n            <td class=\"value\">None</td>\n        </tr>\n    \n                  </tbody>\n                </table>\n            </details>\n        </div>\n    </div></div></div></div></div><script>function copyToClipboard(text, element) {\n    // Get the parameter prefix from the closest toggleable content\n    const toggleableContent = element.closest('.sk-toggleable__content');\n    const paramPrefix = toggleableContent ? toggleableContent.dataset.paramPrefix : '';\n    const fullParamName = paramPrefix ? `${paramPrefix}${text}` : text;\n\n    const originalStyle = element.style;\n    const computedStyle = window.getComputedStyle(element);\n    const originalWidth = computedStyle.width;\n    const originalHTML = element.innerHTML.replace('Copied!', '');\n\n    navigator.clipboard.writeText(fullParamName)\n        .then(() => {\n            element.style.width = originalWidth;\n            element.style.color = 'green';\n            element.innerHTML = \"Copied!\";\n\n            setTimeout(() => {\n                element.innerHTML = originalHTML;\n                element.style = originalStyle;\n            }, 2000);\n        })\n        .catch(err => {\n            console.error('Failed to copy:', err);\n            element.style.color = 'red';\n            element.innerHTML = \"Failed!\";\n            setTimeout(() => {\n                element.innerHTML = originalHTML;\n                element.style = originalStyle;\n            }, 2000);\n        });\n    return false;\n}\n\ndocument.querySelectorAll('.fa-regular.fa-copy').forEach(function(element) {\n    const toggleableContent = element.closest('.sk-toggleable__content');\n    const paramPrefix = toggleableContent ? toggleableContent.dataset.paramPrefix : '';\n    const paramName = element.parentElement.nextElementSibling.textContent.trim();\n    const fullParamName = paramPrefix ? `${paramPrefix}${paramName}` : paramName;\n\n    element.setAttribute('title', fullParamName);\n});\n</script></body>"
     },
     "execution_count": 70,
     "metadata": {},
     "output_type": "execute_result"
    }
   ],
   "source": [
    "model = xgb.XGBRegressor()\n",
    "model.fit(X_fe_train, y_fe_train)"
   ],
   "metadata": {
    "collapsed": false,
    "ExecuteTime": {
     "end_time": "2025-07-29T14:45:24.947618100Z",
     "start_time": "2025-07-29T14:45:23.717697300Z"
    }
   },
   "id": "ef250fe1b7b8f150"
  },
  {
   "cell_type": "code",
   "execution_count": 71,
   "outputs": [
    {
     "name": "stdout",
     "output_type": "stream",
     "text": [
      "RMSE: 0.8776266747620363\n"
     ]
    }
   ],
   "source": [
    "y_fe_pred = model.predict(X_fe_test)\n",
    "print(\"RMSE:\", root_mean_squared_error(y_fe_test, y_fe_pred))"
   ],
   "metadata": {
    "collapsed": false,
    "ExecuteTime": {
     "end_time": "2025-07-29T14:45:25.077065Z",
     "start_time": "2025-07-29T14:45:24.946701600Z"
    }
   },
   "id": "76afe3b839176e92"
  },
  {
   "cell_type": "markdown",
   "source": [
    "# Prediction Framework"
   ],
   "metadata": {
    "collapsed": false
   },
   "id": "deeb2275f999c753"
  },
  {
   "cell_type": "code",
   "execution_count": 72,
   "outputs": [],
   "source": [
    "def build_prediction_rows(df, matchups, lineup_dir, rolling_n=20):\n",
    "    rows = []\n",
    "    for team_id, enemy_team_id in matchups:\n",
    "        lineup_path = os.path.join(lineup_dir, f\"team_lineup_{team_id}.json\")\n",
    "        if not os.path.exists(lineup_path):\n",
    "            subprocess.run([\"python\", \"get_current_lineups.py\", str(team_id)])\n",
    "        if not os.path.exists(lineup_path):\n",
    "            continue  # Skip if still missing\n",
    "        with open(lineup_path, \"r\", encoding=\"utf-8\") as f:\n",
    "            lineup = [p for p in json.load(f) if p.get(\"is_current_team_member\")]\n",
    "        for player in lineup:\n",
    "            account_id = str(player[\"account_id\"])\n",
    "            player_hist = df[df[\"account_id\"] == account_id].sort_values(\"match_start_time\")\n",
    "            if player_hist.empty:\n",
    "                continue\n",
    "            numeric_cols = player_hist.select_dtypes(include='number').columns.difference(\n",
    "                ['match_id', 'account_id', 'radiant_team_id', 'dire_team_id', 'team_id', 'enemy_team_id', 'match_start_time']\n",
    "            )\n",
    "            rolling = player_hist[numeric_cols].tail(rolling_n).mean()\n",
    "            row = player_hist.iloc[-1].copy()\n",
    "            row[numeric_cols] = rolling\n",
    "            row[\"team_id\"] = team_id\n",
    "            row[\"enemy_team_id\"] = enemy_team_id\n",
    "            rows.append(row)\n",
    "    return pd.DataFrame(rows)"
   ],
   "metadata": {
    "collapsed": false,
    "ExecuteTime": {
     "end_time": "2025-07-29T14:45:25.094338400Z",
     "start_time": "2025-07-29T14:45:25.077065Z"
    }
   },
   "id": "23c3bf0c51e90589"
  },
  {
   "cell_type": "code",
   "execution_count": 73,
   "id": "c2413ac6",
   "metadata": {
    "ExecuteTime": {
     "end_time": "2025-07-29T14:45:25.107358500Z",
     "start_time": "2025-07-29T14:45:25.090270800Z"
    }
   },
   "outputs": [],
   "source": [
    "def predict_players_for_matchups(df, model, matchup_list, X, not_features, lineup_dir=\"data/lineups\", rolling_n=20):\n",
    "    # Ensure all lineup files exist (call API if not)\n",
    "    team_ids = set()\n",
    "    for t1, t2 in matchup_list:\n",
    "        team_ids.add(t1)\n",
    "        team_ids.add(t2)\n",
    "    for team_id in team_ids:\n",
    "        lineup_path = os.path.join(lineup_dir, f\"team_lineup_{team_id}.json\")\n",
    "        if not os.path.exists(lineup_path):\n",
    "            subprocess.run([\"python\", \"get_current_lineups.py\", str(team_id)])\n",
    "    \n",
    "    # Build synthetic prediction rows\n",
    "    pred_df = build_prediction_rows(df, matchup_list, lineup_dir, rolling_n=rolling_n)\n",
    "    if pred_df.empty:\n",
    "        print(\"No eligible players found for the given matchups.\")\n",
    "        return pd.DataFrame()\n",
    "    # Prepare features (same as training)\n",
    "    X_pred = pred_df.drop(columns=not_features)\n",
    "    X_pred = pd.get_dummies(X_pred, columns=['fantasy_role', 'hero_id', 'hero_variant', 'account_id', 'team_id', 'enemy_team_id'])\n",
    "    X_pred = X_pred.reindex(columns=X.columns, fill_value=0)\n",
    "    # print(X_pred.filter(like='enemy_team_id').head(10)) # Debugger, shows the dummy encoded enemy_team variable.\n",
    "    # More debugging\n",
    "    #rows = X_pred[X_pred['account_id_847565596'] == 1]  # print dummies for \"rue\"\n",
    "    #print(rows[['enemy_team_id_7119388', 'enemy_team_id_8261500', 'enemy_team_id_8597976']])\n",
    "    \n",
    "    pred_df['predicted_fantasy_score'] = model.predict(X_pred) # Predict fantasy scores\n",
    "    return pred_df[['account_id', 'name', 'fantasy_role', 'team_id', 'enemy_team_id', 'predicted_fantasy_score']]"
   ]
  },
  {
   "cell_type": "code",
   "execution_count": 74,
   "outputs": [],
   "source": [
    "def make_symmetric_matchups(matchups):\n",
    "    symmetric = []\n",
    "    for t1, t2 in matchups:\n",
    "        symmetric.append((t1, t2))\n",
    "        symmetric.append((t2, t1))\n",
    "    return symmetric"
   ],
   "metadata": {
    "collapsed": false,
    "ExecuteTime": {
     "end_time": "2025-07-29T14:45:25.141729700Z",
     "start_time": "2025-07-29T14:45:25.102765100Z"
    }
   },
   "id": "8c6f16c95ec57f87"
  },
  {
   "cell_type": "code",
   "execution_count": 75,
   "outputs": [
    {
     "ename": "ValueError",
     "evalue": "feature_names mismatch: ['isRadiant', 'duration', 'win', 'kills', 'deaths', 'last_hits', 'denies', 'gold_per_min', 'towers_killed', 'roshans_killed', 'teamfight_participation', 'obs_placed', 'camps_stacked', 'rune_pickups', 'firstblood_claimed', 'stuns', 'creeps_stacked', 'assists', 'xp_per_min', 'lane_efficiency', 'glicko2_rating', 'enemy_glicko2_rating', 'rating_advantage', 'rolling_winrate_10', 'rolling_winrate_15', 'rolling_fantasy_score_10', 'rolling_fantasy_score_15', 'rolling_enemy_glicko2_10', 'rolling_enemy_glicko2_15', 'enemy_avg_fantasy_score', 'fantasy_role_Core', 'fantasy_role_Mid', 'fantasy_role_Support', 'hero_id_1', 'hero_id_10', 'hero_id_100', 'hero_id_101', 'hero_id_102', 'hero_id_103', 'hero_id_104', 'hero_id_105', 'hero_id_106', 'hero_id_107', 'hero_id_108', 'hero_id_109', 'hero_id_11', 'hero_id_110', 'hero_id_111', 'hero_id_112', 'hero_id_113', 'hero_id_114', 'hero_id_119', 'hero_id_12', 'hero_id_120', 'hero_id_121', 'hero_id_123', 'hero_id_126', 'hero_id_128', 'hero_id_129', 'hero_id_13', 'hero_id_131', 'hero_id_135', 'hero_id_136', 'hero_id_137', 'hero_id_138', 'hero_id_14', 'hero_id_15', 'hero_id_16', 'hero_id_17', 'hero_id_18', 'hero_id_19', 'hero_id_2', 'hero_id_20', 'hero_id_21', 'hero_id_22', 'hero_id_23', 'hero_id_25', 'hero_id_26', 'hero_id_27', 'hero_id_28', 'hero_id_29', 'hero_id_3', 'hero_id_30', 'hero_id_31', 'hero_id_32', 'hero_id_33', 'hero_id_34', 'hero_id_35', 'hero_id_36', 'hero_id_37', 'hero_id_38', 'hero_id_39', 'hero_id_4', 'hero_id_40', 'hero_id_41', 'hero_id_42', 'hero_id_43', 'hero_id_44', 'hero_id_45', 'hero_id_46', 'hero_id_47', 'hero_id_48', 'hero_id_49', 'hero_id_5', 'hero_id_50', 'hero_id_51', 'hero_id_52', 'hero_id_53', 'hero_id_54', 'hero_id_55', 'hero_id_56', 'hero_id_57', 'hero_id_58', 'hero_id_59', 'hero_id_6', 'hero_id_60', 'hero_id_61', 'hero_id_62', 'hero_id_63', 'hero_id_64', 'hero_id_65', 'hero_id_66', 'hero_id_67', 'hero_id_68', 'hero_id_69', 'hero_id_7', 'hero_id_70', 'hero_id_71', 'hero_id_72', 'hero_id_73', 'hero_id_74', 'hero_id_75', 'hero_id_76', 'hero_id_77', 'hero_id_78', 'hero_id_79', 'hero_id_8', 'hero_id_80', 'hero_id_81', 'hero_id_82', 'hero_id_83', 'hero_id_84', 'hero_id_85', 'hero_id_86', 'hero_id_87', 'hero_id_88', 'hero_id_89', 'hero_id_9', 'hero_id_90', 'hero_id_91', 'hero_id_92', 'hero_id_93', 'hero_id_94', 'hero_id_95', 'hero_id_96', 'hero_id_97', 'hero_id_98', 'hero_id_99', 'hero_variant_1, 2', 'hero_variant_10, 1', 'hero_variant_10, 2', 'hero_variant_100, 1', 'hero_variant_100, 2', 'hero_variant_101, 1', 'hero_variant_102, 1', 'hero_variant_102, 2', 'hero_variant_103, 1', 'hero_variant_103, 2', 'hero_variant_104, 1', 'hero_variant_104, 2', 'hero_variant_105, 1', 'hero_variant_105, 2', 'hero_variant_105, 3', 'hero_variant_106, 1', 'hero_variant_106, 2', 'hero_variant_107, 1', 'hero_variant_107, 2', 'hero_variant_107, 3', 'hero_variant_108, 1', 'hero_variant_108, 2', 'hero_variant_109, 1', 'hero_variant_109, 2', 'hero_variant_11, 1', 'hero_variant_11, 2', 'hero_variant_110, 1', 'hero_variant_110, 2', 'hero_variant_111, 1', 'hero_variant_111, 2', 'hero_variant_112, 1', 'hero_variant_112, 2', 'hero_variant_112, 3', 'hero_variant_112, 4', 'hero_variant_113, 3', 'hero_variant_113, 4', 'hero_variant_114, 1', 'hero_variant_114, 2', 'hero_variant_114, 3', 'hero_variant_119, 1', 'hero_variant_119, 2', 'hero_variant_119, 3', 'hero_variant_12, 3', 'hero_variant_120, 1', 'hero_variant_120, 2', 'hero_variant_121, 1', 'hero_variant_121, 2', 'hero_variant_123, 1', 'hero_variant_123, 2', 'hero_variant_123, 3', 'hero_variant_126, 1', 'hero_variant_126, 3', 'hero_variant_128, 1', 'hero_variant_128, 2', 'hero_variant_129, 1', 'hero_variant_129, 2', 'hero_variant_13, 1', 'hero_variant_13, 2', 'hero_variant_131, 2', 'hero_variant_131, 3', 'hero_variant_135, 1', 'hero_variant_135, 2', 'hero_variant_135, 3', 'hero_variant_135, 4', 'hero_variant_136, 1', 'hero_variant_136, 2', 'hero_variant_136, 3', 'hero_variant_136, 4', 'hero_variant_136, 5', 'hero_variant_137, 1', 'hero_variant_137, 2', 'hero_variant_137, 3', 'hero_variant_138, 1', 'hero_variant_138, 2', 'hero_variant_138, 3', 'hero_variant_14, 2', 'hero_variant_14, 3', 'hero_variant_15, 1', 'hero_variant_15, 2', 'hero_variant_16, 1', 'hero_variant_16, 2', 'hero_variant_16, 3', 'hero_variant_16, 4', 'hero_variant_17, 1', 'hero_variant_17, 2', 'hero_variant_18, 1', 'hero_variant_18, 2', 'hero_variant_19, 1', 'hero_variant_19, 2', 'hero_variant_2, 1', 'hero_variant_2, 2', 'hero_variant_20, 2', 'hero_variant_21, 2', 'hero_variant_21, 3', 'hero_variant_21, 4', 'hero_variant_21, 5', 'hero_variant_22, 1', 'hero_variant_22, 2', 'hero_variant_23, 1', 'hero_variant_23, 2', 'hero_variant_25, 1', 'hero_variant_25, 2', 'hero_variant_26, 1', 'hero_variant_26, 2', 'hero_variant_27, 1', 'hero_variant_27, 2', 'hero_variant_27, 3', 'hero_variant_28, 1', 'hero_variant_28, 2', 'hero_variant_29, 1', 'hero_variant_29, 2', 'hero_variant_3, 1', 'hero_variant_3, 2', 'hero_variant_30, 1', 'hero_variant_30, 4', 'hero_variant_31, 1', 'hero_variant_31, 2', 'hero_variant_31, 3', 'hero_variant_32, 1', 'hero_variant_32, 2', 'hero_variant_33, 1', 'hero_variant_33, 2', 'hero_variant_34, 1', 'hero_variant_34, 2', 'hero_variant_35, 1', 'hero_variant_35, 2', 'hero_variant_36, 1', 'hero_variant_36, 2', 'hero_variant_37, 2', 'hero_variant_38, 1', 'hero_variant_38, 2', 'hero_variant_39, 2', 'hero_variant_39, 3', 'hero_variant_4, 1', 'hero_variant_4, 2', 'hero_variant_4, 3', 'hero_variant_40, 1', 'hero_variant_40, 2', 'hero_variant_41, 2', 'hero_variant_41, 3', 'hero_variant_42, 1', 'hero_variant_42, 2', 'hero_variant_43, 1', 'hero_variant_43, 2', 'hero_variant_43, 3', 'hero_variant_44, 1', 'hero_variant_44, 2', 'hero_variant_44, 3', 'hero_variant_45, 1', 'hero_variant_46, 1', 'hero_variant_46, 2', 'hero_variant_46, 3', 'hero_variant_47, 1', 'hero_variant_47, 2', 'hero_variant_48, 2', 'hero_variant_48, 3', 'hero_variant_49, 1', 'hero_variant_49, 2', 'hero_variant_49, 3', 'hero_variant_5, 1', 'hero_variant_5, 2', 'hero_variant_5, 3', 'hero_variant_5, 4', 'hero_variant_50, 1', 'hero_variant_50, 2', 'hero_variant_51, 1', 'hero_variant_51, 2', 'hero_variant_52, 1', 'hero_variant_52, 2', 'hero_variant_53, 1', 'hero_variant_53, 2', 'hero_variant_54, 2', 'hero_variant_54, 4', 'hero_variant_54, 5', 'hero_variant_55, 1', 'hero_variant_55, 2', 'hero_variant_56, 1', 'hero_variant_56, 2', 'hero_variant_57, 1', 'hero_variant_57, 2', 'hero_variant_58, 1', 'hero_variant_58, 2', 'hero_variant_59, 1', 'hero_variant_59, 3', 'hero_variant_59, 4', 'hero_variant_6, 1', 'hero_variant_6, 2', 'hero_variant_60, 1', 'hero_variant_60, 2', 'hero_variant_60, 3', 'hero_variant_61, 1', 'hero_variant_61, 2', 'hero_variant_62, 1', 'hero_variant_62, 2', 'hero_variant_63, 1', 'hero_variant_63, 2', 'hero_variant_64, 1', 'hero_variant_64, 2', 'hero_variant_64, 3', 'hero_variant_64, 4', 'hero_variant_65, 1', 'hero_variant_65, 2', 'hero_variant_66, 3', 'hero_variant_66, 5', 'hero_variant_67, 2', 'hero_variant_68, 1', 'hero_variant_68, 2', 'hero_variant_69, 1', 'hero_variant_69, 2', 'hero_variant_7, 1', 'hero_variant_7, 2', 'hero_variant_7, 3', 'hero_variant_70, 1', 'hero_variant_70, 2', 'hero_variant_71, 1', 'hero_variant_72, 1', 'hero_variant_72, 2', 'hero_variant_73, 1', 'hero_variant_73, 2', 'hero_variant_74, 1', 'hero_variant_74, 2', 'hero_variant_74, 3', 'hero_variant_74, 5', 'hero_variant_75, 2', 'hero_variant_75, 3', 'hero_variant_75, 4', 'hero_variant_76, 1', 'hero_variant_76, 2', 'hero_variant_77, 1', 'hero_variant_77, 3', 'hero_variant_78, 1', 'hero_variant_78, 2', 'hero_variant_79, 1', 'hero_variant_79, 2', 'hero_variant_8, 1', 'hero_variant_8, 2', 'hero_variant_80, 3', 'hero_variant_81, 1', 'hero_variant_81, 2', 'hero_variant_81, 3', 'hero_variant_81, 4', 'hero_variant_82, 1', 'hero_variant_82, 2', 'hero_variant_83, 1', 'hero_variant_83, 2', 'hero_variant_84, 1', 'hero_variant_84, 2', 'hero_variant_85, 1', 'hero_variant_85, 2', 'hero_variant_86, 1', 'hero_variant_86, 2', 'hero_variant_87, 1', 'hero_variant_87, 2', 'hero_variant_88, 1', 'hero_variant_88, 2', 'hero_variant_89, 1', 'hero_variant_89, 2', 'hero_variant_9, 2', 'hero_variant_9, 3', 'hero_variant_90, 1', 'hero_variant_90, 2', 'hero_variant_91, 1', 'hero_variant_91, 2', 'hero_variant_92, 1', 'hero_variant_92, 3', 'hero_variant_93, 1', 'hero_variant_93, 2', 'hero_variant_94, 1', 'hero_variant_94, 3', 'hero_variant_94, 4', 'hero_variant_95, 1', 'hero_variant_95, 2', 'hero_variant_96, 1', 'hero_variant_96, 2', 'hero_variant_97, 2', 'hero_variant_97, 3', 'hero_variant_97, 4', 'hero_variant_98, 1', 'hero_variant_98, 2', 'hero_variant_99, 2', 'hero_variant_99, 3', 'account_id_100058342', 'account_id_100471531', 'account_id_100594231', 'account_id_100616105', 'account_id_101259972', 'account_id_101356886', 'account_id_1031547092', 'account_id_10366616', 'account_id_103735745', 'account_id_104334048', 'account_id_1044002267', 'account_id_104512126', 'account_id_105248644', 'account_id_106305042', 'account_id_106573901', 'account_id_106755427', 'account_id_108958769', 'account_id_109757023', 'account_id_110583422', 'account_id_111030315', 'account_id_111114687', 'account_id_111620041', 'account_id_113331514', 'account_id_1150772339', 'account_id_115464954', 'account_id_115651292', 'account_id_116585378', 'account_id_116934015', 'account_id_117089283', 'account_id_1171243748', 'account_id_117514269', 'account_id_118134220', 'account_id_118948666', 'account_id_120613892', 'account_id_122817493', 'account_id_123787715', 'account_id_124801257', 'account_id_125445069', 'account_id_126212866', 'account_id_126238768', 'account_id_126842529', 'account_id_127565532', 'account_id_127617979', 'account_id_129958758', 'account_id_130991304', 'account_id_131303632', 'account_id_132851371', 'account_id_134556694', 'account_id_136829091', 'account_id_137129583', 'account_id_137193239', 'account_id_138177198', 'account_id_138543123', 'account_id_138857296', 'account_id_138880576', 'account_id_139031324', 'account_id_140251702', 'account_id_140288368', 'account_id_140297552', 'account_id_143693439', 'account_id_145957968', 'account_id_146711951', 'account_id_147767183', 'account_id_148215639', 'account_id_148526973', 'account_id_150961567', 'account_id_152168157', 'account_id_152455523', 'account_id_152859296', 'account_id_152962063', 'account_id_154715080', 'account_id_154974246', 'account_id_155162307', 'account_id_155332459', 'account_id_155494381', 'account_id_156328257', 'account_id_157475523', 'account_id_157989498', 'account_id_158847773', 'account_id_160119017', 'account_id_161839895', 'account_id_164199202', 'account_id_164532005', 'account_id_164685175', 'account_id_164962869', 'account_id_16497807', 'account_id_165564598', 'account_id_1657135701', 'account_id_167976729', 'account_id_168028715', 'account_id_168126336', 'account_id_170896543', 'account_id_171097887', 'account_id_171262902', 'account_id_172099728', 'account_id_173978074', 'account_id_175311897', 'account_id_177203952', 'account_id_177411785', 'account_id_177953305', 'account_id_179313961', 'account_id_181267255', 'account_id_183378746', 'account_id_183719386', 'account_id_184950344', 'account_id_185202677', 'account_id_185590374', 'account_id_185908355', 'account_id_190826739', 'account_id_191362875', 'account_id_191597529', 'account_id_193815691', 'account_id_193884241', 'account_id_195108598', 'account_id_196878136', 'account_id_201358612', 'account_id_202217968', 'account_id_203351055', 'account_id_206642367', 'account_id_207829314', 'account_id_208181197', 'account_id_210053851', 'account_id_221666230', 'account_id_223342537', 'account_id_230487729', 'account_id_238239590', 'account_id_241884166', 'account_id_248180032', 'account_id_249835593', 'account_id_256156323', 'account_id_25907144', 'account_id_27178898', 'account_id_292921272', 'account_id_293904640', 'account_id_295697470', 'account_id_301750126', 'account_id_302214028', 'account_id_308163407', 'account_id_312436974', 'account_id_317880638', 'account_id_320219866', 'account_id_320252024', 'account_id_321580662', 'account_id_324277900', 'account_id_330534326', 'account_id_331855530', 'account_id_333351042', 'account_id_337575662', 'account_id_339235645', 'account_id_343084576', 'account_id_346412363', 'account_id_349310876', 'account_id_352545711', 'account_id_355168766', 'account_id_363739653', 'account_id_369342470', 'account_id_375507918', 'account_id_389022189', 'account_id_392006194', 'account_id_392169957', 'account_id_392565237', 'account_id_399804216', 'account_id_399862798', 'account_id_399920568', 'account_id_408729743', 'account_id_417235485', 'account_id_425588742', 'account_id_431770905', 'account_id_439345730', 'account_id_458287006', 'account_id_480412663', 'account_id_48823667', 'account_id_489696354', 'account_id_50580004', 'account_id_54580962', 'account_id_56351509', 'account_id_58513047', 'account_id_73401082', 'account_id_76904792', 'account_id_77490514', 'account_id_81306398', 'account_id_81475303', 'account_id_82262664', 'account_id_835864135', 'account_id_847565596', 'account_id_85696663', 'account_id_858106446', 'account_id_861414087', 'account_id_86698277', 'account_id_86822085', 'account_id_87063175', 'account_id_87278757', 'account_id_88271237', 'account_id_898455820', 'account_id_898754153', 'account_id_904131336', 'account_id_90423751', 'account_id_91730177', 'account_id_919735867', 'account_id_93618577', 'account_id_93817671', 'account_id_9403474', 'account_id_94054712', 'account_id_94155156', 'account_id_94296097', 'account_id_94786276', 'account_id_957204049', 'account_id_96183976', 'account_id_96803083', 'account_id_97590558', 'account_id_97658618', 'team_id_111474', 'team_id_2163', 'team_id_2586976', 'team_id_36', 'team_id_39', 'team_id_5', 'team_id_7119388', 'team_id_7422789', 'team_id_7554697', 'team_id_7732977', 'team_id_8254145', 'team_id_8254400', 'team_id_8255888', 'team_id_8261500', 'team_id_8291895', 'team_id_8375259', 'team_id_8574561', 'team_id_8597976', 'team_id_8599101', 'team_id_8605863', 'team_id_8728920', 'team_id_9017006', 'team_id_9080405', 'team_id_9131584', 'team_id_9247354', 'team_id_9255039', 'team_id_9303383', 'team_id_9303484', 'team_id_9338413', 'team_id_9351740', 'team_id_9381678', 'team_id_9467224', 'team_id_9498970', 'team_id_9545759', 'team_id_9572001', 'team_id_9593895', 'team_id_9634742', 'team_id_9640842', 'team_id_9651185', 'team_id_9651814', 'team_id_9678064', 'team_id_9699533', 'team_id_9729720', 'team_id_9741253', 'team_id_9766941', 'team_id_9780800', 'team_id_9823272', 'team_id_9824702', 'team_id_9828954', 'enemy_team_id_111474', 'enemy_team_id_2163', 'enemy_team_id_2586976', 'enemy_team_id_36', 'enemy_team_id_39', 'enemy_team_id_5', 'enemy_team_id_7119388', 'enemy_team_id_7422789', 'enemy_team_id_7554697', 'enemy_team_id_7732977', 'enemy_team_id_8254145', 'enemy_team_id_8254400', 'enemy_team_id_8255888', 'enemy_team_id_8261500', 'enemy_team_id_8291895', 'enemy_team_id_8375259', 'enemy_team_id_8574561', 'enemy_team_id_8597976', 'enemy_team_id_8599101', 'enemy_team_id_8605863', 'enemy_team_id_8728920', 'enemy_team_id_9017006', 'enemy_team_id_9080405', 'enemy_team_id_9131584', 'enemy_team_id_9247354', 'enemy_team_id_9255039', 'enemy_team_id_9303383', 'enemy_team_id_9303484', 'enemy_team_id_9338413', 'enemy_team_id_9351740', 'enemy_team_id_9381678', 'enemy_team_id_9467224', 'enemy_team_id_9498970', 'enemy_team_id_9530947', 'enemy_team_id_9545759', 'enemy_team_id_9572001', 'enemy_team_id_9593895', 'enemy_team_id_9634742', 'enemy_team_id_9640842', 'enemy_team_id_9651185', 'enemy_team_id_9651814', 'enemy_team_id_9678064', 'enemy_team_id_9699533', 'enemy_team_id_9729720', 'enemy_team_id_9741253', 'enemy_team_id_9766941', 'enemy_team_id_9780800', 'enemy_team_id_9823272', 'enemy_team_id_9824702', 'enemy_team_id_9828954'] ['isRadiant', 'duration', 'win', 'kills', 'deaths', 'last_hits', 'denies', 'gold_per_min', 'towers_killed', 'roshans_killed', 'teamfight_participation', 'obs_placed', 'camps_stacked', 'rune_pickups', 'firstblood_claimed', 'stuns', 'creeps_stacked', 'assists', 'xp_per_min', 'lane_efficiency', 'glicko2_rating', 'enemy_glicko2_rating', 'rating_advantage', 'enemy_avg_fantasy_score', 'fantasy_role_Core', 'fantasy_role_Mid', 'fantasy_role_Support', 'hero_id_1', 'hero_id_10', 'hero_id_100', 'hero_id_101', 'hero_id_102', 'hero_id_103', 'hero_id_104', 'hero_id_105', 'hero_id_106', 'hero_id_107', 'hero_id_108', 'hero_id_109', 'hero_id_11', 'hero_id_110', 'hero_id_111', 'hero_id_112', 'hero_id_113', 'hero_id_114', 'hero_id_119', 'hero_id_12', 'hero_id_120', 'hero_id_121', 'hero_id_123', 'hero_id_126', 'hero_id_128', 'hero_id_129', 'hero_id_13', 'hero_id_131', 'hero_id_135', 'hero_id_136', 'hero_id_137', 'hero_id_138', 'hero_id_14', 'hero_id_15', 'hero_id_16', 'hero_id_17', 'hero_id_18', 'hero_id_19', 'hero_id_2', 'hero_id_20', 'hero_id_21', 'hero_id_22', 'hero_id_23', 'hero_id_25', 'hero_id_26', 'hero_id_27', 'hero_id_28', 'hero_id_29', 'hero_id_3', 'hero_id_30', 'hero_id_31', 'hero_id_32', 'hero_id_33', 'hero_id_34', 'hero_id_35', 'hero_id_36', 'hero_id_37', 'hero_id_38', 'hero_id_39', 'hero_id_4', 'hero_id_40', 'hero_id_41', 'hero_id_42', 'hero_id_43', 'hero_id_44', 'hero_id_45', 'hero_id_46', 'hero_id_47', 'hero_id_48', 'hero_id_49', 'hero_id_5', 'hero_id_50', 'hero_id_51', 'hero_id_52', 'hero_id_53', 'hero_id_54', 'hero_id_55', 'hero_id_56', 'hero_id_57', 'hero_id_58', 'hero_id_59', 'hero_id_6', 'hero_id_60', 'hero_id_61', 'hero_id_62', 'hero_id_63', 'hero_id_64', 'hero_id_65', 'hero_id_66', 'hero_id_67', 'hero_id_68', 'hero_id_69', 'hero_id_7', 'hero_id_70', 'hero_id_71', 'hero_id_72', 'hero_id_73', 'hero_id_74', 'hero_id_75', 'hero_id_76', 'hero_id_77', 'hero_id_78', 'hero_id_79', 'hero_id_8', 'hero_id_80', 'hero_id_81', 'hero_id_82', 'hero_id_83', 'hero_id_84', 'hero_id_85', 'hero_id_86', 'hero_id_87', 'hero_id_88', 'hero_id_89', 'hero_id_9', 'hero_id_90', 'hero_id_91', 'hero_id_92', 'hero_id_93', 'hero_id_94', 'hero_id_95', 'hero_id_96', 'hero_id_97', 'hero_id_98', 'hero_id_99', 'hero_variant_1, 2', 'hero_variant_10, 1', 'hero_variant_10, 2', 'hero_variant_100, 1', 'hero_variant_100, 2', 'hero_variant_101, 1', 'hero_variant_102, 1', 'hero_variant_102, 2', 'hero_variant_103, 1', 'hero_variant_103, 2', 'hero_variant_104, 1', 'hero_variant_104, 2', 'hero_variant_105, 1', 'hero_variant_105, 2', 'hero_variant_105, 3', 'hero_variant_106, 1', 'hero_variant_106, 2', 'hero_variant_107, 1', 'hero_variant_107, 2', 'hero_variant_107, 3', 'hero_variant_108, 1', 'hero_variant_108, 2', 'hero_variant_109, 1', 'hero_variant_109, 2', 'hero_variant_11, 1', 'hero_variant_11, 2', 'hero_variant_110, 1', 'hero_variant_110, 2', 'hero_variant_111, 1', 'hero_variant_111, 2', 'hero_variant_112, 1', 'hero_variant_112, 2', 'hero_variant_112, 3', 'hero_variant_112, 4', 'hero_variant_113, 3', 'hero_variant_113, 4', 'hero_variant_114, 1', 'hero_variant_114, 2', 'hero_variant_114, 3', 'hero_variant_119, 1', 'hero_variant_119, 2', 'hero_variant_119, 3', 'hero_variant_12, 3', 'hero_variant_120, 1', 'hero_variant_120, 2', 'hero_variant_121, 1', 'hero_variant_121, 2', 'hero_variant_123, 1', 'hero_variant_123, 2', 'hero_variant_123, 3', 'hero_variant_126, 1', 'hero_variant_126, 3', 'hero_variant_128, 1', 'hero_variant_128, 2', 'hero_variant_129, 1', 'hero_variant_129, 2', 'hero_variant_13, 1', 'hero_variant_13, 2', 'hero_variant_131, 2', 'hero_variant_131, 3', 'hero_variant_135, 1', 'hero_variant_135, 2', 'hero_variant_135, 3', 'hero_variant_135, 4', 'hero_variant_136, 1', 'hero_variant_136, 2', 'hero_variant_136, 3', 'hero_variant_136, 4', 'hero_variant_136, 5', 'hero_variant_137, 1', 'hero_variant_137, 2', 'hero_variant_137, 3', 'hero_variant_138, 1', 'hero_variant_138, 2', 'hero_variant_138, 3', 'hero_variant_14, 2', 'hero_variant_14, 3', 'hero_variant_15, 1', 'hero_variant_15, 2', 'hero_variant_16, 1', 'hero_variant_16, 2', 'hero_variant_16, 3', 'hero_variant_16, 4', 'hero_variant_17, 1', 'hero_variant_17, 2', 'hero_variant_18, 1', 'hero_variant_18, 2', 'hero_variant_19, 1', 'hero_variant_19, 2', 'hero_variant_2, 1', 'hero_variant_2, 2', 'hero_variant_20, 2', 'hero_variant_21, 2', 'hero_variant_21, 3', 'hero_variant_21, 4', 'hero_variant_21, 5', 'hero_variant_22, 1', 'hero_variant_22, 2', 'hero_variant_23, 1', 'hero_variant_23, 2', 'hero_variant_25, 1', 'hero_variant_25, 2', 'hero_variant_26, 1', 'hero_variant_26, 2', 'hero_variant_27, 1', 'hero_variant_27, 2', 'hero_variant_27, 3', 'hero_variant_28, 1', 'hero_variant_28, 2', 'hero_variant_29, 1', 'hero_variant_29, 2', 'hero_variant_3, 1', 'hero_variant_3, 2', 'hero_variant_30, 1', 'hero_variant_30, 4', 'hero_variant_31, 1', 'hero_variant_31, 2', 'hero_variant_31, 3', 'hero_variant_32, 1', 'hero_variant_32, 2', 'hero_variant_33, 1', 'hero_variant_33, 2', 'hero_variant_34, 1', 'hero_variant_34, 2', 'hero_variant_35, 1', 'hero_variant_35, 2', 'hero_variant_36, 1', 'hero_variant_36, 2', 'hero_variant_37, 2', 'hero_variant_38, 1', 'hero_variant_38, 2', 'hero_variant_39, 2', 'hero_variant_39, 3', 'hero_variant_4, 1', 'hero_variant_4, 2', 'hero_variant_4, 3', 'hero_variant_40, 1', 'hero_variant_40, 2', 'hero_variant_41, 2', 'hero_variant_41, 3', 'hero_variant_42, 1', 'hero_variant_42, 2', 'hero_variant_43, 1', 'hero_variant_43, 2', 'hero_variant_43, 3', 'hero_variant_44, 1', 'hero_variant_44, 2', 'hero_variant_44, 3', 'hero_variant_45, 1', 'hero_variant_46, 1', 'hero_variant_46, 2', 'hero_variant_46, 3', 'hero_variant_47, 1', 'hero_variant_47, 2', 'hero_variant_48, 2', 'hero_variant_48, 3', 'hero_variant_49, 1', 'hero_variant_49, 2', 'hero_variant_49, 3', 'hero_variant_5, 1', 'hero_variant_5, 2', 'hero_variant_5, 3', 'hero_variant_5, 4', 'hero_variant_50, 1', 'hero_variant_50, 2', 'hero_variant_51, 1', 'hero_variant_51, 2', 'hero_variant_52, 1', 'hero_variant_52, 2', 'hero_variant_53, 1', 'hero_variant_53, 2', 'hero_variant_54, 2', 'hero_variant_54, 4', 'hero_variant_54, 5', 'hero_variant_55, 1', 'hero_variant_55, 2', 'hero_variant_56, 1', 'hero_variant_56, 2', 'hero_variant_57, 1', 'hero_variant_57, 2', 'hero_variant_58, 1', 'hero_variant_58, 2', 'hero_variant_59, 1', 'hero_variant_59, 3', 'hero_variant_59, 4', 'hero_variant_6, 1', 'hero_variant_6, 2', 'hero_variant_60, 1', 'hero_variant_60, 2', 'hero_variant_60, 3', 'hero_variant_61, 1', 'hero_variant_61, 2', 'hero_variant_62, 1', 'hero_variant_62, 2', 'hero_variant_63, 1', 'hero_variant_63, 2', 'hero_variant_64, 1', 'hero_variant_64, 2', 'hero_variant_64, 3', 'hero_variant_64, 4', 'hero_variant_65, 1', 'hero_variant_65, 2', 'hero_variant_66, 3', 'hero_variant_66, 5', 'hero_variant_67, 2', 'hero_variant_68, 1', 'hero_variant_68, 2', 'hero_variant_69, 1', 'hero_variant_69, 2', 'hero_variant_7, 1', 'hero_variant_7, 2', 'hero_variant_7, 3', 'hero_variant_70, 1', 'hero_variant_70, 2', 'hero_variant_71, 1', 'hero_variant_72, 1', 'hero_variant_72, 2', 'hero_variant_73, 1', 'hero_variant_73, 2', 'hero_variant_74, 1', 'hero_variant_74, 2', 'hero_variant_74, 3', 'hero_variant_74, 5', 'hero_variant_75, 2', 'hero_variant_75, 3', 'hero_variant_75, 4', 'hero_variant_76, 1', 'hero_variant_76, 2', 'hero_variant_77, 1', 'hero_variant_77, 3', 'hero_variant_78, 1', 'hero_variant_78, 2', 'hero_variant_79, 1', 'hero_variant_79, 2', 'hero_variant_8, 1', 'hero_variant_8, 2', 'hero_variant_80, 3', 'hero_variant_81, 1', 'hero_variant_81, 2', 'hero_variant_81, 3', 'hero_variant_81, 4', 'hero_variant_82, 1', 'hero_variant_82, 2', 'hero_variant_83, 1', 'hero_variant_83, 2', 'hero_variant_84, 1', 'hero_variant_84, 2', 'hero_variant_85, 1', 'hero_variant_85, 2', 'hero_variant_86, 1', 'hero_variant_86, 2', 'hero_variant_87, 1', 'hero_variant_87, 2', 'hero_variant_88, 1', 'hero_variant_88, 2', 'hero_variant_89, 1', 'hero_variant_89, 2', 'hero_variant_9, 2', 'hero_variant_9, 3', 'hero_variant_90, 1', 'hero_variant_90, 2', 'hero_variant_91, 1', 'hero_variant_91, 2', 'hero_variant_92, 1', 'hero_variant_92, 3', 'hero_variant_93, 1', 'hero_variant_93, 2', 'hero_variant_94, 1', 'hero_variant_94, 3', 'hero_variant_94, 4', 'hero_variant_95, 1', 'hero_variant_95, 2', 'hero_variant_96, 1', 'hero_variant_96, 2', 'hero_variant_97, 2', 'hero_variant_97, 3', 'hero_variant_97, 4', 'hero_variant_98, 1', 'hero_variant_98, 2', 'hero_variant_99, 2', 'hero_variant_99, 3', 'account_id_100058342', 'account_id_100471531', 'account_id_100594231', 'account_id_100616105', 'account_id_101259972', 'account_id_101356886', 'account_id_1031547092', 'account_id_10366616', 'account_id_103735745', 'account_id_104334048', 'account_id_1044002267', 'account_id_104512126', 'account_id_105248644', 'account_id_106305042', 'account_id_106573901', 'account_id_106755427', 'account_id_108958769', 'account_id_109757023', 'account_id_110583422', 'account_id_111030315', 'account_id_111114687', 'account_id_111620041', 'account_id_113331514', 'account_id_1150772339', 'account_id_115464954', 'account_id_115651292', 'account_id_116585378', 'account_id_116934015', 'account_id_117089283', 'account_id_1171243748', 'account_id_117514269', 'account_id_118134220', 'account_id_118948666', 'account_id_120613892', 'account_id_122817493', 'account_id_123787715', 'account_id_124801257', 'account_id_125445069', 'account_id_126212866', 'account_id_126238768', 'account_id_126842529', 'account_id_127565532', 'account_id_127617979', 'account_id_129958758', 'account_id_130991304', 'account_id_131303632', 'account_id_132851371', 'account_id_134556694', 'account_id_136829091', 'account_id_137129583', 'account_id_137193239', 'account_id_138177198', 'account_id_138543123', 'account_id_138857296', 'account_id_138880576', 'account_id_139031324', 'account_id_140251702', 'account_id_140288368', 'account_id_140297552', 'account_id_143693439', 'account_id_145957968', 'account_id_146711951', 'account_id_147767183', 'account_id_148215639', 'account_id_148526973', 'account_id_150961567', 'account_id_152168157', 'account_id_152455523', 'account_id_152859296', 'account_id_152962063', 'account_id_154715080', 'account_id_154974246', 'account_id_155162307', 'account_id_155332459', 'account_id_155494381', 'account_id_156328257', 'account_id_157475523', 'account_id_157989498', 'account_id_158847773', 'account_id_160119017', 'account_id_161839895', 'account_id_164199202', 'account_id_164532005', 'account_id_164685175', 'account_id_164962869', 'account_id_16497807', 'account_id_165564598', 'account_id_1657135701', 'account_id_167976729', 'account_id_168028715', 'account_id_168126336', 'account_id_170896543', 'account_id_171097887', 'account_id_171262902', 'account_id_172099728', 'account_id_173978074', 'account_id_175311897', 'account_id_177203952', 'account_id_177411785', 'account_id_177953305', 'account_id_179313961', 'account_id_181267255', 'account_id_183378746', 'account_id_183719386', 'account_id_184950344', 'account_id_185202677', 'account_id_185590374', 'account_id_185908355', 'account_id_190826739', 'account_id_191362875', 'account_id_191597529', 'account_id_193815691', 'account_id_193884241', 'account_id_195108598', 'account_id_196878136', 'account_id_201358612', 'account_id_202217968', 'account_id_203351055', 'account_id_206642367', 'account_id_207829314', 'account_id_208181197', 'account_id_210053851', 'account_id_221666230', 'account_id_223342537', 'account_id_230487729', 'account_id_238239590', 'account_id_241884166', 'account_id_248180032', 'account_id_249835593', 'account_id_256156323', 'account_id_25907144', 'account_id_27178898', 'account_id_292921272', 'account_id_293904640', 'account_id_295697470', 'account_id_301750126', 'account_id_302214028', 'account_id_308163407', 'account_id_312436974', 'account_id_317880638', 'account_id_320219866', 'account_id_320252024', 'account_id_321580662', 'account_id_324277900', 'account_id_330534326', 'account_id_331855530', 'account_id_333351042', 'account_id_337575662', 'account_id_339235645', 'account_id_343084576', 'account_id_346412363', 'account_id_349310876', 'account_id_352545711', 'account_id_355168766', 'account_id_363739653', 'account_id_369342470', 'account_id_375507918', 'account_id_389022189', 'account_id_392006194', 'account_id_392169957', 'account_id_392565237', 'account_id_399804216', 'account_id_399862798', 'account_id_399920568', 'account_id_408729743', 'account_id_417235485', 'account_id_425588742', 'account_id_431770905', 'account_id_439345730', 'account_id_458287006', 'account_id_480412663', 'account_id_48823667', 'account_id_489696354', 'account_id_50580004', 'account_id_54580962', 'account_id_56351509', 'account_id_58513047', 'account_id_73401082', 'account_id_76904792', 'account_id_77490514', 'account_id_81306398', 'account_id_81475303', 'account_id_82262664', 'account_id_835864135', 'account_id_847565596', 'account_id_85696663', 'account_id_858106446', 'account_id_861414087', 'account_id_86698277', 'account_id_86822085', 'account_id_87063175', 'account_id_87278757', 'account_id_88271237', 'account_id_898455820', 'account_id_898754153', 'account_id_904131336', 'account_id_90423751', 'account_id_91730177', 'account_id_919735867', 'account_id_93618577', 'account_id_93817671', 'account_id_9403474', 'account_id_94054712', 'account_id_94155156', 'account_id_94296097', 'account_id_94786276', 'account_id_957204049', 'account_id_96183976', 'account_id_96803083', 'account_id_97590558', 'account_id_97658618', 'team_id_111474', 'team_id_2163', 'team_id_2586976', 'team_id_36', 'team_id_39', 'team_id_5', 'team_id_7119388', 'team_id_7422789', 'team_id_7554697', 'team_id_7732977', 'team_id_8254145', 'team_id_8254400', 'team_id_8255888', 'team_id_8261500', 'team_id_8291895', 'team_id_8375259', 'team_id_8574561', 'team_id_8597976', 'team_id_8599101', 'team_id_8605863', 'team_id_8728920', 'team_id_9017006', 'team_id_9080405', 'team_id_9131584', 'team_id_9247354', 'team_id_9255039', 'team_id_9303383', 'team_id_9303484', 'team_id_9338413', 'team_id_9351740', 'team_id_9381678', 'team_id_9467224', 'team_id_9498970', 'team_id_9545759', 'team_id_9572001', 'team_id_9593895', 'team_id_9634742', 'team_id_9640842', 'team_id_9651185', 'team_id_9651814', 'team_id_9678064', 'team_id_9699533', 'team_id_9729720', 'team_id_9741253', 'team_id_9766941', 'team_id_9780800', 'team_id_9823272', 'team_id_9824702', 'team_id_9828954', 'enemy_team_id_111474', 'enemy_team_id_2163', 'enemy_team_id_2586976', 'enemy_team_id_36', 'enemy_team_id_39', 'enemy_team_id_5', 'enemy_team_id_7119388', 'enemy_team_id_7422789', 'enemy_team_id_7554697', 'enemy_team_id_7732977', 'enemy_team_id_8254145', 'enemy_team_id_8254400', 'enemy_team_id_8255888', 'enemy_team_id_8261500', 'enemy_team_id_8291895', 'enemy_team_id_8375259', 'enemy_team_id_8574561', 'enemy_team_id_8597976', 'enemy_team_id_8599101', 'enemy_team_id_8605863', 'enemy_team_id_8728920', 'enemy_team_id_9017006', 'enemy_team_id_9080405', 'enemy_team_id_9131584', 'enemy_team_id_9247354', 'enemy_team_id_9255039', 'enemy_team_id_9303383', 'enemy_team_id_9303484', 'enemy_team_id_9338413', 'enemy_team_id_9351740', 'enemy_team_id_9381678', 'enemy_team_id_9467224', 'enemy_team_id_9498970', 'enemy_team_id_9530947', 'enemy_team_id_9545759', 'enemy_team_id_9572001', 'enemy_team_id_9593895', 'enemy_team_id_9634742', 'enemy_team_id_9640842', 'enemy_team_id_9651185', 'enemy_team_id_9651814', 'enemy_team_id_9678064', 'enemy_team_id_9699533', 'enemy_team_id_9729720', 'enemy_team_id_9741253', 'enemy_team_id_9766941', 'enemy_team_id_9780800', 'enemy_team_id_9823272', 'enemy_team_id_9824702', 'enemy_team_id_9828954']\nexpected rolling_fantasy_score_10, rolling_fantasy_score_15, rolling_enemy_glicko2_15, rolling_winrate_10, rolling_winrate_15, rolling_enemy_glicko2_10 in input data",
     "output_type": "error",
     "traceback": [
      "\u001B[1;31m---------------------------------------------------------------------------\u001B[0m",
      "\u001B[1;31mValueError\u001B[0m                                Traceback (most recent call last)",
      "Cell \u001B[1;32mIn[75], line 3\u001B[0m\n\u001B[0;32m      1\u001B[0m matchups \u001B[38;5;241m=\u001B[39m [(\u001B[38;5;124m'\u001B[39m\u001B[38;5;124m7119388\u001B[39m\u001B[38;5;124m'\u001B[39m, \u001B[38;5;124m'\u001B[39m\u001B[38;5;124m8261500\u001B[39m\u001B[38;5;124m'\u001B[39m), (\u001B[38;5;124m'\u001B[39m\u001B[38;5;124m8597976\u001B[39m\u001B[38;5;124m'\u001B[39m, \u001B[38;5;124m'\u001B[39m\u001B[38;5;124m7119388\u001B[39m\u001B[38;5;124m'\u001B[39m), (\u001B[38;5;124m'\u001B[39m\u001B[38;5;124m8597976\u001B[39m\u001B[38;5;124m'\u001B[39m, \u001B[38;5;124m'\u001B[39m\u001B[38;5;124m8261500\u001B[39m\u001B[38;5;124m'\u001B[39m)] \u001B[38;5;66;03m# Spirit vs. Xtreme Gaming, Spirit vs. Talon\u001B[39;00m\n\u001B[0;32m      2\u001B[0m symetric_matchups \u001B[38;5;241m=\u001B[39m make_symmetric_matchups(matchups)\n\u001B[1;32m----> 3\u001B[0m result \u001B[38;5;241m=\u001B[39m \u001B[43mpredict_players_for_matchups\u001B[49m\u001B[43m(\u001B[49m\u001B[43mdf\u001B[49m\u001B[43m,\u001B[49m\u001B[43m \u001B[49m\u001B[43mmodel\u001B[49m\u001B[43m,\u001B[49m\u001B[43m \u001B[49m\u001B[43msymetric_matchups\u001B[49m\u001B[43m,\u001B[49m\u001B[43m \u001B[49m\u001B[43mX\u001B[49m\u001B[43m,\u001B[49m\u001B[43m \u001B[49m\u001B[43mnot_features\u001B[49m\u001B[43m)\u001B[49m\n",
      "Cell \u001B[1;32mIn[73], line 26\u001B[0m, in \u001B[0;36mpredict_players_for_matchups\u001B[1;34m(df, model, matchup_list, X, not_features, lineup_dir, rolling_n)\u001B[0m\n\u001B[0;32m     20\u001B[0m X_pred \u001B[38;5;241m=\u001B[39m X_pred\u001B[38;5;241m.\u001B[39mreindex(columns\u001B[38;5;241m=\u001B[39mX\u001B[38;5;241m.\u001B[39mcolumns, fill_value\u001B[38;5;241m=\u001B[39m\u001B[38;5;241m0\u001B[39m)\n\u001B[0;32m     21\u001B[0m \u001B[38;5;66;03m# print(X_pred.filter(like='enemy_team_id').head(10)) # Debugger, shows the dummy encoded enemy_team variable.\u001B[39;00m\n\u001B[0;32m     22\u001B[0m \u001B[38;5;66;03m# More debugging\u001B[39;00m\n\u001B[0;32m     23\u001B[0m \u001B[38;5;66;03m#rows = X_pred[X_pred['account_id_847565596'] == 1]  # print dummies for \"rue\"\u001B[39;00m\n\u001B[0;32m     24\u001B[0m \u001B[38;5;66;03m#print(rows[['enemy_team_id_7119388', 'enemy_team_id_8261500', 'enemy_team_id_8597976']])\u001B[39;00m\n\u001B[1;32m---> 26\u001B[0m pred_df[\u001B[38;5;124m'\u001B[39m\u001B[38;5;124mpredicted_fantasy_score\u001B[39m\u001B[38;5;124m'\u001B[39m] \u001B[38;5;241m=\u001B[39m \u001B[43mmodel\u001B[49m\u001B[38;5;241;43m.\u001B[39;49m\u001B[43mpredict\u001B[49m\u001B[43m(\u001B[49m\u001B[43mX_pred\u001B[49m\u001B[43m)\u001B[49m \u001B[38;5;66;03m# Predict fantasy scores\u001B[39;00m\n\u001B[0;32m     27\u001B[0m \u001B[38;5;28;01mreturn\u001B[39;00m pred_df[[\u001B[38;5;124m'\u001B[39m\u001B[38;5;124maccount_id\u001B[39m\u001B[38;5;124m'\u001B[39m, \u001B[38;5;124m'\u001B[39m\u001B[38;5;124mname\u001B[39m\u001B[38;5;124m'\u001B[39m, \u001B[38;5;124m'\u001B[39m\u001B[38;5;124mfantasy_role\u001B[39m\u001B[38;5;124m'\u001B[39m, \u001B[38;5;124m'\u001B[39m\u001B[38;5;124mteam_id\u001B[39m\u001B[38;5;124m'\u001B[39m, \u001B[38;5;124m'\u001B[39m\u001B[38;5;124menemy_team_id\u001B[39m\u001B[38;5;124m'\u001B[39m, \u001B[38;5;124m'\u001B[39m\u001B[38;5;124mpredicted_fantasy_score\u001B[39m\u001B[38;5;124m'\u001B[39m]]\n",
      "File \u001B[1;32m~\\.conda\\envs\\tf\\lib\\site-packages\\xgboost\\core.py:729\u001B[0m, in \u001B[0;36mrequire_keyword_args.<locals>.throw_if.<locals>.inner_f\u001B[1;34m(*args, **kwargs)\u001B[0m\n\u001B[0;32m    727\u001B[0m \u001B[38;5;28;01mfor\u001B[39;00m k, arg \u001B[38;5;129;01min\u001B[39;00m \u001B[38;5;28mzip\u001B[39m(sig\u001B[38;5;241m.\u001B[39mparameters, args):\n\u001B[0;32m    728\u001B[0m     kwargs[k] \u001B[38;5;241m=\u001B[39m arg\n\u001B[1;32m--> 729\u001B[0m \u001B[38;5;28;01mreturn\u001B[39;00m func(\u001B[38;5;241m*\u001B[39m\u001B[38;5;241m*\u001B[39mkwargs)\n",
      "File \u001B[1;32m~\\.conda\\envs\\tf\\lib\\site-packages\\xgboost\\sklearn.py:1327\u001B[0m, in \u001B[0;36mXGBModel.predict\u001B[1;34m(self, X, output_margin, validate_features, base_margin, iteration_range)\u001B[0m\n\u001B[0;32m   1325\u001B[0m \u001B[38;5;28;01mif\u001B[39;00m \u001B[38;5;28mself\u001B[39m\u001B[38;5;241m.\u001B[39m_can_use_inplace_predict():\n\u001B[0;32m   1326\u001B[0m     \u001B[38;5;28;01mtry\u001B[39;00m:\n\u001B[1;32m-> 1327\u001B[0m         predts \u001B[38;5;241m=\u001B[39m \u001B[38;5;28;43mself\u001B[39;49m\u001B[38;5;241;43m.\u001B[39;49m\u001B[43mget_booster\u001B[49m\u001B[43m(\u001B[49m\u001B[43m)\u001B[49m\u001B[38;5;241;43m.\u001B[39;49m\u001B[43minplace_predict\u001B[49m\u001B[43m(\u001B[49m\n\u001B[0;32m   1328\u001B[0m \u001B[43m            \u001B[49m\u001B[43mdata\u001B[49m\u001B[38;5;241;43m=\u001B[39;49m\u001B[43mX\u001B[49m\u001B[43m,\u001B[49m\n\u001B[0;32m   1329\u001B[0m \u001B[43m            \u001B[49m\u001B[43miteration_range\u001B[49m\u001B[38;5;241;43m=\u001B[39;49m\u001B[43miteration_range\u001B[49m\u001B[43m,\u001B[49m\n\u001B[0;32m   1330\u001B[0m \u001B[43m            \u001B[49m\u001B[43mpredict_type\u001B[49m\u001B[38;5;241;43m=\u001B[39;49m\u001B[38;5;124;43m\"\u001B[39;49m\u001B[38;5;124;43mmargin\u001B[39;49m\u001B[38;5;124;43m\"\u001B[39;49m\u001B[43m \u001B[49m\u001B[38;5;28;43;01mif\u001B[39;49;00m\u001B[43m \u001B[49m\u001B[43moutput_margin\u001B[49m\u001B[43m \u001B[49m\u001B[38;5;28;43;01melse\u001B[39;49;00m\u001B[43m \u001B[49m\u001B[38;5;124;43m\"\u001B[39;49m\u001B[38;5;124;43mvalue\u001B[39;49m\u001B[38;5;124;43m\"\u001B[39;49m\u001B[43m,\u001B[49m\n\u001B[0;32m   1331\u001B[0m \u001B[43m            \u001B[49m\u001B[43mmissing\u001B[49m\u001B[38;5;241;43m=\u001B[39;49m\u001B[38;5;28;43mself\u001B[39;49m\u001B[38;5;241;43m.\u001B[39;49m\u001B[43mmissing\u001B[49m\u001B[43m,\u001B[49m\n\u001B[0;32m   1332\u001B[0m \u001B[43m            \u001B[49m\u001B[43mbase_margin\u001B[49m\u001B[38;5;241;43m=\u001B[39;49m\u001B[43mbase_margin\u001B[49m\u001B[43m,\u001B[49m\n\u001B[0;32m   1333\u001B[0m \u001B[43m            \u001B[49m\u001B[43mvalidate_features\u001B[49m\u001B[38;5;241;43m=\u001B[39;49m\u001B[43mvalidate_features\u001B[49m\u001B[43m,\u001B[49m\n\u001B[0;32m   1334\u001B[0m \u001B[43m        \u001B[49m\u001B[43m)\u001B[49m\n\u001B[0;32m   1335\u001B[0m         \u001B[38;5;28;01mif\u001B[39;00m _is_cupy_alike(predts):\n\u001B[0;32m   1336\u001B[0m             cp \u001B[38;5;241m=\u001B[39m import_cupy()\n",
      "File \u001B[1;32m~\\.conda\\envs\\tf\\lib\\site-packages\\xgboost\\core.py:729\u001B[0m, in \u001B[0;36mrequire_keyword_args.<locals>.throw_if.<locals>.inner_f\u001B[1;34m(*args, **kwargs)\u001B[0m\n\u001B[0;32m    727\u001B[0m \u001B[38;5;28;01mfor\u001B[39;00m k, arg \u001B[38;5;129;01min\u001B[39;00m \u001B[38;5;28mzip\u001B[39m(sig\u001B[38;5;241m.\u001B[39mparameters, args):\n\u001B[0;32m    728\u001B[0m     kwargs[k] \u001B[38;5;241m=\u001B[39m arg\n\u001B[1;32m--> 729\u001B[0m \u001B[38;5;28;01mreturn\u001B[39;00m func(\u001B[38;5;241m*\u001B[39m\u001B[38;5;241m*\u001B[39mkwargs)\n",
      "File \u001B[1;32m~\\.conda\\envs\\tf\\lib\\site-packages\\xgboost\\core.py:2667\u001B[0m, in \u001B[0;36mBooster.inplace_predict\u001B[1;34m(self, data, iteration_range, predict_type, missing, validate_features, base_margin, strict_shape)\u001B[0m\n\u001B[0;32m   2665\u001B[0m     data, fns, _ \u001B[38;5;241m=\u001B[39m _transform_pandas_df(data, enable_categorical)\n\u001B[0;32m   2666\u001B[0m     \u001B[38;5;28;01mif\u001B[39;00m validate_features:\n\u001B[1;32m-> 2667\u001B[0m         \u001B[38;5;28;43mself\u001B[39;49m\u001B[38;5;241;43m.\u001B[39;49m\u001B[43m_validate_features\u001B[49m\u001B[43m(\u001B[49m\u001B[43mfns\u001B[49m\u001B[43m)\u001B[49m\n\u001B[0;32m   2668\u001B[0m \u001B[38;5;28;01mif\u001B[39;00m _is_list(data) \u001B[38;5;129;01mor\u001B[39;00m _is_tuple(data):\n\u001B[0;32m   2669\u001B[0m     data \u001B[38;5;241m=\u001B[39m np\u001B[38;5;241m.\u001B[39marray(data)\n",
      "File \u001B[1;32m~\\.conda\\envs\\tf\\lib\\site-packages\\xgboost\\core.py:3243\u001B[0m, in \u001B[0;36mBooster._validate_features\u001B[1;34m(self, feature_names)\u001B[0m\n\u001B[0;32m   3237\u001B[0m \u001B[38;5;28;01mif\u001B[39;00m my_missing:\n\u001B[0;32m   3238\u001B[0m     msg \u001B[38;5;241m+\u001B[39m\u001B[38;5;241m=\u001B[39m (\n\u001B[0;32m   3239\u001B[0m         \u001B[38;5;124m\"\u001B[39m\u001B[38;5;130;01m\\n\u001B[39;00m\u001B[38;5;124mtraining data did not have the following fields: \u001B[39m\u001B[38;5;124m\"\u001B[39m\n\u001B[0;32m   3240\u001B[0m         \u001B[38;5;241m+\u001B[39m \u001B[38;5;124m\"\u001B[39m\u001B[38;5;124m, \u001B[39m\u001B[38;5;124m\"\u001B[39m\u001B[38;5;241m.\u001B[39mjoin(\u001B[38;5;28mstr\u001B[39m(s) \u001B[38;5;28;01mfor\u001B[39;00m s \u001B[38;5;129;01min\u001B[39;00m my_missing)\n\u001B[0;32m   3241\u001B[0m     )\n\u001B[1;32m-> 3243\u001B[0m \u001B[38;5;28;01mraise\u001B[39;00m \u001B[38;5;167;01mValueError\u001B[39;00m(msg\u001B[38;5;241m.\u001B[39mformat(\u001B[38;5;28mself\u001B[39m\u001B[38;5;241m.\u001B[39mfeature_names, feature_names))\n",
      "\u001B[1;31mValueError\u001B[0m: feature_names mismatch: ['isRadiant', 'duration', 'win', 'kills', 'deaths', 'last_hits', 'denies', 'gold_per_min', 'towers_killed', 'roshans_killed', 'teamfight_participation', 'obs_placed', 'camps_stacked', 'rune_pickups', 'firstblood_claimed', 'stuns', 'creeps_stacked', 'assists', 'xp_per_min', 'lane_efficiency', 'glicko2_rating', 'enemy_glicko2_rating', 'rating_advantage', 'rolling_winrate_10', 'rolling_winrate_15', 'rolling_fantasy_score_10', 'rolling_fantasy_score_15', 'rolling_enemy_glicko2_10', 'rolling_enemy_glicko2_15', 'enemy_avg_fantasy_score', 'fantasy_role_Core', 'fantasy_role_Mid', 'fantasy_role_Support', 'hero_id_1', 'hero_id_10', 'hero_id_100', 'hero_id_101', 'hero_id_102', 'hero_id_103', 'hero_id_104', 'hero_id_105', 'hero_id_106', 'hero_id_107', 'hero_id_108', 'hero_id_109', 'hero_id_11', 'hero_id_110', 'hero_id_111', 'hero_id_112', 'hero_id_113', 'hero_id_114', 'hero_id_119', 'hero_id_12', 'hero_id_120', 'hero_id_121', 'hero_id_123', 'hero_id_126', 'hero_id_128', 'hero_id_129', 'hero_id_13', 'hero_id_131', 'hero_id_135', 'hero_id_136', 'hero_id_137', 'hero_id_138', 'hero_id_14', 'hero_id_15', 'hero_id_16', 'hero_id_17', 'hero_id_18', 'hero_id_19', 'hero_id_2', 'hero_id_20', 'hero_id_21', 'hero_id_22', 'hero_id_23', 'hero_id_25', 'hero_id_26', 'hero_id_27', 'hero_id_28', 'hero_id_29', 'hero_id_3', 'hero_id_30', 'hero_id_31', 'hero_id_32', 'hero_id_33', 'hero_id_34', 'hero_id_35', 'hero_id_36', 'hero_id_37', 'hero_id_38', 'hero_id_39', 'hero_id_4', 'hero_id_40', 'hero_id_41', 'hero_id_42', 'hero_id_43', 'hero_id_44', 'hero_id_45', 'hero_id_46', 'hero_id_47', 'hero_id_48', 'hero_id_49', 'hero_id_5', 'hero_id_50', 'hero_id_51', 'hero_id_52', 'hero_id_53', 'hero_id_54', 'hero_id_55', 'hero_id_56', 'hero_id_57', 'hero_id_58', 'hero_id_59', 'hero_id_6', 'hero_id_60', 'hero_id_61', 'hero_id_62', 'hero_id_63', 'hero_id_64', 'hero_id_65', 'hero_id_66', 'hero_id_67', 'hero_id_68', 'hero_id_69', 'hero_id_7', 'hero_id_70', 'hero_id_71', 'hero_id_72', 'hero_id_73', 'hero_id_74', 'hero_id_75', 'hero_id_76', 'hero_id_77', 'hero_id_78', 'hero_id_79', 'hero_id_8', 'hero_id_80', 'hero_id_81', 'hero_id_82', 'hero_id_83', 'hero_id_84', 'hero_id_85', 'hero_id_86', 'hero_id_87', 'hero_id_88', 'hero_id_89', 'hero_id_9', 'hero_id_90', 'hero_id_91', 'hero_id_92', 'hero_id_93', 'hero_id_94', 'hero_id_95', 'hero_id_96', 'hero_id_97', 'hero_id_98', 'hero_id_99', 'hero_variant_1, 2', 'hero_variant_10, 1', 'hero_variant_10, 2', 'hero_variant_100, 1', 'hero_variant_100, 2', 'hero_variant_101, 1', 'hero_variant_102, 1', 'hero_variant_102, 2', 'hero_variant_103, 1', 'hero_variant_103, 2', 'hero_variant_104, 1', 'hero_variant_104, 2', 'hero_variant_105, 1', 'hero_variant_105, 2', 'hero_variant_105, 3', 'hero_variant_106, 1', 'hero_variant_106, 2', 'hero_variant_107, 1', 'hero_variant_107, 2', 'hero_variant_107, 3', 'hero_variant_108, 1', 'hero_variant_108, 2', 'hero_variant_109, 1', 'hero_variant_109, 2', 'hero_variant_11, 1', 'hero_variant_11, 2', 'hero_variant_110, 1', 'hero_variant_110, 2', 'hero_variant_111, 1', 'hero_variant_111, 2', 'hero_variant_112, 1', 'hero_variant_112, 2', 'hero_variant_112, 3', 'hero_variant_112, 4', 'hero_variant_113, 3', 'hero_variant_113, 4', 'hero_variant_114, 1', 'hero_variant_114, 2', 'hero_variant_114, 3', 'hero_variant_119, 1', 'hero_variant_119, 2', 'hero_variant_119, 3', 'hero_variant_12, 3', 'hero_variant_120, 1', 'hero_variant_120, 2', 'hero_variant_121, 1', 'hero_variant_121, 2', 'hero_variant_123, 1', 'hero_variant_123, 2', 'hero_variant_123, 3', 'hero_variant_126, 1', 'hero_variant_126, 3', 'hero_variant_128, 1', 'hero_variant_128, 2', 'hero_variant_129, 1', 'hero_variant_129, 2', 'hero_variant_13, 1', 'hero_variant_13, 2', 'hero_variant_131, 2', 'hero_variant_131, 3', 'hero_variant_135, 1', 'hero_variant_135, 2', 'hero_variant_135, 3', 'hero_variant_135, 4', 'hero_variant_136, 1', 'hero_variant_136, 2', 'hero_variant_136, 3', 'hero_variant_136, 4', 'hero_variant_136, 5', 'hero_variant_137, 1', 'hero_variant_137, 2', 'hero_variant_137, 3', 'hero_variant_138, 1', 'hero_variant_138, 2', 'hero_variant_138, 3', 'hero_variant_14, 2', 'hero_variant_14, 3', 'hero_variant_15, 1', 'hero_variant_15, 2', 'hero_variant_16, 1', 'hero_variant_16, 2', 'hero_variant_16, 3', 'hero_variant_16, 4', 'hero_variant_17, 1', 'hero_variant_17, 2', 'hero_variant_18, 1', 'hero_variant_18, 2', 'hero_variant_19, 1', 'hero_variant_19, 2', 'hero_variant_2, 1', 'hero_variant_2, 2', 'hero_variant_20, 2', 'hero_variant_21, 2', 'hero_variant_21, 3', 'hero_variant_21, 4', 'hero_variant_21, 5', 'hero_variant_22, 1', 'hero_variant_22, 2', 'hero_variant_23, 1', 'hero_variant_23, 2', 'hero_variant_25, 1', 'hero_variant_25, 2', 'hero_variant_26, 1', 'hero_variant_26, 2', 'hero_variant_27, 1', 'hero_variant_27, 2', 'hero_variant_27, 3', 'hero_variant_28, 1', 'hero_variant_28, 2', 'hero_variant_29, 1', 'hero_variant_29, 2', 'hero_variant_3, 1', 'hero_variant_3, 2', 'hero_variant_30, 1', 'hero_variant_30, 4', 'hero_variant_31, 1', 'hero_variant_31, 2', 'hero_variant_31, 3', 'hero_variant_32, 1', 'hero_variant_32, 2', 'hero_variant_33, 1', 'hero_variant_33, 2', 'hero_variant_34, 1', 'hero_variant_34, 2', 'hero_variant_35, 1', 'hero_variant_35, 2', 'hero_variant_36, 1', 'hero_variant_36, 2', 'hero_variant_37, 2', 'hero_variant_38, 1', 'hero_variant_38, 2', 'hero_variant_39, 2', 'hero_variant_39, 3', 'hero_variant_4, 1', 'hero_variant_4, 2', 'hero_variant_4, 3', 'hero_variant_40, 1', 'hero_variant_40, 2', 'hero_variant_41, 2', 'hero_variant_41, 3', 'hero_variant_42, 1', 'hero_variant_42, 2', 'hero_variant_43, 1', 'hero_variant_43, 2', 'hero_variant_43, 3', 'hero_variant_44, 1', 'hero_variant_44, 2', 'hero_variant_44, 3', 'hero_variant_45, 1', 'hero_variant_46, 1', 'hero_variant_46, 2', 'hero_variant_46, 3', 'hero_variant_47, 1', 'hero_variant_47, 2', 'hero_variant_48, 2', 'hero_variant_48, 3', 'hero_variant_49, 1', 'hero_variant_49, 2', 'hero_variant_49, 3', 'hero_variant_5, 1', 'hero_variant_5, 2', 'hero_variant_5, 3', 'hero_variant_5, 4', 'hero_variant_50, 1', 'hero_variant_50, 2', 'hero_variant_51, 1', 'hero_variant_51, 2', 'hero_variant_52, 1', 'hero_variant_52, 2', 'hero_variant_53, 1', 'hero_variant_53, 2', 'hero_variant_54, 2', 'hero_variant_54, 4', 'hero_variant_54, 5', 'hero_variant_55, 1', 'hero_variant_55, 2', 'hero_variant_56, 1', 'hero_variant_56, 2', 'hero_variant_57, 1', 'hero_variant_57, 2', 'hero_variant_58, 1', 'hero_variant_58, 2', 'hero_variant_59, 1', 'hero_variant_59, 3', 'hero_variant_59, 4', 'hero_variant_6, 1', 'hero_variant_6, 2', 'hero_variant_60, 1', 'hero_variant_60, 2', 'hero_variant_60, 3', 'hero_variant_61, 1', 'hero_variant_61, 2', 'hero_variant_62, 1', 'hero_variant_62, 2', 'hero_variant_63, 1', 'hero_variant_63, 2', 'hero_variant_64, 1', 'hero_variant_64, 2', 'hero_variant_64, 3', 'hero_variant_64, 4', 'hero_variant_65, 1', 'hero_variant_65, 2', 'hero_variant_66, 3', 'hero_variant_66, 5', 'hero_variant_67, 2', 'hero_variant_68, 1', 'hero_variant_68, 2', 'hero_variant_69, 1', 'hero_variant_69, 2', 'hero_variant_7, 1', 'hero_variant_7, 2', 'hero_variant_7, 3', 'hero_variant_70, 1', 'hero_variant_70, 2', 'hero_variant_71, 1', 'hero_variant_72, 1', 'hero_variant_72, 2', 'hero_variant_73, 1', 'hero_variant_73, 2', 'hero_variant_74, 1', 'hero_variant_74, 2', 'hero_variant_74, 3', 'hero_variant_74, 5', 'hero_variant_75, 2', 'hero_variant_75, 3', 'hero_variant_75, 4', 'hero_variant_76, 1', 'hero_variant_76, 2', 'hero_variant_77, 1', 'hero_variant_77, 3', 'hero_variant_78, 1', 'hero_variant_78, 2', 'hero_variant_79, 1', 'hero_variant_79, 2', 'hero_variant_8, 1', 'hero_variant_8, 2', 'hero_variant_80, 3', 'hero_variant_81, 1', 'hero_variant_81, 2', 'hero_variant_81, 3', 'hero_variant_81, 4', 'hero_variant_82, 1', 'hero_variant_82, 2', 'hero_variant_83, 1', 'hero_variant_83, 2', 'hero_variant_84, 1', 'hero_variant_84, 2', 'hero_variant_85, 1', 'hero_variant_85, 2', 'hero_variant_86, 1', 'hero_variant_86, 2', 'hero_variant_87, 1', 'hero_variant_87, 2', 'hero_variant_88, 1', 'hero_variant_88, 2', 'hero_variant_89, 1', 'hero_variant_89, 2', 'hero_variant_9, 2', 'hero_variant_9, 3', 'hero_variant_90, 1', 'hero_variant_90, 2', 'hero_variant_91, 1', 'hero_variant_91, 2', 'hero_variant_92, 1', 'hero_variant_92, 3', 'hero_variant_93, 1', 'hero_variant_93, 2', 'hero_variant_94, 1', 'hero_variant_94, 3', 'hero_variant_94, 4', 'hero_variant_95, 1', 'hero_variant_95, 2', 'hero_variant_96, 1', 'hero_variant_96, 2', 'hero_variant_97, 2', 'hero_variant_97, 3', 'hero_variant_97, 4', 'hero_variant_98, 1', 'hero_variant_98, 2', 'hero_variant_99, 2', 'hero_variant_99, 3', 'account_id_100058342', 'account_id_100471531', 'account_id_100594231', 'account_id_100616105', 'account_id_101259972', 'account_id_101356886', 'account_id_1031547092', 'account_id_10366616', 'account_id_103735745', 'account_id_104334048', 'account_id_1044002267', 'account_id_104512126', 'account_id_105248644', 'account_id_106305042', 'account_id_106573901', 'account_id_106755427', 'account_id_108958769', 'account_id_109757023', 'account_id_110583422', 'account_id_111030315', 'account_id_111114687', 'account_id_111620041', 'account_id_113331514', 'account_id_1150772339', 'account_id_115464954', 'account_id_115651292', 'account_id_116585378', 'account_id_116934015', 'account_id_117089283', 'account_id_1171243748', 'account_id_117514269', 'account_id_118134220', 'account_id_118948666', 'account_id_120613892', 'account_id_122817493', 'account_id_123787715', 'account_id_124801257', 'account_id_125445069', 'account_id_126212866', 'account_id_126238768', 'account_id_126842529', 'account_id_127565532', 'account_id_127617979', 'account_id_129958758', 'account_id_130991304', 'account_id_131303632', 'account_id_132851371', 'account_id_134556694', 'account_id_136829091', 'account_id_137129583', 'account_id_137193239', 'account_id_138177198', 'account_id_138543123', 'account_id_138857296', 'account_id_138880576', 'account_id_139031324', 'account_id_140251702', 'account_id_140288368', 'account_id_140297552', 'account_id_143693439', 'account_id_145957968', 'account_id_146711951', 'account_id_147767183', 'account_id_148215639', 'account_id_148526973', 'account_id_150961567', 'account_id_152168157', 'account_id_152455523', 'account_id_152859296', 'account_id_152962063', 'account_id_154715080', 'account_id_154974246', 'account_id_155162307', 'account_id_155332459', 'account_id_155494381', 'account_id_156328257', 'account_id_157475523', 'account_id_157989498', 'account_id_158847773', 'account_id_160119017', 'account_id_161839895', 'account_id_164199202', 'account_id_164532005', 'account_id_164685175', 'account_id_164962869', 'account_id_16497807', 'account_id_165564598', 'account_id_1657135701', 'account_id_167976729', 'account_id_168028715', 'account_id_168126336', 'account_id_170896543', 'account_id_171097887', 'account_id_171262902', 'account_id_172099728', 'account_id_173978074', 'account_id_175311897', 'account_id_177203952', 'account_id_177411785', 'account_id_177953305', 'account_id_179313961', 'account_id_181267255', 'account_id_183378746', 'account_id_183719386', 'account_id_184950344', 'account_id_185202677', 'account_id_185590374', 'account_id_185908355', 'account_id_190826739', 'account_id_191362875', 'account_id_191597529', 'account_id_193815691', 'account_id_193884241', 'account_id_195108598', 'account_id_196878136', 'account_id_201358612', 'account_id_202217968', 'account_id_203351055', 'account_id_206642367', 'account_id_207829314', 'account_id_208181197', 'account_id_210053851', 'account_id_221666230', 'account_id_223342537', 'account_id_230487729', 'account_id_238239590', 'account_id_241884166', 'account_id_248180032', 'account_id_249835593', 'account_id_256156323', 'account_id_25907144', 'account_id_27178898', 'account_id_292921272', 'account_id_293904640', 'account_id_295697470', 'account_id_301750126', 'account_id_302214028', 'account_id_308163407', 'account_id_312436974', 'account_id_317880638', 'account_id_320219866', 'account_id_320252024', 'account_id_321580662', 'account_id_324277900', 'account_id_330534326', 'account_id_331855530', 'account_id_333351042', 'account_id_337575662', 'account_id_339235645', 'account_id_343084576', 'account_id_346412363', 'account_id_349310876', 'account_id_352545711', 'account_id_355168766', 'account_id_363739653', 'account_id_369342470', 'account_id_375507918', 'account_id_389022189', 'account_id_392006194', 'account_id_392169957', 'account_id_392565237', 'account_id_399804216', 'account_id_399862798', 'account_id_399920568', 'account_id_408729743', 'account_id_417235485', 'account_id_425588742', 'account_id_431770905', 'account_id_439345730', 'account_id_458287006', 'account_id_480412663', 'account_id_48823667', 'account_id_489696354', 'account_id_50580004', 'account_id_54580962', 'account_id_56351509', 'account_id_58513047', 'account_id_73401082', 'account_id_76904792', 'account_id_77490514', 'account_id_81306398', 'account_id_81475303', 'account_id_82262664', 'account_id_835864135', 'account_id_847565596', 'account_id_85696663', 'account_id_858106446', 'account_id_861414087', 'account_id_86698277', 'account_id_86822085', 'account_id_87063175', 'account_id_87278757', 'account_id_88271237', 'account_id_898455820', 'account_id_898754153', 'account_id_904131336', 'account_id_90423751', 'account_id_91730177', 'account_id_919735867', 'account_id_93618577', 'account_id_93817671', 'account_id_9403474', 'account_id_94054712', 'account_id_94155156', 'account_id_94296097', 'account_id_94786276', 'account_id_957204049', 'account_id_96183976', 'account_id_96803083', 'account_id_97590558', 'account_id_97658618', 'team_id_111474', 'team_id_2163', 'team_id_2586976', 'team_id_36', 'team_id_39', 'team_id_5', 'team_id_7119388', 'team_id_7422789', 'team_id_7554697', 'team_id_7732977', 'team_id_8254145', 'team_id_8254400', 'team_id_8255888', 'team_id_8261500', 'team_id_8291895', 'team_id_8375259', 'team_id_8574561', 'team_id_8597976', 'team_id_8599101', 'team_id_8605863', 'team_id_8728920', 'team_id_9017006', 'team_id_9080405', 'team_id_9131584', 'team_id_9247354', 'team_id_9255039', 'team_id_9303383', 'team_id_9303484', 'team_id_9338413', 'team_id_9351740', 'team_id_9381678', 'team_id_9467224', 'team_id_9498970', 'team_id_9545759', 'team_id_9572001', 'team_id_9593895', 'team_id_9634742', 'team_id_9640842', 'team_id_9651185', 'team_id_9651814', 'team_id_9678064', 'team_id_9699533', 'team_id_9729720', 'team_id_9741253', 'team_id_9766941', 'team_id_9780800', 'team_id_9823272', 'team_id_9824702', 'team_id_9828954', 'enemy_team_id_111474', 'enemy_team_id_2163', 'enemy_team_id_2586976', 'enemy_team_id_36', 'enemy_team_id_39', 'enemy_team_id_5', 'enemy_team_id_7119388', 'enemy_team_id_7422789', 'enemy_team_id_7554697', 'enemy_team_id_7732977', 'enemy_team_id_8254145', 'enemy_team_id_8254400', 'enemy_team_id_8255888', 'enemy_team_id_8261500', 'enemy_team_id_8291895', 'enemy_team_id_8375259', 'enemy_team_id_8574561', 'enemy_team_id_8597976', 'enemy_team_id_8599101', 'enemy_team_id_8605863', 'enemy_team_id_8728920', 'enemy_team_id_9017006', 'enemy_team_id_9080405', 'enemy_team_id_9131584', 'enemy_team_id_9247354', 'enemy_team_id_9255039', 'enemy_team_id_9303383', 'enemy_team_id_9303484', 'enemy_team_id_9338413', 'enemy_team_id_9351740', 'enemy_team_id_9381678', 'enemy_team_id_9467224', 'enemy_team_id_9498970', 'enemy_team_id_9530947', 'enemy_team_id_9545759', 'enemy_team_id_9572001', 'enemy_team_id_9593895', 'enemy_team_id_9634742', 'enemy_team_id_9640842', 'enemy_team_id_9651185', 'enemy_team_id_9651814', 'enemy_team_id_9678064', 'enemy_team_id_9699533', 'enemy_team_id_9729720', 'enemy_team_id_9741253', 'enemy_team_id_9766941', 'enemy_team_id_9780800', 'enemy_team_id_9823272', 'enemy_team_id_9824702', 'enemy_team_id_9828954'] ['isRadiant', 'duration', 'win', 'kills', 'deaths', 'last_hits', 'denies', 'gold_per_min', 'towers_killed', 'roshans_killed', 'teamfight_participation', 'obs_placed', 'camps_stacked', 'rune_pickups', 'firstblood_claimed', 'stuns', 'creeps_stacked', 'assists', 'xp_per_min', 'lane_efficiency', 'glicko2_rating', 'enemy_glicko2_rating', 'rating_advantage', 'enemy_avg_fantasy_score', 'fantasy_role_Core', 'fantasy_role_Mid', 'fantasy_role_Support', 'hero_id_1', 'hero_id_10', 'hero_id_100', 'hero_id_101', 'hero_id_102', 'hero_id_103', 'hero_id_104', 'hero_id_105', 'hero_id_106', 'hero_id_107', 'hero_id_108', 'hero_id_109', 'hero_id_11', 'hero_id_110', 'hero_id_111', 'hero_id_112', 'hero_id_113', 'hero_id_114', 'hero_id_119', 'hero_id_12', 'hero_id_120', 'hero_id_121', 'hero_id_123', 'hero_id_126', 'hero_id_128', 'hero_id_129', 'hero_id_13', 'hero_id_131', 'hero_id_135', 'hero_id_136', 'hero_id_137', 'hero_id_138', 'hero_id_14', 'hero_id_15', 'hero_id_16', 'hero_id_17', 'hero_id_18', 'hero_id_19', 'hero_id_2', 'hero_id_20', 'hero_id_21', 'hero_id_22', 'hero_id_23', 'hero_id_25', 'hero_id_26', 'hero_id_27', 'hero_id_28', 'hero_id_29', 'hero_id_3', 'hero_id_30', 'hero_id_31', 'hero_id_32', 'hero_id_33', 'hero_id_34', 'hero_id_35', 'hero_id_36', 'hero_id_37', 'hero_id_38', 'hero_id_39', 'hero_id_4', 'hero_id_40', 'hero_id_41', 'hero_id_42', 'hero_id_43', 'hero_id_44', 'hero_id_45', 'hero_id_46', 'hero_id_47', 'hero_id_48', 'hero_id_49', 'hero_id_5', 'hero_id_50', 'hero_id_51', 'hero_id_52', 'hero_id_53', 'hero_id_54', 'hero_id_55', 'hero_id_56', 'hero_id_57', 'hero_id_58', 'hero_id_59', 'hero_id_6', 'hero_id_60', 'hero_id_61', 'hero_id_62', 'hero_id_63', 'hero_id_64', 'hero_id_65', 'hero_id_66', 'hero_id_67', 'hero_id_68', 'hero_id_69', 'hero_id_7', 'hero_id_70', 'hero_id_71', 'hero_id_72', 'hero_id_73', 'hero_id_74', 'hero_id_75', 'hero_id_76', 'hero_id_77', 'hero_id_78', 'hero_id_79', 'hero_id_8', 'hero_id_80', 'hero_id_81', 'hero_id_82', 'hero_id_83', 'hero_id_84', 'hero_id_85', 'hero_id_86', 'hero_id_87', 'hero_id_88', 'hero_id_89', 'hero_id_9', 'hero_id_90', 'hero_id_91', 'hero_id_92', 'hero_id_93', 'hero_id_94', 'hero_id_95', 'hero_id_96', 'hero_id_97', 'hero_id_98', 'hero_id_99', 'hero_variant_1, 2', 'hero_variant_10, 1', 'hero_variant_10, 2', 'hero_variant_100, 1', 'hero_variant_100, 2', 'hero_variant_101, 1', 'hero_variant_102, 1', 'hero_variant_102, 2', 'hero_variant_103, 1', 'hero_variant_103, 2', 'hero_variant_104, 1', 'hero_variant_104, 2', 'hero_variant_105, 1', 'hero_variant_105, 2', 'hero_variant_105, 3', 'hero_variant_106, 1', 'hero_variant_106, 2', 'hero_variant_107, 1', 'hero_variant_107, 2', 'hero_variant_107, 3', 'hero_variant_108, 1', 'hero_variant_108, 2', 'hero_variant_109, 1', 'hero_variant_109, 2', 'hero_variant_11, 1', 'hero_variant_11, 2', 'hero_variant_110, 1', 'hero_variant_110, 2', 'hero_variant_111, 1', 'hero_variant_111, 2', 'hero_variant_112, 1', 'hero_variant_112, 2', 'hero_variant_112, 3', 'hero_variant_112, 4', 'hero_variant_113, 3', 'hero_variant_113, 4', 'hero_variant_114, 1', 'hero_variant_114, 2', 'hero_variant_114, 3', 'hero_variant_119, 1', 'hero_variant_119, 2', 'hero_variant_119, 3', 'hero_variant_12, 3', 'hero_variant_120, 1', 'hero_variant_120, 2', 'hero_variant_121, 1', 'hero_variant_121, 2', 'hero_variant_123, 1', 'hero_variant_123, 2', 'hero_variant_123, 3', 'hero_variant_126, 1', 'hero_variant_126, 3', 'hero_variant_128, 1', 'hero_variant_128, 2', 'hero_variant_129, 1', 'hero_variant_129, 2', 'hero_variant_13, 1', 'hero_variant_13, 2', 'hero_variant_131, 2', 'hero_variant_131, 3', 'hero_variant_135, 1', 'hero_variant_135, 2', 'hero_variant_135, 3', 'hero_variant_135, 4', 'hero_variant_136, 1', 'hero_variant_136, 2', 'hero_variant_136, 3', 'hero_variant_136, 4', 'hero_variant_136, 5', 'hero_variant_137, 1', 'hero_variant_137, 2', 'hero_variant_137, 3', 'hero_variant_138, 1', 'hero_variant_138, 2', 'hero_variant_138, 3', 'hero_variant_14, 2', 'hero_variant_14, 3', 'hero_variant_15, 1', 'hero_variant_15, 2', 'hero_variant_16, 1', 'hero_variant_16, 2', 'hero_variant_16, 3', 'hero_variant_16, 4', 'hero_variant_17, 1', 'hero_variant_17, 2', 'hero_variant_18, 1', 'hero_variant_18, 2', 'hero_variant_19, 1', 'hero_variant_19, 2', 'hero_variant_2, 1', 'hero_variant_2, 2', 'hero_variant_20, 2', 'hero_variant_21, 2', 'hero_variant_21, 3', 'hero_variant_21, 4', 'hero_variant_21, 5', 'hero_variant_22, 1', 'hero_variant_22, 2', 'hero_variant_23, 1', 'hero_variant_23, 2', 'hero_variant_25, 1', 'hero_variant_25, 2', 'hero_variant_26, 1', 'hero_variant_26, 2', 'hero_variant_27, 1', 'hero_variant_27, 2', 'hero_variant_27, 3', 'hero_variant_28, 1', 'hero_variant_28, 2', 'hero_variant_29, 1', 'hero_variant_29, 2', 'hero_variant_3, 1', 'hero_variant_3, 2', 'hero_variant_30, 1', 'hero_variant_30, 4', 'hero_variant_31, 1', 'hero_variant_31, 2', 'hero_variant_31, 3', 'hero_variant_32, 1', 'hero_variant_32, 2', 'hero_variant_33, 1', 'hero_variant_33, 2', 'hero_variant_34, 1', 'hero_variant_34, 2', 'hero_variant_35, 1', 'hero_variant_35, 2', 'hero_variant_36, 1', 'hero_variant_36, 2', 'hero_variant_37, 2', 'hero_variant_38, 1', 'hero_variant_38, 2', 'hero_variant_39, 2', 'hero_variant_39, 3', 'hero_variant_4, 1', 'hero_variant_4, 2', 'hero_variant_4, 3', 'hero_variant_40, 1', 'hero_variant_40, 2', 'hero_variant_41, 2', 'hero_variant_41, 3', 'hero_variant_42, 1', 'hero_variant_42, 2', 'hero_variant_43, 1', 'hero_variant_43, 2', 'hero_variant_43, 3', 'hero_variant_44, 1', 'hero_variant_44, 2', 'hero_variant_44, 3', 'hero_variant_45, 1', 'hero_variant_46, 1', 'hero_variant_46, 2', 'hero_variant_46, 3', 'hero_variant_47, 1', 'hero_variant_47, 2', 'hero_variant_48, 2', 'hero_variant_48, 3', 'hero_variant_49, 1', 'hero_variant_49, 2', 'hero_variant_49, 3', 'hero_variant_5, 1', 'hero_variant_5, 2', 'hero_variant_5, 3', 'hero_variant_5, 4', 'hero_variant_50, 1', 'hero_variant_50, 2', 'hero_variant_51, 1', 'hero_variant_51, 2', 'hero_variant_52, 1', 'hero_variant_52, 2', 'hero_variant_53, 1', 'hero_variant_53, 2', 'hero_variant_54, 2', 'hero_variant_54, 4', 'hero_variant_54, 5', 'hero_variant_55, 1', 'hero_variant_55, 2', 'hero_variant_56, 1', 'hero_variant_56, 2', 'hero_variant_57, 1', 'hero_variant_57, 2', 'hero_variant_58, 1', 'hero_variant_58, 2', 'hero_variant_59, 1', 'hero_variant_59, 3', 'hero_variant_59, 4', 'hero_variant_6, 1', 'hero_variant_6, 2', 'hero_variant_60, 1', 'hero_variant_60, 2', 'hero_variant_60, 3', 'hero_variant_61, 1', 'hero_variant_61, 2', 'hero_variant_62, 1', 'hero_variant_62, 2', 'hero_variant_63, 1', 'hero_variant_63, 2', 'hero_variant_64, 1', 'hero_variant_64, 2', 'hero_variant_64, 3', 'hero_variant_64, 4', 'hero_variant_65, 1', 'hero_variant_65, 2', 'hero_variant_66, 3', 'hero_variant_66, 5', 'hero_variant_67, 2', 'hero_variant_68, 1', 'hero_variant_68, 2', 'hero_variant_69, 1', 'hero_variant_69, 2', 'hero_variant_7, 1', 'hero_variant_7, 2', 'hero_variant_7, 3', 'hero_variant_70, 1', 'hero_variant_70, 2', 'hero_variant_71, 1', 'hero_variant_72, 1', 'hero_variant_72, 2', 'hero_variant_73, 1', 'hero_variant_73, 2', 'hero_variant_74, 1', 'hero_variant_74, 2', 'hero_variant_74, 3', 'hero_variant_74, 5', 'hero_variant_75, 2', 'hero_variant_75, 3', 'hero_variant_75, 4', 'hero_variant_76, 1', 'hero_variant_76, 2', 'hero_variant_77, 1', 'hero_variant_77, 3', 'hero_variant_78, 1', 'hero_variant_78, 2', 'hero_variant_79, 1', 'hero_variant_79, 2', 'hero_variant_8, 1', 'hero_variant_8, 2', 'hero_variant_80, 3', 'hero_variant_81, 1', 'hero_variant_81, 2', 'hero_variant_81, 3', 'hero_variant_81, 4', 'hero_variant_82, 1', 'hero_variant_82, 2', 'hero_variant_83, 1', 'hero_variant_83, 2', 'hero_variant_84, 1', 'hero_variant_84, 2', 'hero_variant_85, 1', 'hero_variant_85, 2', 'hero_variant_86, 1', 'hero_variant_86, 2', 'hero_variant_87, 1', 'hero_variant_87, 2', 'hero_variant_88, 1', 'hero_variant_88, 2', 'hero_variant_89, 1', 'hero_variant_89, 2', 'hero_variant_9, 2', 'hero_variant_9, 3', 'hero_variant_90, 1', 'hero_variant_90, 2', 'hero_variant_91, 1', 'hero_variant_91, 2', 'hero_variant_92, 1', 'hero_variant_92, 3', 'hero_variant_93, 1', 'hero_variant_93, 2', 'hero_variant_94, 1', 'hero_variant_94, 3', 'hero_variant_94, 4', 'hero_variant_95, 1', 'hero_variant_95, 2', 'hero_variant_96, 1', 'hero_variant_96, 2', 'hero_variant_97, 2', 'hero_variant_97, 3', 'hero_variant_97, 4', 'hero_variant_98, 1', 'hero_variant_98, 2', 'hero_variant_99, 2', 'hero_variant_99, 3', 'account_id_100058342', 'account_id_100471531', 'account_id_100594231', 'account_id_100616105', 'account_id_101259972', 'account_id_101356886', 'account_id_1031547092', 'account_id_10366616', 'account_id_103735745', 'account_id_104334048', 'account_id_1044002267', 'account_id_104512126', 'account_id_105248644', 'account_id_106305042', 'account_id_106573901', 'account_id_106755427', 'account_id_108958769', 'account_id_109757023', 'account_id_110583422', 'account_id_111030315', 'account_id_111114687', 'account_id_111620041', 'account_id_113331514', 'account_id_1150772339', 'account_id_115464954', 'account_id_115651292', 'account_id_116585378', 'account_id_116934015', 'account_id_117089283', 'account_id_1171243748', 'account_id_117514269', 'account_id_118134220', 'account_id_118948666', 'account_id_120613892', 'account_id_122817493', 'account_id_123787715', 'account_id_124801257', 'account_id_125445069', 'account_id_126212866', 'account_id_126238768', 'account_id_126842529', 'account_id_127565532', 'account_id_127617979', 'account_id_129958758', 'account_id_130991304', 'account_id_131303632', 'account_id_132851371', 'account_id_134556694', 'account_id_136829091', 'account_id_137129583', 'account_id_137193239', 'account_id_138177198', 'account_id_138543123', 'account_id_138857296', 'account_id_138880576', 'account_id_139031324', 'account_id_140251702', 'account_id_140288368', 'account_id_140297552', 'account_id_143693439', 'account_id_145957968', 'account_id_146711951', 'account_id_147767183', 'account_id_148215639', 'account_id_148526973', 'account_id_150961567', 'account_id_152168157', 'account_id_152455523', 'account_id_152859296', 'account_id_152962063', 'account_id_154715080', 'account_id_154974246', 'account_id_155162307', 'account_id_155332459', 'account_id_155494381', 'account_id_156328257', 'account_id_157475523', 'account_id_157989498', 'account_id_158847773', 'account_id_160119017', 'account_id_161839895', 'account_id_164199202', 'account_id_164532005', 'account_id_164685175', 'account_id_164962869', 'account_id_16497807', 'account_id_165564598', 'account_id_1657135701', 'account_id_167976729', 'account_id_168028715', 'account_id_168126336', 'account_id_170896543', 'account_id_171097887', 'account_id_171262902', 'account_id_172099728', 'account_id_173978074', 'account_id_175311897', 'account_id_177203952', 'account_id_177411785', 'account_id_177953305', 'account_id_179313961', 'account_id_181267255', 'account_id_183378746', 'account_id_183719386', 'account_id_184950344', 'account_id_185202677', 'account_id_185590374', 'account_id_185908355', 'account_id_190826739', 'account_id_191362875', 'account_id_191597529', 'account_id_193815691', 'account_id_193884241', 'account_id_195108598', 'account_id_196878136', 'account_id_201358612', 'account_id_202217968', 'account_id_203351055', 'account_id_206642367', 'account_id_207829314', 'account_id_208181197', 'account_id_210053851', 'account_id_221666230', 'account_id_223342537', 'account_id_230487729', 'account_id_238239590', 'account_id_241884166', 'account_id_248180032', 'account_id_249835593', 'account_id_256156323', 'account_id_25907144', 'account_id_27178898', 'account_id_292921272', 'account_id_293904640', 'account_id_295697470', 'account_id_301750126', 'account_id_302214028', 'account_id_308163407', 'account_id_312436974', 'account_id_317880638', 'account_id_320219866', 'account_id_320252024', 'account_id_321580662', 'account_id_324277900', 'account_id_330534326', 'account_id_331855530', 'account_id_333351042', 'account_id_337575662', 'account_id_339235645', 'account_id_343084576', 'account_id_346412363', 'account_id_349310876', 'account_id_352545711', 'account_id_355168766', 'account_id_363739653', 'account_id_369342470', 'account_id_375507918', 'account_id_389022189', 'account_id_392006194', 'account_id_392169957', 'account_id_392565237', 'account_id_399804216', 'account_id_399862798', 'account_id_399920568', 'account_id_408729743', 'account_id_417235485', 'account_id_425588742', 'account_id_431770905', 'account_id_439345730', 'account_id_458287006', 'account_id_480412663', 'account_id_48823667', 'account_id_489696354', 'account_id_50580004', 'account_id_54580962', 'account_id_56351509', 'account_id_58513047', 'account_id_73401082', 'account_id_76904792', 'account_id_77490514', 'account_id_81306398', 'account_id_81475303', 'account_id_82262664', 'account_id_835864135', 'account_id_847565596', 'account_id_85696663', 'account_id_858106446', 'account_id_861414087', 'account_id_86698277', 'account_id_86822085', 'account_id_87063175', 'account_id_87278757', 'account_id_88271237', 'account_id_898455820', 'account_id_898754153', 'account_id_904131336', 'account_id_90423751', 'account_id_91730177', 'account_id_919735867', 'account_id_93618577', 'account_id_93817671', 'account_id_9403474', 'account_id_94054712', 'account_id_94155156', 'account_id_94296097', 'account_id_94786276', 'account_id_957204049', 'account_id_96183976', 'account_id_96803083', 'account_id_97590558', 'account_id_97658618', 'team_id_111474', 'team_id_2163', 'team_id_2586976', 'team_id_36', 'team_id_39', 'team_id_5', 'team_id_7119388', 'team_id_7422789', 'team_id_7554697', 'team_id_7732977', 'team_id_8254145', 'team_id_8254400', 'team_id_8255888', 'team_id_8261500', 'team_id_8291895', 'team_id_8375259', 'team_id_8574561', 'team_id_8597976', 'team_id_8599101', 'team_id_8605863', 'team_id_8728920', 'team_id_9017006', 'team_id_9080405', 'team_id_9131584', 'team_id_9247354', 'team_id_9255039', 'team_id_9303383', 'team_id_9303484', 'team_id_9338413', 'team_id_9351740', 'team_id_9381678', 'team_id_9467224', 'team_id_9498970', 'team_id_9545759', 'team_id_9572001', 'team_id_9593895', 'team_id_9634742', 'team_id_9640842', 'team_id_9651185', 'team_id_9651814', 'team_id_9678064', 'team_id_9699533', 'team_id_9729720', 'team_id_9741253', 'team_id_9766941', 'team_id_9780800', 'team_id_9823272', 'team_id_9824702', 'team_id_9828954', 'enemy_team_id_111474', 'enemy_team_id_2163', 'enemy_team_id_2586976', 'enemy_team_id_36', 'enemy_team_id_39', 'enemy_team_id_5', 'enemy_team_id_7119388', 'enemy_team_id_7422789', 'enemy_team_id_7554697', 'enemy_team_id_7732977', 'enemy_team_id_8254145', 'enemy_team_id_8254400', 'enemy_team_id_8255888', 'enemy_team_id_8261500', 'enemy_team_id_8291895', 'enemy_team_id_8375259', 'enemy_team_id_8574561', 'enemy_team_id_8597976', 'enemy_team_id_8599101', 'enemy_team_id_8605863', 'enemy_team_id_8728920', 'enemy_team_id_9017006', 'enemy_team_id_9080405', 'enemy_team_id_9131584', 'enemy_team_id_9247354', 'enemy_team_id_9255039', 'enemy_team_id_9303383', 'enemy_team_id_9303484', 'enemy_team_id_9338413', 'enemy_team_id_9351740', 'enemy_team_id_9381678', 'enemy_team_id_9467224', 'enemy_team_id_9498970', 'enemy_team_id_9530947', 'enemy_team_id_9545759', 'enemy_team_id_9572001', 'enemy_team_id_9593895', 'enemy_team_id_9634742', 'enemy_team_id_9640842', 'enemy_team_id_9651185', 'enemy_team_id_9651814', 'enemy_team_id_9678064', 'enemy_team_id_9699533', 'enemy_team_id_9729720', 'enemy_team_id_9741253', 'enemy_team_id_9766941', 'enemy_team_id_9780800', 'enemy_team_id_9823272', 'enemy_team_id_9824702', 'enemy_team_id_9828954']\nexpected rolling_fantasy_score_10, rolling_fantasy_score_15, rolling_enemy_glicko2_15, rolling_winrate_10, rolling_winrate_15, rolling_enemy_glicko2_10 in input data"
     ]
    }
   ],
   "source": [
    "matchups = [('7119388', '8261500'), ('8597976', '7119388'), ('8597976', '8261500')] # Spirit vs. Xtreme Gaming, Spirit vs. Talon\n",
    "symetric_matchups = make_symmetric_matchups(matchups)\n",
    "result = predict_players_for_matchups(df, model, symetric_matchups, X, not_features)"
   ],
   "metadata": {
    "collapsed": false,
    "ExecuteTime": {
     "end_time": "2025-07-29T14:45:25.519477800Z",
     "start_time": "2025-07-29T14:45:25.107358500Z"
    }
   },
   "id": "9542d8f150b7076f"
  },
  {
   "cell_type": "code",
   "execution_count": null,
   "outputs": [],
   "source": [
    "result"
   ],
   "metadata": {
    "collapsed": false,
    "ExecuteTime": {
     "end_time": "2025-07-29T14:45:25.519477800Z",
     "start_time": "2025-07-29T14:45:25.519477800Z"
    }
   },
   "id": "43aaced8fa3588fe"
  },
  {
   "cell_type": "code",
   "execution_count": null,
   "outputs": [],
   "source": [
    "import matplotlib.pyplot as plt\n",
    "xgb.plot_importance(model)\n",
    "plt.show()\n",
    "feature_importances = pd.DataFrame({\n",
    "    'feature': X.columns,\n",
    "    'importance': model.feature_importances_\n",
    "})"
   ],
   "metadata": {
    "collapsed": false,
    "ExecuteTime": {
     "start_time": "2025-07-29T14:45:25.519477800Z"
    }
   },
   "id": "595f4ef68dd98f13"
  },
  {
   "cell_type": "code",
   "execution_count": null,
   "outputs": [],
   "source": [
    "feature_importances = pd.DataFrame({\n",
    "    'feature': X.columns,\n",
    "    'importance': model.feature_importances_\n",
    "})\n",
    "feature_importances = feature_importances.sort_values(by='importance', ascending=False)\n",
    "feature_importances"
   ],
   "metadata": {
    "collapsed": false,
    "ExecuteTime": {
     "end_time": "2025-07-29T14:45:25.523491600Z",
     "start_time": "2025-07-29T14:45:25.523491600Z"
    }
   },
   "id": "2ddf12863c749b0f"
  },
  {
   "cell_type": "markdown",
   "source": [
    "testing stuff"
   ],
   "metadata": {
    "collapsed": false
   },
   "id": "5e71346bb65a0491"
  },
  {
   "cell_type": "code",
   "execution_count": null,
   "outputs": [],
   "source": [
    "print(df['enemy_glicko2_rating'].describe())\n",
    "print(df['enemy_glicko2_rating'].isna().sum())"
   ],
   "metadata": {
    "collapsed": false,
    "ExecuteTime": {
     "start_time": "2025-07-29T14:45:25.523491600Z"
    }
   },
   "id": "c31175f6ce3c5a4f"
  },
  {
   "cell_type": "markdown",
   "source": [
    "# Random Forest"
   ],
   "metadata": {
    "collapsed": false
   },
   "id": "dfd436f102dc75a"
  },
  {
   "cell_type": "code",
   "execution_count": null,
   "outputs": [],
   "source": [
    "from sklearn.ensemble import RandomForestRegressor\n"
   ],
   "metadata": {
    "collapsed": false,
    "ExecuteTime": {
     "start_time": "2025-07-29T14:45:25.527998Z"
    }
   },
   "id": "8f14699e8d6ea8df"
  },
  {
   "cell_type": "code",
   "execution_count": null,
   "outputs": [],
   "source": [
    "X_train_rf, X_test_rf, y_train_rf, y_test_rf = train_test_split(X, y, test_size=0.2)"
   ],
   "metadata": {
    "collapsed": false,
    "ExecuteTime": {
     "end_time": "2025-07-29T14:45:25.529538400Z",
     "start_time": "2025-07-29T14:45:25.529538400Z"
    }
   },
   "id": "48eba46f6f0d3cbd"
  },
  {
   "cell_type": "code",
   "execution_count": null,
   "outputs": [],
   "source": [
    "rf_model = RandomForestRegressor(n_estimators=100, random_state=1001)\n",
    "rf_model.fit(X_train_rf, y_train_rf)"
   ],
   "metadata": {
    "collapsed": false,
    "ExecuteTime": {
     "start_time": "2025-07-29T14:45:25.529538400Z"
    }
   },
   "id": "cd31c3af36c80c4a"
  },
  {
   "cell_type": "code",
   "execution_count": null,
   "outputs": [],
   "source": [
    "y_pred_rf = rf_model.predict(X_test_rf)\n",
    "print(\"Random Forest RMSE:\", root_mean_squared_error(y_test_rf, y_pred_rf))"
   ],
   "metadata": {
    "collapsed": false,
    "ExecuteTime": {
     "end_time": "2025-07-29T14:45:25.582970400Z",
     "start_time": "2025-07-29T14:45:25.532554600Z"
    }
   },
   "id": "3add4ffbece07cc4"
  },
  {
   "cell_type": "code",
   "execution_count": null,
   "outputs": [],
   "source": [
    "matchups = [('7119388', '8261500'), ('8597976', '7119388'), ('8597976', '8261500')] # Spirit vs. Xtreme Gaming, Spirit vs. Talon\n",
    "symetric_matchups = make_symmetric_matchups(matchups)\n",
    "result = predict_players_for_matchups(df, rf_model, symetric_matchups, X, not_features)"
   ],
   "metadata": {
    "collapsed": false,
    "ExecuteTime": {
     "start_time": "2025-07-29T14:45:25.532554600Z"
    }
   },
   "id": "cc9045ae1b2e580c"
  },
  {
   "cell_type": "code",
   "execution_count": null,
   "outputs": [],
   "source": [
    "result"
   ],
   "metadata": {
    "collapsed": false,
    "ExecuteTime": {
     "start_time": "2025-07-29T14:45:25.536674100Z"
    }
   },
   "id": "abcf989652a0627"
  },
  {
   "cell_type": "code",
   "execution_count": null,
   "outputs": [],
   "source": [
    "rf_feature_importances = pd.DataFrame({\n",
    "    'feature': X.columns,\n",
    "    'importance': rf_model.feature_importances_\n",
    "}).sort_values(by='importance', ascending=False)\n",
    "rf_feature_importances"
   ],
   "metadata": {
    "collapsed": false,
    "ExecuteTime": {
     "start_time": "2025-07-29T14:45:25.537675600Z"
    }
   },
   "id": "48880385c14b0980"
  },
  {
   "cell_type": "code",
   "execution_count": null,
   "outputs": [],
   "source": [],
   "metadata": {
    "collapsed": false,
    "ExecuteTime": {
     "start_time": "2025-07-29T14:45:25.539676900Z"
    }
   },
   "id": "a5bb1933426efd4e"
  },
  {
   "cell_type": "markdown",
   "source": [
    "# LSTM\n",
    "Wegen den Python-Version voraussetzungen von TensorFlow wird LSTM in einem eigenen Notebook implementiert."
   ],
   "metadata": {
    "collapsed": false
   },
   "id": "846435d1d71651a3"
  },
  {
   "cell_type": "code",
   "execution_count": null,
   "outputs": [],
   "source": [],
   "metadata": {
    "collapsed": false,
    "ExecuteTime": {
     "start_time": "2025-07-29T14:45:25.540678Z"
    }
   },
   "id": "ea8253c101acc792"
  }
 ],
 "metadata": {
  "kernelspec": {
   "display_name": "BA",
   "language": "python",
   "name": "python3"
  },
  "language_info": {
   "codemirror_mode": {
    "name": "ipython",
    "version": 3
   },
   "file_extension": ".py",
   "mimetype": "text/x-python",
   "name": "python",
   "nbconvert_exporter": "python",
   "pygments_lexer": "ipython3",
   "version": "3.13.5"
  }
 },
 "nbformat": 4,
 "nbformat_minor": 5
}
