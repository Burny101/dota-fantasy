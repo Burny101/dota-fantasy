{
 "cells": [
  {
   "cell_type": "markdown",
   "id": "3bfceed6",
   "metadata": {},
   "source": [
    "# General Setup"
   ]
  },
  {
   "cell_type": "code",
   "execution_count": 75,
   "id": "5b4b4831",
   "metadata": {
    "ExecuteTime": {
     "end_time": "2025-07-23T08:55:20.694322800Z",
     "start_time": "2025-07-23T08:55:20.651444700Z"
    }
   },
   "outputs": [],
   "source": [
    "import json\n",
    "import pandas as pd\n",
    "import subprocess\n",
    "import os"
   ]
  },
  {
   "cell_type": "code",
   "execution_count": 76,
   "id": "e77e2421",
   "metadata": {
    "ExecuteTime": {
     "end_time": "2025-07-23T08:55:20.789872400Z",
     "start_time": "2025-07-23T08:55:20.651954400Z"
    }
   },
   "outputs": [],
   "source": [
    "with open('data/curated/player_data.json', 'r') as f:\n",
    "\tplayer_data = json.load(f)"
   ]
  },
  {
   "cell_type": "code",
   "execution_count": 77,
   "id": "8cd004cf",
   "metadata": {
    "ExecuteTime": {
     "end_time": "2025-07-23T08:55:20.881550400Z",
     "start_time": "2025-07-23T08:55:20.789872400Z"
    }
   },
   "outputs": [],
   "source": [
    "df = pd.DataFrame(player_data)"
   ]
  },
  {
   "cell_type": "code",
   "execution_count": 78,
   "id": "8155a30a",
   "metadata": {
    "ExecuteTime": {
     "end_time": "2025-07-23T08:55:20.892044200Z",
     "start_time": "2025-07-23T08:55:20.882290700Z"
    }
   },
   "outputs": [
    {
     "name": "stdout",
     "output_type": "stream",
     "text": [
      "<class 'pandas.core.frame.DataFrame'>\n",
      "Index: 15530 entries, 0 to 15529\n",
      "Data columns (total 40 columns):\n",
      " #   Column                   Non-Null Count  Dtype  \n",
      "---  ------                   --------------  -----  \n",
      " 0   match_id                 15530 non-null  int64  \n",
      " 1   match_start_time         15530 non-null  int64  \n",
      " 2   account_id               15530 non-null  int64  \n",
      " 3   name                     15530 non-null  object \n",
      " 4   fantasy_role             15530 non-null  object \n",
      " 5   hero_id                  15530 non-null  int64  \n",
      " 6   hero_variant             15530 non-null  object \n",
      " 7   isRadiant                15530 non-null  bool   \n",
      " 8   radiant_team_id          15530 non-null  int64  \n",
      " 9   dire_team_id             15530 non-null  int64  \n",
      " 10  tournament_start_date    15530 non-null  object \n",
      " 11  duration                 15530 non-null  int64  \n",
      " 12  win                      15530 non-null  int64  \n",
      " 13  kills                    15530 non-null  int64  \n",
      " 14  deaths                   15530 non-null  int64  \n",
      " 15  last_hits                15530 non-null  int64  \n",
      " 16  denies                   15530 non-null  int64  \n",
      " 17  gold_per_min             15530 non-null  int64  \n",
      " 18  towers_killed            15530 non-null  int64  \n",
      " 19  roshans_killed           15530 non-null  int64  \n",
      " 20  teamfight_participation  15530 non-null  float64\n",
      " 21  obs_placed               15530 non-null  int64  \n",
      " 22  camps_stacked            15530 non-null  int64  \n",
      " 23  rune_pickups             15530 non-null  int64  \n",
      " 24  firstblood_claimed       15530 non-null  int64  \n",
      " 25  stuns                    15530 non-null  float64\n",
      " 26  creeps_stacked           15530 non-null  int64  \n",
      " 27  assists                  15530 non-null  int64  \n",
      " 28  xp_per_min               15530 non-null  int64  \n",
      " 29  lane_efficiency          15510 non-null  float64\n",
      " 30  team_id                  15530 non-null  object \n",
      " 31  enemy_team_id            15530 non-null  object \n",
      " 32  teamName                 14115 non-null  object \n",
      " 33  valveId                  14115 non-null  object \n",
      " 34  glicko2_rating           14115 non-null  float64\n",
      " 35  enemy_teamName           14115 non-null  object \n",
      " 36  enemy_valveId            14115 non-null  object \n",
      " 37  enemy_glicko2_rating     14115 non-null  float64\n",
      " 38  fantasy_score            15530 non-null  float64\n",
      " 39  rating_advantage         12760 non-null  float64\n",
      "dtypes: bool(1), float64(7), int64(22), object(10)\n",
      "memory usage: 4.8+ MB\n"
     ]
    }
   ],
   "source": [
    "df.info()"
   ]
  },
  {
   "cell_type": "code",
   "execution_count": 79,
   "id": "ebd8a4b9",
   "metadata": {
    "ExecuteTime": {
     "end_time": "2025-07-23T08:55:20.912271600Z",
     "start_time": "2025-07-23T08:55:20.892044200Z"
    }
   },
   "outputs": [],
   "source": [
    "df = df.astype({\n",
    "    'match_id': 'string',\n",
    "    'account_id': 'string',\n",
    "    'hero_id': 'string',\n",
    "    'radiant_team_id': 'string',\n",
    "    'dire_team_id': 'string',\n",
    "    'win': 'boolean',\n",
    "    'firstblood_claimed': 'boolean',\n",
    "    'team_id': 'string',\n",
    "\t'enemy_team_id': 'string',\n",
    "    'valveId': 'string',\n",
    "})"
   ]
  },
  {
   "cell_type": "code",
   "execution_count": 80,
   "outputs": [],
   "source": [
    "q1_glicko = df['glicko2_rating'].quantile(0.25)\n",
    "df['glicko2_rating'] = df['glicko2_rating'].fillna(q1_glicko)\n",
    "q1_enemy_glicko = df['enemy_glicko2_rating'].quantile(0.25)\n",
    "df['enemy_glicko2_rating'] = df['enemy_glicko2_rating'].fillna(q1_enemy_glicko)"
   ],
   "metadata": {
    "collapsed": false,
    "ExecuteTime": {
     "end_time": "2025-07-23T08:55:20.951811100Z",
     "start_time": "2025-07-23T08:55:20.912271600Z"
    }
   },
   "id": "fca2104a1757eea7"
  },
  {
   "cell_type": "code",
   "execution_count": 81,
   "outputs": [],
   "source": [
    "mask = df['rating_advantage'].isna()\n",
    "df.loc[mask, 'rating_advantage'] = df.loc[mask, 'glicko2_rating'] - df.loc[mask, 'enemy_glicko2_rating']"
   ],
   "metadata": {
    "collapsed": false,
    "ExecuteTime": {
     "end_time": "2025-07-23T08:55:20.959342200Z",
     "start_time": "2025-07-23T08:55:20.917518Z"
    }
   },
   "id": "c673c6cf0f640d1b"
  },
  {
   "cell_type": "code",
   "execution_count": 82,
   "id": "b7c5804b",
   "metadata": {
    "ExecuteTime": {
     "end_time": "2025-07-23T08:55:20.959342200Z",
     "start_time": "2025-07-23T08:55:20.923028900Z"
    }
   },
   "outputs": [
    {
     "name": "stdout",
     "output_type": "stream",
     "text": [
      "<class 'pandas.core.frame.DataFrame'>\n",
      "Index: 15530 entries, 0 to 15529\n",
      "Data columns (total 40 columns):\n",
      " #   Column                   Non-Null Count  Dtype  \n",
      "---  ------                   --------------  -----  \n",
      " 0   match_id                 15530 non-null  string \n",
      " 1   match_start_time         15530 non-null  int64  \n",
      " 2   account_id               15530 non-null  string \n",
      " 3   name                     15530 non-null  object \n",
      " 4   fantasy_role             15530 non-null  object \n",
      " 5   hero_id                  15530 non-null  string \n",
      " 6   hero_variant             15530 non-null  object \n",
      " 7   isRadiant                15530 non-null  bool   \n",
      " 8   radiant_team_id          15530 non-null  string \n",
      " 9   dire_team_id             15530 non-null  string \n",
      " 10  tournament_start_date    15530 non-null  object \n",
      " 11  duration                 15530 non-null  int64  \n",
      " 12  win                      15530 non-null  boolean\n",
      " 13  kills                    15530 non-null  int64  \n",
      " 14  deaths                   15530 non-null  int64  \n",
      " 15  last_hits                15530 non-null  int64  \n",
      " 16  denies                   15530 non-null  int64  \n",
      " 17  gold_per_min             15530 non-null  int64  \n",
      " 18  towers_killed            15530 non-null  int64  \n",
      " 19  roshans_killed           15530 non-null  int64  \n",
      " 20  teamfight_participation  15530 non-null  float64\n",
      " 21  obs_placed               15530 non-null  int64  \n",
      " 22  camps_stacked            15530 non-null  int64  \n",
      " 23  rune_pickups             15530 non-null  int64  \n",
      " 24  firstblood_claimed       15530 non-null  boolean\n",
      " 25  stuns                    15530 non-null  float64\n",
      " 26  creeps_stacked           15530 non-null  int64  \n",
      " 27  assists                  15530 non-null  int64  \n",
      " 28  xp_per_min               15530 non-null  int64  \n",
      " 29  lane_efficiency          15510 non-null  float64\n",
      " 30  team_id                  15530 non-null  string \n",
      " 31  enemy_team_id            15530 non-null  string \n",
      " 32  teamName                 14115 non-null  object \n",
      " 33  valveId                  14115 non-null  string \n",
      " 34  glicko2_rating           15530 non-null  float64\n",
      " 35  enemy_teamName           14115 non-null  object \n",
      " 36  enemy_valveId            14115 non-null  object \n",
      " 37  enemy_glicko2_rating     15530 non-null  float64\n",
      " 38  fantasy_score            15530 non-null  float64\n",
      " 39  rating_advantage         15530 non-null  float64\n",
      "dtypes: bool(1), boolean(2), float64(7), int64(15), object(7), string(8)\n",
      "memory usage: 5.1+ MB\n"
     ]
    }
   ],
   "source": [
    "df.info()"
   ]
  },
  {
   "cell_type": "markdown",
   "id": "a01a35e4",
   "metadata": {},
   "source": [
    "# XGBoost\n",
    "Without time dimension."
   ]
  },
  {
   "cell_type": "code",
   "execution_count": 83,
   "id": "b201be52",
   "metadata": {
    "ExecuteTime": {
     "end_time": "2025-07-23T08:55:20.959342200Z",
     "start_time": "2025-07-23T08:55:20.937609500Z"
    }
   },
   "outputs": [],
   "source": [
    "import xgboost as xgb\n",
    "from sklearn.model_selection import train_test_split\n",
    "from sklearn.metrics import root_mean_squared_error\n"
   ]
  },
  {
   "cell_type": "code",
   "execution_count": 84,
   "id": "b3eaed14",
   "metadata": {
    "ExecuteTime": {
     "end_time": "2025-07-23T08:55:20.959342200Z",
     "start_time": "2025-07-23T08:55:20.940881700Z"
    }
   },
   "outputs": [],
   "source": [
    "not_features = [\n",
    "\t'match_id', 'name', 'match_start_time', 'radiant_team_id', 'dire_team_id',\n",
    "\t'tournament_start_date', 'teamName', 'valveId', 'enemy_teamName', 'enemy_valveId', 'fantasy_score'\n",
    "]"
   ]
  },
  {
   "cell_type": "code",
   "execution_count": 85,
   "id": "cc6ee6ae",
   "metadata": {
    "ExecuteTime": {
     "end_time": "2025-07-23T08:55:20.959342200Z",
     "start_time": "2025-07-23T08:55:20.943895300Z"
    }
   },
   "outputs": [],
   "source": [
    "X = df.drop(columns=not_features)\n",
    "y = df['fantasy_score']"
   ]
  },
  {
   "cell_type": "code",
   "execution_count": 86,
   "id": "c0d6f1cc",
   "metadata": {
    "ExecuteTime": {
     "end_time": "2025-07-23T08:55:20.999373900Z",
     "start_time": "2025-07-23T08:55:20.952324200Z"
    }
   },
   "outputs": [],
   "source": [
    "X = pd.get_dummies(X, columns=['fantasy_role', 'hero_id', 'hero_variant', 'account_id', 'team_id', 'enemy_team_id'])\n"
   ]
  },
  {
   "cell_type": "code",
   "execution_count": 87,
   "id": "e56d3bf6",
   "metadata": {
    "ExecuteTime": {
     "end_time": "2025-07-23T08:55:21.061491400Z",
     "start_time": "2025-07-23T08:55:20.995361300Z"
    }
   },
   "outputs": [],
   "source": [
    "X_train, X_test, y_train, y_test = train_test_split(X, y, test_size=0.2, random_state=1001)\n"
   ]
  },
  {
   "cell_type": "code",
   "execution_count": 88,
   "id": "1cdb3815",
   "metadata": {
    "ExecuteTime": {
     "end_time": "2025-07-23T08:55:22.070027800Z",
     "start_time": "2025-07-23T08:55:21.061491400Z"
    }
   },
   "outputs": [
    {
     "data": {
      "text/plain": "XGBRegressor(base_score=None, booster=None, callbacks=None,\n             colsample_bylevel=None, colsample_bynode=None,\n             colsample_bytree=None, device=None, early_stopping_rounds=None,\n             enable_categorical=False, eval_metric=None, feature_types=None,\n             feature_weights=None, gamma=None, grow_policy=None,\n             importance_type=None, interaction_constraints=None,\n             learning_rate=None, max_bin=None, max_cat_threshold=None,\n             max_cat_to_onehot=None, max_delta_step=None, max_depth=None,\n             max_leaves=None, min_child_weight=None, missing=nan,\n             monotone_constraints=None, multi_strategy=None, n_estimators=None,\n             n_jobs=None, num_parallel_tree=None, ...)",
      "text/html": "<style>#sk-container-id-4 {\n  /* Definition of color scheme common for light and dark mode */\n  --sklearn-color-text: #000;\n  --sklearn-color-text-muted: #666;\n  --sklearn-color-line: gray;\n  /* Definition of color scheme for unfitted estimators */\n  --sklearn-color-unfitted-level-0: #fff5e6;\n  --sklearn-color-unfitted-level-1: #f6e4d2;\n  --sklearn-color-unfitted-level-2: #ffe0b3;\n  --sklearn-color-unfitted-level-3: chocolate;\n  /* Definition of color scheme for fitted estimators */\n  --sklearn-color-fitted-level-0: #f0f8ff;\n  --sklearn-color-fitted-level-1: #d4ebff;\n  --sklearn-color-fitted-level-2: #b3dbfd;\n  --sklearn-color-fitted-level-3: cornflowerblue;\n\n  /* Specific color for light theme */\n  --sklearn-color-text-on-default-background: var(--sg-text-color, var(--theme-code-foreground, var(--jp-content-font-color1, black)));\n  --sklearn-color-background: var(--sg-background-color, var(--theme-background, var(--jp-layout-color0, white)));\n  --sklearn-color-border-box: var(--sg-text-color, var(--theme-code-foreground, var(--jp-content-font-color1, black)));\n  --sklearn-color-icon: #696969;\n\n  @media (prefers-color-scheme: dark) {\n    /* Redefinition of color scheme for dark theme */\n    --sklearn-color-text-on-default-background: var(--sg-text-color, var(--theme-code-foreground, var(--jp-content-font-color1, white)));\n    --sklearn-color-background: var(--sg-background-color, var(--theme-background, var(--jp-layout-color0, #111)));\n    --sklearn-color-border-box: var(--sg-text-color, var(--theme-code-foreground, var(--jp-content-font-color1, white)));\n    --sklearn-color-icon: #878787;\n  }\n}\n\n#sk-container-id-4 {\n  color: var(--sklearn-color-text);\n}\n\n#sk-container-id-4 pre {\n  padding: 0;\n}\n\n#sk-container-id-4 input.sk-hidden--visually {\n  border: 0;\n  clip: rect(1px 1px 1px 1px);\n  clip: rect(1px, 1px, 1px, 1px);\n  height: 1px;\n  margin: -1px;\n  overflow: hidden;\n  padding: 0;\n  position: absolute;\n  width: 1px;\n}\n\n#sk-container-id-4 div.sk-dashed-wrapped {\n  border: 1px dashed var(--sklearn-color-line);\n  margin: 0 0.4em 0.5em 0.4em;\n  box-sizing: border-box;\n  padding-bottom: 0.4em;\n  background-color: var(--sklearn-color-background);\n}\n\n#sk-container-id-4 div.sk-container {\n  /* jupyter's `normalize.less` sets `[hidden] { display: none; }`\n     but bootstrap.min.css set `[hidden] { display: none !important; }`\n     so we also need the `!important` here to be able to override the\n     default hidden behavior on the sphinx rendered scikit-learn.org.\n     See: https://github.com/scikit-learn/scikit-learn/issues/21755 */\n  display: inline-block !important;\n  position: relative;\n}\n\n#sk-container-id-4 div.sk-text-repr-fallback {\n  display: none;\n}\n\ndiv.sk-parallel-item,\ndiv.sk-serial,\ndiv.sk-item {\n  /* draw centered vertical line to link estimators */\n  background-image: linear-gradient(var(--sklearn-color-text-on-default-background), var(--sklearn-color-text-on-default-background));\n  background-size: 2px 100%;\n  background-repeat: no-repeat;\n  background-position: center center;\n}\n\n/* Parallel-specific style estimator block */\n\n#sk-container-id-4 div.sk-parallel-item::after {\n  content: \"\";\n  width: 100%;\n  border-bottom: 2px solid var(--sklearn-color-text-on-default-background);\n  flex-grow: 1;\n}\n\n#sk-container-id-4 div.sk-parallel {\n  display: flex;\n  align-items: stretch;\n  justify-content: center;\n  background-color: var(--sklearn-color-background);\n  position: relative;\n}\n\n#sk-container-id-4 div.sk-parallel-item {\n  display: flex;\n  flex-direction: column;\n}\n\n#sk-container-id-4 div.sk-parallel-item:first-child::after {\n  align-self: flex-end;\n  width: 50%;\n}\n\n#sk-container-id-4 div.sk-parallel-item:last-child::after {\n  align-self: flex-start;\n  width: 50%;\n}\n\n#sk-container-id-4 div.sk-parallel-item:only-child::after {\n  width: 0;\n}\n\n/* Serial-specific style estimator block */\n\n#sk-container-id-4 div.sk-serial {\n  display: flex;\n  flex-direction: column;\n  align-items: center;\n  background-color: var(--sklearn-color-background);\n  padding-right: 1em;\n  padding-left: 1em;\n}\n\n\n/* Toggleable style: style used for estimator/Pipeline/ColumnTransformer box that is\nclickable and can be expanded/collapsed.\n- Pipeline and ColumnTransformer use this feature and define the default style\n- Estimators will overwrite some part of the style using the `sk-estimator` class\n*/\n\n/* Pipeline and ColumnTransformer style (default) */\n\n#sk-container-id-4 div.sk-toggleable {\n  /* Default theme specific background. It is overwritten whether we have a\n  specific estimator or a Pipeline/ColumnTransformer */\n  background-color: var(--sklearn-color-background);\n}\n\n/* Toggleable label */\n#sk-container-id-4 label.sk-toggleable__label {\n  cursor: pointer;\n  display: flex;\n  width: 100%;\n  margin-bottom: 0;\n  padding: 0.5em;\n  box-sizing: border-box;\n  text-align: center;\n  align-items: start;\n  justify-content: space-between;\n  gap: 0.5em;\n}\n\n#sk-container-id-4 label.sk-toggleable__label .caption {\n  font-size: 0.6rem;\n  font-weight: lighter;\n  color: var(--sklearn-color-text-muted);\n}\n\n#sk-container-id-4 label.sk-toggleable__label-arrow:before {\n  /* Arrow on the left of the label */\n  content: \"▸\";\n  float: left;\n  margin-right: 0.25em;\n  color: var(--sklearn-color-icon);\n}\n\n#sk-container-id-4 label.sk-toggleable__label-arrow:hover:before {\n  color: var(--sklearn-color-text);\n}\n\n/* Toggleable content - dropdown */\n\n#sk-container-id-4 div.sk-toggleable__content {\n  display: none;\n  text-align: left;\n  /* unfitted */\n  background-color: var(--sklearn-color-unfitted-level-0);\n}\n\n#sk-container-id-4 div.sk-toggleable__content.fitted {\n  /* fitted */\n  background-color: var(--sklearn-color-fitted-level-0);\n}\n\n#sk-container-id-4 div.sk-toggleable__content pre {\n  margin: 0.2em;\n  border-radius: 0.25em;\n  color: var(--sklearn-color-text);\n  /* unfitted */\n  background-color: var(--sklearn-color-unfitted-level-0);\n}\n\n#sk-container-id-4 div.sk-toggleable__content.fitted pre {\n  /* unfitted */\n  background-color: var(--sklearn-color-fitted-level-0);\n}\n\n#sk-container-id-4 input.sk-toggleable__control:checked~div.sk-toggleable__content {\n  /* Expand drop-down */\n  display: block;\n  width: 100%;\n  overflow: visible;\n}\n\n#sk-container-id-4 input.sk-toggleable__control:checked~label.sk-toggleable__label-arrow:before {\n  content: \"▾\";\n}\n\n/* Pipeline/ColumnTransformer-specific style */\n\n#sk-container-id-4 div.sk-label input.sk-toggleable__control:checked~label.sk-toggleable__label {\n  color: var(--sklearn-color-text);\n  background-color: var(--sklearn-color-unfitted-level-2);\n}\n\n#sk-container-id-4 div.sk-label.fitted input.sk-toggleable__control:checked~label.sk-toggleable__label {\n  background-color: var(--sklearn-color-fitted-level-2);\n}\n\n/* Estimator-specific style */\n\n/* Colorize estimator box */\n#sk-container-id-4 div.sk-estimator input.sk-toggleable__control:checked~label.sk-toggleable__label {\n  /* unfitted */\n  background-color: var(--sklearn-color-unfitted-level-2);\n}\n\n#sk-container-id-4 div.sk-estimator.fitted input.sk-toggleable__control:checked~label.sk-toggleable__label {\n  /* fitted */\n  background-color: var(--sklearn-color-fitted-level-2);\n}\n\n#sk-container-id-4 div.sk-label label.sk-toggleable__label,\n#sk-container-id-4 div.sk-label label {\n  /* The background is the default theme color */\n  color: var(--sklearn-color-text-on-default-background);\n}\n\n/* On hover, darken the color of the background */\n#sk-container-id-4 div.sk-label:hover label.sk-toggleable__label {\n  color: var(--sklearn-color-text);\n  background-color: var(--sklearn-color-unfitted-level-2);\n}\n\n/* Label box, darken color on hover, fitted */\n#sk-container-id-4 div.sk-label.fitted:hover label.sk-toggleable__label.fitted {\n  color: var(--sklearn-color-text);\n  background-color: var(--sklearn-color-fitted-level-2);\n}\n\n/* Estimator label */\n\n#sk-container-id-4 div.sk-label label {\n  font-family: monospace;\n  font-weight: bold;\n  display: inline-block;\n  line-height: 1.2em;\n}\n\n#sk-container-id-4 div.sk-label-container {\n  text-align: center;\n}\n\n/* Estimator-specific */\n#sk-container-id-4 div.sk-estimator {\n  font-family: monospace;\n  border: 1px dotted var(--sklearn-color-border-box);\n  border-radius: 0.25em;\n  box-sizing: border-box;\n  margin-bottom: 0.5em;\n  /* unfitted */\n  background-color: var(--sklearn-color-unfitted-level-0);\n}\n\n#sk-container-id-4 div.sk-estimator.fitted {\n  /* fitted */\n  background-color: var(--sklearn-color-fitted-level-0);\n}\n\n/* on hover */\n#sk-container-id-4 div.sk-estimator:hover {\n  /* unfitted */\n  background-color: var(--sklearn-color-unfitted-level-2);\n}\n\n#sk-container-id-4 div.sk-estimator.fitted:hover {\n  /* fitted */\n  background-color: var(--sklearn-color-fitted-level-2);\n}\n\n/* Specification for estimator info (e.g. \"i\" and \"?\") */\n\n/* Common style for \"i\" and \"?\" */\n\n.sk-estimator-doc-link,\na:link.sk-estimator-doc-link,\na:visited.sk-estimator-doc-link {\n  float: right;\n  font-size: smaller;\n  line-height: 1em;\n  font-family: monospace;\n  background-color: var(--sklearn-color-background);\n  border-radius: 1em;\n  height: 1em;\n  width: 1em;\n  text-decoration: none !important;\n  margin-left: 0.5em;\n  text-align: center;\n  /* unfitted */\n  border: var(--sklearn-color-unfitted-level-1) 1pt solid;\n  color: var(--sklearn-color-unfitted-level-1);\n}\n\n.sk-estimator-doc-link.fitted,\na:link.sk-estimator-doc-link.fitted,\na:visited.sk-estimator-doc-link.fitted {\n  /* fitted */\n  border: var(--sklearn-color-fitted-level-1) 1pt solid;\n  color: var(--sklearn-color-fitted-level-1);\n}\n\n/* On hover */\ndiv.sk-estimator:hover .sk-estimator-doc-link:hover,\n.sk-estimator-doc-link:hover,\ndiv.sk-label-container:hover .sk-estimator-doc-link:hover,\n.sk-estimator-doc-link:hover {\n  /* unfitted */\n  background-color: var(--sklearn-color-unfitted-level-3);\n  color: var(--sklearn-color-background);\n  text-decoration: none;\n}\n\ndiv.sk-estimator.fitted:hover .sk-estimator-doc-link.fitted:hover,\n.sk-estimator-doc-link.fitted:hover,\ndiv.sk-label-container:hover .sk-estimator-doc-link.fitted:hover,\n.sk-estimator-doc-link.fitted:hover {\n  /* fitted */\n  background-color: var(--sklearn-color-fitted-level-3);\n  color: var(--sklearn-color-background);\n  text-decoration: none;\n}\n\n/* Span, style for the box shown on hovering the info icon */\n.sk-estimator-doc-link span {\n  display: none;\n  z-index: 9999;\n  position: relative;\n  font-weight: normal;\n  right: .2ex;\n  padding: .5ex;\n  margin: .5ex;\n  width: min-content;\n  min-width: 20ex;\n  max-width: 50ex;\n  color: var(--sklearn-color-text);\n  box-shadow: 2pt 2pt 4pt #999;\n  /* unfitted */\n  background: var(--sklearn-color-unfitted-level-0);\n  border: .5pt solid var(--sklearn-color-unfitted-level-3);\n}\n\n.sk-estimator-doc-link.fitted span {\n  /* fitted */\n  background: var(--sklearn-color-fitted-level-0);\n  border: var(--sklearn-color-fitted-level-3);\n}\n\n.sk-estimator-doc-link:hover span {\n  display: block;\n}\n\n/* \"?\"-specific style due to the `<a>` HTML tag */\n\n#sk-container-id-4 a.estimator_doc_link {\n  float: right;\n  font-size: 1rem;\n  line-height: 1em;\n  font-family: monospace;\n  background-color: var(--sklearn-color-background);\n  border-radius: 1rem;\n  height: 1rem;\n  width: 1rem;\n  text-decoration: none;\n  /* unfitted */\n  color: var(--sklearn-color-unfitted-level-1);\n  border: var(--sklearn-color-unfitted-level-1) 1pt solid;\n}\n\n#sk-container-id-4 a.estimator_doc_link.fitted {\n  /* fitted */\n  border: var(--sklearn-color-fitted-level-1) 1pt solid;\n  color: var(--sklearn-color-fitted-level-1);\n}\n\n/* On hover */\n#sk-container-id-4 a.estimator_doc_link:hover {\n  /* unfitted */\n  background-color: var(--sklearn-color-unfitted-level-3);\n  color: var(--sklearn-color-background);\n  text-decoration: none;\n}\n\n#sk-container-id-4 a.estimator_doc_link.fitted:hover {\n  /* fitted */\n  background-color: var(--sklearn-color-fitted-level-3);\n}\n\n.estimator-table summary {\n    padding: .5rem;\n    font-family: monospace;\n    cursor: pointer;\n}\n\n.estimator-table details[open] {\n    padding-left: 0.1rem;\n    padding-right: 0.1rem;\n    padding-bottom: 0.3rem;\n}\n\n.estimator-table .parameters-table {\n    margin-left: auto !important;\n    margin-right: auto !important;\n}\n\n.estimator-table .parameters-table tr:nth-child(odd) {\n    background-color: #fff;\n}\n\n.estimator-table .parameters-table tr:nth-child(even) {\n    background-color: #f6f6f6;\n}\n\n.estimator-table .parameters-table tr:hover {\n    background-color: #e0e0e0;\n}\n\n.estimator-table table td {\n    border: 1px solid rgba(106, 105, 104, 0.232);\n}\n\n.user-set td {\n    color:rgb(255, 94, 0);\n    text-align: left;\n}\n\n.user-set td.value pre {\n    color:rgb(255, 94, 0) !important;\n    background-color: transparent !important;\n}\n\n.default td {\n    color: black;\n    text-align: left;\n}\n\n.user-set td i,\n.default td i {\n    color: black;\n}\n\n.copy-paste-icon {\n    background-image: url(data:image/svg+xml;base64,PHN2ZyB4bWxucz0iaHR0cDovL3d3dy53My5vcmcvMjAwMC9zdmciIHZpZXdCb3g9IjAgMCA0NDggNTEyIj48IS0tIUZvbnQgQXdlc29tZSBGcmVlIDYuNy4yIGJ5IEBmb250YXdlc29tZSAtIGh0dHBzOi8vZm9udGF3ZXNvbWUuY29tIExpY2Vuc2UgLSBodHRwczovL2ZvbnRhd2Vzb21lLmNvbS9saWNlbnNlL2ZyZWUgQ29weXJpZ2h0IDIwMjUgRm9udGljb25zLCBJbmMuLS0+PHBhdGggZD0iTTIwOCAwTDMzMi4xIDBjMTIuNyAwIDI0LjkgNS4xIDMzLjkgMTQuMWw2Ny45IDY3LjljOSA5IDE0LjEgMjEuMiAxNC4xIDMzLjlMNDQ4IDMzNmMwIDI2LjUtMjEuNSA0OC00OCA0OGwtMTkyIDBjLTI2LjUgMC00OC0yMS41LTQ4LTQ4bDAtMjg4YzAtMjYuNSAyMS41LTQ4IDQ4LTQ4ek00OCAxMjhsODAgMCAwIDY0LTY0IDAgMCAyNTYgMTkyIDAgMC0zMiA2NCAwIDAgNDhjMCAyNi41LTIxLjUgNDgtNDggNDhMNDggNTEyYy0yNi41IDAtNDgtMjEuNS00OC00OEwwIDE3NmMwLTI2LjUgMjEuNS00OCA0OC00OHoiLz48L3N2Zz4=);\n    background-repeat: no-repeat;\n    background-size: 14px 14px;\n    background-position: 0;\n    display: inline-block;\n    width: 14px;\n    height: 14px;\n    cursor: pointer;\n}\n</style><body><div id=\"sk-container-id-4\" class=\"sk-top-container\"><div class=\"sk-text-repr-fallback\"><pre>XGBRegressor(base_score=None, booster=None, callbacks=None,\n             colsample_bylevel=None, colsample_bynode=None,\n             colsample_bytree=None, device=None, early_stopping_rounds=None,\n             enable_categorical=False, eval_metric=None, feature_types=None,\n             feature_weights=None, gamma=None, grow_policy=None,\n             importance_type=None, interaction_constraints=None,\n             learning_rate=None, max_bin=None, max_cat_threshold=None,\n             max_cat_to_onehot=None, max_delta_step=None, max_depth=None,\n             max_leaves=None, min_child_weight=None, missing=nan,\n             monotone_constraints=None, multi_strategy=None, n_estimators=None,\n             n_jobs=None, num_parallel_tree=None, ...)</pre><b>In a Jupyter environment, please rerun this cell to show the HTML representation or trust the notebook. <br />On GitHub, the HTML representation is unable to render, please try loading this page with nbviewer.org.</b></div><div class=\"sk-container\" hidden><div class=\"sk-item\"><div class=\"sk-estimator fitted sk-toggleable\"><input class=\"sk-toggleable__control sk-hidden--visually\" id=\"sk-estimator-id-4\" type=\"checkbox\" checked><label for=\"sk-estimator-id-4\" class=\"sk-toggleable__label fitted sk-toggleable__label-arrow\"><div><div>XGBRegressor</div></div><div><a class=\"sk-estimator-doc-link fitted\" rel=\"noreferrer\" target=\"_blank\" href=\"https://xgboost.readthedocs.io/en/release_3.0.0/python/python_api.html#xgboost.XGBRegressor\">?<span>Documentation for XGBRegressor</span></a><span class=\"sk-estimator-doc-link fitted\">i<span>Fitted</span></span></div></label><div class=\"sk-toggleable__content fitted\" data-param-prefix=\"\">\n        <div class=\"estimator-table\">\n            <details>\n                <summary>Parameters</summary>\n                <table class=\"parameters-table\">\n                  <tbody>\n                    \n        <tr class=\"default\">\n            <td><i class=\"copy-paste-icon\"\n                 onclick=\"copyToClipboard('objective',\n                          this.parentElement.nextElementSibling)\"\n            ></i></td>\n            <td class=\"param\">objective&nbsp;</td>\n            <td class=\"value\">&#x27;reg:squarederror&#x27;</td>\n        </tr>\n    \n\n        <tr class=\"user-set\">\n            <td><i class=\"copy-paste-icon\"\n                 onclick=\"copyToClipboard('base_score',\n                          this.parentElement.nextElementSibling)\"\n            ></i></td>\n            <td class=\"param\">base_score&nbsp;</td>\n            <td class=\"value\">None</td>\n        </tr>\n    \n\n        <tr class=\"user-set\">\n            <td><i class=\"copy-paste-icon\"\n                 onclick=\"copyToClipboard('booster',\n                          this.parentElement.nextElementSibling)\"\n            ></i></td>\n            <td class=\"param\">booster&nbsp;</td>\n            <td class=\"value\">None</td>\n        </tr>\n    \n\n        <tr class=\"user-set\">\n            <td><i class=\"copy-paste-icon\"\n                 onclick=\"copyToClipboard('callbacks',\n                          this.parentElement.nextElementSibling)\"\n            ></i></td>\n            <td class=\"param\">callbacks&nbsp;</td>\n            <td class=\"value\">None</td>\n        </tr>\n    \n\n        <tr class=\"user-set\">\n            <td><i class=\"copy-paste-icon\"\n                 onclick=\"copyToClipboard('colsample_bylevel',\n                          this.parentElement.nextElementSibling)\"\n            ></i></td>\n            <td class=\"param\">colsample_bylevel&nbsp;</td>\n            <td class=\"value\">None</td>\n        </tr>\n    \n\n        <tr class=\"user-set\">\n            <td><i class=\"copy-paste-icon\"\n                 onclick=\"copyToClipboard('colsample_bynode',\n                          this.parentElement.nextElementSibling)\"\n            ></i></td>\n            <td class=\"param\">colsample_bynode&nbsp;</td>\n            <td class=\"value\">None</td>\n        </tr>\n    \n\n        <tr class=\"user-set\">\n            <td><i class=\"copy-paste-icon\"\n                 onclick=\"copyToClipboard('colsample_bytree',\n                          this.parentElement.nextElementSibling)\"\n            ></i></td>\n            <td class=\"param\">colsample_bytree&nbsp;</td>\n            <td class=\"value\">None</td>\n        </tr>\n    \n\n        <tr class=\"user-set\">\n            <td><i class=\"copy-paste-icon\"\n                 onclick=\"copyToClipboard('device',\n                          this.parentElement.nextElementSibling)\"\n            ></i></td>\n            <td class=\"param\">device&nbsp;</td>\n            <td class=\"value\">None</td>\n        </tr>\n    \n\n        <tr class=\"user-set\">\n            <td><i class=\"copy-paste-icon\"\n                 onclick=\"copyToClipboard('early_stopping_rounds',\n                          this.parentElement.nextElementSibling)\"\n            ></i></td>\n            <td class=\"param\">early_stopping_rounds&nbsp;</td>\n            <td class=\"value\">None</td>\n        </tr>\n    \n\n        <tr class=\"user-set\">\n            <td><i class=\"copy-paste-icon\"\n                 onclick=\"copyToClipboard('enable_categorical',\n                          this.parentElement.nextElementSibling)\"\n            ></i></td>\n            <td class=\"param\">enable_categorical&nbsp;</td>\n            <td class=\"value\">False</td>\n        </tr>\n    \n\n        <tr class=\"user-set\">\n            <td><i class=\"copy-paste-icon\"\n                 onclick=\"copyToClipboard('eval_metric',\n                          this.parentElement.nextElementSibling)\"\n            ></i></td>\n            <td class=\"param\">eval_metric&nbsp;</td>\n            <td class=\"value\">None</td>\n        </tr>\n    \n\n        <tr class=\"user-set\">\n            <td><i class=\"copy-paste-icon\"\n                 onclick=\"copyToClipboard('feature_types',\n                          this.parentElement.nextElementSibling)\"\n            ></i></td>\n            <td class=\"param\">feature_types&nbsp;</td>\n            <td class=\"value\">None</td>\n        </tr>\n    \n\n        <tr class=\"user-set\">\n            <td><i class=\"copy-paste-icon\"\n                 onclick=\"copyToClipboard('feature_weights',\n                          this.parentElement.nextElementSibling)\"\n            ></i></td>\n            <td class=\"param\">feature_weights&nbsp;</td>\n            <td class=\"value\">None</td>\n        </tr>\n    \n\n        <tr class=\"user-set\">\n            <td><i class=\"copy-paste-icon\"\n                 onclick=\"copyToClipboard('gamma',\n                          this.parentElement.nextElementSibling)\"\n            ></i></td>\n            <td class=\"param\">gamma&nbsp;</td>\n            <td class=\"value\">None</td>\n        </tr>\n    \n\n        <tr class=\"user-set\">\n            <td><i class=\"copy-paste-icon\"\n                 onclick=\"copyToClipboard('grow_policy',\n                          this.parentElement.nextElementSibling)\"\n            ></i></td>\n            <td class=\"param\">grow_policy&nbsp;</td>\n            <td class=\"value\">None</td>\n        </tr>\n    \n\n        <tr class=\"user-set\">\n            <td><i class=\"copy-paste-icon\"\n                 onclick=\"copyToClipboard('importance_type',\n                          this.parentElement.nextElementSibling)\"\n            ></i></td>\n            <td class=\"param\">importance_type&nbsp;</td>\n            <td class=\"value\">None</td>\n        </tr>\n    \n\n        <tr class=\"user-set\">\n            <td><i class=\"copy-paste-icon\"\n                 onclick=\"copyToClipboard('interaction_constraints',\n                          this.parentElement.nextElementSibling)\"\n            ></i></td>\n            <td class=\"param\">interaction_constraints&nbsp;</td>\n            <td class=\"value\">None</td>\n        </tr>\n    \n\n        <tr class=\"user-set\">\n            <td><i class=\"copy-paste-icon\"\n                 onclick=\"copyToClipboard('learning_rate',\n                          this.parentElement.nextElementSibling)\"\n            ></i></td>\n            <td class=\"param\">learning_rate&nbsp;</td>\n            <td class=\"value\">None</td>\n        </tr>\n    \n\n        <tr class=\"user-set\">\n            <td><i class=\"copy-paste-icon\"\n                 onclick=\"copyToClipboard('max_bin',\n                          this.parentElement.nextElementSibling)\"\n            ></i></td>\n            <td class=\"param\">max_bin&nbsp;</td>\n            <td class=\"value\">None</td>\n        </tr>\n    \n\n        <tr class=\"user-set\">\n            <td><i class=\"copy-paste-icon\"\n                 onclick=\"copyToClipboard('max_cat_threshold',\n                          this.parentElement.nextElementSibling)\"\n            ></i></td>\n            <td class=\"param\">max_cat_threshold&nbsp;</td>\n            <td class=\"value\">None</td>\n        </tr>\n    \n\n        <tr class=\"user-set\">\n            <td><i class=\"copy-paste-icon\"\n                 onclick=\"copyToClipboard('max_cat_to_onehot',\n                          this.parentElement.nextElementSibling)\"\n            ></i></td>\n            <td class=\"param\">max_cat_to_onehot&nbsp;</td>\n            <td class=\"value\">None</td>\n        </tr>\n    \n\n        <tr class=\"user-set\">\n            <td><i class=\"copy-paste-icon\"\n                 onclick=\"copyToClipboard('max_delta_step',\n                          this.parentElement.nextElementSibling)\"\n            ></i></td>\n            <td class=\"param\">max_delta_step&nbsp;</td>\n            <td class=\"value\">None</td>\n        </tr>\n    \n\n        <tr class=\"user-set\">\n            <td><i class=\"copy-paste-icon\"\n                 onclick=\"copyToClipboard('max_depth',\n                          this.parentElement.nextElementSibling)\"\n            ></i></td>\n            <td class=\"param\">max_depth&nbsp;</td>\n            <td class=\"value\">None</td>\n        </tr>\n    \n\n        <tr class=\"user-set\">\n            <td><i class=\"copy-paste-icon\"\n                 onclick=\"copyToClipboard('max_leaves',\n                          this.parentElement.nextElementSibling)\"\n            ></i></td>\n            <td class=\"param\">max_leaves&nbsp;</td>\n            <td class=\"value\">None</td>\n        </tr>\n    \n\n        <tr class=\"user-set\">\n            <td><i class=\"copy-paste-icon\"\n                 onclick=\"copyToClipboard('min_child_weight',\n                          this.parentElement.nextElementSibling)\"\n            ></i></td>\n            <td class=\"param\">min_child_weight&nbsp;</td>\n            <td class=\"value\">None</td>\n        </tr>\n    \n\n        <tr class=\"user-set\">\n            <td><i class=\"copy-paste-icon\"\n                 onclick=\"copyToClipboard('missing',\n                          this.parentElement.nextElementSibling)\"\n            ></i></td>\n            <td class=\"param\">missing&nbsp;</td>\n            <td class=\"value\">nan</td>\n        </tr>\n    \n\n        <tr class=\"user-set\">\n            <td><i class=\"copy-paste-icon\"\n                 onclick=\"copyToClipboard('monotone_constraints',\n                          this.parentElement.nextElementSibling)\"\n            ></i></td>\n            <td class=\"param\">monotone_constraints&nbsp;</td>\n            <td class=\"value\">None</td>\n        </tr>\n    \n\n        <tr class=\"user-set\">\n            <td><i class=\"copy-paste-icon\"\n                 onclick=\"copyToClipboard('multi_strategy',\n                          this.parentElement.nextElementSibling)\"\n            ></i></td>\n            <td class=\"param\">multi_strategy&nbsp;</td>\n            <td class=\"value\">None</td>\n        </tr>\n    \n\n        <tr class=\"user-set\">\n            <td><i class=\"copy-paste-icon\"\n                 onclick=\"copyToClipboard('n_estimators',\n                          this.parentElement.nextElementSibling)\"\n            ></i></td>\n            <td class=\"param\">n_estimators&nbsp;</td>\n            <td class=\"value\">None</td>\n        </tr>\n    \n\n        <tr class=\"user-set\">\n            <td><i class=\"copy-paste-icon\"\n                 onclick=\"copyToClipboard('n_jobs',\n                          this.parentElement.nextElementSibling)\"\n            ></i></td>\n            <td class=\"param\">n_jobs&nbsp;</td>\n            <td class=\"value\">None</td>\n        </tr>\n    \n\n        <tr class=\"user-set\">\n            <td><i class=\"copy-paste-icon\"\n                 onclick=\"copyToClipboard('num_parallel_tree',\n                          this.parentElement.nextElementSibling)\"\n            ></i></td>\n            <td class=\"param\">num_parallel_tree&nbsp;</td>\n            <td class=\"value\">None</td>\n        </tr>\n    \n\n        <tr class=\"user-set\">\n            <td><i class=\"copy-paste-icon\"\n                 onclick=\"copyToClipboard('random_state',\n                          this.parentElement.nextElementSibling)\"\n            ></i></td>\n            <td class=\"param\">random_state&nbsp;</td>\n            <td class=\"value\">None</td>\n        </tr>\n    \n\n        <tr class=\"user-set\">\n            <td><i class=\"copy-paste-icon\"\n                 onclick=\"copyToClipboard('reg_alpha',\n                          this.parentElement.nextElementSibling)\"\n            ></i></td>\n            <td class=\"param\">reg_alpha&nbsp;</td>\n            <td class=\"value\">None</td>\n        </tr>\n    \n\n        <tr class=\"user-set\">\n            <td><i class=\"copy-paste-icon\"\n                 onclick=\"copyToClipboard('reg_lambda',\n                          this.parentElement.nextElementSibling)\"\n            ></i></td>\n            <td class=\"param\">reg_lambda&nbsp;</td>\n            <td class=\"value\">None</td>\n        </tr>\n    \n\n        <tr class=\"user-set\">\n            <td><i class=\"copy-paste-icon\"\n                 onclick=\"copyToClipboard('sampling_method',\n                          this.parentElement.nextElementSibling)\"\n            ></i></td>\n            <td class=\"param\">sampling_method&nbsp;</td>\n            <td class=\"value\">None</td>\n        </tr>\n    \n\n        <tr class=\"user-set\">\n            <td><i class=\"copy-paste-icon\"\n                 onclick=\"copyToClipboard('scale_pos_weight',\n                          this.parentElement.nextElementSibling)\"\n            ></i></td>\n            <td class=\"param\">scale_pos_weight&nbsp;</td>\n            <td class=\"value\">None</td>\n        </tr>\n    \n\n        <tr class=\"user-set\">\n            <td><i class=\"copy-paste-icon\"\n                 onclick=\"copyToClipboard('subsample',\n                          this.parentElement.nextElementSibling)\"\n            ></i></td>\n            <td class=\"param\">subsample&nbsp;</td>\n            <td class=\"value\">None</td>\n        </tr>\n    \n\n        <tr class=\"user-set\">\n            <td><i class=\"copy-paste-icon\"\n                 onclick=\"copyToClipboard('tree_method',\n                          this.parentElement.nextElementSibling)\"\n            ></i></td>\n            <td class=\"param\">tree_method&nbsp;</td>\n            <td class=\"value\">None</td>\n        </tr>\n    \n\n        <tr class=\"user-set\">\n            <td><i class=\"copy-paste-icon\"\n                 onclick=\"copyToClipboard('validate_parameters',\n                          this.parentElement.nextElementSibling)\"\n            ></i></td>\n            <td class=\"param\">validate_parameters&nbsp;</td>\n            <td class=\"value\">None</td>\n        </tr>\n    \n\n        <tr class=\"user-set\">\n            <td><i class=\"copy-paste-icon\"\n                 onclick=\"copyToClipboard('verbosity',\n                          this.parentElement.nextElementSibling)\"\n            ></i></td>\n            <td class=\"param\">verbosity&nbsp;</td>\n            <td class=\"value\">None</td>\n        </tr>\n    \n                  </tbody>\n                </table>\n            </details>\n        </div>\n    </div></div></div></div></div><script>function copyToClipboard(text, element) {\n    // Get the parameter prefix from the closest toggleable content\n    const toggleableContent = element.closest('.sk-toggleable__content');\n    const paramPrefix = toggleableContent ? toggleableContent.dataset.paramPrefix : '';\n    const fullParamName = paramPrefix ? `${paramPrefix}${text}` : text;\n\n    const originalStyle = element.style;\n    const computedStyle = window.getComputedStyle(element);\n    const originalWidth = computedStyle.width;\n    const originalHTML = element.innerHTML.replace('Copied!', '');\n\n    navigator.clipboard.writeText(fullParamName)\n        .then(() => {\n            element.style.width = originalWidth;\n            element.style.color = 'green';\n            element.innerHTML = \"Copied!\";\n\n            setTimeout(() => {\n                element.innerHTML = originalHTML;\n                element.style = originalStyle;\n            }, 2000);\n        })\n        .catch(err => {\n            console.error('Failed to copy:', err);\n            element.style.color = 'red';\n            element.innerHTML = \"Failed!\";\n            setTimeout(() => {\n                element.innerHTML = originalHTML;\n                element.style = originalStyle;\n            }, 2000);\n        });\n    return false;\n}\n\ndocument.querySelectorAll('.fa-regular.fa-copy').forEach(function(element) {\n    const toggleableContent = element.closest('.sk-toggleable__content');\n    const paramPrefix = toggleableContent ? toggleableContent.dataset.paramPrefix : '';\n    const paramName = element.parentElement.nextElementSibling.textContent.trim();\n    const fullParamName = paramPrefix ? `${paramPrefix}${paramName}` : paramName;\n\n    element.setAttribute('title', fullParamName);\n});\n</script></body>"
     },
     "execution_count": 88,
     "metadata": {},
     "output_type": "execute_result"
    }
   ],
   "source": [
    "model = xgb.XGBRegressor()\n",
    "model.fit(X_train, y_train)"
   ]
  },
  {
   "cell_type": "code",
   "execution_count": 89,
   "id": "c00c66ed",
   "metadata": {
    "ExecuteTime": {
     "end_time": "2025-07-23T08:55:22.153992100Z",
     "start_time": "2025-07-23T08:55:22.066009600Z"
    }
   },
   "outputs": [
    {
     "name": "stdout",
     "output_type": "stream",
     "text": [
      "RMSE: 0.8458655490464495\n"
     ]
    }
   ],
   "source": [
    "y_pred = model.predict(X_test)\n",
    "print(\"RMSE:\", root_mean_squared_error(y_test, y_pred))"
   ]
  },
  {
   "cell_type": "code",
   "execution_count": 90,
   "id": "660748ac",
   "metadata": {
    "ExecuteTime": {
     "end_time": "2025-07-23T08:55:22.166559500Z",
     "start_time": "2025-07-23T08:55:22.153992100Z"
    }
   },
   "outputs": [
    {
     "data": {
      "text/plain": "       team_id enemy_team_id\n0      8599101          2163\n5         2163       8599101\n30     8599101       8291895\n35     8291895       8599101\n60     9247354       8291895\n...        ...           ...\n15455  9131584       8599101\n15460  9247354       8254145\n15465  8254145       9247354\n15490  9828954       8597976\n15495  8597976       9828954\n\n[670 rows x 2 columns]",
      "text/html": "<div>\n<style scoped>\n    .dataframe tbody tr th:only-of-type {\n        vertical-align: middle;\n    }\n\n    .dataframe tbody tr th {\n        vertical-align: top;\n    }\n\n    .dataframe thead th {\n        text-align: right;\n    }\n</style>\n<table border=\"1\" class=\"dataframe\">\n  <thead>\n    <tr style=\"text-align: right;\">\n      <th></th>\n      <th>team_id</th>\n      <th>enemy_team_id</th>\n    </tr>\n  </thead>\n  <tbody>\n    <tr>\n      <th>0</th>\n      <td>8599101</td>\n      <td>2163</td>\n    </tr>\n    <tr>\n      <th>5</th>\n      <td>2163</td>\n      <td>8599101</td>\n    </tr>\n    <tr>\n      <th>30</th>\n      <td>8599101</td>\n      <td>8291895</td>\n    </tr>\n    <tr>\n      <th>35</th>\n      <td>8291895</td>\n      <td>8599101</td>\n    </tr>\n    <tr>\n      <th>60</th>\n      <td>9247354</td>\n      <td>8291895</td>\n    </tr>\n    <tr>\n      <th>...</th>\n      <td>...</td>\n      <td>...</td>\n    </tr>\n    <tr>\n      <th>15455</th>\n      <td>9131584</td>\n      <td>8599101</td>\n    </tr>\n    <tr>\n      <th>15460</th>\n      <td>9247354</td>\n      <td>8254145</td>\n    </tr>\n    <tr>\n      <th>15465</th>\n      <td>8254145</td>\n      <td>9247354</td>\n    </tr>\n    <tr>\n      <th>15490</th>\n      <td>9828954</td>\n      <td>8597976</td>\n    </tr>\n    <tr>\n      <th>15495</th>\n      <td>8597976</td>\n      <td>9828954</td>\n    </tr>\n  </tbody>\n</table>\n<p>670 rows × 2 columns</p>\n</div>"
     },
     "execution_count": 90,
     "metadata": {},
     "output_type": "execute_result"
    }
   ],
   "source": [
    "df[['team_id', 'enemy_team_id']].drop_duplicates()"
   ]
  },
  {
   "cell_type": "code",
   "execution_count": 91,
   "outputs": [],
   "source": [
    "def build_prediction_rows(df, matchups, lineup_dir, rolling_n=5):\n",
    "    rows = []\n",
    "    for team_id, enemy_team_id in matchups:\n",
    "        lineup_path = os.path.join(lineup_dir, f\"team_lineup_{team_id}.json\")\n",
    "        if not os.path.exists(lineup_path):\n",
    "            subprocess.run([\"python\", \"get_current_lineups.py\", str(team_id)])\n",
    "        if not os.path.exists(lineup_path):\n",
    "            continue  # Skip if still missing\n",
    "        with open(lineup_path, \"r\", encoding=\"utf-8\") as f:\n",
    "            lineup = [p for p in json.load(f) if p.get(\"is_current_team_member\")]\n",
    "        for player in lineup:\n",
    "            account_id = str(player[\"account_id\"])\n",
    "            player_hist = df[df[\"account_id\"] == account_id].sort_values(\"match_start_time\")\n",
    "            if player_hist.empty:\n",
    "                continue\n",
    "            numeric_cols = player_hist.select_dtypes(include='number').columns.difference(\n",
    "                ['match_id', 'account_id', 'radiant_team_id', 'dire_team_id', 'team_id', 'enemy_team_id', 'match_start_time']\n",
    "            )\n",
    "            rolling = player_hist[numeric_cols].tail(rolling_n).mean()\n",
    "            row = player_hist.iloc[-1].copy()\n",
    "            row[numeric_cols] = rolling\n",
    "            row[\"team_id\"] = team_id\n",
    "            row[\"enemy_team_id\"] = enemy_team_id\n",
    "            rows.append(row)\n",
    "    return pd.DataFrame(rows)"
   ],
   "metadata": {
    "collapsed": false,
    "ExecuteTime": {
     "end_time": "2025-07-23T08:55:22.173834400Z",
     "start_time": "2025-07-23T08:55:22.167560500Z"
    }
   },
   "id": "23c3bf0c51e90589"
  },
  {
   "cell_type": "code",
   "execution_count": 92,
   "id": "c2413ac6",
   "metadata": {
    "ExecuteTime": {
     "end_time": "2025-07-23T08:55:22.179561Z",
     "start_time": "2025-07-23T08:55:22.175835900Z"
    }
   },
   "outputs": [],
   "source": [
    "def predict_players_for_matchups(df, model, matchup_list, X, not_features, lineup_dir=\"data/lineups\", rolling_n=5):\n",
    "    # Ensure all lineup files exist (call API if not)\n",
    "    team_ids = set()\n",
    "    for t1, t2 in matchup_list:\n",
    "        team_ids.add(t1)\n",
    "        team_ids.add(t2)\n",
    "    for team_id in team_ids:\n",
    "        lineup_path = os.path.join(lineup_dir, f\"team_lineup_{team_id}.json\")\n",
    "        if not os.path.exists(lineup_path):\n",
    "            subprocess.run([\"python\", \"get_current_lineups.py\", str(team_id)])\n",
    "    \n",
    "    # Build synthetic prediction rows\n",
    "    pred_df = build_prediction_rows(df, matchup_list, lineup_dir, rolling_n=rolling_n)\n",
    "    if pred_df.empty:\n",
    "        print(\"No eligible players found for the given matchups.\")\n",
    "        return pd.DataFrame()\n",
    "    # Prepare features (same as training)\n",
    "    X_pred = pred_df.drop(columns=not_features)\n",
    "    X_pred = pd.get_dummies(X_pred, columns=['fantasy_role', 'hero_id', 'hero_variant', 'account_id', 'team_id', 'enemy_team_id'])\n",
    "    X_pred = X_pred.reindex(columns=X.columns, fill_value=0)\n",
    "    # Predict fantasy scores\n",
    "    pred_df['predicted_fantasy_score'] = model.predict(X_pred)\n",
    "    # Output: account_id, name, fantasy_role, team_id, enemy_team_id, predicted_fantasy_score\n",
    "    return pred_df[['account_id', 'name', 'fantasy_role', 'team_id', 'enemy_team_id', 'predicted_fantasy_score']]"
   ]
  },
  {
   "cell_type": "code",
   "execution_count": 97,
   "outputs": [],
   "source": [
    "def make_symmetric_matchups(matchups):\n",
    "    symmetric = []\n",
    "    for t1, t2 in matchups:\n",
    "        symmetric.append((t1, t2))\n",
    "        symmetric.append((t2, t1))\n",
    "    return symmetric"
   ],
   "metadata": {
    "collapsed": false,
    "ExecuteTime": {
     "end_time": "2025-07-23T09:49:23.428994700Z",
     "start_time": "2025-07-23T09:49:23.428482900Z"
    }
   },
   "id": "8c6f16c95ec57f87"
  },
  {
   "cell_type": "code",
   "execution_count": 98,
   "outputs": [],
   "source": [
    "matchups = [('7119388', '8261500'), ('8597976', '7119388')] # Spirit vs. Xtreme Gaming, Spirit vs. Talon\n",
    "symetric_matchups = make_symmetric_matchups(matchups)\n",
    "result = predict_players_for_matchups(df, model, symetric_matchups, X, not_features)"
   ],
   "metadata": {
    "collapsed": false,
    "ExecuteTime": {
     "end_time": "2025-07-23T09:49:24.485478500Z",
     "start_time": "2025-07-23T09:49:24.285193900Z"
    }
   },
   "id": "9542d8f150b7076f"
  },
  {
   "cell_type": "code",
   "execution_count": 99,
   "outputs": [
    {
     "data": {
      "text/plain": "      account_id      name fantasy_role  team_id enemy_team_id  \\\n14641  113331514  Miposhka      Support  7119388       8261500   \n14640  321580662    Yatoro         Core  7119388       8261500   \n14644  302214028  Collapse         Core  7119388       8261500   \n14642  106305042      Larl          Mid  7119388       8261500   \n14643  847565596       rue      Support  7119388       8261500   \n6689   203351055     Malik         Core  7119388       8261500   \n14896  137129583        Xm          Mid  8261500       7119388   \n14898  157475523      XinQ      Support  8261500       7119388   \n14897  129958758       Xxs         Core  8261500       7119388   \n14895  898754153       Ame         Core  8261500       7119388   \n5953   138543123       Pyw      Support  8261500       7119388   \n8455   185908355         楼         Core  8261500       7119388   \n14899   76904792   poloson      Support  8261500       7119388   \n8457   145957968       niu         Core  8261500       7119388   \n11889  158847773  Tianming      Support  8261500       7119388   \n10509  191597529    Undyne      Support  8261500       7119388   \n14866  301750126    Mikoto          Mid  8597976       7119388   \n14867  152859296    Jhocam      Support  8597976       7119388   \n14868  126842529       Ws`         Core  8597976       7119388   \n14869  375507918  23savage         Core  8597976       7119388   \n14865  184950344     Kuku^      Support  8597976       7119388   \n399    293904640     ponyo      Support  8597976       7119388   \n12104  355168766   Natsumi         Core  8597976       7119388   \n14641  113331514  Miposhka      Support  7119388       8597976   \n14640  321580662    Yatoro         Core  7119388       8597976   \n14644  302214028  Collapse         Core  7119388       8597976   \n14642  106305042      Larl          Mid  7119388       8597976   \n14643  847565596       rue      Support  7119388       8597976   \n6689   203351055     Malik         Core  7119388       8597976   \n\n       predicted_fantasy_score  \n14641                13.003644  \n14640                19.310001  \n14644                15.361670  \n14642                15.639341  \n14643                16.039099  \n6689                  9.571531  \n14896                13.757675  \n14898                13.231318  \n14897                11.340541  \n14895                18.129608  \n5953                 12.239115  \n8455                  9.871119  \n14899                15.156062  \n8457                  7.044971  \n11889                12.160327  \n10509                15.912980  \n14866                17.310596  \n14867                10.970982  \n14868                 7.710428  \n14869                13.353024  \n14865                17.414606  \n399                  15.173349  \n12104                 9.840778  \n14641                13.003644  \n14640                19.310001  \n14644                15.361670  \n14642                15.639341  \n14643                16.039099  \n6689                  9.571531  ",
      "text/html": "<div>\n<style scoped>\n    .dataframe tbody tr th:only-of-type {\n        vertical-align: middle;\n    }\n\n    .dataframe tbody tr th {\n        vertical-align: top;\n    }\n\n    .dataframe thead th {\n        text-align: right;\n    }\n</style>\n<table border=\"1\" class=\"dataframe\">\n  <thead>\n    <tr style=\"text-align: right;\">\n      <th></th>\n      <th>account_id</th>\n      <th>name</th>\n      <th>fantasy_role</th>\n      <th>team_id</th>\n      <th>enemy_team_id</th>\n      <th>predicted_fantasy_score</th>\n    </tr>\n  </thead>\n  <tbody>\n    <tr>\n      <th>14641</th>\n      <td>113331514</td>\n      <td>Miposhka</td>\n      <td>Support</td>\n      <td>7119388</td>\n      <td>8261500</td>\n      <td>13.003644</td>\n    </tr>\n    <tr>\n      <th>14640</th>\n      <td>321580662</td>\n      <td>Yatoro</td>\n      <td>Core</td>\n      <td>7119388</td>\n      <td>8261500</td>\n      <td>19.310001</td>\n    </tr>\n    <tr>\n      <th>14644</th>\n      <td>302214028</td>\n      <td>Collapse</td>\n      <td>Core</td>\n      <td>7119388</td>\n      <td>8261500</td>\n      <td>15.361670</td>\n    </tr>\n    <tr>\n      <th>14642</th>\n      <td>106305042</td>\n      <td>Larl</td>\n      <td>Mid</td>\n      <td>7119388</td>\n      <td>8261500</td>\n      <td>15.639341</td>\n    </tr>\n    <tr>\n      <th>14643</th>\n      <td>847565596</td>\n      <td>rue</td>\n      <td>Support</td>\n      <td>7119388</td>\n      <td>8261500</td>\n      <td>16.039099</td>\n    </tr>\n    <tr>\n      <th>6689</th>\n      <td>203351055</td>\n      <td>Malik</td>\n      <td>Core</td>\n      <td>7119388</td>\n      <td>8261500</td>\n      <td>9.571531</td>\n    </tr>\n    <tr>\n      <th>14896</th>\n      <td>137129583</td>\n      <td>Xm</td>\n      <td>Mid</td>\n      <td>8261500</td>\n      <td>7119388</td>\n      <td>13.757675</td>\n    </tr>\n    <tr>\n      <th>14898</th>\n      <td>157475523</td>\n      <td>XinQ</td>\n      <td>Support</td>\n      <td>8261500</td>\n      <td>7119388</td>\n      <td>13.231318</td>\n    </tr>\n    <tr>\n      <th>14897</th>\n      <td>129958758</td>\n      <td>Xxs</td>\n      <td>Core</td>\n      <td>8261500</td>\n      <td>7119388</td>\n      <td>11.340541</td>\n    </tr>\n    <tr>\n      <th>14895</th>\n      <td>898754153</td>\n      <td>Ame</td>\n      <td>Core</td>\n      <td>8261500</td>\n      <td>7119388</td>\n      <td>18.129608</td>\n    </tr>\n    <tr>\n      <th>5953</th>\n      <td>138543123</td>\n      <td>Pyw</td>\n      <td>Support</td>\n      <td>8261500</td>\n      <td>7119388</td>\n      <td>12.239115</td>\n    </tr>\n    <tr>\n      <th>8455</th>\n      <td>185908355</td>\n      <td>楼</td>\n      <td>Core</td>\n      <td>8261500</td>\n      <td>7119388</td>\n      <td>9.871119</td>\n    </tr>\n    <tr>\n      <th>14899</th>\n      <td>76904792</td>\n      <td>poloson</td>\n      <td>Support</td>\n      <td>8261500</td>\n      <td>7119388</td>\n      <td>15.156062</td>\n    </tr>\n    <tr>\n      <th>8457</th>\n      <td>145957968</td>\n      <td>niu</td>\n      <td>Core</td>\n      <td>8261500</td>\n      <td>7119388</td>\n      <td>7.044971</td>\n    </tr>\n    <tr>\n      <th>11889</th>\n      <td>158847773</td>\n      <td>Tianming</td>\n      <td>Support</td>\n      <td>8261500</td>\n      <td>7119388</td>\n      <td>12.160327</td>\n    </tr>\n    <tr>\n      <th>10509</th>\n      <td>191597529</td>\n      <td>Undyne</td>\n      <td>Support</td>\n      <td>8261500</td>\n      <td>7119388</td>\n      <td>15.912980</td>\n    </tr>\n    <tr>\n      <th>14866</th>\n      <td>301750126</td>\n      <td>Mikoto</td>\n      <td>Mid</td>\n      <td>8597976</td>\n      <td>7119388</td>\n      <td>17.310596</td>\n    </tr>\n    <tr>\n      <th>14867</th>\n      <td>152859296</td>\n      <td>Jhocam</td>\n      <td>Support</td>\n      <td>8597976</td>\n      <td>7119388</td>\n      <td>10.970982</td>\n    </tr>\n    <tr>\n      <th>14868</th>\n      <td>126842529</td>\n      <td>Ws`</td>\n      <td>Core</td>\n      <td>8597976</td>\n      <td>7119388</td>\n      <td>7.710428</td>\n    </tr>\n    <tr>\n      <th>14869</th>\n      <td>375507918</td>\n      <td>23savage</td>\n      <td>Core</td>\n      <td>8597976</td>\n      <td>7119388</td>\n      <td>13.353024</td>\n    </tr>\n    <tr>\n      <th>14865</th>\n      <td>184950344</td>\n      <td>Kuku^</td>\n      <td>Support</td>\n      <td>8597976</td>\n      <td>7119388</td>\n      <td>17.414606</td>\n    </tr>\n    <tr>\n      <th>399</th>\n      <td>293904640</td>\n      <td>ponyo</td>\n      <td>Support</td>\n      <td>8597976</td>\n      <td>7119388</td>\n      <td>15.173349</td>\n    </tr>\n    <tr>\n      <th>12104</th>\n      <td>355168766</td>\n      <td>Natsumi</td>\n      <td>Core</td>\n      <td>8597976</td>\n      <td>7119388</td>\n      <td>9.840778</td>\n    </tr>\n    <tr>\n      <th>14641</th>\n      <td>113331514</td>\n      <td>Miposhka</td>\n      <td>Support</td>\n      <td>7119388</td>\n      <td>8597976</td>\n      <td>13.003644</td>\n    </tr>\n    <tr>\n      <th>14640</th>\n      <td>321580662</td>\n      <td>Yatoro</td>\n      <td>Core</td>\n      <td>7119388</td>\n      <td>8597976</td>\n      <td>19.310001</td>\n    </tr>\n    <tr>\n      <th>14644</th>\n      <td>302214028</td>\n      <td>Collapse</td>\n      <td>Core</td>\n      <td>7119388</td>\n      <td>8597976</td>\n      <td>15.361670</td>\n    </tr>\n    <tr>\n      <th>14642</th>\n      <td>106305042</td>\n      <td>Larl</td>\n      <td>Mid</td>\n      <td>7119388</td>\n      <td>8597976</td>\n      <td>15.639341</td>\n    </tr>\n    <tr>\n      <th>14643</th>\n      <td>847565596</td>\n      <td>rue</td>\n      <td>Support</td>\n      <td>7119388</td>\n      <td>8597976</td>\n      <td>16.039099</td>\n    </tr>\n    <tr>\n      <th>6689</th>\n      <td>203351055</td>\n      <td>Malik</td>\n      <td>Core</td>\n      <td>7119388</td>\n      <td>8597976</td>\n      <td>9.571531</td>\n    </tr>\n  </tbody>\n</table>\n</div>"
     },
     "execution_count": 99,
     "metadata": {},
     "output_type": "execute_result"
    }
   ],
   "source": [
    "result"
   ],
   "metadata": {
    "collapsed": false,
    "ExecuteTime": {
     "end_time": "2025-07-23T09:49:25.622760Z",
     "start_time": "2025-07-23T09:49:25.617872900Z"
    }
   },
   "id": "43aaced8fa3588fe"
  },
  {
   "cell_type": "code",
   "execution_count": 94,
   "outputs": [],
   "source": [],
   "metadata": {
    "collapsed": false,
    "ExecuteTime": {
     "end_time": "2025-07-23T08:55:22.357303100Z",
     "start_time": "2025-07-23T08:55:22.350794700Z"
    }
   },
   "id": "595f4ef68dd98f13"
  }
 ],
 "metadata": {
  "kernelspec": {
   "display_name": "BA",
   "language": "python",
   "name": "python3"
  },
  "language_info": {
   "codemirror_mode": {
    "name": "ipython",
    "version": 3
   },
   "file_extension": ".py",
   "mimetype": "text/x-python",
   "name": "python",
   "nbconvert_exporter": "python",
   "pygments_lexer": "ipython3",
   "version": "3.13.5"
  }
 },
 "nbformat": 4,
 "nbformat_minor": 5
}
