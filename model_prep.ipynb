{
 "cells": [
  {
   "cell_type": "markdown",
   "id": "3bfceed6",
   "metadata": {},
   "source": [
    "# General Setup"
   ]
  },
  {
   "cell_type": "code",
   "execution_count": 1,
   "id": "5b4b4831",
   "metadata": {
    "ExecuteTime": {
     "end_time": "2025-07-29T16:09:42.397302700Z",
     "start_time": "2025-07-29T16:09:41.366614700Z"
    }
   },
   "outputs": [],
   "source": [
    "import json\n",
    "import pandas as pd\n",
    "import subprocess\n",
    "import os\n",
    "from sklearn.metrics import mean_absolute_error, r2_score, root_mean_squared_error\n"
   ]
  },
  {
   "cell_type": "code",
   "execution_count": 2,
   "id": "e77e2421",
   "metadata": {
    "ExecuteTime": {
     "end_time": "2025-07-29T16:09:42.572066400Z",
     "start_time": "2025-07-29T16:09:42.399304200Z"
    }
   },
   "outputs": [],
   "source": [
    "with open('data/curated/player_data.json', 'r') as f:\n",
    "\tplayer_data = json.load(f)"
   ]
  },
  {
   "cell_type": "code",
   "execution_count": 3,
   "id": "8cd004cf",
   "metadata": {
    "ExecuteTime": {
     "end_time": "2025-07-29T16:09:42.675597200Z",
     "start_time": "2025-07-29T16:09:42.572066400Z"
    }
   },
   "outputs": [],
   "source": [
    "df = pd.DataFrame(player_data)"
   ]
  },
  {
   "cell_type": "code",
   "execution_count": 4,
   "id": "8155a30a",
   "metadata": {
    "ExecuteTime": {
     "end_time": "2025-07-29T16:09:42.698495900Z",
     "start_time": "2025-07-29T16:09:42.675597200Z"
    }
   },
   "outputs": [
    {
     "name": "stdout",
     "output_type": "stream",
     "text": [
      "<class 'pandas.core.frame.DataFrame'>\n",
      "Index: 15437 entries, 14216 to 10673\n",
      "Data columns (total 46 columns):\n",
      " #   Column                    Non-Null Count  Dtype  \n",
      "---  ------                    --------------  -----  \n",
      " 0   match_id                  15437 non-null  int64  \n",
      " 1   match_start_time          15437 non-null  int64  \n",
      " 2   account_id                15437 non-null  int64  \n",
      " 3   name                      15437 non-null  object \n",
      " 4   fantasy_role              15437 non-null  object \n",
      " 5   hero_id                   15437 non-null  int64  \n",
      " 6   hero_variant              15437 non-null  object \n",
      " 7   isRadiant                 15437 non-null  bool   \n",
      " 8   radiant_team_id           15437 non-null  int64  \n",
      " 9   dire_team_id              15437 non-null  int64  \n",
      " 10  tournament_start_date     15437 non-null  object \n",
      " 11  duration                  15437 non-null  int64  \n",
      " 12  win                       15437 non-null  int64  \n",
      " 13  kills                     15437 non-null  int64  \n",
      " 14  deaths                    15437 non-null  int64  \n",
      " 15  last_hits                 15437 non-null  int64  \n",
      " 16  denies                    15437 non-null  int64  \n",
      " 17  gold_per_min              15437 non-null  int64  \n",
      " 18  towers_killed             15437 non-null  int64  \n",
      " 19  roshans_killed            15437 non-null  int64  \n",
      " 20  teamfight_participation   15437 non-null  float64\n",
      " 21  obs_placed                15437 non-null  int64  \n",
      " 22  camps_stacked             15437 non-null  int64  \n",
      " 23  rune_pickups              15437 non-null  int64  \n",
      " 24  firstblood_claimed        15437 non-null  int64  \n",
      " 25  stuns                     15437 non-null  float64\n",
      " 26  creeps_stacked            15437 non-null  int64  \n",
      " 27  assists                   15437 non-null  int64  \n",
      " 28  xp_per_min                15437 non-null  int64  \n",
      " 29  lane_efficiency           15417 non-null  float64\n",
      " 30  team_id                   15437 non-null  object \n",
      " 31  enemy_team_id             15437 non-null  object \n",
      " 32  teamName                  14094 non-null  object \n",
      " 33  valveId                   14094 non-null  object \n",
      " 34  glicko2_rating            14094 non-null  float64\n",
      " 35  enemy_teamName            14034 non-null  object \n",
      " 36  enemy_valveId             14034 non-null  object \n",
      " 37  enemy_glicko2_rating      14034 non-null  float64\n",
      " 38  fantasy_score             15437 non-null  float64\n",
      " 39  rating_advantage          12741 non-null  float64\n",
      " 40  rolling_winrate_10        15226 non-null  float64\n",
      " 41  rolling_winrate_15        15226 non-null  float64\n",
      " 42  rolling_fantasy_score_10  15226 non-null  float64\n",
      " 43  rolling_fantasy_score_15  15226 non-null  float64\n",
      " 44  rolling_enemy_glicko2_10  15202 non-null  float64\n",
      " 45  rolling_enemy_glicko2_15  15202 non-null  float64\n",
      "dtypes: bool(1), float64(13), int64(22), object(10)\n",
      "memory usage: 5.4+ MB\n"
     ]
    }
   ],
   "source": [
    "df.info()"
   ]
  },
  {
   "cell_type": "code",
   "execution_count": 5,
   "id": "ebd8a4b9",
   "metadata": {
    "ExecuteTime": {
     "end_time": "2025-07-29T16:09:42.725685900Z",
     "start_time": "2025-07-29T16:09:42.696334100Z"
    }
   },
   "outputs": [],
   "source": [
    "df = df.astype({\n",
    "    'match_id': 'string',\n",
    "    'account_id': 'string',\n",
    "    'hero_id': 'string',\n",
    "    'radiant_team_id': 'string',\n",
    "    'dire_team_id': 'string',\n",
    "    'win': 'boolean',\n",
    "    'firstblood_claimed': 'boolean',\n",
    "    'team_id': 'string',\n",
    "\t'enemy_team_id': 'string',\n",
    "    'valveId': 'string',\n",
    "})"
   ]
  },
  {
   "cell_type": "markdown",
   "source": [
    "## Set missing glicko scores to the first quartile\n",
    "*Using the \"..._clean\" data set, this does not affect anything.*\n",
    "Q1 was chosen, because teams that do not have a glicko 2 rating, usually are new or weaker teams."
   ],
   "metadata": {
    "collapsed": false
   },
   "id": "5addb65d4071ced2"
  },
  {
   "cell_type": "code",
   "execution_count": 6,
   "outputs": [],
   "source": [
    "q1_glicko = df['glicko2_rating'].quantile(0.25)\n",
    "df['glicko2_rating'] = df['glicko2_rating'].fillna(q1_glicko)\n",
    "q1_enemy_glicko = df['enemy_glicko2_rating'].quantile(0.25)\n",
    "df['enemy_glicko2_rating'] = df['enemy_glicko2_rating'].fillna(q1_enemy_glicko)"
   ],
   "metadata": {
    "collapsed": false,
    "ExecuteTime": {
     "end_time": "2025-07-29T16:09:42.742856Z",
     "start_time": "2025-07-29T16:09:42.725685900Z"
    }
   },
   "id": "fca2104a1757eea7"
  },
  {
   "cell_type": "code",
   "execution_count": 7,
   "outputs": [],
   "source": [
    "mask = df['rating_advantage'].isna()\n",
    "df.loc[mask, 'rating_advantage'] = df.loc[mask, 'glicko2_rating'] - df.loc[mask, 'enemy_glicko2_rating']"
   ],
   "metadata": {
    "collapsed": false,
    "ExecuteTime": {
     "end_time": "2025-07-29T16:09:42.752736400Z",
     "start_time": "2025-07-29T16:09:42.743856800Z"
    }
   },
   "id": "c673c6cf0f640d1b"
  },
  {
   "cell_type": "code",
   "execution_count": 8,
   "id": "b7c5804b",
   "metadata": {
    "ExecuteTime": {
     "end_time": "2025-07-29T16:09:42.795333100Z",
     "start_time": "2025-07-29T16:09:42.755751700Z"
    }
   },
   "outputs": [
    {
     "name": "stdout",
     "output_type": "stream",
     "text": [
      "<class 'pandas.core.frame.DataFrame'>\n",
      "Index: 15437 entries, 14216 to 10673\n",
      "Data columns (total 46 columns):\n",
      " #   Column                    Non-Null Count  Dtype  \n",
      "---  ------                    --------------  -----  \n",
      " 0   match_id                  15437 non-null  string \n",
      " 1   match_start_time          15437 non-null  int64  \n",
      " 2   account_id                15437 non-null  string \n",
      " 3   name                      15437 non-null  object \n",
      " 4   fantasy_role              15437 non-null  object \n",
      " 5   hero_id                   15437 non-null  string \n",
      " 6   hero_variant              15437 non-null  object \n",
      " 7   isRadiant                 15437 non-null  bool   \n",
      " 8   radiant_team_id           15437 non-null  string \n",
      " 9   dire_team_id              15437 non-null  string \n",
      " 10  tournament_start_date     15437 non-null  object \n",
      " 11  duration                  15437 non-null  int64  \n",
      " 12  win                       15437 non-null  boolean\n",
      " 13  kills                     15437 non-null  int64  \n",
      " 14  deaths                    15437 non-null  int64  \n",
      " 15  last_hits                 15437 non-null  int64  \n",
      " 16  denies                    15437 non-null  int64  \n",
      " 17  gold_per_min              15437 non-null  int64  \n",
      " 18  towers_killed             15437 non-null  int64  \n",
      " 19  roshans_killed            15437 non-null  int64  \n",
      " 20  teamfight_participation   15437 non-null  float64\n",
      " 21  obs_placed                15437 non-null  int64  \n",
      " 22  camps_stacked             15437 non-null  int64  \n",
      " 23  rune_pickups              15437 non-null  int64  \n",
      " 24  firstblood_claimed        15437 non-null  boolean\n",
      " 25  stuns                     15437 non-null  float64\n",
      " 26  creeps_stacked            15437 non-null  int64  \n",
      " 27  assists                   15437 non-null  int64  \n",
      " 28  xp_per_min                15437 non-null  int64  \n",
      " 29  lane_efficiency           15417 non-null  float64\n",
      " 30  team_id                   15437 non-null  string \n",
      " 31  enemy_team_id             15437 non-null  string \n",
      " 32  teamName                  14094 non-null  object \n",
      " 33  valveId                   14094 non-null  string \n",
      " 34  glicko2_rating            15437 non-null  float64\n",
      " 35  enemy_teamName            14034 non-null  object \n",
      " 36  enemy_valveId             14034 non-null  object \n",
      " 37  enemy_glicko2_rating      15437 non-null  float64\n",
      " 38  fantasy_score             15437 non-null  float64\n",
      " 39  rating_advantage          15437 non-null  float64\n",
      " 40  rolling_winrate_10        15226 non-null  float64\n",
      " 41  rolling_winrate_15        15226 non-null  float64\n",
      " 42  rolling_fantasy_score_10  15226 non-null  float64\n",
      " 43  rolling_fantasy_score_15  15226 non-null  float64\n",
      " 44  rolling_enemy_glicko2_10  15202 non-null  float64\n",
      " 45  rolling_enemy_glicko2_15  15202 non-null  float64\n",
      "dtypes: bool(1), boolean(2), float64(13), int64(15), object(7), string(8)\n",
      "memory usage: 5.8+ MB\n"
     ]
    }
   ],
   "source": [
    "df.info()"
   ]
  },
  {
   "cell_type": "code",
   "execution_count": 8,
   "outputs": [],
   "source": [],
   "metadata": {
    "collapsed": false,
    "ExecuteTime": {
     "end_time": "2025-07-29T16:09:42.805484600Z",
     "start_time": "2025-07-29T16:09:42.770577200Z"
    }
   },
   "id": "4d868de311f53772"
  },
  {
   "cell_type": "markdown",
   "id": "a01a35e4",
   "metadata": {},
   "source": [
    "# XGBoost\n",
    "Without time dimension."
   ]
  },
  {
   "cell_type": "code",
   "execution_count": 9,
   "id": "b201be52",
   "metadata": {
    "ExecuteTime": {
     "end_time": "2025-07-29T16:09:42.845825700Z",
     "start_time": "2025-07-29T16:09:42.798334400Z"
    }
   },
   "outputs": [],
   "source": [
    "import xgboost as xgb\n",
    "from sklearn.model_selection import train_test_split\n",
    "from sklearn.metrics import root_mean_squared_error\n"
   ]
  },
  {
   "cell_type": "code",
   "execution_count": 10,
   "outputs": [],
   "source": [
    "enemy_team_avg = df.groupby('enemy_team_id')['fantasy_score'].mean().rename('enemy_avg_fantasy_score')\n",
    "df = df.merge(enemy_team_avg, left_on='enemy_team_id', right_index=True, how='left')"
   ],
   "metadata": {
    "collapsed": false,
    "ExecuteTime": {
     "end_time": "2025-07-29T16:09:42.875708900Z",
     "start_time": "2025-07-29T16:09:42.847827600Z"
    }
   },
   "id": "975784f9146654d3"
  },
  {
   "cell_type": "code",
   "execution_count": 11,
   "id": "b3eaed14",
   "metadata": {
    "ExecuteTime": {
     "end_time": "2025-07-29T16:09:42.894265800Z",
     "start_time": "2025-07-29T16:09:42.875708900Z"
    }
   },
   "outputs": [],
   "source": [
    "not_features = [\n",
    "\t'match_id', 'name', 'match_start_time', 'radiant_team_id', 'dire_team_id',\n",
    "\t'tournament_start_date', 'teamName', 'valveId', 'enemy_teamName', 'enemy_valveId', 'fantasy_score',\n",
    "    'rolling_winrate_10',\n",
    "    'rolling_winrate_15',\n",
    "    'rolling_fantasy_score_10',\n",
    "    'rolling_fantasy_score_15',\n",
    "    'rolling_enemy_glicko2_10',\n",
    "    'rolling_enemy_glicko2_15',\n",
    "]"
   ]
  },
  {
   "cell_type": "code",
   "execution_count": 12,
   "outputs": [],
   "source": [
    "not_features_fe = [\n",
    "    'match_id', 'name', 'match_start_time', 'radiant_team_id', 'dire_team_id',\n",
    "    'tournament_start_date', 'teamName', 'valveId', 'enemy_teamName', 'enemy_valveId', 'fantasy_score', \n",
    "]"
   ],
   "metadata": {
    "collapsed": false,
    "ExecuteTime": {
     "end_time": "2025-07-29T16:09:42.900478400Z",
     "start_time": "2025-07-29T16:09:42.895266700Z"
    }
   },
   "id": "2a7cf6bec73b7141"
  },
  {
   "cell_type": "markdown",
   "source": [
    "# XHBoost without feature engineering"
   ],
   "metadata": {
    "collapsed": false
   },
   "id": "1a1acea112c6ccf"
  },
  {
   "cell_type": "code",
   "execution_count": 13,
   "id": "cc6ee6ae",
   "metadata": {
    "ExecuteTime": {
     "end_time": "2025-07-29T16:09:42.920796900Z",
     "start_time": "2025-07-29T16:09:42.904258100Z"
    }
   },
   "outputs": [],
   "source": [
    "X = df.drop(columns=not_features)\n",
    "y = df['fantasy_score']"
   ]
  },
  {
   "cell_type": "code",
   "execution_count": 14,
   "id": "c0d6f1cc",
   "metadata": {
    "ExecuteTime": {
     "end_time": "2025-07-29T16:09:42.975736700Z",
     "start_time": "2025-07-29T16:09:42.920796900Z"
    }
   },
   "outputs": [],
   "source": [
    "X = pd.get_dummies(X, columns=['fantasy_role', 'hero_id', 'hero_variant', 'account_id', 'team_id', 'enemy_team_id'])\n"
   ]
  },
  {
   "cell_type": "code",
   "execution_count": 15,
   "id": "e56d3bf6",
   "metadata": {
    "ExecuteTime": {
     "end_time": "2025-07-29T16:09:43.094301300Z",
     "start_time": "2025-07-29T16:09:42.975736700Z"
    }
   },
   "outputs": [],
   "source": [
    "X_train, X_test, y_train, y_test = train_test_split(X, y, test_size=0.20, random_state=1001)\n"
   ]
  },
  {
   "cell_type": "code",
   "execution_count": 16,
   "id": "1cdb3815",
   "metadata": {
    "ExecuteTime": {
     "end_time": "2025-07-29T16:09:44.075362700Z",
     "start_time": "2025-07-29T16:09:43.095302200Z"
    }
   },
   "outputs": [
    {
     "data": {
      "text/plain": "XGBRegressor(base_score=None, booster=None, callbacks=None,\n             colsample_bylevel=None, colsample_bynode=None,\n             colsample_bytree=None, device=None, early_stopping_rounds=None,\n             enable_categorical=False, eval_metric=None, feature_types=None,\n             feature_weights=None, gamma=None, grow_policy=None,\n             importance_type=None, interaction_constraints=None,\n             learning_rate=None, max_bin=None, max_cat_threshold=None,\n             max_cat_to_onehot=None, max_delta_step=None, max_depth=None,\n             max_leaves=None, min_child_weight=None, missing=nan,\n             monotone_constraints=None, multi_strategy=None, n_estimators=None,\n             n_jobs=None, num_parallel_tree=None, ...)",
      "text/html": "<style>#sk-container-id-1 {\n  /* Definition of color scheme common for light and dark mode */\n  --sklearn-color-text: #000;\n  --sklearn-color-text-muted: #666;\n  --sklearn-color-line: gray;\n  /* Definition of color scheme for unfitted estimators */\n  --sklearn-color-unfitted-level-0: #fff5e6;\n  --sklearn-color-unfitted-level-1: #f6e4d2;\n  --sklearn-color-unfitted-level-2: #ffe0b3;\n  --sklearn-color-unfitted-level-3: chocolate;\n  /* Definition of color scheme for fitted estimators */\n  --sklearn-color-fitted-level-0: #f0f8ff;\n  --sklearn-color-fitted-level-1: #d4ebff;\n  --sklearn-color-fitted-level-2: #b3dbfd;\n  --sklearn-color-fitted-level-3: cornflowerblue;\n\n  /* Specific color for light theme */\n  --sklearn-color-text-on-default-background: var(--sg-text-color, var(--theme-code-foreground, var(--jp-content-font-color1, black)));\n  --sklearn-color-background: var(--sg-background-color, var(--theme-background, var(--jp-layout-color0, white)));\n  --sklearn-color-border-box: var(--sg-text-color, var(--theme-code-foreground, var(--jp-content-font-color1, black)));\n  --sklearn-color-icon: #696969;\n\n  @media (prefers-color-scheme: dark) {\n    /* Redefinition of color scheme for dark theme */\n    --sklearn-color-text-on-default-background: var(--sg-text-color, var(--theme-code-foreground, var(--jp-content-font-color1, white)));\n    --sklearn-color-background: var(--sg-background-color, var(--theme-background, var(--jp-layout-color0, #111)));\n    --sklearn-color-border-box: var(--sg-text-color, var(--theme-code-foreground, var(--jp-content-font-color1, white)));\n    --sklearn-color-icon: #878787;\n  }\n}\n\n#sk-container-id-1 {\n  color: var(--sklearn-color-text);\n}\n\n#sk-container-id-1 pre {\n  padding: 0;\n}\n\n#sk-container-id-1 input.sk-hidden--visually {\n  border: 0;\n  clip: rect(1px 1px 1px 1px);\n  clip: rect(1px, 1px, 1px, 1px);\n  height: 1px;\n  margin: -1px;\n  overflow: hidden;\n  padding: 0;\n  position: absolute;\n  width: 1px;\n}\n\n#sk-container-id-1 div.sk-dashed-wrapped {\n  border: 1px dashed var(--sklearn-color-line);\n  margin: 0 0.4em 0.5em 0.4em;\n  box-sizing: border-box;\n  padding-bottom: 0.4em;\n  background-color: var(--sklearn-color-background);\n}\n\n#sk-container-id-1 div.sk-container {\n  /* jupyter's `normalize.less` sets `[hidden] { display: none; }`\n     but bootstrap.min.css set `[hidden] { display: none !important; }`\n     so we also need the `!important` here to be able to override the\n     default hidden behavior on the sphinx rendered scikit-learn.org.\n     See: https://github.com/scikit-learn/scikit-learn/issues/21755 */\n  display: inline-block !important;\n  position: relative;\n}\n\n#sk-container-id-1 div.sk-text-repr-fallback {\n  display: none;\n}\n\ndiv.sk-parallel-item,\ndiv.sk-serial,\ndiv.sk-item {\n  /* draw centered vertical line to link estimators */\n  background-image: linear-gradient(var(--sklearn-color-text-on-default-background), var(--sklearn-color-text-on-default-background));\n  background-size: 2px 100%;\n  background-repeat: no-repeat;\n  background-position: center center;\n}\n\n/* Parallel-specific style estimator block */\n\n#sk-container-id-1 div.sk-parallel-item::after {\n  content: \"\";\n  width: 100%;\n  border-bottom: 2px solid var(--sklearn-color-text-on-default-background);\n  flex-grow: 1;\n}\n\n#sk-container-id-1 div.sk-parallel {\n  display: flex;\n  align-items: stretch;\n  justify-content: center;\n  background-color: var(--sklearn-color-background);\n  position: relative;\n}\n\n#sk-container-id-1 div.sk-parallel-item {\n  display: flex;\n  flex-direction: column;\n}\n\n#sk-container-id-1 div.sk-parallel-item:first-child::after {\n  align-self: flex-end;\n  width: 50%;\n}\n\n#sk-container-id-1 div.sk-parallel-item:last-child::after {\n  align-self: flex-start;\n  width: 50%;\n}\n\n#sk-container-id-1 div.sk-parallel-item:only-child::after {\n  width: 0;\n}\n\n/* Serial-specific style estimator block */\n\n#sk-container-id-1 div.sk-serial {\n  display: flex;\n  flex-direction: column;\n  align-items: center;\n  background-color: var(--sklearn-color-background);\n  padding-right: 1em;\n  padding-left: 1em;\n}\n\n\n/* Toggleable style: style used for estimator/Pipeline/ColumnTransformer box that is\nclickable and can be expanded/collapsed.\n- Pipeline and ColumnTransformer use this feature and define the default style\n- Estimators will overwrite some part of the style using the `sk-estimator` class\n*/\n\n/* Pipeline and ColumnTransformer style (default) */\n\n#sk-container-id-1 div.sk-toggleable {\n  /* Default theme specific background. It is overwritten whether we have a\n  specific estimator or a Pipeline/ColumnTransformer */\n  background-color: var(--sklearn-color-background);\n}\n\n/* Toggleable label */\n#sk-container-id-1 label.sk-toggleable__label {\n  cursor: pointer;\n  display: flex;\n  width: 100%;\n  margin-bottom: 0;\n  padding: 0.5em;\n  box-sizing: border-box;\n  text-align: center;\n  align-items: start;\n  justify-content: space-between;\n  gap: 0.5em;\n}\n\n#sk-container-id-1 label.sk-toggleable__label .caption {\n  font-size: 0.6rem;\n  font-weight: lighter;\n  color: var(--sklearn-color-text-muted);\n}\n\n#sk-container-id-1 label.sk-toggleable__label-arrow:before {\n  /* Arrow on the left of the label */\n  content: \"▸\";\n  float: left;\n  margin-right: 0.25em;\n  color: var(--sklearn-color-icon);\n}\n\n#sk-container-id-1 label.sk-toggleable__label-arrow:hover:before {\n  color: var(--sklearn-color-text);\n}\n\n/* Toggleable content - dropdown */\n\n#sk-container-id-1 div.sk-toggleable__content {\n  display: none;\n  text-align: left;\n  /* unfitted */\n  background-color: var(--sklearn-color-unfitted-level-0);\n}\n\n#sk-container-id-1 div.sk-toggleable__content.fitted {\n  /* fitted */\n  background-color: var(--sklearn-color-fitted-level-0);\n}\n\n#sk-container-id-1 div.sk-toggleable__content pre {\n  margin: 0.2em;\n  border-radius: 0.25em;\n  color: var(--sklearn-color-text);\n  /* unfitted */\n  background-color: var(--sklearn-color-unfitted-level-0);\n}\n\n#sk-container-id-1 div.sk-toggleable__content.fitted pre {\n  /* unfitted */\n  background-color: var(--sklearn-color-fitted-level-0);\n}\n\n#sk-container-id-1 input.sk-toggleable__control:checked~div.sk-toggleable__content {\n  /* Expand drop-down */\n  display: block;\n  width: 100%;\n  overflow: visible;\n}\n\n#sk-container-id-1 input.sk-toggleable__control:checked~label.sk-toggleable__label-arrow:before {\n  content: \"▾\";\n}\n\n/* Pipeline/ColumnTransformer-specific style */\n\n#sk-container-id-1 div.sk-label input.sk-toggleable__control:checked~label.sk-toggleable__label {\n  color: var(--sklearn-color-text);\n  background-color: var(--sklearn-color-unfitted-level-2);\n}\n\n#sk-container-id-1 div.sk-label.fitted input.sk-toggleable__control:checked~label.sk-toggleable__label {\n  background-color: var(--sklearn-color-fitted-level-2);\n}\n\n/* Estimator-specific style */\n\n/* Colorize estimator box */\n#sk-container-id-1 div.sk-estimator input.sk-toggleable__control:checked~label.sk-toggleable__label {\n  /* unfitted */\n  background-color: var(--sklearn-color-unfitted-level-2);\n}\n\n#sk-container-id-1 div.sk-estimator.fitted input.sk-toggleable__control:checked~label.sk-toggleable__label {\n  /* fitted */\n  background-color: var(--sklearn-color-fitted-level-2);\n}\n\n#sk-container-id-1 div.sk-label label.sk-toggleable__label,\n#sk-container-id-1 div.sk-label label {\n  /* The background is the default theme color */\n  color: var(--sklearn-color-text-on-default-background);\n}\n\n/* On hover, darken the color of the background */\n#sk-container-id-1 div.sk-label:hover label.sk-toggleable__label {\n  color: var(--sklearn-color-text);\n  background-color: var(--sklearn-color-unfitted-level-2);\n}\n\n/* Label box, darken color on hover, fitted */\n#sk-container-id-1 div.sk-label.fitted:hover label.sk-toggleable__label.fitted {\n  color: var(--sklearn-color-text);\n  background-color: var(--sklearn-color-fitted-level-2);\n}\n\n/* Estimator label */\n\n#sk-container-id-1 div.sk-label label {\n  font-family: monospace;\n  font-weight: bold;\n  display: inline-block;\n  line-height: 1.2em;\n}\n\n#sk-container-id-1 div.sk-label-container {\n  text-align: center;\n}\n\n/* Estimator-specific */\n#sk-container-id-1 div.sk-estimator {\n  font-family: monospace;\n  border: 1px dotted var(--sklearn-color-border-box);\n  border-radius: 0.25em;\n  box-sizing: border-box;\n  margin-bottom: 0.5em;\n  /* unfitted */\n  background-color: var(--sklearn-color-unfitted-level-0);\n}\n\n#sk-container-id-1 div.sk-estimator.fitted {\n  /* fitted */\n  background-color: var(--sklearn-color-fitted-level-0);\n}\n\n/* on hover */\n#sk-container-id-1 div.sk-estimator:hover {\n  /* unfitted */\n  background-color: var(--sklearn-color-unfitted-level-2);\n}\n\n#sk-container-id-1 div.sk-estimator.fitted:hover {\n  /* fitted */\n  background-color: var(--sklearn-color-fitted-level-2);\n}\n\n/* Specification for estimator info (e.g. \"i\" and \"?\") */\n\n/* Common style for \"i\" and \"?\" */\n\n.sk-estimator-doc-link,\na:link.sk-estimator-doc-link,\na:visited.sk-estimator-doc-link {\n  float: right;\n  font-size: smaller;\n  line-height: 1em;\n  font-family: monospace;\n  background-color: var(--sklearn-color-background);\n  border-radius: 1em;\n  height: 1em;\n  width: 1em;\n  text-decoration: none !important;\n  margin-left: 0.5em;\n  text-align: center;\n  /* unfitted */\n  border: var(--sklearn-color-unfitted-level-1) 1pt solid;\n  color: var(--sklearn-color-unfitted-level-1);\n}\n\n.sk-estimator-doc-link.fitted,\na:link.sk-estimator-doc-link.fitted,\na:visited.sk-estimator-doc-link.fitted {\n  /* fitted */\n  border: var(--sklearn-color-fitted-level-1) 1pt solid;\n  color: var(--sklearn-color-fitted-level-1);\n}\n\n/* On hover */\ndiv.sk-estimator:hover .sk-estimator-doc-link:hover,\n.sk-estimator-doc-link:hover,\ndiv.sk-label-container:hover .sk-estimator-doc-link:hover,\n.sk-estimator-doc-link:hover {\n  /* unfitted */\n  background-color: var(--sklearn-color-unfitted-level-3);\n  color: var(--sklearn-color-background);\n  text-decoration: none;\n}\n\ndiv.sk-estimator.fitted:hover .sk-estimator-doc-link.fitted:hover,\n.sk-estimator-doc-link.fitted:hover,\ndiv.sk-label-container:hover .sk-estimator-doc-link.fitted:hover,\n.sk-estimator-doc-link.fitted:hover {\n  /* fitted */\n  background-color: var(--sklearn-color-fitted-level-3);\n  color: var(--sklearn-color-background);\n  text-decoration: none;\n}\n\n/* Span, style for the box shown on hovering the info icon */\n.sk-estimator-doc-link span {\n  display: none;\n  z-index: 9999;\n  position: relative;\n  font-weight: normal;\n  right: .2ex;\n  padding: .5ex;\n  margin: .5ex;\n  width: min-content;\n  min-width: 20ex;\n  max-width: 50ex;\n  color: var(--sklearn-color-text);\n  box-shadow: 2pt 2pt 4pt #999;\n  /* unfitted */\n  background: var(--sklearn-color-unfitted-level-0);\n  border: .5pt solid var(--sklearn-color-unfitted-level-3);\n}\n\n.sk-estimator-doc-link.fitted span {\n  /* fitted */\n  background: var(--sklearn-color-fitted-level-0);\n  border: var(--sklearn-color-fitted-level-3);\n}\n\n.sk-estimator-doc-link:hover span {\n  display: block;\n}\n\n/* \"?\"-specific style due to the `<a>` HTML tag */\n\n#sk-container-id-1 a.estimator_doc_link {\n  float: right;\n  font-size: 1rem;\n  line-height: 1em;\n  font-family: monospace;\n  background-color: var(--sklearn-color-background);\n  border-radius: 1rem;\n  height: 1rem;\n  width: 1rem;\n  text-decoration: none;\n  /* unfitted */\n  color: var(--sklearn-color-unfitted-level-1);\n  border: var(--sklearn-color-unfitted-level-1) 1pt solid;\n}\n\n#sk-container-id-1 a.estimator_doc_link.fitted {\n  /* fitted */\n  border: var(--sklearn-color-fitted-level-1) 1pt solid;\n  color: var(--sklearn-color-fitted-level-1);\n}\n\n/* On hover */\n#sk-container-id-1 a.estimator_doc_link:hover {\n  /* unfitted */\n  background-color: var(--sklearn-color-unfitted-level-3);\n  color: var(--sklearn-color-background);\n  text-decoration: none;\n}\n\n#sk-container-id-1 a.estimator_doc_link.fitted:hover {\n  /* fitted */\n  background-color: var(--sklearn-color-fitted-level-3);\n}\n\n.estimator-table summary {\n    padding: .5rem;\n    font-family: monospace;\n    cursor: pointer;\n}\n\n.estimator-table details[open] {\n    padding-left: 0.1rem;\n    padding-right: 0.1rem;\n    padding-bottom: 0.3rem;\n}\n\n.estimator-table .parameters-table {\n    margin-left: auto !important;\n    margin-right: auto !important;\n}\n\n.estimator-table .parameters-table tr:nth-child(odd) {\n    background-color: #fff;\n}\n\n.estimator-table .parameters-table tr:nth-child(even) {\n    background-color: #f6f6f6;\n}\n\n.estimator-table .parameters-table tr:hover {\n    background-color: #e0e0e0;\n}\n\n.estimator-table table td {\n    border: 1px solid rgba(106, 105, 104, 0.232);\n}\n\n.user-set td {\n    color:rgb(255, 94, 0);\n    text-align: left;\n}\n\n.user-set td.value pre {\n    color:rgb(255, 94, 0) !important;\n    background-color: transparent !important;\n}\n\n.default td {\n    color: black;\n    text-align: left;\n}\n\n.user-set td i,\n.default td i {\n    color: black;\n}\n\n.copy-paste-icon {\n    background-image: url(data:image/svg+xml;base64,PHN2ZyB4bWxucz0iaHR0cDovL3d3dy53My5vcmcvMjAwMC9zdmciIHZpZXdCb3g9IjAgMCA0NDggNTEyIj48IS0tIUZvbnQgQXdlc29tZSBGcmVlIDYuNy4yIGJ5IEBmb250YXdlc29tZSAtIGh0dHBzOi8vZm9udGF3ZXNvbWUuY29tIExpY2Vuc2UgLSBodHRwczovL2ZvbnRhd2Vzb21lLmNvbS9saWNlbnNlL2ZyZWUgQ29weXJpZ2h0IDIwMjUgRm9udGljb25zLCBJbmMuLS0+PHBhdGggZD0iTTIwOCAwTDMzMi4xIDBjMTIuNyAwIDI0LjkgNS4xIDMzLjkgMTQuMWw2Ny45IDY3LjljOSA5IDE0LjEgMjEuMiAxNC4xIDMzLjlMNDQ4IDMzNmMwIDI2LjUtMjEuNSA0OC00OCA0OGwtMTkyIDBjLTI2LjUgMC00OC0yMS41LTQ4LTQ4bDAtMjg4YzAtMjYuNSAyMS41LTQ4IDQ4LTQ4ek00OCAxMjhsODAgMCAwIDY0LTY0IDAgMCAyNTYgMTkyIDAgMC0zMiA2NCAwIDAgNDhjMCAyNi41LTIxLjUgNDgtNDggNDhMNDggNTEyYy0yNi41IDAtNDgtMjEuNS00OC00OEwwIDE3NmMwLTI2LjUgMjEuNS00OCA0OC00OHoiLz48L3N2Zz4=);\n    background-repeat: no-repeat;\n    background-size: 14px 14px;\n    background-position: 0;\n    display: inline-block;\n    width: 14px;\n    height: 14px;\n    cursor: pointer;\n}\n</style><body><div id=\"sk-container-id-1\" class=\"sk-top-container\"><div class=\"sk-text-repr-fallback\"><pre>XGBRegressor(base_score=None, booster=None, callbacks=None,\n             colsample_bylevel=None, colsample_bynode=None,\n             colsample_bytree=None, device=None, early_stopping_rounds=None,\n             enable_categorical=False, eval_metric=None, feature_types=None,\n             feature_weights=None, gamma=None, grow_policy=None,\n             importance_type=None, interaction_constraints=None,\n             learning_rate=None, max_bin=None, max_cat_threshold=None,\n             max_cat_to_onehot=None, max_delta_step=None, max_depth=None,\n             max_leaves=None, min_child_weight=None, missing=nan,\n             monotone_constraints=None, multi_strategy=None, n_estimators=None,\n             n_jobs=None, num_parallel_tree=None, ...)</pre><b>In a Jupyter environment, please rerun this cell to show the HTML representation or trust the notebook. <br />On GitHub, the HTML representation is unable to render, please try loading this page with nbviewer.org.</b></div><div class=\"sk-container\" hidden><div class=\"sk-item\"><div class=\"sk-estimator fitted sk-toggleable\"><input class=\"sk-toggleable__control sk-hidden--visually\" id=\"sk-estimator-id-1\" type=\"checkbox\" checked><label for=\"sk-estimator-id-1\" class=\"sk-toggleable__label fitted sk-toggleable__label-arrow\"><div><div>XGBRegressor</div></div><div><a class=\"sk-estimator-doc-link fitted\" rel=\"noreferrer\" target=\"_blank\" href=\"https://xgboost.readthedocs.io/en/release_3.0.0/python/python_api.html#xgboost.XGBRegressor\">?<span>Documentation for XGBRegressor</span></a><span class=\"sk-estimator-doc-link fitted\">i<span>Fitted</span></span></div></label><div class=\"sk-toggleable__content fitted\" data-param-prefix=\"\">\n        <div class=\"estimator-table\">\n            <details>\n                <summary>Parameters</summary>\n                <table class=\"parameters-table\">\n                  <tbody>\n                    \n        <tr class=\"default\">\n            <td><i class=\"copy-paste-icon\"\n                 onclick=\"copyToClipboard('objective',\n                          this.parentElement.nextElementSibling)\"\n            ></i></td>\n            <td class=\"param\">objective&nbsp;</td>\n            <td class=\"value\">&#x27;reg:squarederror&#x27;</td>\n        </tr>\n    \n\n        <tr class=\"user-set\">\n            <td><i class=\"copy-paste-icon\"\n                 onclick=\"copyToClipboard('base_score',\n                          this.parentElement.nextElementSibling)\"\n            ></i></td>\n            <td class=\"param\">base_score&nbsp;</td>\n            <td class=\"value\">None</td>\n        </tr>\n    \n\n        <tr class=\"user-set\">\n            <td><i class=\"copy-paste-icon\"\n                 onclick=\"copyToClipboard('booster',\n                          this.parentElement.nextElementSibling)\"\n            ></i></td>\n            <td class=\"param\">booster&nbsp;</td>\n            <td class=\"value\">None</td>\n        </tr>\n    \n\n        <tr class=\"user-set\">\n            <td><i class=\"copy-paste-icon\"\n                 onclick=\"copyToClipboard('callbacks',\n                          this.parentElement.nextElementSibling)\"\n            ></i></td>\n            <td class=\"param\">callbacks&nbsp;</td>\n            <td class=\"value\">None</td>\n        </tr>\n    \n\n        <tr class=\"user-set\">\n            <td><i class=\"copy-paste-icon\"\n                 onclick=\"copyToClipboard('colsample_bylevel',\n                          this.parentElement.nextElementSibling)\"\n            ></i></td>\n            <td class=\"param\">colsample_bylevel&nbsp;</td>\n            <td class=\"value\">None</td>\n        </tr>\n    \n\n        <tr class=\"user-set\">\n            <td><i class=\"copy-paste-icon\"\n                 onclick=\"copyToClipboard('colsample_bynode',\n                          this.parentElement.nextElementSibling)\"\n            ></i></td>\n            <td class=\"param\">colsample_bynode&nbsp;</td>\n            <td class=\"value\">None</td>\n        </tr>\n    \n\n        <tr class=\"user-set\">\n            <td><i class=\"copy-paste-icon\"\n                 onclick=\"copyToClipboard('colsample_bytree',\n                          this.parentElement.nextElementSibling)\"\n            ></i></td>\n            <td class=\"param\">colsample_bytree&nbsp;</td>\n            <td class=\"value\">None</td>\n        </tr>\n    \n\n        <tr class=\"user-set\">\n            <td><i class=\"copy-paste-icon\"\n                 onclick=\"copyToClipboard('device',\n                          this.parentElement.nextElementSibling)\"\n            ></i></td>\n            <td class=\"param\">device&nbsp;</td>\n            <td class=\"value\">None</td>\n        </tr>\n    \n\n        <tr class=\"user-set\">\n            <td><i class=\"copy-paste-icon\"\n                 onclick=\"copyToClipboard('early_stopping_rounds',\n                          this.parentElement.nextElementSibling)\"\n            ></i></td>\n            <td class=\"param\">early_stopping_rounds&nbsp;</td>\n            <td class=\"value\">None</td>\n        </tr>\n    \n\n        <tr class=\"user-set\">\n            <td><i class=\"copy-paste-icon\"\n                 onclick=\"copyToClipboard('enable_categorical',\n                          this.parentElement.nextElementSibling)\"\n            ></i></td>\n            <td class=\"param\">enable_categorical&nbsp;</td>\n            <td class=\"value\">False</td>\n        </tr>\n    \n\n        <tr class=\"user-set\">\n            <td><i class=\"copy-paste-icon\"\n                 onclick=\"copyToClipboard('eval_metric',\n                          this.parentElement.nextElementSibling)\"\n            ></i></td>\n            <td class=\"param\">eval_metric&nbsp;</td>\n            <td class=\"value\">None</td>\n        </tr>\n    \n\n        <tr class=\"user-set\">\n            <td><i class=\"copy-paste-icon\"\n                 onclick=\"copyToClipboard('feature_types',\n                          this.parentElement.nextElementSibling)\"\n            ></i></td>\n            <td class=\"param\">feature_types&nbsp;</td>\n            <td class=\"value\">None</td>\n        </tr>\n    \n\n        <tr class=\"user-set\">\n            <td><i class=\"copy-paste-icon\"\n                 onclick=\"copyToClipboard('feature_weights',\n                          this.parentElement.nextElementSibling)\"\n            ></i></td>\n            <td class=\"param\">feature_weights&nbsp;</td>\n            <td class=\"value\">None</td>\n        </tr>\n    \n\n        <tr class=\"user-set\">\n            <td><i class=\"copy-paste-icon\"\n                 onclick=\"copyToClipboard('gamma',\n                          this.parentElement.nextElementSibling)\"\n            ></i></td>\n            <td class=\"param\">gamma&nbsp;</td>\n            <td class=\"value\">None</td>\n        </tr>\n    \n\n        <tr class=\"user-set\">\n            <td><i class=\"copy-paste-icon\"\n                 onclick=\"copyToClipboard('grow_policy',\n                          this.parentElement.nextElementSibling)\"\n            ></i></td>\n            <td class=\"param\">grow_policy&nbsp;</td>\n            <td class=\"value\">None</td>\n        </tr>\n    \n\n        <tr class=\"user-set\">\n            <td><i class=\"copy-paste-icon\"\n                 onclick=\"copyToClipboard('importance_type',\n                          this.parentElement.nextElementSibling)\"\n            ></i></td>\n            <td class=\"param\">importance_type&nbsp;</td>\n            <td class=\"value\">None</td>\n        </tr>\n    \n\n        <tr class=\"user-set\">\n            <td><i class=\"copy-paste-icon\"\n                 onclick=\"copyToClipboard('interaction_constraints',\n                          this.parentElement.nextElementSibling)\"\n            ></i></td>\n            <td class=\"param\">interaction_constraints&nbsp;</td>\n            <td class=\"value\">None</td>\n        </tr>\n    \n\n        <tr class=\"user-set\">\n            <td><i class=\"copy-paste-icon\"\n                 onclick=\"copyToClipboard('learning_rate',\n                          this.parentElement.nextElementSibling)\"\n            ></i></td>\n            <td class=\"param\">learning_rate&nbsp;</td>\n            <td class=\"value\">None</td>\n        </tr>\n    \n\n        <tr class=\"user-set\">\n            <td><i class=\"copy-paste-icon\"\n                 onclick=\"copyToClipboard('max_bin',\n                          this.parentElement.nextElementSibling)\"\n            ></i></td>\n            <td class=\"param\">max_bin&nbsp;</td>\n            <td class=\"value\">None</td>\n        </tr>\n    \n\n        <tr class=\"user-set\">\n            <td><i class=\"copy-paste-icon\"\n                 onclick=\"copyToClipboard('max_cat_threshold',\n                          this.parentElement.nextElementSibling)\"\n            ></i></td>\n            <td class=\"param\">max_cat_threshold&nbsp;</td>\n            <td class=\"value\">None</td>\n        </tr>\n    \n\n        <tr class=\"user-set\">\n            <td><i class=\"copy-paste-icon\"\n                 onclick=\"copyToClipboard('max_cat_to_onehot',\n                          this.parentElement.nextElementSibling)\"\n            ></i></td>\n            <td class=\"param\">max_cat_to_onehot&nbsp;</td>\n            <td class=\"value\">None</td>\n        </tr>\n    \n\n        <tr class=\"user-set\">\n            <td><i class=\"copy-paste-icon\"\n                 onclick=\"copyToClipboard('max_delta_step',\n                          this.parentElement.nextElementSibling)\"\n            ></i></td>\n            <td class=\"param\">max_delta_step&nbsp;</td>\n            <td class=\"value\">None</td>\n        </tr>\n    \n\n        <tr class=\"user-set\">\n            <td><i class=\"copy-paste-icon\"\n                 onclick=\"copyToClipboard('max_depth',\n                          this.parentElement.nextElementSibling)\"\n            ></i></td>\n            <td class=\"param\">max_depth&nbsp;</td>\n            <td class=\"value\">None</td>\n        </tr>\n    \n\n        <tr class=\"user-set\">\n            <td><i class=\"copy-paste-icon\"\n                 onclick=\"copyToClipboard('max_leaves',\n                          this.parentElement.nextElementSibling)\"\n            ></i></td>\n            <td class=\"param\">max_leaves&nbsp;</td>\n            <td class=\"value\">None</td>\n        </tr>\n    \n\n        <tr class=\"user-set\">\n            <td><i class=\"copy-paste-icon\"\n                 onclick=\"copyToClipboard('min_child_weight',\n                          this.parentElement.nextElementSibling)\"\n            ></i></td>\n            <td class=\"param\">min_child_weight&nbsp;</td>\n            <td class=\"value\">None</td>\n        </tr>\n    \n\n        <tr class=\"user-set\">\n            <td><i class=\"copy-paste-icon\"\n                 onclick=\"copyToClipboard('missing',\n                          this.parentElement.nextElementSibling)\"\n            ></i></td>\n            <td class=\"param\">missing&nbsp;</td>\n            <td class=\"value\">nan</td>\n        </tr>\n    \n\n        <tr class=\"user-set\">\n            <td><i class=\"copy-paste-icon\"\n                 onclick=\"copyToClipboard('monotone_constraints',\n                          this.parentElement.nextElementSibling)\"\n            ></i></td>\n            <td class=\"param\">monotone_constraints&nbsp;</td>\n            <td class=\"value\">None</td>\n        </tr>\n    \n\n        <tr class=\"user-set\">\n            <td><i class=\"copy-paste-icon\"\n                 onclick=\"copyToClipboard('multi_strategy',\n                          this.parentElement.nextElementSibling)\"\n            ></i></td>\n            <td class=\"param\">multi_strategy&nbsp;</td>\n            <td class=\"value\">None</td>\n        </tr>\n    \n\n        <tr class=\"user-set\">\n            <td><i class=\"copy-paste-icon\"\n                 onclick=\"copyToClipboard('n_estimators',\n                          this.parentElement.nextElementSibling)\"\n            ></i></td>\n            <td class=\"param\">n_estimators&nbsp;</td>\n            <td class=\"value\">None</td>\n        </tr>\n    \n\n        <tr class=\"user-set\">\n            <td><i class=\"copy-paste-icon\"\n                 onclick=\"copyToClipboard('n_jobs',\n                          this.parentElement.nextElementSibling)\"\n            ></i></td>\n            <td class=\"param\">n_jobs&nbsp;</td>\n            <td class=\"value\">None</td>\n        </tr>\n    \n\n        <tr class=\"user-set\">\n            <td><i class=\"copy-paste-icon\"\n                 onclick=\"copyToClipboard('num_parallel_tree',\n                          this.parentElement.nextElementSibling)\"\n            ></i></td>\n            <td class=\"param\">num_parallel_tree&nbsp;</td>\n            <td class=\"value\">None</td>\n        </tr>\n    \n\n        <tr class=\"user-set\">\n            <td><i class=\"copy-paste-icon\"\n                 onclick=\"copyToClipboard('random_state',\n                          this.parentElement.nextElementSibling)\"\n            ></i></td>\n            <td class=\"param\">random_state&nbsp;</td>\n            <td class=\"value\">None</td>\n        </tr>\n    \n\n        <tr class=\"user-set\">\n            <td><i class=\"copy-paste-icon\"\n                 onclick=\"copyToClipboard('reg_alpha',\n                          this.parentElement.nextElementSibling)\"\n            ></i></td>\n            <td class=\"param\">reg_alpha&nbsp;</td>\n            <td class=\"value\">None</td>\n        </tr>\n    \n\n        <tr class=\"user-set\">\n            <td><i class=\"copy-paste-icon\"\n                 onclick=\"copyToClipboard('reg_lambda',\n                          this.parentElement.nextElementSibling)\"\n            ></i></td>\n            <td class=\"param\">reg_lambda&nbsp;</td>\n            <td class=\"value\">None</td>\n        </tr>\n    \n\n        <tr class=\"user-set\">\n            <td><i class=\"copy-paste-icon\"\n                 onclick=\"copyToClipboard('sampling_method',\n                          this.parentElement.nextElementSibling)\"\n            ></i></td>\n            <td class=\"param\">sampling_method&nbsp;</td>\n            <td class=\"value\">None</td>\n        </tr>\n    \n\n        <tr class=\"user-set\">\n            <td><i class=\"copy-paste-icon\"\n                 onclick=\"copyToClipboard('scale_pos_weight',\n                          this.parentElement.nextElementSibling)\"\n            ></i></td>\n            <td class=\"param\">scale_pos_weight&nbsp;</td>\n            <td class=\"value\">None</td>\n        </tr>\n    \n\n        <tr class=\"user-set\">\n            <td><i class=\"copy-paste-icon\"\n                 onclick=\"copyToClipboard('subsample',\n                          this.parentElement.nextElementSibling)\"\n            ></i></td>\n            <td class=\"param\">subsample&nbsp;</td>\n            <td class=\"value\">None</td>\n        </tr>\n    \n\n        <tr class=\"user-set\">\n            <td><i class=\"copy-paste-icon\"\n                 onclick=\"copyToClipboard('tree_method',\n                          this.parentElement.nextElementSibling)\"\n            ></i></td>\n            <td class=\"param\">tree_method&nbsp;</td>\n            <td class=\"value\">None</td>\n        </tr>\n    \n\n        <tr class=\"user-set\">\n            <td><i class=\"copy-paste-icon\"\n                 onclick=\"copyToClipboard('validate_parameters',\n                          this.parentElement.nextElementSibling)\"\n            ></i></td>\n            <td class=\"param\">validate_parameters&nbsp;</td>\n            <td class=\"value\">None</td>\n        </tr>\n    \n\n        <tr class=\"user-set\">\n            <td><i class=\"copy-paste-icon\"\n                 onclick=\"copyToClipboard('verbosity',\n                          this.parentElement.nextElementSibling)\"\n            ></i></td>\n            <td class=\"param\">verbosity&nbsp;</td>\n            <td class=\"value\">None</td>\n        </tr>\n    \n                  </tbody>\n                </table>\n            </details>\n        </div>\n    </div></div></div></div></div><script>function copyToClipboard(text, element) {\n    // Get the parameter prefix from the closest toggleable content\n    const toggleableContent = element.closest('.sk-toggleable__content');\n    const paramPrefix = toggleableContent ? toggleableContent.dataset.paramPrefix : '';\n    const fullParamName = paramPrefix ? `${paramPrefix}${text}` : text;\n\n    const originalStyle = element.style;\n    const computedStyle = window.getComputedStyle(element);\n    const originalWidth = computedStyle.width;\n    const originalHTML = element.innerHTML.replace('Copied!', '');\n\n    navigator.clipboard.writeText(fullParamName)\n        .then(() => {\n            element.style.width = originalWidth;\n            element.style.color = 'green';\n            element.innerHTML = \"Copied!\";\n\n            setTimeout(() => {\n                element.innerHTML = originalHTML;\n                element.style = originalStyle;\n            }, 2000);\n        })\n        .catch(err => {\n            console.error('Failed to copy:', err);\n            element.style.color = 'red';\n            element.innerHTML = \"Failed!\";\n            setTimeout(() => {\n                element.innerHTML = originalHTML;\n                element.style = originalStyle;\n            }, 2000);\n        });\n    return false;\n}\n\ndocument.querySelectorAll('.fa-regular.fa-copy').forEach(function(element) {\n    const toggleableContent = element.closest('.sk-toggleable__content');\n    const paramPrefix = toggleableContent ? toggleableContent.dataset.paramPrefix : '';\n    const paramName = element.parentElement.nextElementSibling.textContent.trim();\n    const fullParamName = paramPrefix ? `${paramPrefix}${paramName}` : paramName;\n\n    element.setAttribute('title', fullParamName);\n});\n</script></body>"
     },
     "execution_count": 16,
     "metadata": {},
     "output_type": "execute_result"
    }
   ],
   "source": [
    "xgb_model = xgb.XGBRegressor()\n",
    "xgb_model.fit(X_train, y_train)"
   ]
  },
  {
   "cell_type": "code",
   "execution_count": 17,
   "id": "c00c66ed",
   "metadata": {
    "ExecuteTime": {
     "end_time": "2025-07-29T16:09:44.187940400Z",
     "start_time": "2025-07-29T16:09:44.070348300Z"
    }
   },
   "outputs": [
    {
     "name": "stdout",
     "output_type": "stream",
     "text": [
      "RMSE: 0.8673414545412719\n"
     ]
    }
   ],
   "source": [
    "y_pred = xgb_model.predict(X_test)\n",
    "print(\"RMSE:\", root_mean_squared_error(y_test, y_pred))"
   ]
  },
  {
   "cell_type": "code",
   "execution_count": 18,
   "outputs": [],
   "source": [
    "y_train_pred = xgb_model.predict(X_train)\n",
    "y_test_pred = xgb_model.predict(X_test)"
   ],
   "metadata": {
    "collapsed": false,
    "ExecuteTime": {
     "end_time": "2025-07-29T16:09:44.372876700Z",
     "start_time": "2025-07-29T16:09:44.188941600Z"
    }
   },
   "id": "9fd11fb5a7b06356"
  },
  {
   "cell_type": "markdown",
   "source": [
    "# XGBoost with Feature Engineering"
   ],
   "metadata": {
    "collapsed": false
   },
   "id": "ab2b8953dc52bd69"
  },
  {
   "cell_type": "code",
   "execution_count": 19,
   "outputs": [],
   "source": [
    "X_fe = df.drop(columns=not_features_fe)\n",
    "y_fe = df['fantasy_score']"
   ],
   "metadata": {
    "collapsed": false,
    "ExecuteTime": {
     "end_time": "2025-07-29T16:09:44.392967400Z",
     "start_time": "2025-07-29T16:09:44.372876700Z"
    }
   },
   "id": "3bf982d09a960a8f"
  },
  {
   "cell_type": "code",
   "execution_count": 20,
   "outputs": [],
   "source": [
    "X_fe = pd.get_dummies(X_fe, columns=['fantasy_role', 'hero_id', 'hero_variant', 'account_id', 'team_id', 'enemy_team_id'])"
   ],
   "metadata": {
    "collapsed": false,
    "ExecuteTime": {
     "end_time": "2025-07-29T16:09:44.451949100Z",
     "start_time": "2025-07-29T16:09:44.392967400Z"
    }
   },
   "id": "74f20af453b5e5c6"
  },
  {
   "cell_type": "code",
   "execution_count": 21,
   "outputs": [],
   "source": [
    "X_fe_train, X_fe_test, y_fe_train, y_fe_test = train_test_split(X_fe, y_fe, test_size=0.20, random_state=1001)"
   ],
   "metadata": {
    "collapsed": false,
    "ExecuteTime": {
     "end_time": "2025-07-29T16:09:44.515545Z",
     "start_time": "2025-07-29T16:09:44.452950200Z"
    }
   },
   "id": "4d01a37d36ac7862"
  },
  {
   "cell_type": "code",
   "execution_count": 22,
   "outputs": [
    {
     "data": {
      "text/plain": "XGBRegressor(base_score=None, booster=None, callbacks=None,\n             colsample_bylevel=None, colsample_bynode=None,\n             colsample_bytree=None, device=None, early_stopping_rounds=None,\n             enable_categorical=False, eval_metric=None, feature_types=None,\n             feature_weights=None, gamma=None, grow_policy=None,\n             importance_type=None, interaction_constraints=None,\n             learning_rate=None, max_bin=None, max_cat_threshold=None,\n             max_cat_to_onehot=None, max_delta_step=None, max_depth=None,\n             max_leaves=None, min_child_weight=None, missing=nan,\n             monotone_constraints=None, multi_strategy=None, n_estimators=None,\n             n_jobs=None, num_parallel_tree=None, ...)",
      "text/html": "<style>#sk-container-id-2 {\n  /* Definition of color scheme common for light and dark mode */\n  --sklearn-color-text: #000;\n  --sklearn-color-text-muted: #666;\n  --sklearn-color-line: gray;\n  /* Definition of color scheme for unfitted estimators */\n  --sklearn-color-unfitted-level-0: #fff5e6;\n  --sklearn-color-unfitted-level-1: #f6e4d2;\n  --sklearn-color-unfitted-level-2: #ffe0b3;\n  --sklearn-color-unfitted-level-3: chocolate;\n  /* Definition of color scheme for fitted estimators */\n  --sklearn-color-fitted-level-0: #f0f8ff;\n  --sklearn-color-fitted-level-1: #d4ebff;\n  --sklearn-color-fitted-level-2: #b3dbfd;\n  --sklearn-color-fitted-level-3: cornflowerblue;\n\n  /* Specific color for light theme */\n  --sklearn-color-text-on-default-background: var(--sg-text-color, var(--theme-code-foreground, var(--jp-content-font-color1, black)));\n  --sklearn-color-background: var(--sg-background-color, var(--theme-background, var(--jp-layout-color0, white)));\n  --sklearn-color-border-box: var(--sg-text-color, var(--theme-code-foreground, var(--jp-content-font-color1, black)));\n  --sklearn-color-icon: #696969;\n\n  @media (prefers-color-scheme: dark) {\n    /* Redefinition of color scheme for dark theme */\n    --sklearn-color-text-on-default-background: var(--sg-text-color, var(--theme-code-foreground, var(--jp-content-font-color1, white)));\n    --sklearn-color-background: var(--sg-background-color, var(--theme-background, var(--jp-layout-color0, #111)));\n    --sklearn-color-border-box: var(--sg-text-color, var(--theme-code-foreground, var(--jp-content-font-color1, white)));\n    --sklearn-color-icon: #878787;\n  }\n}\n\n#sk-container-id-2 {\n  color: var(--sklearn-color-text);\n}\n\n#sk-container-id-2 pre {\n  padding: 0;\n}\n\n#sk-container-id-2 input.sk-hidden--visually {\n  border: 0;\n  clip: rect(1px 1px 1px 1px);\n  clip: rect(1px, 1px, 1px, 1px);\n  height: 1px;\n  margin: -1px;\n  overflow: hidden;\n  padding: 0;\n  position: absolute;\n  width: 1px;\n}\n\n#sk-container-id-2 div.sk-dashed-wrapped {\n  border: 1px dashed var(--sklearn-color-line);\n  margin: 0 0.4em 0.5em 0.4em;\n  box-sizing: border-box;\n  padding-bottom: 0.4em;\n  background-color: var(--sklearn-color-background);\n}\n\n#sk-container-id-2 div.sk-container {\n  /* jupyter's `normalize.less` sets `[hidden] { display: none; }`\n     but bootstrap.min.css set `[hidden] { display: none !important; }`\n     so we also need the `!important` here to be able to override the\n     default hidden behavior on the sphinx rendered scikit-learn.org.\n     See: https://github.com/scikit-learn/scikit-learn/issues/21755 */\n  display: inline-block !important;\n  position: relative;\n}\n\n#sk-container-id-2 div.sk-text-repr-fallback {\n  display: none;\n}\n\ndiv.sk-parallel-item,\ndiv.sk-serial,\ndiv.sk-item {\n  /* draw centered vertical line to link estimators */\n  background-image: linear-gradient(var(--sklearn-color-text-on-default-background), var(--sklearn-color-text-on-default-background));\n  background-size: 2px 100%;\n  background-repeat: no-repeat;\n  background-position: center center;\n}\n\n/* Parallel-specific style estimator block */\n\n#sk-container-id-2 div.sk-parallel-item::after {\n  content: \"\";\n  width: 100%;\n  border-bottom: 2px solid var(--sklearn-color-text-on-default-background);\n  flex-grow: 1;\n}\n\n#sk-container-id-2 div.sk-parallel {\n  display: flex;\n  align-items: stretch;\n  justify-content: center;\n  background-color: var(--sklearn-color-background);\n  position: relative;\n}\n\n#sk-container-id-2 div.sk-parallel-item {\n  display: flex;\n  flex-direction: column;\n}\n\n#sk-container-id-2 div.sk-parallel-item:first-child::after {\n  align-self: flex-end;\n  width: 50%;\n}\n\n#sk-container-id-2 div.sk-parallel-item:last-child::after {\n  align-self: flex-start;\n  width: 50%;\n}\n\n#sk-container-id-2 div.sk-parallel-item:only-child::after {\n  width: 0;\n}\n\n/* Serial-specific style estimator block */\n\n#sk-container-id-2 div.sk-serial {\n  display: flex;\n  flex-direction: column;\n  align-items: center;\n  background-color: var(--sklearn-color-background);\n  padding-right: 1em;\n  padding-left: 1em;\n}\n\n\n/* Toggleable style: style used for estimator/Pipeline/ColumnTransformer box that is\nclickable and can be expanded/collapsed.\n- Pipeline and ColumnTransformer use this feature and define the default style\n- Estimators will overwrite some part of the style using the `sk-estimator` class\n*/\n\n/* Pipeline and ColumnTransformer style (default) */\n\n#sk-container-id-2 div.sk-toggleable {\n  /* Default theme specific background. It is overwritten whether we have a\n  specific estimator or a Pipeline/ColumnTransformer */\n  background-color: var(--sklearn-color-background);\n}\n\n/* Toggleable label */\n#sk-container-id-2 label.sk-toggleable__label {\n  cursor: pointer;\n  display: flex;\n  width: 100%;\n  margin-bottom: 0;\n  padding: 0.5em;\n  box-sizing: border-box;\n  text-align: center;\n  align-items: start;\n  justify-content: space-between;\n  gap: 0.5em;\n}\n\n#sk-container-id-2 label.sk-toggleable__label .caption {\n  font-size: 0.6rem;\n  font-weight: lighter;\n  color: var(--sklearn-color-text-muted);\n}\n\n#sk-container-id-2 label.sk-toggleable__label-arrow:before {\n  /* Arrow on the left of the label */\n  content: \"▸\";\n  float: left;\n  margin-right: 0.25em;\n  color: var(--sklearn-color-icon);\n}\n\n#sk-container-id-2 label.sk-toggleable__label-arrow:hover:before {\n  color: var(--sklearn-color-text);\n}\n\n/* Toggleable content - dropdown */\n\n#sk-container-id-2 div.sk-toggleable__content {\n  display: none;\n  text-align: left;\n  /* unfitted */\n  background-color: var(--sklearn-color-unfitted-level-0);\n}\n\n#sk-container-id-2 div.sk-toggleable__content.fitted {\n  /* fitted */\n  background-color: var(--sklearn-color-fitted-level-0);\n}\n\n#sk-container-id-2 div.sk-toggleable__content pre {\n  margin: 0.2em;\n  border-radius: 0.25em;\n  color: var(--sklearn-color-text);\n  /* unfitted */\n  background-color: var(--sklearn-color-unfitted-level-0);\n}\n\n#sk-container-id-2 div.sk-toggleable__content.fitted pre {\n  /* unfitted */\n  background-color: var(--sklearn-color-fitted-level-0);\n}\n\n#sk-container-id-2 input.sk-toggleable__control:checked~div.sk-toggleable__content {\n  /* Expand drop-down */\n  display: block;\n  width: 100%;\n  overflow: visible;\n}\n\n#sk-container-id-2 input.sk-toggleable__control:checked~label.sk-toggleable__label-arrow:before {\n  content: \"▾\";\n}\n\n/* Pipeline/ColumnTransformer-specific style */\n\n#sk-container-id-2 div.sk-label input.sk-toggleable__control:checked~label.sk-toggleable__label {\n  color: var(--sklearn-color-text);\n  background-color: var(--sklearn-color-unfitted-level-2);\n}\n\n#sk-container-id-2 div.sk-label.fitted input.sk-toggleable__control:checked~label.sk-toggleable__label {\n  background-color: var(--sklearn-color-fitted-level-2);\n}\n\n/* Estimator-specific style */\n\n/* Colorize estimator box */\n#sk-container-id-2 div.sk-estimator input.sk-toggleable__control:checked~label.sk-toggleable__label {\n  /* unfitted */\n  background-color: var(--sklearn-color-unfitted-level-2);\n}\n\n#sk-container-id-2 div.sk-estimator.fitted input.sk-toggleable__control:checked~label.sk-toggleable__label {\n  /* fitted */\n  background-color: var(--sklearn-color-fitted-level-2);\n}\n\n#sk-container-id-2 div.sk-label label.sk-toggleable__label,\n#sk-container-id-2 div.sk-label label {\n  /* The background is the default theme color */\n  color: var(--sklearn-color-text-on-default-background);\n}\n\n/* On hover, darken the color of the background */\n#sk-container-id-2 div.sk-label:hover label.sk-toggleable__label {\n  color: var(--sklearn-color-text);\n  background-color: var(--sklearn-color-unfitted-level-2);\n}\n\n/* Label box, darken color on hover, fitted */\n#sk-container-id-2 div.sk-label.fitted:hover label.sk-toggleable__label.fitted {\n  color: var(--sklearn-color-text);\n  background-color: var(--sklearn-color-fitted-level-2);\n}\n\n/* Estimator label */\n\n#sk-container-id-2 div.sk-label label {\n  font-family: monospace;\n  font-weight: bold;\n  display: inline-block;\n  line-height: 1.2em;\n}\n\n#sk-container-id-2 div.sk-label-container {\n  text-align: center;\n}\n\n/* Estimator-specific */\n#sk-container-id-2 div.sk-estimator {\n  font-family: monospace;\n  border: 1px dotted var(--sklearn-color-border-box);\n  border-radius: 0.25em;\n  box-sizing: border-box;\n  margin-bottom: 0.5em;\n  /* unfitted */\n  background-color: var(--sklearn-color-unfitted-level-0);\n}\n\n#sk-container-id-2 div.sk-estimator.fitted {\n  /* fitted */\n  background-color: var(--sklearn-color-fitted-level-0);\n}\n\n/* on hover */\n#sk-container-id-2 div.sk-estimator:hover {\n  /* unfitted */\n  background-color: var(--sklearn-color-unfitted-level-2);\n}\n\n#sk-container-id-2 div.sk-estimator.fitted:hover {\n  /* fitted */\n  background-color: var(--sklearn-color-fitted-level-2);\n}\n\n/* Specification for estimator info (e.g. \"i\" and \"?\") */\n\n/* Common style for \"i\" and \"?\" */\n\n.sk-estimator-doc-link,\na:link.sk-estimator-doc-link,\na:visited.sk-estimator-doc-link {\n  float: right;\n  font-size: smaller;\n  line-height: 1em;\n  font-family: monospace;\n  background-color: var(--sklearn-color-background);\n  border-radius: 1em;\n  height: 1em;\n  width: 1em;\n  text-decoration: none !important;\n  margin-left: 0.5em;\n  text-align: center;\n  /* unfitted */\n  border: var(--sklearn-color-unfitted-level-1) 1pt solid;\n  color: var(--sklearn-color-unfitted-level-1);\n}\n\n.sk-estimator-doc-link.fitted,\na:link.sk-estimator-doc-link.fitted,\na:visited.sk-estimator-doc-link.fitted {\n  /* fitted */\n  border: var(--sklearn-color-fitted-level-1) 1pt solid;\n  color: var(--sklearn-color-fitted-level-1);\n}\n\n/* On hover */\ndiv.sk-estimator:hover .sk-estimator-doc-link:hover,\n.sk-estimator-doc-link:hover,\ndiv.sk-label-container:hover .sk-estimator-doc-link:hover,\n.sk-estimator-doc-link:hover {\n  /* unfitted */\n  background-color: var(--sklearn-color-unfitted-level-3);\n  color: var(--sklearn-color-background);\n  text-decoration: none;\n}\n\ndiv.sk-estimator.fitted:hover .sk-estimator-doc-link.fitted:hover,\n.sk-estimator-doc-link.fitted:hover,\ndiv.sk-label-container:hover .sk-estimator-doc-link.fitted:hover,\n.sk-estimator-doc-link.fitted:hover {\n  /* fitted */\n  background-color: var(--sklearn-color-fitted-level-3);\n  color: var(--sklearn-color-background);\n  text-decoration: none;\n}\n\n/* Span, style for the box shown on hovering the info icon */\n.sk-estimator-doc-link span {\n  display: none;\n  z-index: 9999;\n  position: relative;\n  font-weight: normal;\n  right: .2ex;\n  padding: .5ex;\n  margin: .5ex;\n  width: min-content;\n  min-width: 20ex;\n  max-width: 50ex;\n  color: var(--sklearn-color-text);\n  box-shadow: 2pt 2pt 4pt #999;\n  /* unfitted */\n  background: var(--sklearn-color-unfitted-level-0);\n  border: .5pt solid var(--sklearn-color-unfitted-level-3);\n}\n\n.sk-estimator-doc-link.fitted span {\n  /* fitted */\n  background: var(--sklearn-color-fitted-level-0);\n  border: var(--sklearn-color-fitted-level-3);\n}\n\n.sk-estimator-doc-link:hover span {\n  display: block;\n}\n\n/* \"?\"-specific style due to the `<a>` HTML tag */\n\n#sk-container-id-2 a.estimator_doc_link {\n  float: right;\n  font-size: 1rem;\n  line-height: 1em;\n  font-family: monospace;\n  background-color: var(--sklearn-color-background);\n  border-radius: 1rem;\n  height: 1rem;\n  width: 1rem;\n  text-decoration: none;\n  /* unfitted */\n  color: var(--sklearn-color-unfitted-level-1);\n  border: var(--sklearn-color-unfitted-level-1) 1pt solid;\n}\n\n#sk-container-id-2 a.estimator_doc_link.fitted {\n  /* fitted */\n  border: var(--sklearn-color-fitted-level-1) 1pt solid;\n  color: var(--sklearn-color-fitted-level-1);\n}\n\n/* On hover */\n#sk-container-id-2 a.estimator_doc_link:hover {\n  /* unfitted */\n  background-color: var(--sklearn-color-unfitted-level-3);\n  color: var(--sklearn-color-background);\n  text-decoration: none;\n}\n\n#sk-container-id-2 a.estimator_doc_link.fitted:hover {\n  /* fitted */\n  background-color: var(--sklearn-color-fitted-level-3);\n}\n\n.estimator-table summary {\n    padding: .5rem;\n    font-family: monospace;\n    cursor: pointer;\n}\n\n.estimator-table details[open] {\n    padding-left: 0.1rem;\n    padding-right: 0.1rem;\n    padding-bottom: 0.3rem;\n}\n\n.estimator-table .parameters-table {\n    margin-left: auto !important;\n    margin-right: auto !important;\n}\n\n.estimator-table .parameters-table tr:nth-child(odd) {\n    background-color: #fff;\n}\n\n.estimator-table .parameters-table tr:nth-child(even) {\n    background-color: #f6f6f6;\n}\n\n.estimator-table .parameters-table tr:hover {\n    background-color: #e0e0e0;\n}\n\n.estimator-table table td {\n    border: 1px solid rgba(106, 105, 104, 0.232);\n}\n\n.user-set td {\n    color:rgb(255, 94, 0);\n    text-align: left;\n}\n\n.user-set td.value pre {\n    color:rgb(255, 94, 0) !important;\n    background-color: transparent !important;\n}\n\n.default td {\n    color: black;\n    text-align: left;\n}\n\n.user-set td i,\n.default td i {\n    color: black;\n}\n\n.copy-paste-icon {\n    background-image: url(data:image/svg+xml;base64,PHN2ZyB4bWxucz0iaHR0cDovL3d3dy53My5vcmcvMjAwMC9zdmciIHZpZXdCb3g9IjAgMCA0NDggNTEyIj48IS0tIUZvbnQgQXdlc29tZSBGcmVlIDYuNy4yIGJ5IEBmb250YXdlc29tZSAtIGh0dHBzOi8vZm9udGF3ZXNvbWUuY29tIExpY2Vuc2UgLSBodHRwczovL2ZvbnRhd2Vzb21lLmNvbS9saWNlbnNlL2ZyZWUgQ29weXJpZ2h0IDIwMjUgRm9udGljb25zLCBJbmMuLS0+PHBhdGggZD0iTTIwOCAwTDMzMi4xIDBjMTIuNyAwIDI0LjkgNS4xIDMzLjkgMTQuMWw2Ny45IDY3LjljOSA5IDE0LjEgMjEuMiAxNC4xIDMzLjlMNDQ4IDMzNmMwIDI2LjUtMjEuNSA0OC00OCA0OGwtMTkyIDBjLTI2LjUgMC00OC0yMS41LTQ4LTQ4bDAtMjg4YzAtMjYuNSAyMS41LTQ4IDQ4LTQ4ek00OCAxMjhsODAgMCAwIDY0LTY0IDAgMCAyNTYgMTkyIDAgMC0zMiA2NCAwIDAgNDhjMCAyNi41LTIxLjUgNDgtNDggNDhMNDggNTEyYy0yNi41IDAtNDgtMjEuNS00OC00OEwwIDE3NmMwLTI2LjUgMjEuNS00OCA0OC00OHoiLz48L3N2Zz4=);\n    background-repeat: no-repeat;\n    background-size: 14px 14px;\n    background-position: 0;\n    display: inline-block;\n    width: 14px;\n    height: 14px;\n    cursor: pointer;\n}\n</style><body><div id=\"sk-container-id-2\" class=\"sk-top-container\"><div class=\"sk-text-repr-fallback\"><pre>XGBRegressor(base_score=None, booster=None, callbacks=None,\n             colsample_bylevel=None, colsample_bynode=None,\n             colsample_bytree=None, device=None, early_stopping_rounds=None,\n             enable_categorical=False, eval_metric=None, feature_types=None,\n             feature_weights=None, gamma=None, grow_policy=None,\n             importance_type=None, interaction_constraints=None,\n             learning_rate=None, max_bin=None, max_cat_threshold=None,\n             max_cat_to_onehot=None, max_delta_step=None, max_depth=None,\n             max_leaves=None, min_child_weight=None, missing=nan,\n             monotone_constraints=None, multi_strategy=None, n_estimators=None,\n             n_jobs=None, num_parallel_tree=None, ...)</pre><b>In a Jupyter environment, please rerun this cell to show the HTML representation or trust the notebook. <br />On GitHub, the HTML representation is unable to render, please try loading this page with nbviewer.org.</b></div><div class=\"sk-container\" hidden><div class=\"sk-item\"><div class=\"sk-estimator fitted sk-toggleable\"><input class=\"sk-toggleable__control sk-hidden--visually\" id=\"sk-estimator-id-2\" type=\"checkbox\" checked><label for=\"sk-estimator-id-2\" class=\"sk-toggleable__label fitted sk-toggleable__label-arrow\"><div><div>XGBRegressor</div></div><div><a class=\"sk-estimator-doc-link fitted\" rel=\"noreferrer\" target=\"_blank\" href=\"https://xgboost.readthedocs.io/en/release_3.0.0/python/python_api.html#xgboost.XGBRegressor\">?<span>Documentation for XGBRegressor</span></a><span class=\"sk-estimator-doc-link fitted\">i<span>Fitted</span></span></div></label><div class=\"sk-toggleable__content fitted\" data-param-prefix=\"\">\n        <div class=\"estimator-table\">\n            <details>\n                <summary>Parameters</summary>\n                <table class=\"parameters-table\">\n                  <tbody>\n                    \n        <tr class=\"default\">\n            <td><i class=\"copy-paste-icon\"\n                 onclick=\"copyToClipboard('objective',\n                          this.parentElement.nextElementSibling)\"\n            ></i></td>\n            <td class=\"param\">objective&nbsp;</td>\n            <td class=\"value\">&#x27;reg:squarederror&#x27;</td>\n        </tr>\n    \n\n        <tr class=\"user-set\">\n            <td><i class=\"copy-paste-icon\"\n                 onclick=\"copyToClipboard('base_score',\n                          this.parentElement.nextElementSibling)\"\n            ></i></td>\n            <td class=\"param\">base_score&nbsp;</td>\n            <td class=\"value\">None</td>\n        </tr>\n    \n\n        <tr class=\"user-set\">\n            <td><i class=\"copy-paste-icon\"\n                 onclick=\"copyToClipboard('booster',\n                          this.parentElement.nextElementSibling)\"\n            ></i></td>\n            <td class=\"param\">booster&nbsp;</td>\n            <td class=\"value\">None</td>\n        </tr>\n    \n\n        <tr class=\"user-set\">\n            <td><i class=\"copy-paste-icon\"\n                 onclick=\"copyToClipboard('callbacks',\n                          this.parentElement.nextElementSibling)\"\n            ></i></td>\n            <td class=\"param\">callbacks&nbsp;</td>\n            <td class=\"value\">None</td>\n        </tr>\n    \n\n        <tr class=\"user-set\">\n            <td><i class=\"copy-paste-icon\"\n                 onclick=\"copyToClipboard('colsample_bylevel',\n                          this.parentElement.nextElementSibling)\"\n            ></i></td>\n            <td class=\"param\">colsample_bylevel&nbsp;</td>\n            <td class=\"value\">None</td>\n        </tr>\n    \n\n        <tr class=\"user-set\">\n            <td><i class=\"copy-paste-icon\"\n                 onclick=\"copyToClipboard('colsample_bynode',\n                          this.parentElement.nextElementSibling)\"\n            ></i></td>\n            <td class=\"param\">colsample_bynode&nbsp;</td>\n            <td class=\"value\">None</td>\n        </tr>\n    \n\n        <tr class=\"user-set\">\n            <td><i class=\"copy-paste-icon\"\n                 onclick=\"copyToClipboard('colsample_bytree',\n                          this.parentElement.nextElementSibling)\"\n            ></i></td>\n            <td class=\"param\">colsample_bytree&nbsp;</td>\n            <td class=\"value\">None</td>\n        </tr>\n    \n\n        <tr class=\"user-set\">\n            <td><i class=\"copy-paste-icon\"\n                 onclick=\"copyToClipboard('device',\n                          this.parentElement.nextElementSibling)\"\n            ></i></td>\n            <td class=\"param\">device&nbsp;</td>\n            <td class=\"value\">None</td>\n        </tr>\n    \n\n        <tr class=\"user-set\">\n            <td><i class=\"copy-paste-icon\"\n                 onclick=\"copyToClipboard('early_stopping_rounds',\n                          this.parentElement.nextElementSibling)\"\n            ></i></td>\n            <td class=\"param\">early_stopping_rounds&nbsp;</td>\n            <td class=\"value\">None</td>\n        </tr>\n    \n\n        <tr class=\"user-set\">\n            <td><i class=\"copy-paste-icon\"\n                 onclick=\"copyToClipboard('enable_categorical',\n                          this.parentElement.nextElementSibling)\"\n            ></i></td>\n            <td class=\"param\">enable_categorical&nbsp;</td>\n            <td class=\"value\">False</td>\n        </tr>\n    \n\n        <tr class=\"user-set\">\n            <td><i class=\"copy-paste-icon\"\n                 onclick=\"copyToClipboard('eval_metric',\n                          this.parentElement.nextElementSibling)\"\n            ></i></td>\n            <td class=\"param\">eval_metric&nbsp;</td>\n            <td class=\"value\">None</td>\n        </tr>\n    \n\n        <tr class=\"user-set\">\n            <td><i class=\"copy-paste-icon\"\n                 onclick=\"copyToClipboard('feature_types',\n                          this.parentElement.nextElementSibling)\"\n            ></i></td>\n            <td class=\"param\">feature_types&nbsp;</td>\n            <td class=\"value\">None</td>\n        </tr>\n    \n\n        <tr class=\"user-set\">\n            <td><i class=\"copy-paste-icon\"\n                 onclick=\"copyToClipboard('feature_weights',\n                          this.parentElement.nextElementSibling)\"\n            ></i></td>\n            <td class=\"param\">feature_weights&nbsp;</td>\n            <td class=\"value\">None</td>\n        </tr>\n    \n\n        <tr class=\"user-set\">\n            <td><i class=\"copy-paste-icon\"\n                 onclick=\"copyToClipboard('gamma',\n                          this.parentElement.nextElementSibling)\"\n            ></i></td>\n            <td class=\"param\">gamma&nbsp;</td>\n            <td class=\"value\">None</td>\n        </tr>\n    \n\n        <tr class=\"user-set\">\n            <td><i class=\"copy-paste-icon\"\n                 onclick=\"copyToClipboard('grow_policy',\n                          this.parentElement.nextElementSibling)\"\n            ></i></td>\n            <td class=\"param\">grow_policy&nbsp;</td>\n            <td class=\"value\">None</td>\n        </tr>\n    \n\n        <tr class=\"user-set\">\n            <td><i class=\"copy-paste-icon\"\n                 onclick=\"copyToClipboard('importance_type',\n                          this.parentElement.nextElementSibling)\"\n            ></i></td>\n            <td class=\"param\">importance_type&nbsp;</td>\n            <td class=\"value\">None</td>\n        </tr>\n    \n\n        <tr class=\"user-set\">\n            <td><i class=\"copy-paste-icon\"\n                 onclick=\"copyToClipboard('interaction_constraints',\n                          this.parentElement.nextElementSibling)\"\n            ></i></td>\n            <td class=\"param\">interaction_constraints&nbsp;</td>\n            <td class=\"value\">None</td>\n        </tr>\n    \n\n        <tr class=\"user-set\">\n            <td><i class=\"copy-paste-icon\"\n                 onclick=\"copyToClipboard('learning_rate',\n                          this.parentElement.nextElementSibling)\"\n            ></i></td>\n            <td class=\"param\">learning_rate&nbsp;</td>\n            <td class=\"value\">None</td>\n        </tr>\n    \n\n        <tr class=\"user-set\">\n            <td><i class=\"copy-paste-icon\"\n                 onclick=\"copyToClipboard('max_bin',\n                          this.parentElement.nextElementSibling)\"\n            ></i></td>\n            <td class=\"param\">max_bin&nbsp;</td>\n            <td class=\"value\">None</td>\n        </tr>\n    \n\n        <tr class=\"user-set\">\n            <td><i class=\"copy-paste-icon\"\n                 onclick=\"copyToClipboard('max_cat_threshold',\n                          this.parentElement.nextElementSibling)\"\n            ></i></td>\n            <td class=\"param\">max_cat_threshold&nbsp;</td>\n            <td class=\"value\">None</td>\n        </tr>\n    \n\n        <tr class=\"user-set\">\n            <td><i class=\"copy-paste-icon\"\n                 onclick=\"copyToClipboard('max_cat_to_onehot',\n                          this.parentElement.nextElementSibling)\"\n            ></i></td>\n            <td class=\"param\">max_cat_to_onehot&nbsp;</td>\n            <td class=\"value\">None</td>\n        </tr>\n    \n\n        <tr class=\"user-set\">\n            <td><i class=\"copy-paste-icon\"\n                 onclick=\"copyToClipboard('max_delta_step',\n                          this.parentElement.nextElementSibling)\"\n            ></i></td>\n            <td class=\"param\">max_delta_step&nbsp;</td>\n            <td class=\"value\">None</td>\n        </tr>\n    \n\n        <tr class=\"user-set\">\n            <td><i class=\"copy-paste-icon\"\n                 onclick=\"copyToClipboard('max_depth',\n                          this.parentElement.nextElementSibling)\"\n            ></i></td>\n            <td class=\"param\">max_depth&nbsp;</td>\n            <td class=\"value\">None</td>\n        </tr>\n    \n\n        <tr class=\"user-set\">\n            <td><i class=\"copy-paste-icon\"\n                 onclick=\"copyToClipboard('max_leaves',\n                          this.parentElement.nextElementSibling)\"\n            ></i></td>\n            <td class=\"param\">max_leaves&nbsp;</td>\n            <td class=\"value\">None</td>\n        </tr>\n    \n\n        <tr class=\"user-set\">\n            <td><i class=\"copy-paste-icon\"\n                 onclick=\"copyToClipboard('min_child_weight',\n                          this.parentElement.nextElementSibling)\"\n            ></i></td>\n            <td class=\"param\">min_child_weight&nbsp;</td>\n            <td class=\"value\">None</td>\n        </tr>\n    \n\n        <tr class=\"user-set\">\n            <td><i class=\"copy-paste-icon\"\n                 onclick=\"copyToClipboard('missing',\n                          this.parentElement.nextElementSibling)\"\n            ></i></td>\n            <td class=\"param\">missing&nbsp;</td>\n            <td class=\"value\">nan</td>\n        </tr>\n    \n\n        <tr class=\"user-set\">\n            <td><i class=\"copy-paste-icon\"\n                 onclick=\"copyToClipboard('monotone_constraints',\n                          this.parentElement.nextElementSibling)\"\n            ></i></td>\n            <td class=\"param\">monotone_constraints&nbsp;</td>\n            <td class=\"value\">None</td>\n        </tr>\n    \n\n        <tr class=\"user-set\">\n            <td><i class=\"copy-paste-icon\"\n                 onclick=\"copyToClipboard('multi_strategy',\n                          this.parentElement.nextElementSibling)\"\n            ></i></td>\n            <td class=\"param\">multi_strategy&nbsp;</td>\n            <td class=\"value\">None</td>\n        </tr>\n    \n\n        <tr class=\"user-set\">\n            <td><i class=\"copy-paste-icon\"\n                 onclick=\"copyToClipboard('n_estimators',\n                          this.parentElement.nextElementSibling)\"\n            ></i></td>\n            <td class=\"param\">n_estimators&nbsp;</td>\n            <td class=\"value\">None</td>\n        </tr>\n    \n\n        <tr class=\"user-set\">\n            <td><i class=\"copy-paste-icon\"\n                 onclick=\"copyToClipboard('n_jobs',\n                          this.parentElement.nextElementSibling)\"\n            ></i></td>\n            <td class=\"param\">n_jobs&nbsp;</td>\n            <td class=\"value\">None</td>\n        </tr>\n    \n\n        <tr class=\"user-set\">\n            <td><i class=\"copy-paste-icon\"\n                 onclick=\"copyToClipboard('num_parallel_tree',\n                          this.parentElement.nextElementSibling)\"\n            ></i></td>\n            <td class=\"param\">num_parallel_tree&nbsp;</td>\n            <td class=\"value\">None</td>\n        </tr>\n    \n\n        <tr class=\"user-set\">\n            <td><i class=\"copy-paste-icon\"\n                 onclick=\"copyToClipboard('random_state',\n                          this.parentElement.nextElementSibling)\"\n            ></i></td>\n            <td class=\"param\">random_state&nbsp;</td>\n            <td class=\"value\">None</td>\n        </tr>\n    \n\n        <tr class=\"user-set\">\n            <td><i class=\"copy-paste-icon\"\n                 onclick=\"copyToClipboard('reg_alpha',\n                          this.parentElement.nextElementSibling)\"\n            ></i></td>\n            <td class=\"param\">reg_alpha&nbsp;</td>\n            <td class=\"value\">None</td>\n        </tr>\n    \n\n        <tr class=\"user-set\">\n            <td><i class=\"copy-paste-icon\"\n                 onclick=\"copyToClipboard('reg_lambda',\n                          this.parentElement.nextElementSibling)\"\n            ></i></td>\n            <td class=\"param\">reg_lambda&nbsp;</td>\n            <td class=\"value\">None</td>\n        </tr>\n    \n\n        <tr class=\"user-set\">\n            <td><i class=\"copy-paste-icon\"\n                 onclick=\"copyToClipboard('sampling_method',\n                          this.parentElement.nextElementSibling)\"\n            ></i></td>\n            <td class=\"param\">sampling_method&nbsp;</td>\n            <td class=\"value\">None</td>\n        </tr>\n    \n\n        <tr class=\"user-set\">\n            <td><i class=\"copy-paste-icon\"\n                 onclick=\"copyToClipboard('scale_pos_weight',\n                          this.parentElement.nextElementSibling)\"\n            ></i></td>\n            <td class=\"param\">scale_pos_weight&nbsp;</td>\n            <td class=\"value\">None</td>\n        </tr>\n    \n\n        <tr class=\"user-set\">\n            <td><i class=\"copy-paste-icon\"\n                 onclick=\"copyToClipboard('subsample',\n                          this.parentElement.nextElementSibling)\"\n            ></i></td>\n            <td class=\"param\">subsample&nbsp;</td>\n            <td class=\"value\">None</td>\n        </tr>\n    \n\n        <tr class=\"user-set\">\n            <td><i class=\"copy-paste-icon\"\n                 onclick=\"copyToClipboard('tree_method',\n                          this.parentElement.nextElementSibling)\"\n            ></i></td>\n            <td class=\"param\">tree_method&nbsp;</td>\n            <td class=\"value\">None</td>\n        </tr>\n    \n\n        <tr class=\"user-set\">\n            <td><i class=\"copy-paste-icon\"\n                 onclick=\"copyToClipboard('validate_parameters',\n                          this.parentElement.nextElementSibling)\"\n            ></i></td>\n            <td class=\"param\">validate_parameters&nbsp;</td>\n            <td class=\"value\">None</td>\n        </tr>\n    \n\n        <tr class=\"user-set\">\n            <td><i class=\"copy-paste-icon\"\n                 onclick=\"copyToClipboard('verbosity',\n                          this.parentElement.nextElementSibling)\"\n            ></i></td>\n            <td class=\"param\">verbosity&nbsp;</td>\n            <td class=\"value\">None</td>\n        </tr>\n    \n                  </tbody>\n                </table>\n            </details>\n        </div>\n    </div></div></div></div></div><script>function copyToClipboard(text, element) {\n    // Get the parameter prefix from the closest toggleable content\n    const toggleableContent = element.closest('.sk-toggleable__content');\n    const paramPrefix = toggleableContent ? toggleableContent.dataset.paramPrefix : '';\n    const fullParamName = paramPrefix ? `${paramPrefix}${text}` : text;\n\n    const originalStyle = element.style;\n    const computedStyle = window.getComputedStyle(element);\n    const originalWidth = computedStyle.width;\n    const originalHTML = element.innerHTML.replace('Copied!', '');\n\n    navigator.clipboard.writeText(fullParamName)\n        .then(() => {\n            element.style.width = originalWidth;\n            element.style.color = 'green';\n            element.innerHTML = \"Copied!\";\n\n            setTimeout(() => {\n                element.innerHTML = originalHTML;\n                element.style = originalStyle;\n            }, 2000);\n        })\n        .catch(err => {\n            console.error('Failed to copy:', err);\n            element.style.color = 'red';\n            element.innerHTML = \"Failed!\";\n            setTimeout(() => {\n                element.innerHTML = originalHTML;\n                element.style = originalStyle;\n            }, 2000);\n        });\n    return false;\n}\n\ndocument.querySelectorAll('.fa-regular.fa-copy').forEach(function(element) {\n    const toggleableContent = element.closest('.sk-toggleable__content');\n    const paramPrefix = toggleableContent ? toggleableContent.dataset.paramPrefix : '';\n    const paramName = element.parentElement.nextElementSibling.textContent.trim();\n    const fullParamName = paramPrefix ? `${paramPrefix}${paramName}` : paramName;\n\n    element.setAttribute('title', fullParamName);\n});\n</script></body>"
     },
     "execution_count": 22,
     "metadata": {},
     "output_type": "execute_result"
    }
   ],
   "source": [
    "xgb_model_fe = xgb.XGBRegressor()\n",
    "xgb_model_fe.fit(X_fe_train, y_fe_train)"
   ],
   "metadata": {
    "collapsed": false,
    "ExecuteTime": {
     "end_time": "2025-07-29T16:09:45.573846500Z",
     "start_time": "2025-07-29T16:09:44.515545Z"
    }
   },
   "id": "ef250fe1b7b8f150"
  },
  {
   "cell_type": "code",
   "execution_count": 23,
   "outputs": [
    {
     "name": "stdout",
     "output_type": "stream",
     "text": [
      "RMSE: 0.8776266747620363\n"
     ]
    }
   ],
   "source": [
    "y_fe_pred = xgb_model_fe.predict(X_fe_test)\n",
    "print(\"RMSE:\", root_mean_squared_error(y_fe_test, y_fe_pred))"
   ],
   "metadata": {
    "collapsed": false,
    "ExecuteTime": {
     "end_time": "2025-07-29T16:09:45.742296300Z",
     "start_time": "2025-07-29T16:09:45.573685900Z"
    }
   },
   "id": "76afe3b839176e92"
  },
  {
   "cell_type": "code",
   "execution_count": 24,
   "outputs": [],
   "source": [
    "y_fe_train_pred = xgb_model_fe.predict(X_fe_train)\n",
    "y_fe_test_pred = xgb_model_fe.predict(X_fe_test)"
   ],
   "metadata": {
    "collapsed": false,
    "ExecuteTime": {
     "end_time": "2025-07-29T16:09:45.915487600Z",
     "start_time": "2025-07-29T16:09:45.744298200Z"
    }
   },
   "id": "5ceaf572c8e0c9e"
  },
  {
   "cell_type": "markdown",
   "source": [
    "# Comparing the 2 XGBoost Models"
   ],
   "metadata": {
    "collapsed": false
   },
   "id": "b157ee08dada9042"
  },
  {
   "cell_type": "code",
   "execution_count": 25,
   "outputs": [
    {
     "name": "stdout",
     "output_type": "stream",
     "text": [
      "No FE, Train RMSE: 0.3939321872118213\n",
      "No FE, Test RMSE: 0.8673414545412719\n",
      "No FE, Train MAE: 0.3082063262578888\n",
      "No FE, Test MAE: 0.5733837587569408\n",
      "No FE, Train R2: 0.9934442645619632\n",
      "No FE, Test R2: 0.9683705920522633\n"
     ]
    }
   ],
   "source": [
    "print(\"No FE, Train RMSE:\", root_mean_squared_error(y_train, y_train_pred))\n",
    "print(\"No FE, Test RMSE:\", root_mean_squared_error(y_test, y_test_pred))\n",
    "print(\"No FE, Train MAE:\", mean_absolute_error(y_train, y_train_pred))\n",
    "print(\"No FE, Test MAE:\", mean_absolute_error(y_test, y_test_pred))\n",
    "print(\"No FE, Train R2:\", r2_score(y_train, y_train_pred))\n",
    "print(\"No FE, Test R2:\", r2_score(y_test, y_test_pred))"
   ],
   "metadata": {
    "collapsed": false,
    "ExecuteTime": {
     "end_time": "2025-07-29T16:09:45.986094700Z",
     "start_time": "2025-07-29T16:09:45.915487600Z"
    }
   },
   "id": "3a0f2dad28e2c90"
  },
  {
   "cell_type": "code",
   "execution_count": 26,
   "outputs": [
    {
     "name": "stdout",
     "output_type": "stream",
     "text": [
      "With FE, Train RMSE: 0.3780385948582158\n",
      "With FE, Test RMSE: 0.8776266747620363\n",
      "With FE, Train MAE: 0.2935665818706187\n",
      "With FE, Test MAE: 0.5887378605228828\n",
      "With FE, Train R2: 0.9939625886798958\n",
      "With FE, Test R2: 0.9676160004824991\n"
     ]
    }
   ],
   "source": [
    "print(\"With FE, Train RMSE:\", root_mean_squared_error(y_fe_train, y_fe_train_pred))\n",
    "print(\"With FE, Test RMSE:\", root_mean_squared_error(y_fe_test, y_fe_test_pred))\n",
    "print(\"With FE, Train MAE:\", mean_absolute_error(y_fe_train, y_fe_train_pred))\n",
    "print(\"With FE, Test MAE:\", mean_absolute_error(y_fe_test, y_fe_test_pred))\n",
    "print(\"With FE, Train R2:\", r2_score(y_fe_train, y_fe_train_pred))\n",
    "print(\"With FE, Test R2:\", r2_score(y_fe_test, y_fe_test_pred))"
   ],
   "metadata": {
    "collapsed": false,
    "ExecuteTime": {
     "end_time": "2025-07-29T16:09:45.995928600Z",
     "start_time": "2025-07-29T16:09:45.943797400Z"
    }
   },
   "id": "72b819c1e89a86f7"
  },
  {
   "cell_type": "markdown",
   "source": [
    "# Prediction Framework"
   ],
   "metadata": {
    "collapsed": false
   },
   "id": "deeb2275f999c753"
  },
  {
   "cell_type": "code",
   "execution_count": 27,
   "outputs": [],
   "source": [
    "def build_prediction_rows(df, matchups, lineup_dir, rolling_n=20):\n",
    "    rows = []\n",
    "    for team_id, enemy_team_id in matchups:\n",
    "        lineup_path = os.path.join(lineup_dir, f\"team_lineup_{team_id}.json\")\n",
    "        if not os.path.exists(lineup_path):\n",
    "            subprocess.run([\"python\", \"get_current_lineups.py\", str(team_id)])\n",
    "        if not os.path.exists(lineup_path):\n",
    "            continue  # Skip if still missing\n",
    "        with open(lineup_path, \"r\", encoding=\"utf-8\") as f:\n",
    "            lineup = [p for p in json.load(f) if p.get(\"is_current_team_member\")]\n",
    "        for player in lineup:\n",
    "            account_id = str(player[\"account_id\"])\n",
    "            player_hist = df[df[\"account_id\"] == account_id].sort_values(\"match_start_time\")\n",
    "            if player_hist.empty:\n",
    "                continue\n",
    "            numeric_cols = player_hist.select_dtypes(include='number').columns.difference(\n",
    "                ['match_id', 'account_id', 'radiant_team_id', 'dire_team_id', 'team_id', 'enemy_team_id', 'match_start_time']\n",
    "            )\n",
    "            rolling = player_hist[numeric_cols].tail(rolling_n).mean()\n",
    "            row = player_hist.iloc[-1].copy()\n",
    "            row[numeric_cols] = rolling\n",
    "            row[\"team_id\"] = team_id\n",
    "            row[\"enemy_team_id\"] = enemy_team_id\n",
    "            rows.append(row)\n",
    "    return pd.DataFrame(rows)"
   ],
   "metadata": {
    "collapsed": false,
    "ExecuteTime": {
     "end_time": "2025-07-29T16:09:45.996921900Z",
     "start_time": "2025-07-29T16:09:45.955436Z"
    }
   },
   "id": "23c3bf0c51e90589"
  },
  {
   "cell_type": "code",
   "execution_count": 28,
   "id": "c2413ac6",
   "metadata": {
    "ExecuteTime": {
     "end_time": "2025-07-29T16:09:45.999924600Z",
     "start_time": "2025-07-29T16:09:45.974007700Z"
    }
   },
   "outputs": [],
   "source": [
    "def predict_players_for_matchups(df, model, matchup_list, X, not_features, lineup_dir=\"data/lineups\", rolling_n=20):\n",
    "    # Ensure all lineup files exist (call API if not)\n",
    "    team_ids = set()\n",
    "    for t1, t2 in matchup_list:\n",
    "        team_ids.add(t1)\n",
    "        team_ids.add(t2)\n",
    "    for team_id in team_ids:\n",
    "        lineup_path = os.path.join(lineup_dir, f\"team_lineup_{team_id}.json\")\n",
    "        if not os.path.exists(lineup_path):\n",
    "            subprocess.run([\"python\", \"get_current_lineups.py\", str(team_id)])\n",
    "    \n",
    "    # Build synthetic prediction rows\n",
    "    pred_df = build_prediction_rows(df, matchup_list, lineup_dir, rolling_n=rolling_n)\n",
    "    if pred_df.empty:\n",
    "        print(\"No eligible players found for the given matchups.\")\n",
    "        return pd.DataFrame()\n",
    "    # Prepare features (same as training)\n",
    "    X_pred = pred_df.drop(columns=not_features)\n",
    "    X_pred = pd.get_dummies(X_pred, columns=['fantasy_role', 'hero_id', 'hero_variant', 'account_id', 'team_id', 'enemy_team_id'])\n",
    "    X_pred = X_pred.reindex(columns=X.columns, fill_value=0)\n",
    "    # print(X_pred.filter(like='enemy_team_id').head(10)) # Debugger, shows the dummy encoded enemy_team variable.\n",
    "    # More debugging\n",
    "    #rows = X_pred[X_pred['account_id_847565596'] == 1]  # print dummies for \"rue\"\n",
    "    #print(rows[['enemy_team_id_7119388', 'enemy_team_id_8261500', 'enemy_team_id_8597976']])\n",
    "    \n",
    "    pred_df['predicted_fantasy_score'] = model.predict(X_pred) # Predict fantasy scores\n",
    "    return pred_df[['account_id', 'name', 'fantasy_role', 'team_id', 'enemy_team_id', 'predicted_fantasy_score']]"
   ]
  },
  {
   "cell_type": "code",
   "execution_count": 29,
   "outputs": [],
   "source": [
    "def make_symmetric_matchups(matchups):\n",
    "    symmetric = []\n",
    "    for t1, t2 in matchups:\n",
    "        symmetric.append((t1, t2))\n",
    "        symmetric.append((t2, t1))\n",
    "    return symmetric"
   ],
   "metadata": {
    "collapsed": false,
    "ExecuteTime": {
     "end_time": "2025-07-29T16:09:46.007323900Z",
     "start_time": "2025-07-29T16:09:45.986094700Z"
    }
   },
   "id": "8c6f16c95ec57f87"
  },
  {
   "cell_type": "code",
   "execution_count": 30,
   "outputs": [],
   "source": [
    "matchups = [('7119388', '8261500'), ('8597976', '7119388'), ('8597976', '8261500')] # Spirit vs. Xtreme Gaming, Spirit vs. Talon\n",
    "symetric_matchups = make_symmetric_matchups(matchups)\n",
    "result = predict_players_for_matchups(df, xgb_model, symetric_matchups, X, not_features)"
   ],
   "metadata": {
    "collapsed": false,
    "ExecuteTime": {
     "end_time": "2025-07-29T16:09:46.226582300Z",
     "start_time": "2025-07-29T16:09:45.997922600Z"
    }
   },
   "id": "9542d8f150b7076f"
  },
  {
   "cell_type": "code",
   "execution_count": 31,
   "outputs": [
    {
     "data": {
      "text/plain": "      account_id      name fantasy_role  team_id enemy_team_id  \\\n14548  113331514  Miposhka      Support  7119388       8261500   \n14547  321580662    Yatoro         Core  7119388       8261500   \n14551  302214028  Collapse         Core  7119388       8261500   \n14549  106305042      Larl          Mid  7119388       8261500   \n14550  847565596       rue      Support  7119388       8261500   \n6619   203351055     Malik         Core  7119388       8261500   \n14803  137129583        Xm          Mid  8261500       7119388   \n14805  157475523      XinQ      Support  8261500       7119388   \n14804  129958758       Xxs         Core  8261500       7119388   \n14802  898754153       Ame         Core  8261500       7119388   \n5883   138543123       Pyw      Support  8261500       7119388   \n8375   185908355         楼         Core  8261500       7119388   \n14806   76904792   poloson      Support  8261500       7119388   \n8377   145957968       niu         Core  8261500       7119388   \n11796  158847773  Tianming      Support  8261500       7119388   \n10429  191597529    Undyne      Support  8261500       7119388   \n14773  301750126    Mikoto          Mid  8597976       7119388   \n14774  152859296    Jhocam      Support  8597976       7119388   \n14775  126842529       Ws`         Core  8597976       7119388   \n14776  375507918  23savage         Core  8597976       7119388   \n14772  184950344     Kuku^      Support  8597976       7119388   \n399    293904640     ponyo      Support  8597976       7119388   \n12011  355168766   Natsumi         Core  8597976       7119388   \n14548  113331514  Miposhka      Support  7119388       8597976   \n14547  321580662    Yatoro         Core  7119388       8597976   \n14551  302214028  Collapse         Core  7119388       8597976   \n14549  106305042      Larl          Mid  7119388       8597976   \n14550  847565596       rue      Support  7119388       8597976   \n6619   203351055     Malik         Core  7119388       8597976   \n14773  301750126    Mikoto          Mid  8597976       8261500   \n14774  152859296    Jhocam      Support  8597976       8261500   \n14775  126842529       Ws`         Core  8597976       8261500   \n14776  375507918  23savage         Core  8597976       8261500   \n14772  184950344     Kuku^      Support  8597976       8261500   \n399    293904640     ponyo      Support  8597976       8261500   \n12011  355168766   Natsumi         Core  8597976       8261500   \n14803  137129583        Xm          Mid  8261500       8597976   \n14805  157475523      XinQ      Support  8261500       8597976   \n14804  129958758       Xxs         Core  8261500       8597976   \n14802  898754153       Ame         Core  8261500       8597976   \n5883   138543123       Pyw      Support  8261500       8597976   \n8375   185908355         楼         Core  8261500       8597976   \n14806   76904792   poloson      Support  8261500       8597976   \n8377   145957968       niu         Core  8261500       8597976   \n11796  158847773  Tianming      Support  8261500       8597976   \n10429  191597529    Undyne      Support  8261500       8597976   \n\n       predicted_fantasy_score  \n14548                15.317161  \n14547                18.734705  \n14551                11.399706  \n14549                17.042755  \n14550                15.916888  \n6619                 10.636276  \n14803                12.442446  \n14805                13.163057  \n14804                 9.022573  \n14802                17.941978  \n5883                 11.956380  \n8375                  9.668444  \n14806                13.945514  \n8377                  7.654499  \n11796                13.319183  \n10429                15.051282  \n14773                17.812462  \n14774                11.731327  \n14775                 9.732729  \n14776                13.086074  \n14772                15.216050  \n399                  13.457695  \n12011                10.444084  \n14548                15.317161  \n14547                18.734705  \n14551                11.399706  \n14549                17.042755  \n14550                15.916888  \n6619                 10.636276  \n14773                17.812462  \n14774                11.731327  \n14775                 9.732729  \n14776                13.086074  \n14772                15.216050  \n399                  13.457695  \n12011                10.444084  \n14803                12.442446  \n14805                13.163057  \n14804                 9.022573  \n14802                17.941978  \n5883                 11.956380  \n8375                  9.668444  \n14806                13.945514  \n8377                  7.654499  \n11796                13.319183  \n10429                15.051282  ",
      "text/html": "<div>\n<style scoped>\n    .dataframe tbody tr th:only-of-type {\n        vertical-align: middle;\n    }\n\n    .dataframe tbody tr th {\n        vertical-align: top;\n    }\n\n    .dataframe thead th {\n        text-align: right;\n    }\n</style>\n<table border=\"1\" class=\"dataframe\">\n  <thead>\n    <tr style=\"text-align: right;\">\n      <th></th>\n      <th>account_id</th>\n      <th>name</th>\n      <th>fantasy_role</th>\n      <th>team_id</th>\n      <th>enemy_team_id</th>\n      <th>predicted_fantasy_score</th>\n    </tr>\n  </thead>\n  <tbody>\n    <tr>\n      <th>14548</th>\n      <td>113331514</td>\n      <td>Miposhka</td>\n      <td>Support</td>\n      <td>7119388</td>\n      <td>8261500</td>\n      <td>15.317161</td>\n    </tr>\n    <tr>\n      <th>14547</th>\n      <td>321580662</td>\n      <td>Yatoro</td>\n      <td>Core</td>\n      <td>7119388</td>\n      <td>8261500</td>\n      <td>18.734705</td>\n    </tr>\n    <tr>\n      <th>14551</th>\n      <td>302214028</td>\n      <td>Collapse</td>\n      <td>Core</td>\n      <td>7119388</td>\n      <td>8261500</td>\n      <td>11.399706</td>\n    </tr>\n    <tr>\n      <th>14549</th>\n      <td>106305042</td>\n      <td>Larl</td>\n      <td>Mid</td>\n      <td>7119388</td>\n      <td>8261500</td>\n      <td>17.042755</td>\n    </tr>\n    <tr>\n      <th>14550</th>\n      <td>847565596</td>\n      <td>rue</td>\n      <td>Support</td>\n      <td>7119388</td>\n      <td>8261500</td>\n      <td>15.916888</td>\n    </tr>\n    <tr>\n      <th>6619</th>\n      <td>203351055</td>\n      <td>Malik</td>\n      <td>Core</td>\n      <td>7119388</td>\n      <td>8261500</td>\n      <td>10.636276</td>\n    </tr>\n    <tr>\n      <th>14803</th>\n      <td>137129583</td>\n      <td>Xm</td>\n      <td>Mid</td>\n      <td>8261500</td>\n      <td>7119388</td>\n      <td>12.442446</td>\n    </tr>\n    <tr>\n      <th>14805</th>\n      <td>157475523</td>\n      <td>XinQ</td>\n      <td>Support</td>\n      <td>8261500</td>\n      <td>7119388</td>\n      <td>13.163057</td>\n    </tr>\n    <tr>\n      <th>14804</th>\n      <td>129958758</td>\n      <td>Xxs</td>\n      <td>Core</td>\n      <td>8261500</td>\n      <td>7119388</td>\n      <td>9.022573</td>\n    </tr>\n    <tr>\n      <th>14802</th>\n      <td>898754153</td>\n      <td>Ame</td>\n      <td>Core</td>\n      <td>8261500</td>\n      <td>7119388</td>\n      <td>17.941978</td>\n    </tr>\n    <tr>\n      <th>5883</th>\n      <td>138543123</td>\n      <td>Pyw</td>\n      <td>Support</td>\n      <td>8261500</td>\n      <td>7119388</td>\n      <td>11.956380</td>\n    </tr>\n    <tr>\n      <th>8375</th>\n      <td>185908355</td>\n      <td>楼</td>\n      <td>Core</td>\n      <td>8261500</td>\n      <td>7119388</td>\n      <td>9.668444</td>\n    </tr>\n    <tr>\n      <th>14806</th>\n      <td>76904792</td>\n      <td>poloson</td>\n      <td>Support</td>\n      <td>8261500</td>\n      <td>7119388</td>\n      <td>13.945514</td>\n    </tr>\n    <tr>\n      <th>8377</th>\n      <td>145957968</td>\n      <td>niu</td>\n      <td>Core</td>\n      <td>8261500</td>\n      <td>7119388</td>\n      <td>7.654499</td>\n    </tr>\n    <tr>\n      <th>11796</th>\n      <td>158847773</td>\n      <td>Tianming</td>\n      <td>Support</td>\n      <td>8261500</td>\n      <td>7119388</td>\n      <td>13.319183</td>\n    </tr>\n    <tr>\n      <th>10429</th>\n      <td>191597529</td>\n      <td>Undyne</td>\n      <td>Support</td>\n      <td>8261500</td>\n      <td>7119388</td>\n      <td>15.051282</td>\n    </tr>\n    <tr>\n      <th>14773</th>\n      <td>301750126</td>\n      <td>Mikoto</td>\n      <td>Mid</td>\n      <td>8597976</td>\n      <td>7119388</td>\n      <td>17.812462</td>\n    </tr>\n    <tr>\n      <th>14774</th>\n      <td>152859296</td>\n      <td>Jhocam</td>\n      <td>Support</td>\n      <td>8597976</td>\n      <td>7119388</td>\n      <td>11.731327</td>\n    </tr>\n    <tr>\n      <th>14775</th>\n      <td>126842529</td>\n      <td>Ws`</td>\n      <td>Core</td>\n      <td>8597976</td>\n      <td>7119388</td>\n      <td>9.732729</td>\n    </tr>\n    <tr>\n      <th>14776</th>\n      <td>375507918</td>\n      <td>23savage</td>\n      <td>Core</td>\n      <td>8597976</td>\n      <td>7119388</td>\n      <td>13.086074</td>\n    </tr>\n    <tr>\n      <th>14772</th>\n      <td>184950344</td>\n      <td>Kuku^</td>\n      <td>Support</td>\n      <td>8597976</td>\n      <td>7119388</td>\n      <td>15.216050</td>\n    </tr>\n    <tr>\n      <th>399</th>\n      <td>293904640</td>\n      <td>ponyo</td>\n      <td>Support</td>\n      <td>8597976</td>\n      <td>7119388</td>\n      <td>13.457695</td>\n    </tr>\n    <tr>\n      <th>12011</th>\n      <td>355168766</td>\n      <td>Natsumi</td>\n      <td>Core</td>\n      <td>8597976</td>\n      <td>7119388</td>\n      <td>10.444084</td>\n    </tr>\n    <tr>\n      <th>14548</th>\n      <td>113331514</td>\n      <td>Miposhka</td>\n      <td>Support</td>\n      <td>7119388</td>\n      <td>8597976</td>\n      <td>15.317161</td>\n    </tr>\n    <tr>\n      <th>14547</th>\n      <td>321580662</td>\n      <td>Yatoro</td>\n      <td>Core</td>\n      <td>7119388</td>\n      <td>8597976</td>\n      <td>18.734705</td>\n    </tr>\n    <tr>\n      <th>14551</th>\n      <td>302214028</td>\n      <td>Collapse</td>\n      <td>Core</td>\n      <td>7119388</td>\n      <td>8597976</td>\n      <td>11.399706</td>\n    </tr>\n    <tr>\n      <th>14549</th>\n      <td>106305042</td>\n      <td>Larl</td>\n      <td>Mid</td>\n      <td>7119388</td>\n      <td>8597976</td>\n      <td>17.042755</td>\n    </tr>\n    <tr>\n      <th>14550</th>\n      <td>847565596</td>\n      <td>rue</td>\n      <td>Support</td>\n      <td>7119388</td>\n      <td>8597976</td>\n      <td>15.916888</td>\n    </tr>\n    <tr>\n      <th>6619</th>\n      <td>203351055</td>\n      <td>Malik</td>\n      <td>Core</td>\n      <td>7119388</td>\n      <td>8597976</td>\n      <td>10.636276</td>\n    </tr>\n    <tr>\n      <th>14773</th>\n      <td>301750126</td>\n      <td>Mikoto</td>\n      <td>Mid</td>\n      <td>8597976</td>\n      <td>8261500</td>\n      <td>17.812462</td>\n    </tr>\n    <tr>\n      <th>14774</th>\n      <td>152859296</td>\n      <td>Jhocam</td>\n      <td>Support</td>\n      <td>8597976</td>\n      <td>8261500</td>\n      <td>11.731327</td>\n    </tr>\n    <tr>\n      <th>14775</th>\n      <td>126842529</td>\n      <td>Ws`</td>\n      <td>Core</td>\n      <td>8597976</td>\n      <td>8261500</td>\n      <td>9.732729</td>\n    </tr>\n    <tr>\n      <th>14776</th>\n      <td>375507918</td>\n      <td>23savage</td>\n      <td>Core</td>\n      <td>8597976</td>\n      <td>8261500</td>\n      <td>13.086074</td>\n    </tr>\n    <tr>\n      <th>14772</th>\n      <td>184950344</td>\n      <td>Kuku^</td>\n      <td>Support</td>\n      <td>8597976</td>\n      <td>8261500</td>\n      <td>15.216050</td>\n    </tr>\n    <tr>\n      <th>399</th>\n      <td>293904640</td>\n      <td>ponyo</td>\n      <td>Support</td>\n      <td>8597976</td>\n      <td>8261500</td>\n      <td>13.457695</td>\n    </tr>\n    <tr>\n      <th>12011</th>\n      <td>355168766</td>\n      <td>Natsumi</td>\n      <td>Core</td>\n      <td>8597976</td>\n      <td>8261500</td>\n      <td>10.444084</td>\n    </tr>\n    <tr>\n      <th>14803</th>\n      <td>137129583</td>\n      <td>Xm</td>\n      <td>Mid</td>\n      <td>8261500</td>\n      <td>8597976</td>\n      <td>12.442446</td>\n    </tr>\n    <tr>\n      <th>14805</th>\n      <td>157475523</td>\n      <td>XinQ</td>\n      <td>Support</td>\n      <td>8261500</td>\n      <td>8597976</td>\n      <td>13.163057</td>\n    </tr>\n    <tr>\n      <th>14804</th>\n      <td>129958758</td>\n      <td>Xxs</td>\n      <td>Core</td>\n      <td>8261500</td>\n      <td>8597976</td>\n      <td>9.022573</td>\n    </tr>\n    <tr>\n      <th>14802</th>\n      <td>898754153</td>\n      <td>Ame</td>\n      <td>Core</td>\n      <td>8261500</td>\n      <td>8597976</td>\n      <td>17.941978</td>\n    </tr>\n    <tr>\n      <th>5883</th>\n      <td>138543123</td>\n      <td>Pyw</td>\n      <td>Support</td>\n      <td>8261500</td>\n      <td>8597976</td>\n      <td>11.956380</td>\n    </tr>\n    <tr>\n      <th>8375</th>\n      <td>185908355</td>\n      <td>楼</td>\n      <td>Core</td>\n      <td>8261500</td>\n      <td>8597976</td>\n      <td>9.668444</td>\n    </tr>\n    <tr>\n      <th>14806</th>\n      <td>76904792</td>\n      <td>poloson</td>\n      <td>Support</td>\n      <td>8261500</td>\n      <td>8597976</td>\n      <td>13.945514</td>\n    </tr>\n    <tr>\n      <th>8377</th>\n      <td>145957968</td>\n      <td>niu</td>\n      <td>Core</td>\n      <td>8261500</td>\n      <td>8597976</td>\n      <td>7.654499</td>\n    </tr>\n    <tr>\n      <th>11796</th>\n      <td>158847773</td>\n      <td>Tianming</td>\n      <td>Support</td>\n      <td>8261500</td>\n      <td>8597976</td>\n      <td>13.319183</td>\n    </tr>\n    <tr>\n      <th>10429</th>\n      <td>191597529</td>\n      <td>Undyne</td>\n      <td>Support</td>\n      <td>8261500</td>\n      <td>8597976</td>\n      <td>15.051282</td>\n    </tr>\n  </tbody>\n</table>\n</div>"
     },
     "execution_count": 31,
     "metadata": {},
     "output_type": "execute_result"
    }
   ],
   "source": [
    "result"
   ],
   "metadata": {
    "collapsed": false,
    "ExecuteTime": {
     "end_time": "2025-07-29T16:09:46.247811300Z",
     "start_time": "2025-07-29T16:09:46.228598100Z"
    }
   },
   "id": "43aaced8fa3588fe"
  },
  {
   "cell_type": "code",
   "execution_count": 59,
   "outputs": [
    {
     "data": {
      "text/plain": "                   feature  importance\n24       fantasy_role_Core    0.148177\n3                    kills    0.114550\n14      firstblood_claimed    0.105811\n11              obs_placed    0.064895\n2                      win    0.059273\n..                     ...         ...\n93              hero_id_46    0.000000\n726  enemy_team_id_9530947    0.000000\n709  enemy_team_id_8574561    0.000000\n708  enemy_team_id_8375259    0.000000\n82              hero_id_36    0.000000\n\n[743 rows x 2 columns]",
      "text/html": "<div>\n<style scoped>\n    .dataframe tbody tr th:only-of-type {\n        vertical-align: middle;\n    }\n\n    .dataframe tbody tr th {\n        vertical-align: top;\n    }\n\n    .dataframe thead th {\n        text-align: right;\n    }\n</style>\n<table border=\"1\" class=\"dataframe\">\n  <thead>\n    <tr style=\"text-align: right;\">\n      <th></th>\n      <th>feature</th>\n      <th>importance</th>\n    </tr>\n  </thead>\n  <tbody>\n    <tr>\n      <th>24</th>\n      <td>fantasy_role_Core</td>\n      <td>0.148177</td>\n    </tr>\n    <tr>\n      <th>3</th>\n      <td>kills</td>\n      <td>0.114550</td>\n    </tr>\n    <tr>\n      <th>14</th>\n      <td>firstblood_claimed</td>\n      <td>0.105811</td>\n    </tr>\n    <tr>\n      <th>11</th>\n      <td>obs_placed</td>\n      <td>0.064895</td>\n    </tr>\n    <tr>\n      <th>2</th>\n      <td>win</td>\n      <td>0.059273</td>\n    </tr>\n    <tr>\n      <th>...</th>\n      <td>...</td>\n      <td>...</td>\n    </tr>\n    <tr>\n      <th>93</th>\n      <td>hero_id_46</td>\n      <td>0.000000</td>\n    </tr>\n    <tr>\n      <th>726</th>\n      <td>enemy_team_id_9530947</td>\n      <td>0.000000</td>\n    </tr>\n    <tr>\n      <th>709</th>\n      <td>enemy_team_id_8574561</td>\n      <td>0.000000</td>\n    </tr>\n    <tr>\n      <th>708</th>\n      <td>enemy_team_id_8375259</td>\n      <td>0.000000</td>\n    </tr>\n    <tr>\n      <th>82</th>\n      <td>hero_id_36</td>\n      <td>0.000000</td>\n    </tr>\n  </tbody>\n</table>\n<p>743 rows × 2 columns</p>\n</div>"
     },
     "execution_count": 59,
     "metadata": {},
     "output_type": "execute_result"
    }
   ],
   "source": [
    "feature_importances = pd.DataFrame({\n",
    "    'feature': X.columns,\n",
    "    'importance': xgb_model.feature_importances_\n",
    "})\n",
    "feature_importances = feature_importances.sort_values(by='importance', ascending=False)\n",
    "feature_importances"
   ],
   "metadata": {
    "collapsed": false,
    "ExecuteTime": {
     "end_time": "2025-07-29T19:51:46.191672400Z",
     "start_time": "2025-07-29T19:51:46.161925600Z"
    }
   },
   "id": "2ddf12863c749b0f"
  },
  {
   "cell_type": "code",
   "execution_count": 61,
   "outputs": [
    {
     "data": {
      "text/plain": "                feature  importance\n24    fantasy_role_Core    0.148177\n3                 kills    0.114550\n14   firstblood_claimed    0.105811\n11           obs_placed    0.064895\n2                   win    0.059273\n..                  ...         ...\n686     team_id_9729720    0.000000\n687     team_id_9741253    0.000000\n264   hero_variant_3, 2    0.000000\n692     team_id_9828954    0.000000\n82           hero_id_36    0.000000\n\n[743 rows x 2 columns]",
      "text/html": "<div>\n<style scoped>\n    .dataframe tbody tr th:only-of-type {\n        vertical-align: middle;\n    }\n\n    .dataframe tbody tr th {\n        vertical-align: top;\n    }\n\n    .dataframe thead th {\n        text-align: right;\n    }\n</style>\n<table border=\"1\" class=\"dataframe\">\n  <thead>\n    <tr style=\"text-align: right;\">\n      <th></th>\n      <th>feature</th>\n      <th>importance</th>\n    </tr>\n  </thead>\n  <tbody>\n    <tr>\n      <th>24</th>\n      <td>fantasy_role_Core</td>\n      <td>0.148177</td>\n    </tr>\n    <tr>\n      <th>3</th>\n      <td>kills</td>\n      <td>0.114550</td>\n    </tr>\n    <tr>\n      <th>14</th>\n      <td>firstblood_claimed</td>\n      <td>0.105811</td>\n    </tr>\n    <tr>\n      <th>11</th>\n      <td>obs_placed</td>\n      <td>0.064895</td>\n    </tr>\n    <tr>\n      <th>2</th>\n      <td>win</td>\n      <td>0.059273</td>\n    </tr>\n    <tr>\n      <th>...</th>\n      <td>...</td>\n      <td>...</td>\n    </tr>\n    <tr>\n      <th>686</th>\n      <td>team_id_9729720</td>\n      <td>0.000000</td>\n    </tr>\n    <tr>\n      <th>687</th>\n      <td>team_id_9741253</td>\n      <td>0.000000</td>\n    </tr>\n    <tr>\n      <th>264</th>\n      <td>hero_variant_3, 2</td>\n      <td>0.000000</td>\n    </tr>\n    <tr>\n      <th>692</th>\n      <td>team_id_9828954</td>\n      <td>0.000000</td>\n    </tr>\n    <tr>\n      <th>82</th>\n      <td>hero_id_36</td>\n      <td>0.000000</td>\n    </tr>\n  </tbody>\n</table>\n<p>743 rows × 2 columns</p>\n</div>"
     },
     "execution_count": 61,
     "metadata": {},
     "output_type": "execute_result"
    }
   ],
   "source": [
    "xgb_fe_feature_importances = pd.DataFrame({\n",
    "    'feature': X_fe.columns,\n",
    "    'importance': xgb_model_fe.feature_importances_\n",
    "})\n",
    "xgb_fe_feature_importances = feature_importances.sort_values(by='importance', ascending=False)\n",
    "xgb_fe_feature_importances"
   ],
   "metadata": {
    "collapsed": false,
    "ExecuteTime": {
     "end_time": "2025-07-29T19:52:11.442025400Z",
     "start_time": "2025-07-29T19:52:11.406895500Z"
    }
   },
   "id": "cc3a1501f2348554"
  },
  {
   "cell_type": "markdown",
   "source": [
    "testing stuff"
   ],
   "metadata": {
    "collapsed": false
   },
   "id": "5e71346bb65a0491"
  },
  {
   "cell_type": "code",
   "execution_count": 33,
   "outputs": [
    {
     "name": "stdout",
     "output_type": "stream",
     "text": [
      "count    15437.000000\n",
      "mean      1924.014299\n",
      "std        108.462035\n",
      "min       1548.386055\n",
      "25%       1849.286620\n",
      "50%       1944.550013\n",
      "75%       2013.159488\n",
      "max       2101.693435\n",
      "Name: enemy_glicko2_rating, dtype: float64\n",
      "0\n"
     ]
    }
   ],
   "source": [
    "print(df['enemy_glicko2_rating'].describe())\n",
    "print(df['enemy_glicko2_rating'].isna().sum())"
   ],
   "metadata": {
    "collapsed": false,
    "ExecuteTime": {
     "end_time": "2025-07-29T16:09:46.340858200Z",
     "start_time": "2025-07-29T16:09:46.258868100Z"
    }
   },
   "id": "c31175f6ce3c5a4f"
  },
  {
   "cell_type": "markdown",
   "source": [
    "# Random Forest without FE"
   ],
   "metadata": {
    "collapsed": false
   },
   "id": "dfd436f102dc75a"
  },
  {
   "cell_type": "code",
   "execution_count": 34,
   "outputs": [],
   "source": [
    "from sklearn.ensemble import RandomForestRegressor\n"
   ],
   "metadata": {
    "collapsed": false,
    "ExecuteTime": {
     "end_time": "2025-07-29T16:09:46.443835300Z",
     "start_time": "2025-07-29T16:09:46.276956100Z"
    }
   },
   "id": "8f14699e8d6ea8df"
  },
  {
   "cell_type": "code",
   "execution_count": 35,
   "outputs": [],
   "source": [
    "X_train_rf, X_test_rf, y_train_rf, y_test_rf = train_test_split(X, y, test_size=0.2)"
   ],
   "metadata": {
    "collapsed": false,
    "ExecuteTime": {
     "end_time": "2025-07-29T16:09:46.501705500Z",
     "start_time": "2025-07-29T16:09:46.399413700Z"
    }
   },
   "id": "48eba46f6f0d3cbd"
  },
  {
   "cell_type": "code",
   "execution_count": 36,
   "outputs": [
    {
     "data": {
      "text/plain": "RandomForestRegressor(random_state=1001)",
      "text/html": "<style>#sk-container-id-3 {\n  /* Definition of color scheme common for light and dark mode */\n  --sklearn-color-text: #000;\n  --sklearn-color-text-muted: #666;\n  --sklearn-color-line: gray;\n  /* Definition of color scheme for unfitted estimators */\n  --sklearn-color-unfitted-level-0: #fff5e6;\n  --sklearn-color-unfitted-level-1: #f6e4d2;\n  --sklearn-color-unfitted-level-2: #ffe0b3;\n  --sklearn-color-unfitted-level-3: chocolate;\n  /* Definition of color scheme for fitted estimators */\n  --sklearn-color-fitted-level-0: #f0f8ff;\n  --sklearn-color-fitted-level-1: #d4ebff;\n  --sklearn-color-fitted-level-2: #b3dbfd;\n  --sklearn-color-fitted-level-3: cornflowerblue;\n\n  /* Specific color for light theme */\n  --sklearn-color-text-on-default-background: var(--sg-text-color, var(--theme-code-foreground, var(--jp-content-font-color1, black)));\n  --sklearn-color-background: var(--sg-background-color, var(--theme-background, var(--jp-layout-color0, white)));\n  --sklearn-color-border-box: var(--sg-text-color, var(--theme-code-foreground, var(--jp-content-font-color1, black)));\n  --sklearn-color-icon: #696969;\n\n  @media (prefers-color-scheme: dark) {\n    /* Redefinition of color scheme for dark theme */\n    --sklearn-color-text-on-default-background: var(--sg-text-color, var(--theme-code-foreground, var(--jp-content-font-color1, white)));\n    --sklearn-color-background: var(--sg-background-color, var(--theme-background, var(--jp-layout-color0, #111)));\n    --sklearn-color-border-box: var(--sg-text-color, var(--theme-code-foreground, var(--jp-content-font-color1, white)));\n    --sklearn-color-icon: #878787;\n  }\n}\n\n#sk-container-id-3 {\n  color: var(--sklearn-color-text);\n}\n\n#sk-container-id-3 pre {\n  padding: 0;\n}\n\n#sk-container-id-3 input.sk-hidden--visually {\n  border: 0;\n  clip: rect(1px 1px 1px 1px);\n  clip: rect(1px, 1px, 1px, 1px);\n  height: 1px;\n  margin: -1px;\n  overflow: hidden;\n  padding: 0;\n  position: absolute;\n  width: 1px;\n}\n\n#sk-container-id-3 div.sk-dashed-wrapped {\n  border: 1px dashed var(--sklearn-color-line);\n  margin: 0 0.4em 0.5em 0.4em;\n  box-sizing: border-box;\n  padding-bottom: 0.4em;\n  background-color: var(--sklearn-color-background);\n}\n\n#sk-container-id-3 div.sk-container {\n  /* jupyter's `normalize.less` sets `[hidden] { display: none; }`\n     but bootstrap.min.css set `[hidden] { display: none !important; }`\n     so we also need the `!important` here to be able to override the\n     default hidden behavior on the sphinx rendered scikit-learn.org.\n     See: https://github.com/scikit-learn/scikit-learn/issues/21755 */\n  display: inline-block !important;\n  position: relative;\n}\n\n#sk-container-id-3 div.sk-text-repr-fallback {\n  display: none;\n}\n\ndiv.sk-parallel-item,\ndiv.sk-serial,\ndiv.sk-item {\n  /* draw centered vertical line to link estimators */\n  background-image: linear-gradient(var(--sklearn-color-text-on-default-background), var(--sklearn-color-text-on-default-background));\n  background-size: 2px 100%;\n  background-repeat: no-repeat;\n  background-position: center center;\n}\n\n/* Parallel-specific style estimator block */\n\n#sk-container-id-3 div.sk-parallel-item::after {\n  content: \"\";\n  width: 100%;\n  border-bottom: 2px solid var(--sklearn-color-text-on-default-background);\n  flex-grow: 1;\n}\n\n#sk-container-id-3 div.sk-parallel {\n  display: flex;\n  align-items: stretch;\n  justify-content: center;\n  background-color: var(--sklearn-color-background);\n  position: relative;\n}\n\n#sk-container-id-3 div.sk-parallel-item {\n  display: flex;\n  flex-direction: column;\n}\n\n#sk-container-id-3 div.sk-parallel-item:first-child::after {\n  align-self: flex-end;\n  width: 50%;\n}\n\n#sk-container-id-3 div.sk-parallel-item:last-child::after {\n  align-self: flex-start;\n  width: 50%;\n}\n\n#sk-container-id-3 div.sk-parallel-item:only-child::after {\n  width: 0;\n}\n\n/* Serial-specific style estimator block */\n\n#sk-container-id-3 div.sk-serial {\n  display: flex;\n  flex-direction: column;\n  align-items: center;\n  background-color: var(--sklearn-color-background);\n  padding-right: 1em;\n  padding-left: 1em;\n}\n\n\n/* Toggleable style: style used for estimator/Pipeline/ColumnTransformer box that is\nclickable and can be expanded/collapsed.\n- Pipeline and ColumnTransformer use this feature and define the default style\n- Estimators will overwrite some part of the style using the `sk-estimator` class\n*/\n\n/* Pipeline and ColumnTransformer style (default) */\n\n#sk-container-id-3 div.sk-toggleable {\n  /* Default theme specific background. It is overwritten whether we have a\n  specific estimator or a Pipeline/ColumnTransformer */\n  background-color: var(--sklearn-color-background);\n}\n\n/* Toggleable label */\n#sk-container-id-3 label.sk-toggleable__label {\n  cursor: pointer;\n  display: flex;\n  width: 100%;\n  margin-bottom: 0;\n  padding: 0.5em;\n  box-sizing: border-box;\n  text-align: center;\n  align-items: start;\n  justify-content: space-between;\n  gap: 0.5em;\n}\n\n#sk-container-id-3 label.sk-toggleable__label .caption {\n  font-size: 0.6rem;\n  font-weight: lighter;\n  color: var(--sklearn-color-text-muted);\n}\n\n#sk-container-id-3 label.sk-toggleable__label-arrow:before {\n  /* Arrow on the left of the label */\n  content: \"▸\";\n  float: left;\n  margin-right: 0.25em;\n  color: var(--sklearn-color-icon);\n}\n\n#sk-container-id-3 label.sk-toggleable__label-arrow:hover:before {\n  color: var(--sklearn-color-text);\n}\n\n/* Toggleable content - dropdown */\n\n#sk-container-id-3 div.sk-toggleable__content {\n  display: none;\n  text-align: left;\n  /* unfitted */\n  background-color: var(--sklearn-color-unfitted-level-0);\n}\n\n#sk-container-id-3 div.sk-toggleable__content.fitted {\n  /* fitted */\n  background-color: var(--sklearn-color-fitted-level-0);\n}\n\n#sk-container-id-3 div.sk-toggleable__content pre {\n  margin: 0.2em;\n  border-radius: 0.25em;\n  color: var(--sklearn-color-text);\n  /* unfitted */\n  background-color: var(--sklearn-color-unfitted-level-0);\n}\n\n#sk-container-id-3 div.sk-toggleable__content.fitted pre {\n  /* unfitted */\n  background-color: var(--sklearn-color-fitted-level-0);\n}\n\n#sk-container-id-3 input.sk-toggleable__control:checked~div.sk-toggleable__content {\n  /* Expand drop-down */\n  display: block;\n  width: 100%;\n  overflow: visible;\n}\n\n#sk-container-id-3 input.sk-toggleable__control:checked~label.sk-toggleable__label-arrow:before {\n  content: \"▾\";\n}\n\n/* Pipeline/ColumnTransformer-specific style */\n\n#sk-container-id-3 div.sk-label input.sk-toggleable__control:checked~label.sk-toggleable__label {\n  color: var(--sklearn-color-text);\n  background-color: var(--sklearn-color-unfitted-level-2);\n}\n\n#sk-container-id-3 div.sk-label.fitted input.sk-toggleable__control:checked~label.sk-toggleable__label {\n  background-color: var(--sklearn-color-fitted-level-2);\n}\n\n/* Estimator-specific style */\n\n/* Colorize estimator box */\n#sk-container-id-3 div.sk-estimator input.sk-toggleable__control:checked~label.sk-toggleable__label {\n  /* unfitted */\n  background-color: var(--sklearn-color-unfitted-level-2);\n}\n\n#sk-container-id-3 div.sk-estimator.fitted input.sk-toggleable__control:checked~label.sk-toggleable__label {\n  /* fitted */\n  background-color: var(--sklearn-color-fitted-level-2);\n}\n\n#sk-container-id-3 div.sk-label label.sk-toggleable__label,\n#sk-container-id-3 div.sk-label label {\n  /* The background is the default theme color */\n  color: var(--sklearn-color-text-on-default-background);\n}\n\n/* On hover, darken the color of the background */\n#sk-container-id-3 div.sk-label:hover label.sk-toggleable__label {\n  color: var(--sklearn-color-text);\n  background-color: var(--sklearn-color-unfitted-level-2);\n}\n\n/* Label box, darken color on hover, fitted */\n#sk-container-id-3 div.sk-label.fitted:hover label.sk-toggleable__label.fitted {\n  color: var(--sklearn-color-text);\n  background-color: var(--sklearn-color-fitted-level-2);\n}\n\n/* Estimator label */\n\n#sk-container-id-3 div.sk-label label {\n  font-family: monospace;\n  font-weight: bold;\n  display: inline-block;\n  line-height: 1.2em;\n}\n\n#sk-container-id-3 div.sk-label-container {\n  text-align: center;\n}\n\n/* Estimator-specific */\n#sk-container-id-3 div.sk-estimator {\n  font-family: monospace;\n  border: 1px dotted var(--sklearn-color-border-box);\n  border-radius: 0.25em;\n  box-sizing: border-box;\n  margin-bottom: 0.5em;\n  /* unfitted */\n  background-color: var(--sklearn-color-unfitted-level-0);\n}\n\n#sk-container-id-3 div.sk-estimator.fitted {\n  /* fitted */\n  background-color: var(--sklearn-color-fitted-level-0);\n}\n\n/* on hover */\n#sk-container-id-3 div.sk-estimator:hover {\n  /* unfitted */\n  background-color: var(--sklearn-color-unfitted-level-2);\n}\n\n#sk-container-id-3 div.sk-estimator.fitted:hover {\n  /* fitted */\n  background-color: var(--sklearn-color-fitted-level-2);\n}\n\n/* Specification for estimator info (e.g. \"i\" and \"?\") */\n\n/* Common style for \"i\" and \"?\" */\n\n.sk-estimator-doc-link,\na:link.sk-estimator-doc-link,\na:visited.sk-estimator-doc-link {\n  float: right;\n  font-size: smaller;\n  line-height: 1em;\n  font-family: monospace;\n  background-color: var(--sklearn-color-background);\n  border-radius: 1em;\n  height: 1em;\n  width: 1em;\n  text-decoration: none !important;\n  margin-left: 0.5em;\n  text-align: center;\n  /* unfitted */\n  border: var(--sklearn-color-unfitted-level-1) 1pt solid;\n  color: var(--sklearn-color-unfitted-level-1);\n}\n\n.sk-estimator-doc-link.fitted,\na:link.sk-estimator-doc-link.fitted,\na:visited.sk-estimator-doc-link.fitted {\n  /* fitted */\n  border: var(--sklearn-color-fitted-level-1) 1pt solid;\n  color: var(--sklearn-color-fitted-level-1);\n}\n\n/* On hover */\ndiv.sk-estimator:hover .sk-estimator-doc-link:hover,\n.sk-estimator-doc-link:hover,\ndiv.sk-label-container:hover .sk-estimator-doc-link:hover,\n.sk-estimator-doc-link:hover {\n  /* unfitted */\n  background-color: var(--sklearn-color-unfitted-level-3);\n  color: var(--sklearn-color-background);\n  text-decoration: none;\n}\n\ndiv.sk-estimator.fitted:hover .sk-estimator-doc-link.fitted:hover,\n.sk-estimator-doc-link.fitted:hover,\ndiv.sk-label-container:hover .sk-estimator-doc-link.fitted:hover,\n.sk-estimator-doc-link.fitted:hover {\n  /* fitted */\n  background-color: var(--sklearn-color-fitted-level-3);\n  color: var(--sklearn-color-background);\n  text-decoration: none;\n}\n\n/* Span, style for the box shown on hovering the info icon */\n.sk-estimator-doc-link span {\n  display: none;\n  z-index: 9999;\n  position: relative;\n  font-weight: normal;\n  right: .2ex;\n  padding: .5ex;\n  margin: .5ex;\n  width: min-content;\n  min-width: 20ex;\n  max-width: 50ex;\n  color: var(--sklearn-color-text);\n  box-shadow: 2pt 2pt 4pt #999;\n  /* unfitted */\n  background: var(--sklearn-color-unfitted-level-0);\n  border: .5pt solid var(--sklearn-color-unfitted-level-3);\n}\n\n.sk-estimator-doc-link.fitted span {\n  /* fitted */\n  background: var(--sklearn-color-fitted-level-0);\n  border: var(--sklearn-color-fitted-level-3);\n}\n\n.sk-estimator-doc-link:hover span {\n  display: block;\n}\n\n/* \"?\"-specific style due to the `<a>` HTML tag */\n\n#sk-container-id-3 a.estimator_doc_link {\n  float: right;\n  font-size: 1rem;\n  line-height: 1em;\n  font-family: monospace;\n  background-color: var(--sklearn-color-background);\n  border-radius: 1rem;\n  height: 1rem;\n  width: 1rem;\n  text-decoration: none;\n  /* unfitted */\n  color: var(--sklearn-color-unfitted-level-1);\n  border: var(--sklearn-color-unfitted-level-1) 1pt solid;\n}\n\n#sk-container-id-3 a.estimator_doc_link.fitted {\n  /* fitted */\n  border: var(--sklearn-color-fitted-level-1) 1pt solid;\n  color: var(--sklearn-color-fitted-level-1);\n}\n\n/* On hover */\n#sk-container-id-3 a.estimator_doc_link:hover {\n  /* unfitted */\n  background-color: var(--sklearn-color-unfitted-level-3);\n  color: var(--sklearn-color-background);\n  text-decoration: none;\n}\n\n#sk-container-id-3 a.estimator_doc_link.fitted:hover {\n  /* fitted */\n  background-color: var(--sklearn-color-fitted-level-3);\n}\n\n.estimator-table summary {\n    padding: .5rem;\n    font-family: monospace;\n    cursor: pointer;\n}\n\n.estimator-table details[open] {\n    padding-left: 0.1rem;\n    padding-right: 0.1rem;\n    padding-bottom: 0.3rem;\n}\n\n.estimator-table .parameters-table {\n    margin-left: auto !important;\n    margin-right: auto !important;\n}\n\n.estimator-table .parameters-table tr:nth-child(odd) {\n    background-color: #fff;\n}\n\n.estimator-table .parameters-table tr:nth-child(even) {\n    background-color: #f6f6f6;\n}\n\n.estimator-table .parameters-table tr:hover {\n    background-color: #e0e0e0;\n}\n\n.estimator-table table td {\n    border: 1px solid rgba(106, 105, 104, 0.232);\n}\n\n.user-set td {\n    color:rgb(255, 94, 0);\n    text-align: left;\n}\n\n.user-set td.value pre {\n    color:rgb(255, 94, 0) !important;\n    background-color: transparent !important;\n}\n\n.default td {\n    color: black;\n    text-align: left;\n}\n\n.user-set td i,\n.default td i {\n    color: black;\n}\n\n.copy-paste-icon {\n    background-image: url(data:image/svg+xml;base64,PHN2ZyB4bWxucz0iaHR0cDovL3d3dy53My5vcmcvMjAwMC9zdmciIHZpZXdCb3g9IjAgMCA0NDggNTEyIj48IS0tIUZvbnQgQXdlc29tZSBGcmVlIDYuNy4yIGJ5IEBmb250YXdlc29tZSAtIGh0dHBzOi8vZm9udGF3ZXNvbWUuY29tIExpY2Vuc2UgLSBodHRwczovL2ZvbnRhd2Vzb21lLmNvbS9saWNlbnNlL2ZyZWUgQ29weXJpZ2h0IDIwMjUgRm9udGljb25zLCBJbmMuLS0+PHBhdGggZD0iTTIwOCAwTDMzMi4xIDBjMTIuNyAwIDI0LjkgNS4xIDMzLjkgMTQuMWw2Ny45IDY3LjljOSA5IDE0LjEgMjEuMiAxNC4xIDMzLjlMNDQ4IDMzNmMwIDI2LjUtMjEuNSA0OC00OCA0OGwtMTkyIDBjLTI2LjUgMC00OC0yMS41LTQ4LTQ4bDAtMjg4YzAtMjYuNSAyMS41LTQ4IDQ4LTQ4ek00OCAxMjhsODAgMCAwIDY0LTY0IDAgMCAyNTYgMTkyIDAgMC0zMiA2NCAwIDAgNDhjMCAyNi41LTIxLjUgNDgtNDggNDhMNDggNTEyYy0yNi41IDAtNDgtMjEuNS00OC00OEwwIDE3NmMwLTI2LjUgMjEuNS00OCA0OC00OHoiLz48L3N2Zz4=);\n    background-repeat: no-repeat;\n    background-size: 14px 14px;\n    background-position: 0;\n    display: inline-block;\n    width: 14px;\n    height: 14px;\n    cursor: pointer;\n}\n</style><body><div id=\"sk-container-id-3\" class=\"sk-top-container\"><div class=\"sk-text-repr-fallback\"><pre>RandomForestRegressor(random_state=1001)</pre><b>In a Jupyter environment, please rerun this cell to show the HTML representation or trust the notebook. <br />On GitHub, the HTML representation is unable to render, please try loading this page with nbviewer.org.</b></div><div class=\"sk-container\" hidden><div class=\"sk-item\"><div class=\"sk-estimator fitted sk-toggleable\"><input class=\"sk-toggleable__control sk-hidden--visually\" id=\"sk-estimator-id-3\" type=\"checkbox\" checked><label for=\"sk-estimator-id-3\" class=\"sk-toggleable__label fitted sk-toggleable__label-arrow\"><div><div>RandomForestRegressor</div></div><div><a class=\"sk-estimator-doc-link fitted\" rel=\"noreferrer\" target=\"_blank\" href=\"https://scikit-learn.org/1.7/modules/generated/sklearn.ensemble.RandomForestRegressor.html\">?<span>Documentation for RandomForestRegressor</span></a><span class=\"sk-estimator-doc-link fitted\">i<span>Fitted</span></span></div></label><div class=\"sk-toggleable__content fitted\" data-param-prefix=\"\">\n        <div class=\"estimator-table\">\n            <details>\n                <summary>Parameters</summary>\n                <table class=\"parameters-table\">\n                  <tbody>\n                    \n        <tr class=\"default\">\n            <td><i class=\"copy-paste-icon\"\n                 onclick=\"copyToClipboard('n_estimators',\n                          this.parentElement.nextElementSibling)\"\n            ></i></td>\n            <td class=\"param\">n_estimators&nbsp;</td>\n            <td class=\"value\">100</td>\n        </tr>\n    \n\n        <tr class=\"default\">\n            <td><i class=\"copy-paste-icon\"\n                 onclick=\"copyToClipboard('criterion',\n                          this.parentElement.nextElementSibling)\"\n            ></i></td>\n            <td class=\"param\">criterion&nbsp;</td>\n            <td class=\"value\">&#x27;squared_error&#x27;</td>\n        </tr>\n    \n\n        <tr class=\"default\">\n            <td><i class=\"copy-paste-icon\"\n                 onclick=\"copyToClipboard('max_depth',\n                          this.parentElement.nextElementSibling)\"\n            ></i></td>\n            <td class=\"param\">max_depth&nbsp;</td>\n            <td class=\"value\">None</td>\n        </tr>\n    \n\n        <tr class=\"default\">\n            <td><i class=\"copy-paste-icon\"\n                 onclick=\"copyToClipboard('min_samples_split',\n                          this.parentElement.nextElementSibling)\"\n            ></i></td>\n            <td class=\"param\">min_samples_split&nbsp;</td>\n            <td class=\"value\">2</td>\n        </tr>\n    \n\n        <tr class=\"default\">\n            <td><i class=\"copy-paste-icon\"\n                 onclick=\"copyToClipboard('min_samples_leaf',\n                          this.parentElement.nextElementSibling)\"\n            ></i></td>\n            <td class=\"param\">min_samples_leaf&nbsp;</td>\n            <td class=\"value\">1</td>\n        </tr>\n    \n\n        <tr class=\"default\">\n            <td><i class=\"copy-paste-icon\"\n                 onclick=\"copyToClipboard('min_weight_fraction_leaf',\n                          this.parentElement.nextElementSibling)\"\n            ></i></td>\n            <td class=\"param\">min_weight_fraction_leaf&nbsp;</td>\n            <td class=\"value\">0.0</td>\n        </tr>\n    \n\n        <tr class=\"default\">\n            <td><i class=\"copy-paste-icon\"\n                 onclick=\"copyToClipboard('max_features',\n                          this.parentElement.nextElementSibling)\"\n            ></i></td>\n            <td class=\"param\">max_features&nbsp;</td>\n            <td class=\"value\">1.0</td>\n        </tr>\n    \n\n        <tr class=\"default\">\n            <td><i class=\"copy-paste-icon\"\n                 onclick=\"copyToClipboard('max_leaf_nodes',\n                          this.parentElement.nextElementSibling)\"\n            ></i></td>\n            <td class=\"param\">max_leaf_nodes&nbsp;</td>\n            <td class=\"value\">None</td>\n        </tr>\n    \n\n        <tr class=\"default\">\n            <td><i class=\"copy-paste-icon\"\n                 onclick=\"copyToClipboard('min_impurity_decrease',\n                          this.parentElement.nextElementSibling)\"\n            ></i></td>\n            <td class=\"param\">min_impurity_decrease&nbsp;</td>\n            <td class=\"value\">0.0</td>\n        </tr>\n    \n\n        <tr class=\"default\">\n            <td><i class=\"copy-paste-icon\"\n                 onclick=\"copyToClipboard('bootstrap',\n                          this.parentElement.nextElementSibling)\"\n            ></i></td>\n            <td class=\"param\">bootstrap&nbsp;</td>\n            <td class=\"value\">True</td>\n        </tr>\n    \n\n        <tr class=\"default\">\n            <td><i class=\"copy-paste-icon\"\n                 onclick=\"copyToClipboard('oob_score',\n                          this.parentElement.nextElementSibling)\"\n            ></i></td>\n            <td class=\"param\">oob_score&nbsp;</td>\n            <td class=\"value\">False</td>\n        </tr>\n    \n\n        <tr class=\"default\">\n            <td><i class=\"copy-paste-icon\"\n                 onclick=\"copyToClipboard('n_jobs',\n                          this.parentElement.nextElementSibling)\"\n            ></i></td>\n            <td class=\"param\">n_jobs&nbsp;</td>\n            <td class=\"value\">None</td>\n        </tr>\n    \n\n        <tr class=\"user-set\">\n            <td><i class=\"copy-paste-icon\"\n                 onclick=\"copyToClipboard('random_state',\n                          this.parentElement.nextElementSibling)\"\n            ></i></td>\n            <td class=\"param\">random_state&nbsp;</td>\n            <td class=\"value\">1001</td>\n        </tr>\n    \n\n        <tr class=\"default\">\n            <td><i class=\"copy-paste-icon\"\n                 onclick=\"copyToClipboard('verbose',\n                          this.parentElement.nextElementSibling)\"\n            ></i></td>\n            <td class=\"param\">verbose&nbsp;</td>\n            <td class=\"value\">0</td>\n        </tr>\n    \n\n        <tr class=\"default\">\n            <td><i class=\"copy-paste-icon\"\n                 onclick=\"copyToClipboard('warm_start',\n                          this.parentElement.nextElementSibling)\"\n            ></i></td>\n            <td class=\"param\">warm_start&nbsp;</td>\n            <td class=\"value\">False</td>\n        </tr>\n    \n\n        <tr class=\"default\">\n            <td><i class=\"copy-paste-icon\"\n                 onclick=\"copyToClipboard('ccp_alpha',\n                          this.parentElement.nextElementSibling)\"\n            ></i></td>\n            <td class=\"param\">ccp_alpha&nbsp;</td>\n            <td class=\"value\">0.0</td>\n        </tr>\n    \n\n        <tr class=\"default\">\n            <td><i class=\"copy-paste-icon\"\n                 onclick=\"copyToClipboard('max_samples',\n                          this.parentElement.nextElementSibling)\"\n            ></i></td>\n            <td class=\"param\">max_samples&nbsp;</td>\n            <td class=\"value\">None</td>\n        </tr>\n    \n\n        <tr class=\"default\">\n            <td><i class=\"copy-paste-icon\"\n                 onclick=\"copyToClipboard('monotonic_cst',\n                          this.parentElement.nextElementSibling)\"\n            ></i></td>\n            <td class=\"param\">monotonic_cst&nbsp;</td>\n            <td class=\"value\">None</td>\n        </tr>\n    \n                  </tbody>\n                </table>\n            </details>\n        </div>\n    </div></div></div></div></div><script>function copyToClipboard(text, element) {\n    // Get the parameter prefix from the closest toggleable content\n    const toggleableContent = element.closest('.sk-toggleable__content');\n    const paramPrefix = toggleableContent ? toggleableContent.dataset.paramPrefix : '';\n    const fullParamName = paramPrefix ? `${paramPrefix}${text}` : text;\n\n    const originalStyle = element.style;\n    const computedStyle = window.getComputedStyle(element);\n    const originalWidth = computedStyle.width;\n    const originalHTML = element.innerHTML.replace('Copied!', '');\n\n    navigator.clipboard.writeText(fullParamName)\n        .then(() => {\n            element.style.width = originalWidth;\n            element.style.color = 'green';\n            element.innerHTML = \"Copied!\";\n\n            setTimeout(() => {\n                element.innerHTML = originalHTML;\n                element.style = originalStyle;\n            }, 2000);\n        })\n        .catch(err => {\n            console.error('Failed to copy:', err);\n            element.style.color = 'red';\n            element.innerHTML = \"Failed!\";\n            setTimeout(() => {\n                element.innerHTML = originalHTML;\n                element.style = originalStyle;\n            }, 2000);\n        });\n    return false;\n}\n\ndocument.querySelectorAll('.fa-regular.fa-copy').forEach(function(element) {\n    const toggleableContent = element.closest('.sk-toggleable__content');\n    const paramPrefix = toggleableContent ? toggleableContent.dataset.paramPrefix : '';\n    const paramName = element.parentElement.nextElementSibling.textContent.trim();\n    const fullParamName = paramPrefix ? `${paramPrefix}${paramName}` : paramName;\n\n    element.setAttribute('title', fullParamName);\n});\n</script></body>"
     },
     "execution_count": 36,
     "metadata": {},
     "output_type": "execute_result"
    }
   ],
   "source": [
    "rf_model = RandomForestRegressor(n_estimators=100, random_state=1001)\n",
    "rf_model.fit(X_train_rf, y_train_rf)"
   ],
   "metadata": {
    "collapsed": false,
    "ExecuteTime": {
     "end_time": "2025-07-29T16:10:23.761072800Z",
     "start_time": "2025-07-29T16:09:46.475085200Z"
    }
   },
   "id": "cd31c3af36c80c4a"
  },
  {
   "cell_type": "markdown",
   "source": [
    "# Random Forest with FE"
   ],
   "metadata": {
    "collapsed": false
   },
   "id": "2128091e4a98272b"
  },
  {
   "cell_type": "code",
   "execution_count": 37,
   "outputs": [],
   "source": [
    "X_fe_train_rf, X_fe_test_rf, y_fe_train_rf, y_fe_test_rf = train_test_split(X_fe, y_fe, test_size=0.2)\n"
   ],
   "metadata": {
    "collapsed": false,
    "ExecuteTime": {
     "end_time": "2025-07-29T16:10:23.836634600Z",
     "start_time": "2025-07-29T16:10:23.757069800Z"
    }
   },
   "id": "88302623c10d944d"
  },
  {
   "cell_type": "code",
   "execution_count": 38,
   "outputs": [
    {
     "data": {
      "text/plain": "RandomForestRegressor(random_state=1001)",
      "text/html": "<style>#sk-container-id-4 {\n  /* Definition of color scheme common for light and dark mode */\n  --sklearn-color-text: #000;\n  --sklearn-color-text-muted: #666;\n  --sklearn-color-line: gray;\n  /* Definition of color scheme for unfitted estimators */\n  --sklearn-color-unfitted-level-0: #fff5e6;\n  --sklearn-color-unfitted-level-1: #f6e4d2;\n  --sklearn-color-unfitted-level-2: #ffe0b3;\n  --sklearn-color-unfitted-level-3: chocolate;\n  /* Definition of color scheme for fitted estimators */\n  --sklearn-color-fitted-level-0: #f0f8ff;\n  --sklearn-color-fitted-level-1: #d4ebff;\n  --sklearn-color-fitted-level-2: #b3dbfd;\n  --sklearn-color-fitted-level-3: cornflowerblue;\n\n  /* Specific color for light theme */\n  --sklearn-color-text-on-default-background: var(--sg-text-color, var(--theme-code-foreground, var(--jp-content-font-color1, black)));\n  --sklearn-color-background: var(--sg-background-color, var(--theme-background, var(--jp-layout-color0, white)));\n  --sklearn-color-border-box: var(--sg-text-color, var(--theme-code-foreground, var(--jp-content-font-color1, black)));\n  --sklearn-color-icon: #696969;\n\n  @media (prefers-color-scheme: dark) {\n    /* Redefinition of color scheme for dark theme */\n    --sklearn-color-text-on-default-background: var(--sg-text-color, var(--theme-code-foreground, var(--jp-content-font-color1, white)));\n    --sklearn-color-background: var(--sg-background-color, var(--theme-background, var(--jp-layout-color0, #111)));\n    --sklearn-color-border-box: var(--sg-text-color, var(--theme-code-foreground, var(--jp-content-font-color1, white)));\n    --sklearn-color-icon: #878787;\n  }\n}\n\n#sk-container-id-4 {\n  color: var(--sklearn-color-text);\n}\n\n#sk-container-id-4 pre {\n  padding: 0;\n}\n\n#sk-container-id-4 input.sk-hidden--visually {\n  border: 0;\n  clip: rect(1px 1px 1px 1px);\n  clip: rect(1px, 1px, 1px, 1px);\n  height: 1px;\n  margin: -1px;\n  overflow: hidden;\n  padding: 0;\n  position: absolute;\n  width: 1px;\n}\n\n#sk-container-id-4 div.sk-dashed-wrapped {\n  border: 1px dashed var(--sklearn-color-line);\n  margin: 0 0.4em 0.5em 0.4em;\n  box-sizing: border-box;\n  padding-bottom: 0.4em;\n  background-color: var(--sklearn-color-background);\n}\n\n#sk-container-id-4 div.sk-container {\n  /* jupyter's `normalize.less` sets `[hidden] { display: none; }`\n     but bootstrap.min.css set `[hidden] { display: none !important; }`\n     so we also need the `!important` here to be able to override the\n     default hidden behavior on the sphinx rendered scikit-learn.org.\n     See: https://github.com/scikit-learn/scikit-learn/issues/21755 */\n  display: inline-block !important;\n  position: relative;\n}\n\n#sk-container-id-4 div.sk-text-repr-fallback {\n  display: none;\n}\n\ndiv.sk-parallel-item,\ndiv.sk-serial,\ndiv.sk-item {\n  /* draw centered vertical line to link estimators */\n  background-image: linear-gradient(var(--sklearn-color-text-on-default-background), var(--sklearn-color-text-on-default-background));\n  background-size: 2px 100%;\n  background-repeat: no-repeat;\n  background-position: center center;\n}\n\n/* Parallel-specific style estimator block */\n\n#sk-container-id-4 div.sk-parallel-item::after {\n  content: \"\";\n  width: 100%;\n  border-bottom: 2px solid var(--sklearn-color-text-on-default-background);\n  flex-grow: 1;\n}\n\n#sk-container-id-4 div.sk-parallel {\n  display: flex;\n  align-items: stretch;\n  justify-content: center;\n  background-color: var(--sklearn-color-background);\n  position: relative;\n}\n\n#sk-container-id-4 div.sk-parallel-item {\n  display: flex;\n  flex-direction: column;\n}\n\n#sk-container-id-4 div.sk-parallel-item:first-child::after {\n  align-self: flex-end;\n  width: 50%;\n}\n\n#sk-container-id-4 div.sk-parallel-item:last-child::after {\n  align-self: flex-start;\n  width: 50%;\n}\n\n#sk-container-id-4 div.sk-parallel-item:only-child::after {\n  width: 0;\n}\n\n/* Serial-specific style estimator block */\n\n#sk-container-id-4 div.sk-serial {\n  display: flex;\n  flex-direction: column;\n  align-items: center;\n  background-color: var(--sklearn-color-background);\n  padding-right: 1em;\n  padding-left: 1em;\n}\n\n\n/* Toggleable style: style used for estimator/Pipeline/ColumnTransformer box that is\nclickable and can be expanded/collapsed.\n- Pipeline and ColumnTransformer use this feature and define the default style\n- Estimators will overwrite some part of the style using the `sk-estimator` class\n*/\n\n/* Pipeline and ColumnTransformer style (default) */\n\n#sk-container-id-4 div.sk-toggleable {\n  /* Default theme specific background. It is overwritten whether we have a\n  specific estimator or a Pipeline/ColumnTransformer */\n  background-color: var(--sklearn-color-background);\n}\n\n/* Toggleable label */\n#sk-container-id-4 label.sk-toggleable__label {\n  cursor: pointer;\n  display: flex;\n  width: 100%;\n  margin-bottom: 0;\n  padding: 0.5em;\n  box-sizing: border-box;\n  text-align: center;\n  align-items: start;\n  justify-content: space-between;\n  gap: 0.5em;\n}\n\n#sk-container-id-4 label.sk-toggleable__label .caption {\n  font-size: 0.6rem;\n  font-weight: lighter;\n  color: var(--sklearn-color-text-muted);\n}\n\n#sk-container-id-4 label.sk-toggleable__label-arrow:before {\n  /* Arrow on the left of the label */\n  content: \"▸\";\n  float: left;\n  margin-right: 0.25em;\n  color: var(--sklearn-color-icon);\n}\n\n#sk-container-id-4 label.sk-toggleable__label-arrow:hover:before {\n  color: var(--sklearn-color-text);\n}\n\n/* Toggleable content - dropdown */\n\n#sk-container-id-4 div.sk-toggleable__content {\n  display: none;\n  text-align: left;\n  /* unfitted */\n  background-color: var(--sklearn-color-unfitted-level-0);\n}\n\n#sk-container-id-4 div.sk-toggleable__content.fitted {\n  /* fitted */\n  background-color: var(--sklearn-color-fitted-level-0);\n}\n\n#sk-container-id-4 div.sk-toggleable__content pre {\n  margin: 0.2em;\n  border-radius: 0.25em;\n  color: var(--sklearn-color-text);\n  /* unfitted */\n  background-color: var(--sklearn-color-unfitted-level-0);\n}\n\n#sk-container-id-4 div.sk-toggleable__content.fitted pre {\n  /* unfitted */\n  background-color: var(--sklearn-color-fitted-level-0);\n}\n\n#sk-container-id-4 input.sk-toggleable__control:checked~div.sk-toggleable__content {\n  /* Expand drop-down */\n  display: block;\n  width: 100%;\n  overflow: visible;\n}\n\n#sk-container-id-4 input.sk-toggleable__control:checked~label.sk-toggleable__label-arrow:before {\n  content: \"▾\";\n}\n\n/* Pipeline/ColumnTransformer-specific style */\n\n#sk-container-id-4 div.sk-label input.sk-toggleable__control:checked~label.sk-toggleable__label {\n  color: var(--sklearn-color-text);\n  background-color: var(--sklearn-color-unfitted-level-2);\n}\n\n#sk-container-id-4 div.sk-label.fitted input.sk-toggleable__control:checked~label.sk-toggleable__label {\n  background-color: var(--sklearn-color-fitted-level-2);\n}\n\n/* Estimator-specific style */\n\n/* Colorize estimator box */\n#sk-container-id-4 div.sk-estimator input.sk-toggleable__control:checked~label.sk-toggleable__label {\n  /* unfitted */\n  background-color: var(--sklearn-color-unfitted-level-2);\n}\n\n#sk-container-id-4 div.sk-estimator.fitted input.sk-toggleable__control:checked~label.sk-toggleable__label {\n  /* fitted */\n  background-color: var(--sklearn-color-fitted-level-2);\n}\n\n#sk-container-id-4 div.sk-label label.sk-toggleable__label,\n#sk-container-id-4 div.sk-label label {\n  /* The background is the default theme color */\n  color: var(--sklearn-color-text-on-default-background);\n}\n\n/* On hover, darken the color of the background */\n#sk-container-id-4 div.sk-label:hover label.sk-toggleable__label {\n  color: var(--sklearn-color-text);\n  background-color: var(--sklearn-color-unfitted-level-2);\n}\n\n/* Label box, darken color on hover, fitted */\n#sk-container-id-4 div.sk-label.fitted:hover label.sk-toggleable__label.fitted {\n  color: var(--sklearn-color-text);\n  background-color: var(--sklearn-color-fitted-level-2);\n}\n\n/* Estimator label */\n\n#sk-container-id-4 div.sk-label label {\n  font-family: monospace;\n  font-weight: bold;\n  display: inline-block;\n  line-height: 1.2em;\n}\n\n#sk-container-id-4 div.sk-label-container {\n  text-align: center;\n}\n\n/* Estimator-specific */\n#sk-container-id-4 div.sk-estimator {\n  font-family: monospace;\n  border: 1px dotted var(--sklearn-color-border-box);\n  border-radius: 0.25em;\n  box-sizing: border-box;\n  margin-bottom: 0.5em;\n  /* unfitted */\n  background-color: var(--sklearn-color-unfitted-level-0);\n}\n\n#sk-container-id-4 div.sk-estimator.fitted {\n  /* fitted */\n  background-color: var(--sklearn-color-fitted-level-0);\n}\n\n/* on hover */\n#sk-container-id-4 div.sk-estimator:hover {\n  /* unfitted */\n  background-color: var(--sklearn-color-unfitted-level-2);\n}\n\n#sk-container-id-4 div.sk-estimator.fitted:hover {\n  /* fitted */\n  background-color: var(--sklearn-color-fitted-level-2);\n}\n\n/* Specification for estimator info (e.g. \"i\" and \"?\") */\n\n/* Common style for \"i\" and \"?\" */\n\n.sk-estimator-doc-link,\na:link.sk-estimator-doc-link,\na:visited.sk-estimator-doc-link {\n  float: right;\n  font-size: smaller;\n  line-height: 1em;\n  font-family: monospace;\n  background-color: var(--sklearn-color-background);\n  border-radius: 1em;\n  height: 1em;\n  width: 1em;\n  text-decoration: none !important;\n  margin-left: 0.5em;\n  text-align: center;\n  /* unfitted */\n  border: var(--sklearn-color-unfitted-level-1) 1pt solid;\n  color: var(--sklearn-color-unfitted-level-1);\n}\n\n.sk-estimator-doc-link.fitted,\na:link.sk-estimator-doc-link.fitted,\na:visited.sk-estimator-doc-link.fitted {\n  /* fitted */\n  border: var(--sklearn-color-fitted-level-1) 1pt solid;\n  color: var(--sklearn-color-fitted-level-1);\n}\n\n/* On hover */\ndiv.sk-estimator:hover .sk-estimator-doc-link:hover,\n.sk-estimator-doc-link:hover,\ndiv.sk-label-container:hover .sk-estimator-doc-link:hover,\n.sk-estimator-doc-link:hover {\n  /* unfitted */\n  background-color: var(--sklearn-color-unfitted-level-3);\n  color: var(--sklearn-color-background);\n  text-decoration: none;\n}\n\ndiv.sk-estimator.fitted:hover .sk-estimator-doc-link.fitted:hover,\n.sk-estimator-doc-link.fitted:hover,\ndiv.sk-label-container:hover .sk-estimator-doc-link.fitted:hover,\n.sk-estimator-doc-link.fitted:hover {\n  /* fitted */\n  background-color: var(--sklearn-color-fitted-level-3);\n  color: var(--sklearn-color-background);\n  text-decoration: none;\n}\n\n/* Span, style for the box shown on hovering the info icon */\n.sk-estimator-doc-link span {\n  display: none;\n  z-index: 9999;\n  position: relative;\n  font-weight: normal;\n  right: .2ex;\n  padding: .5ex;\n  margin: .5ex;\n  width: min-content;\n  min-width: 20ex;\n  max-width: 50ex;\n  color: var(--sklearn-color-text);\n  box-shadow: 2pt 2pt 4pt #999;\n  /* unfitted */\n  background: var(--sklearn-color-unfitted-level-0);\n  border: .5pt solid var(--sklearn-color-unfitted-level-3);\n}\n\n.sk-estimator-doc-link.fitted span {\n  /* fitted */\n  background: var(--sklearn-color-fitted-level-0);\n  border: var(--sklearn-color-fitted-level-3);\n}\n\n.sk-estimator-doc-link:hover span {\n  display: block;\n}\n\n/* \"?\"-specific style due to the `<a>` HTML tag */\n\n#sk-container-id-4 a.estimator_doc_link {\n  float: right;\n  font-size: 1rem;\n  line-height: 1em;\n  font-family: monospace;\n  background-color: var(--sklearn-color-background);\n  border-radius: 1rem;\n  height: 1rem;\n  width: 1rem;\n  text-decoration: none;\n  /* unfitted */\n  color: var(--sklearn-color-unfitted-level-1);\n  border: var(--sklearn-color-unfitted-level-1) 1pt solid;\n}\n\n#sk-container-id-4 a.estimator_doc_link.fitted {\n  /* fitted */\n  border: var(--sklearn-color-fitted-level-1) 1pt solid;\n  color: var(--sklearn-color-fitted-level-1);\n}\n\n/* On hover */\n#sk-container-id-4 a.estimator_doc_link:hover {\n  /* unfitted */\n  background-color: var(--sklearn-color-unfitted-level-3);\n  color: var(--sklearn-color-background);\n  text-decoration: none;\n}\n\n#sk-container-id-4 a.estimator_doc_link.fitted:hover {\n  /* fitted */\n  background-color: var(--sklearn-color-fitted-level-3);\n}\n\n.estimator-table summary {\n    padding: .5rem;\n    font-family: monospace;\n    cursor: pointer;\n}\n\n.estimator-table details[open] {\n    padding-left: 0.1rem;\n    padding-right: 0.1rem;\n    padding-bottom: 0.3rem;\n}\n\n.estimator-table .parameters-table {\n    margin-left: auto !important;\n    margin-right: auto !important;\n}\n\n.estimator-table .parameters-table tr:nth-child(odd) {\n    background-color: #fff;\n}\n\n.estimator-table .parameters-table tr:nth-child(even) {\n    background-color: #f6f6f6;\n}\n\n.estimator-table .parameters-table tr:hover {\n    background-color: #e0e0e0;\n}\n\n.estimator-table table td {\n    border: 1px solid rgba(106, 105, 104, 0.232);\n}\n\n.user-set td {\n    color:rgb(255, 94, 0);\n    text-align: left;\n}\n\n.user-set td.value pre {\n    color:rgb(255, 94, 0) !important;\n    background-color: transparent !important;\n}\n\n.default td {\n    color: black;\n    text-align: left;\n}\n\n.user-set td i,\n.default td i {\n    color: black;\n}\n\n.copy-paste-icon {\n    background-image: url(data:image/svg+xml;base64,PHN2ZyB4bWxucz0iaHR0cDovL3d3dy53My5vcmcvMjAwMC9zdmciIHZpZXdCb3g9IjAgMCA0NDggNTEyIj48IS0tIUZvbnQgQXdlc29tZSBGcmVlIDYuNy4yIGJ5IEBmb250YXdlc29tZSAtIGh0dHBzOi8vZm9udGF3ZXNvbWUuY29tIExpY2Vuc2UgLSBodHRwczovL2ZvbnRhd2Vzb21lLmNvbS9saWNlbnNlL2ZyZWUgQ29weXJpZ2h0IDIwMjUgRm9udGljb25zLCBJbmMuLS0+PHBhdGggZD0iTTIwOCAwTDMzMi4xIDBjMTIuNyAwIDI0LjkgNS4xIDMzLjkgMTQuMWw2Ny45IDY3LjljOSA5IDE0LjEgMjEuMiAxNC4xIDMzLjlMNDQ4IDMzNmMwIDI2LjUtMjEuNSA0OC00OCA0OGwtMTkyIDBjLTI2LjUgMC00OC0yMS41LTQ4LTQ4bDAtMjg4YzAtMjYuNSAyMS41LTQ4IDQ4LTQ4ek00OCAxMjhsODAgMCAwIDY0LTY0IDAgMCAyNTYgMTkyIDAgMC0zMiA2NCAwIDAgNDhjMCAyNi41LTIxLjUgNDgtNDggNDhMNDggNTEyYy0yNi41IDAtNDgtMjEuNS00OC00OEwwIDE3NmMwLTI2LjUgMjEuNS00OCA0OC00OHoiLz48L3N2Zz4=);\n    background-repeat: no-repeat;\n    background-size: 14px 14px;\n    background-position: 0;\n    display: inline-block;\n    width: 14px;\n    height: 14px;\n    cursor: pointer;\n}\n</style><body><div id=\"sk-container-id-4\" class=\"sk-top-container\"><div class=\"sk-text-repr-fallback\"><pre>RandomForestRegressor(random_state=1001)</pre><b>In a Jupyter environment, please rerun this cell to show the HTML representation or trust the notebook. <br />On GitHub, the HTML representation is unable to render, please try loading this page with nbviewer.org.</b></div><div class=\"sk-container\" hidden><div class=\"sk-item\"><div class=\"sk-estimator fitted sk-toggleable\"><input class=\"sk-toggleable__control sk-hidden--visually\" id=\"sk-estimator-id-4\" type=\"checkbox\" checked><label for=\"sk-estimator-id-4\" class=\"sk-toggleable__label fitted sk-toggleable__label-arrow\"><div><div>RandomForestRegressor</div></div><div><a class=\"sk-estimator-doc-link fitted\" rel=\"noreferrer\" target=\"_blank\" href=\"https://scikit-learn.org/1.7/modules/generated/sklearn.ensemble.RandomForestRegressor.html\">?<span>Documentation for RandomForestRegressor</span></a><span class=\"sk-estimator-doc-link fitted\">i<span>Fitted</span></span></div></label><div class=\"sk-toggleable__content fitted\" data-param-prefix=\"\">\n        <div class=\"estimator-table\">\n            <details>\n                <summary>Parameters</summary>\n                <table class=\"parameters-table\">\n                  <tbody>\n                    \n        <tr class=\"default\">\n            <td><i class=\"copy-paste-icon\"\n                 onclick=\"copyToClipboard('n_estimators',\n                          this.parentElement.nextElementSibling)\"\n            ></i></td>\n            <td class=\"param\">n_estimators&nbsp;</td>\n            <td class=\"value\">100</td>\n        </tr>\n    \n\n        <tr class=\"default\">\n            <td><i class=\"copy-paste-icon\"\n                 onclick=\"copyToClipboard('criterion',\n                          this.parentElement.nextElementSibling)\"\n            ></i></td>\n            <td class=\"param\">criterion&nbsp;</td>\n            <td class=\"value\">&#x27;squared_error&#x27;</td>\n        </tr>\n    \n\n        <tr class=\"default\">\n            <td><i class=\"copy-paste-icon\"\n                 onclick=\"copyToClipboard('max_depth',\n                          this.parentElement.nextElementSibling)\"\n            ></i></td>\n            <td class=\"param\">max_depth&nbsp;</td>\n            <td class=\"value\">None</td>\n        </tr>\n    \n\n        <tr class=\"default\">\n            <td><i class=\"copy-paste-icon\"\n                 onclick=\"copyToClipboard('min_samples_split',\n                          this.parentElement.nextElementSibling)\"\n            ></i></td>\n            <td class=\"param\">min_samples_split&nbsp;</td>\n            <td class=\"value\">2</td>\n        </tr>\n    \n\n        <tr class=\"default\">\n            <td><i class=\"copy-paste-icon\"\n                 onclick=\"copyToClipboard('min_samples_leaf',\n                          this.parentElement.nextElementSibling)\"\n            ></i></td>\n            <td class=\"param\">min_samples_leaf&nbsp;</td>\n            <td class=\"value\">1</td>\n        </tr>\n    \n\n        <tr class=\"default\">\n            <td><i class=\"copy-paste-icon\"\n                 onclick=\"copyToClipboard('min_weight_fraction_leaf',\n                          this.parentElement.nextElementSibling)\"\n            ></i></td>\n            <td class=\"param\">min_weight_fraction_leaf&nbsp;</td>\n            <td class=\"value\">0.0</td>\n        </tr>\n    \n\n        <tr class=\"default\">\n            <td><i class=\"copy-paste-icon\"\n                 onclick=\"copyToClipboard('max_features',\n                          this.parentElement.nextElementSibling)\"\n            ></i></td>\n            <td class=\"param\">max_features&nbsp;</td>\n            <td class=\"value\">1.0</td>\n        </tr>\n    \n\n        <tr class=\"default\">\n            <td><i class=\"copy-paste-icon\"\n                 onclick=\"copyToClipboard('max_leaf_nodes',\n                          this.parentElement.nextElementSibling)\"\n            ></i></td>\n            <td class=\"param\">max_leaf_nodes&nbsp;</td>\n            <td class=\"value\">None</td>\n        </tr>\n    \n\n        <tr class=\"default\">\n            <td><i class=\"copy-paste-icon\"\n                 onclick=\"copyToClipboard('min_impurity_decrease',\n                          this.parentElement.nextElementSibling)\"\n            ></i></td>\n            <td class=\"param\">min_impurity_decrease&nbsp;</td>\n            <td class=\"value\">0.0</td>\n        </tr>\n    \n\n        <tr class=\"default\">\n            <td><i class=\"copy-paste-icon\"\n                 onclick=\"copyToClipboard('bootstrap',\n                          this.parentElement.nextElementSibling)\"\n            ></i></td>\n            <td class=\"param\">bootstrap&nbsp;</td>\n            <td class=\"value\">True</td>\n        </tr>\n    \n\n        <tr class=\"default\">\n            <td><i class=\"copy-paste-icon\"\n                 onclick=\"copyToClipboard('oob_score',\n                          this.parentElement.nextElementSibling)\"\n            ></i></td>\n            <td class=\"param\">oob_score&nbsp;</td>\n            <td class=\"value\">False</td>\n        </tr>\n    \n\n        <tr class=\"default\">\n            <td><i class=\"copy-paste-icon\"\n                 onclick=\"copyToClipboard('n_jobs',\n                          this.parentElement.nextElementSibling)\"\n            ></i></td>\n            <td class=\"param\">n_jobs&nbsp;</td>\n            <td class=\"value\">None</td>\n        </tr>\n    \n\n        <tr class=\"user-set\">\n            <td><i class=\"copy-paste-icon\"\n                 onclick=\"copyToClipboard('random_state',\n                          this.parentElement.nextElementSibling)\"\n            ></i></td>\n            <td class=\"param\">random_state&nbsp;</td>\n            <td class=\"value\">1001</td>\n        </tr>\n    \n\n        <tr class=\"default\">\n            <td><i class=\"copy-paste-icon\"\n                 onclick=\"copyToClipboard('verbose',\n                          this.parentElement.nextElementSibling)\"\n            ></i></td>\n            <td class=\"param\">verbose&nbsp;</td>\n            <td class=\"value\">0</td>\n        </tr>\n    \n\n        <tr class=\"default\">\n            <td><i class=\"copy-paste-icon\"\n                 onclick=\"copyToClipboard('warm_start',\n                          this.parentElement.nextElementSibling)\"\n            ></i></td>\n            <td class=\"param\">warm_start&nbsp;</td>\n            <td class=\"value\">False</td>\n        </tr>\n    \n\n        <tr class=\"default\">\n            <td><i class=\"copy-paste-icon\"\n                 onclick=\"copyToClipboard('ccp_alpha',\n                          this.parentElement.nextElementSibling)\"\n            ></i></td>\n            <td class=\"param\">ccp_alpha&nbsp;</td>\n            <td class=\"value\">0.0</td>\n        </tr>\n    \n\n        <tr class=\"default\">\n            <td><i class=\"copy-paste-icon\"\n                 onclick=\"copyToClipboard('max_samples',\n                          this.parentElement.nextElementSibling)\"\n            ></i></td>\n            <td class=\"param\">max_samples&nbsp;</td>\n            <td class=\"value\">None</td>\n        </tr>\n    \n\n        <tr class=\"default\">\n            <td><i class=\"copy-paste-icon\"\n                 onclick=\"copyToClipboard('monotonic_cst',\n                          this.parentElement.nextElementSibling)\"\n            ></i></td>\n            <td class=\"param\">monotonic_cst&nbsp;</td>\n            <td class=\"value\">None</td>\n        </tr>\n    \n                  </tbody>\n                </table>\n            </details>\n        </div>\n    </div></div></div></div></div><script>function copyToClipboard(text, element) {\n    // Get the parameter prefix from the closest toggleable content\n    const toggleableContent = element.closest('.sk-toggleable__content');\n    const paramPrefix = toggleableContent ? toggleableContent.dataset.paramPrefix : '';\n    const fullParamName = paramPrefix ? `${paramPrefix}${text}` : text;\n\n    const originalStyle = element.style;\n    const computedStyle = window.getComputedStyle(element);\n    const originalWidth = computedStyle.width;\n    const originalHTML = element.innerHTML.replace('Copied!', '');\n\n    navigator.clipboard.writeText(fullParamName)\n        .then(() => {\n            element.style.width = originalWidth;\n            element.style.color = 'green';\n            element.innerHTML = \"Copied!\";\n\n            setTimeout(() => {\n                element.innerHTML = originalHTML;\n                element.style = originalStyle;\n            }, 2000);\n        })\n        .catch(err => {\n            console.error('Failed to copy:', err);\n            element.style.color = 'red';\n            element.innerHTML = \"Failed!\";\n            setTimeout(() => {\n                element.innerHTML = originalHTML;\n                element.style = originalStyle;\n            }, 2000);\n        });\n    return false;\n}\n\ndocument.querySelectorAll('.fa-regular.fa-copy').forEach(function(element) {\n    const toggleableContent = element.closest('.sk-toggleable__content');\n    const paramPrefix = toggleableContent ? toggleableContent.dataset.paramPrefix : '';\n    const paramName = element.parentElement.nextElementSibling.textContent.trim();\n    const fullParamName = paramPrefix ? `${paramPrefix}${paramName}` : paramName;\n\n    element.setAttribute('title', fullParamName);\n});\n</script></body>"
     },
     "execution_count": 38,
     "metadata": {},
     "output_type": "execute_result"
    }
   ],
   "source": [
    "rf_fe_model = RandomForestRegressor(n_estimators=100, random_state=1001)\n",
    "rf_fe_model.fit(X_fe_train_rf, y_fe_train_rf)"
   ],
   "metadata": {
    "collapsed": false,
    "ExecuteTime": {
     "end_time": "2025-07-29T16:11:08.204140100Z",
     "start_time": "2025-07-29T16:10:23.837635600Z"
    }
   },
   "id": "e18c284a41a204eb"
  },
  {
   "cell_type": "markdown",
   "source": [
    "# Comparing Random Forests"
   ],
   "metadata": {
    "collapsed": false
   },
   "id": "7a5305f6057c0113"
  },
  {
   "cell_type": "code",
   "execution_count": 39,
   "outputs": [
    {
     "name": "stdout",
     "output_type": "stream",
     "text": [
      "Random Forest, without FE RMSE: 1.2722558877916756\n"
     ]
    }
   ],
   "source": [
    "y_pred_rf = rf_model.predict(X_test_rf)\n",
    "print(\"Random Forest, without FE RMSE:\", root_mean_squared_error(y_test_rf, y_pred_rf))"
   ],
   "metadata": {
    "collapsed": false,
    "ExecuteTime": {
     "end_time": "2025-07-29T16:11:08.316523200Z",
     "start_time": "2025-07-29T16:11:08.205141100Z"
    }
   },
   "id": "3add4ffbece07cc4"
  },
  {
   "cell_type": "code",
   "execution_count": 40,
   "outputs": [
    {
     "name": "stdout",
     "output_type": "stream",
     "text": [
      "Random Forest, with FE RMSE: 1.2722558877916756\n"
     ]
    }
   ],
   "source": [
    "y_fe_pred_rf = rf_fe_model.predict(X_fe_test_rf)\n",
    "print(\"Random Forest, with FE RMSE:\", root_mean_squared_error(y_test_rf, y_pred_rf))"
   ],
   "metadata": {
    "collapsed": false,
    "ExecuteTime": {
     "end_time": "2025-07-29T16:11:08.426211300Z",
     "start_time": "2025-07-29T16:11:08.325531300Z"
    }
   },
   "id": "dc0f90a37e6cc81b"
  },
  {
   "cell_type": "code",
   "execution_count": 41,
   "outputs": [],
   "source": [
    "y_train_pred_rf = rf_model.predict(X_train_rf)\n",
    "y_test_pred_rf = rf_model.predict(X_test_rf)"
   ],
   "metadata": {
    "collapsed": false,
    "ExecuteTime": {
     "end_time": "2025-07-29T16:11:08.791962600Z",
     "start_time": "2025-07-29T16:11:08.426211300Z"
    }
   },
   "id": "d7e871db457e8e97"
  },
  {
   "cell_type": "code",
   "execution_count": 42,
   "outputs": [],
   "source": [
    "y_fe_train_pred_rf = rf_fe_model.predict(X_fe_train_rf)\n",
    "y_fe_test_pred_rf = rf_fe_model.predict(X_fe_test_rf)"
   ],
   "metadata": {
    "collapsed": false,
    "ExecuteTime": {
     "end_time": "2025-07-29T16:11:09.176216400Z",
     "start_time": "2025-07-29T16:11:08.793139300Z"
    }
   },
   "id": "8af59c20e2b079db"
  },
  {
   "cell_type": "code",
   "execution_count": 43,
   "outputs": [
    {
     "name": "stdout",
     "output_type": "stream",
     "text": [
      "No FE, Train RMSE: 0.48182074328992214\n",
      "No FE, Test RMSE: 1.2722558877916756\n",
      "No FE, Train MAE: 0.34243217335029186\n",
      "No FE, Test MAE: 0.9252751835401113\n",
      "No FE, Train R2: 0.9902057219029652\n",
      "No FE, Test R2: 0.9315708082803821\n"
     ]
    }
   ],
   "source": [
    "print(\"No FE, Train RMSE:\", root_mean_squared_error(y_train_rf, y_train_pred_rf))\n",
    "print(\"No FE, Test RMSE:\", root_mean_squared_error(y_test_rf, y_test_pred_rf))\n",
    "print(\"No FE, Train MAE:\", mean_absolute_error(y_train_rf, y_train_pred_rf))\n",
    "print(\"No FE, Test MAE:\", mean_absolute_error(y_test_rf, y_test_pred_rf))\n",
    "print(\"No FE, Train R2:\", r2_score(y_train_rf, y_train_pred_rf))\n",
    "print(\"No FE, Test R2:\", r2_score(y_test_rf, y_test_pred_rf))"
   ],
   "metadata": {
    "collapsed": false,
    "ExecuteTime": {
     "end_time": "2025-07-29T16:11:09.192055700Z",
     "start_time": "2025-07-29T16:11:09.176216400Z"
    }
   },
   "id": "9514ad4db5f19e2d"
  },
  {
   "cell_type": "code",
   "execution_count": 44,
   "outputs": [
    {
     "name": "stdout",
     "output_type": "stream",
     "text": [
      "With FE, Train RMSE: 0.5026481983069198\n",
      "With FE, Test RMSE: 1.2750513418761862\n",
      "With FE, Train MAE: 0.3597812528466868\n",
      "With FE, Test MAE: 0.9405851263556935\n",
      "With FE, Train R2: 0.9894118184393078\n",
      "With FE, Test R2: 0.9293953300614634\n"
     ]
    }
   ],
   "source": [
    "print(\"With FE, Train RMSE:\", root_mean_squared_error(y_fe_train_rf, y_fe_train_pred_rf))\n",
    "print(\"With FE, Test RMSE:\", root_mean_squared_error(y_fe_test_rf, y_fe_test_pred_rf))\n",
    "print(\"With FE, Train MAE:\", mean_absolute_error(y_fe_train_rf, y_fe_train_pred_rf))\n",
    "print(\"With FE, Test MAE:\", mean_absolute_error(y_fe_test_rf, y_fe_test_pred_rf))\n",
    "print(\"With FE, Train R2:\", r2_score(y_fe_train_rf, y_fe_train_pred_rf))\n",
    "print(\"With FE, Test R2:\", r2_score(y_fe_test_rf, y_fe_test_pred_rf))"
   ],
   "metadata": {
    "collapsed": false,
    "ExecuteTime": {
     "end_time": "2025-07-29T16:11:09.224270100Z",
     "start_time": "2025-07-29T16:11:09.193056900Z"
    }
   },
   "id": "d1de0f91cdb7469c"
  },
  {
   "cell_type": "code",
   "execution_count": 45,
   "outputs": [],
   "source": [
    "matchups = [('7119388', '8261500'), ('8597976', '7119388'), ('8597976', '8261500')] # Spirit vs. Xtreme Gaming, Spirit vs. Talon\n",
    "symetric_matchups = make_symmetric_matchups(matchups)\n",
    "result = predict_players_for_matchups(df, rf_model, symetric_matchups, X, not_features)"
   ],
   "metadata": {
    "collapsed": false,
    "ExecuteTime": {
     "end_time": "2025-07-29T16:11:09.355484900Z",
     "start_time": "2025-07-29T16:11:09.205989500Z"
    }
   },
   "id": "cc9045ae1b2e580c"
  },
  {
   "cell_type": "code",
   "execution_count": 46,
   "outputs": [
    {
     "data": {
      "text/plain": "      account_id      name fantasy_role  team_id enemy_team_id  \\\n14548  113331514  Miposhka      Support  7119388       8261500   \n14547  321580662    Yatoro         Core  7119388       8261500   \n14551  302214028  Collapse         Core  7119388       8261500   \n14549  106305042      Larl          Mid  7119388       8261500   \n14550  847565596       rue      Support  7119388       8261500   \n6619   203351055     Malik         Core  7119388       8261500   \n14803  137129583        Xm          Mid  8261500       7119388   \n14805  157475523      XinQ      Support  8261500       7119388   \n14804  129958758       Xxs         Core  8261500       7119388   \n14802  898754153       Ame         Core  8261500       7119388   \n5883   138543123       Pyw      Support  8261500       7119388   \n8375   185908355         楼         Core  8261500       7119388   \n14806   76904792   poloson      Support  8261500       7119388   \n8377   145957968       niu         Core  8261500       7119388   \n11796  158847773  Tianming      Support  8261500       7119388   \n10429  191597529    Undyne      Support  8261500       7119388   \n14773  301750126    Mikoto          Mid  8597976       7119388   \n14774  152859296    Jhocam      Support  8597976       7119388   \n14775  126842529       Ws`         Core  8597976       7119388   \n14776  375507918  23savage         Core  8597976       7119388   \n14772  184950344     Kuku^      Support  8597976       7119388   \n399    293904640     ponyo      Support  8597976       7119388   \n12011  355168766   Natsumi         Core  8597976       7119388   \n14548  113331514  Miposhka      Support  7119388       8597976   \n14547  321580662    Yatoro         Core  7119388       8597976   \n14551  302214028  Collapse         Core  7119388       8597976   \n14549  106305042      Larl          Mid  7119388       8597976   \n14550  847565596       rue      Support  7119388       8597976   \n6619   203351055     Malik         Core  7119388       8597976   \n14773  301750126    Mikoto          Mid  8597976       8261500   \n14774  152859296    Jhocam      Support  8597976       8261500   \n14775  126842529       Ws`         Core  8597976       8261500   \n14776  375507918  23savage         Core  8597976       8261500   \n14772  184950344     Kuku^      Support  8597976       8261500   \n399    293904640     ponyo      Support  8597976       8261500   \n12011  355168766   Natsumi         Core  8597976       8261500   \n14803  137129583        Xm          Mid  8261500       8597976   \n14805  157475523      XinQ      Support  8261500       8597976   \n14804  129958758       Xxs         Core  8261500       8597976   \n14802  898754153       Ame         Core  8261500       8597976   \n5883   138543123       Pyw      Support  8261500       8597976   \n8375   185908355         楼         Core  8261500       8597976   \n14806   76904792   poloson      Support  8261500       8597976   \n8377   145957968       niu         Core  8261500       8597976   \n11796  158847773  Tianming      Support  8261500       8597976   \n10429  191597529    Undyne      Support  8261500       8597976   \n\n       predicted_fantasy_score  \n14548                15.970001  \n14547                20.564463  \n14551                12.227340  \n14549                18.404969  \n14550                16.226050  \n6619                 10.894281  \n14803                14.177190  \n14805                13.048568  \n14804                11.155621  \n14802                17.918316  \n5883                 11.659370  \n8375                 11.461994  \n14806                14.709583  \n8377                  7.819059  \n11796                14.036125  \n10429                15.720790  \n14773                19.050546  \n14774                11.975750  \n14775                10.115115  \n14776                14.370549  \n14772                16.684988  \n399                  14.372108  \n12011                11.726908  \n14548                15.970001  \n14547                20.564463  \n14551                12.193892  \n14549                18.404969  \n14550                16.222686  \n6619                 10.864197  \n14773                19.049195  \n14774                12.016910  \n14775                10.161699  \n14776                14.370549  \n14772                16.699144  \n399                  14.382096  \n12011                11.726917  \n14803                14.179008  \n14805                13.053123  \n14804                11.148149  \n14802                17.918316  \n5883                 11.629173  \n8375                 11.462212  \n14806                14.695859  \n8377                  7.811575  \n11796                14.036125  \n10429                15.720790  ",
      "text/html": "<div>\n<style scoped>\n    .dataframe tbody tr th:only-of-type {\n        vertical-align: middle;\n    }\n\n    .dataframe tbody tr th {\n        vertical-align: top;\n    }\n\n    .dataframe thead th {\n        text-align: right;\n    }\n</style>\n<table border=\"1\" class=\"dataframe\">\n  <thead>\n    <tr style=\"text-align: right;\">\n      <th></th>\n      <th>account_id</th>\n      <th>name</th>\n      <th>fantasy_role</th>\n      <th>team_id</th>\n      <th>enemy_team_id</th>\n      <th>predicted_fantasy_score</th>\n    </tr>\n  </thead>\n  <tbody>\n    <tr>\n      <th>14548</th>\n      <td>113331514</td>\n      <td>Miposhka</td>\n      <td>Support</td>\n      <td>7119388</td>\n      <td>8261500</td>\n      <td>15.970001</td>\n    </tr>\n    <tr>\n      <th>14547</th>\n      <td>321580662</td>\n      <td>Yatoro</td>\n      <td>Core</td>\n      <td>7119388</td>\n      <td>8261500</td>\n      <td>20.564463</td>\n    </tr>\n    <tr>\n      <th>14551</th>\n      <td>302214028</td>\n      <td>Collapse</td>\n      <td>Core</td>\n      <td>7119388</td>\n      <td>8261500</td>\n      <td>12.227340</td>\n    </tr>\n    <tr>\n      <th>14549</th>\n      <td>106305042</td>\n      <td>Larl</td>\n      <td>Mid</td>\n      <td>7119388</td>\n      <td>8261500</td>\n      <td>18.404969</td>\n    </tr>\n    <tr>\n      <th>14550</th>\n      <td>847565596</td>\n      <td>rue</td>\n      <td>Support</td>\n      <td>7119388</td>\n      <td>8261500</td>\n      <td>16.226050</td>\n    </tr>\n    <tr>\n      <th>6619</th>\n      <td>203351055</td>\n      <td>Malik</td>\n      <td>Core</td>\n      <td>7119388</td>\n      <td>8261500</td>\n      <td>10.894281</td>\n    </tr>\n    <tr>\n      <th>14803</th>\n      <td>137129583</td>\n      <td>Xm</td>\n      <td>Mid</td>\n      <td>8261500</td>\n      <td>7119388</td>\n      <td>14.177190</td>\n    </tr>\n    <tr>\n      <th>14805</th>\n      <td>157475523</td>\n      <td>XinQ</td>\n      <td>Support</td>\n      <td>8261500</td>\n      <td>7119388</td>\n      <td>13.048568</td>\n    </tr>\n    <tr>\n      <th>14804</th>\n      <td>129958758</td>\n      <td>Xxs</td>\n      <td>Core</td>\n      <td>8261500</td>\n      <td>7119388</td>\n      <td>11.155621</td>\n    </tr>\n    <tr>\n      <th>14802</th>\n      <td>898754153</td>\n      <td>Ame</td>\n      <td>Core</td>\n      <td>8261500</td>\n      <td>7119388</td>\n      <td>17.918316</td>\n    </tr>\n    <tr>\n      <th>5883</th>\n      <td>138543123</td>\n      <td>Pyw</td>\n      <td>Support</td>\n      <td>8261500</td>\n      <td>7119388</td>\n      <td>11.659370</td>\n    </tr>\n    <tr>\n      <th>8375</th>\n      <td>185908355</td>\n      <td>楼</td>\n      <td>Core</td>\n      <td>8261500</td>\n      <td>7119388</td>\n      <td>11.461994</td>\n    </tr>\n    <tr>\n      <th>14806</th>\n      <td>76904792</td>\n      <td>poloson</td>\n      <td>Support</td>\n      <td>8261500</td>\n      <td>7119388</td>\n      <td>14.709583</td>\n    </tr>\n    <tr>\n      <th>8377</th>\n      <td>145957968</td>\n      <td>niu</td>\n      <td>Core</td>\n      <td>8261500</td>\n      <td>7119388</td>\n      <td>7.819059</td>\n    </tr>\n    <tr>\n      <th>11796</th>\n      <td>158847773</td>\n      <td>Tianming</td>\n      <td>Support</td>\n      <td>8261500</td>\n      <td>7119388</td>\n      <td>14.036125</td>\n    </tr>\n    <tr>\n      <th>10429</th>\n      <td>191597529</td>\n      <td>Undyne</td>\n      <td>Support</td>\n      <td>8261500</td>\n      <td>7119388</td>\n      <td>15.720790</td>\n    </tr>\n    <tr>\n      <th>14773</th>\n      <td>301750126</td>\n      <td>Mikoto</td>\n      <td>Mid</td>\n      <td>8597976</td>\n      <td>7119388</td>\n      <td>19.050546</td>\n    </tr>\n    <tr>\n      <th>14774</th>\n      <td>152859296</td>\n      <td>Jhocam</td>\n      <td>Support</td>\n      <td>8597976</td>\n      <td>7119388</td>\n      <td>11.975750</td>\n    </tr>\n    <tr>\n      <th>14775</th>\n      <td>126842529</td>\n      <td>Ws`</td>\n      <td>Core</td>\n      <td>8597976</td>\n      <td>7119388</td>\n      <td>10.115115</td>\n    </tr>\n    <tr>\n      <th>14776</th>\n      <td>375507918</td>\n      <td>23savage</td>\n      <td>Core</td>\n      <td>8597976</td>\n      <td>7119388</td>\n      <td>14.370549</td>\n    </tr>\n    <tr>\n      <th>14772</th>\n      <td>184950344</td>\n      <td>Kuku^</td>\n      <td>Support</td>\n      <td>8597976</td>\n      <td>7119388</td>\n      <td>16.684988</td>\n    </tr>\n    <tr>\n      <th>399</th>\n      <td>293904640</td>\n      <td>ponyo</td>\n      <td>Support</td>\n      <td>8597976</td>\n      <td>7119388</td>\n      <td>14.372108</td>\n    </tr>\n    <tr>\n      <th>12011</th>\n      <td>355168766</td>\n      <td>Natsumi</td>\n      <td>Core</td>\n      <td>8597976</td>\n      <td>7119388</td>\n      <td>11.726908</td>\n    </tr>\n    <tr>\n      <th>14548</th>\n      <td>113331514</td>\n      <td>Miposhka</td>\n      <td>Support</td>\n      <td>7119388</td>\n      <td>8597976</td>\n      <td>15.970001</td>\n    </tr>\n    <tr>\n      <th>14547</th>\n      <td>321580662</td>\n      <td>Yatoro</td>\n      <td>Core</td>\n      <td>7119388</td>\n      <td>8597976</td>\n      <td>20.564463</td>\n    </tr>\n    <tr>\n      <th>14551</th>\n      <td>302214028</td>\n      <td>Collapse</td>\n      <td>Core</td>\n      <td>7119388</td>\n      <td>8597976</td>\n      <td>12.193892</td>\n    </tr>\n    <tr>\n      <th>14549</th>\n      <td>106305042</td>\n      <td>Larl</td>\n      <td>Mid</td>\n      <td>7119388</td>\n      <td>8597976</td>\n      <td>18.404969</td>\n    </tr>\n    <tr>\n      <th>14550</th>\n      <td>847565596</td>\n      <td>rue</td>\n      <td>Support</td>\n      <td>7119388</td>\n      <td>8597976</td>\n      <td>16.222686</td>\n    </tr>\n    <tr>\n      <th>6619</th>\n      <td>203351055</td>\n      <td>Malik</td>\n      <td>Core</td>\n      <td>7119388</td>\n      <td>8597976</td>\n      <td>10.864197</td>\n    </tr>\n    <tr>\n      <th>14773</th>\n      <td>301750126</td>\n      <td>Mikoto</td>\n      <td>Mid</td>\n      <td>8597976</td>\n      <td>8261500</td>\n      <td>19.049195</td>\n    </tr>\n    <tr>\n      <th>14774</th>\n      <td>152859296</td>\n      <td>Jhocam</td>\n      <td>Support</td>\n      <td>8597976</td>\n      <td>8261500</td>\n      <td>12.016910</td>\n    </tr>\n    <tr>\n      <th>14775</th>\n      <td>126842529</td>\n      <td>Ws`</td>\n      <td>Core</td>\n      <td>8597976</td>\n      <td>8261500</td>\n      <td>10.161699</td>\n    </tr>\n    <tr>\n      <th>14776</th>\n      <td>375507918</td>\n      <td>23savage</td>\n      <td>Core</td>\n      <td>8597976</td>\n      <td>8261500</td>\n      <td>14.370549</td>\n    </tr>\n    <tr>\n      <th>14772</th>\n      <td>184950344</td>\n      <td>Kuku^</td>\n      <td>Support</td>\n      <td>8597976</td>\n      <td>8261500</td>\n      <td>16.699144</td>\n    </tr>\n    <tr>\n      <th>399</th>\n      <td>293904640</td>\n      <td>ponyo</td>\n      <td>Support</td>\n      <td>8597976</td>\n      <td>8261500</td>\n      <td>14.382096</td>\n    </tr>\n    <tr>\n      <th>12011</th>\n      <td>355168766</td>\n      <td>Natsumi</td>\n      <td>Core</td>\n      <td>8597976</td>\n      <td>8261500</td>\n      <td>11.726917</td>\n    </tr>\n    <tr>\n      <th>14803</th>\n      <td>137129583</td>\n      <td>Xm</td>\n      <td>Mid</td>\n      <td>8261500</td>\n      <td>8597976</td>\n      <td>14.179008</td>\n    </tr>\n    <tr>\n      <th>14805</th>\n      <td>157475523</td>\n      <td>XinQ</td>\n      <td>Support</td>\n      <td>8261500</td>\n      <td>8597976</td>\n      <td>13.053123</td>\n    </tr>\n    <tr>\n      <th>14804</th>\n      <td>129958758</td>\n      <td>Xxs</td>\n      <td>Core</td>\n      <td>8261500</td>\n      <td>8597976</td>\n      <td>11.148149</td>\n    </tr>\n    <tr>\n      <th>14802</th>\n      <td>898754153</td>\n      <td>Ame</td>\n      <td>Core</td>\n      <td>8261500</td>\n      <td>8597976</td>\n      <td>17.918316</td>\n    </tr>\n    <tr>\n      <th>5883</th>\n      <td>138543123</td>\n      <td>Pyw</td>\n      <td>Support</td>\n      <td>8261500</td>\n      <td>8597976</td>\n      <td>11.629173</td>\n    </tr>\n    <tr>\n      <th>8375</th>\n      <td>185908355</td>\n      <td>楼</td>\n      <td>Core</td>\n      <td>8261500</td>\n      <td>8597976</td>\n      <td>11.462212</td>\n    </tr>\n    <tr>\n      <th>14806</th>\n      <td>76904792</td>\n      <td>poloson</td>\n      <td>Support</td>\n      <td>8261500</td>\n      <td>8597976</td>\n      <td>14.695859</td>\n    </tr>\n    <tr>\n      <th>8377</th>\n      <td>145957968</td>\n      <td>niu</td>\n      <td>Core</td>\n      <td>8261500</td>\n      <td>8597976</td>\n      <td>7.811575</td>\n    </tr>\n    <tr>\n      <th>11796</th>\n      <td>158847773</td>\n      <td>Tianming</td>\n      <td>Support</td>\n      <td>8261500</td>\n      <td>8597976</td>\n      <td>14.036125</td>\n    </tr>\n    <tr>\n      <th>10429</th>\n      <td>191597529</td>\n      <td>Undyne</td>\n      <td>Support</td>\n      <td>8261500</td>\n      <td>8597976</td>\n      <td>15.720790</td>\n    </tr>\n  </tbody>\n</table>\n</div>"
     },
     "execution_count": 46,
     "metadata": {},
     "output_type": "execute_result"
    }
   ],
   "source": [
    "result"
   ],
   "metadata": {
    "collapsed": false,
    "ExecuteTime": {
     "end_time": "2025-07-29T16:11:09.376221400Z",
     "start_time": "2025-07-29T16:11:09.355996900Z"
    }
   },
   "id": "abcf989652a0627"
  },
  {
   "cell_type": "code",
   "execution_count": 57,
   "outputs": [
    {
     "data": {
      "text/plain": "               feature  importance\n3                kills    0.258703\n15               stuns    0.164944\n11          obs_placed    0.097386\n8        towers_killed    0.077941\n17             assists    0.073050\n12       camps_stacked    0.060334\n13        rune_pickups    0.059466\n14  firstblood_claimed    0.055840\n7         gold_per_min    0.031510\n16      creeps_stacked    0.016212",
      "text/html": "<div>\n<style scoped>\n    .dataframe tbody tr th:only-of-type {\n        vertical-align: middle;\n    }\n\n    .dataframe tbody tr th {\n        vertical-align: top;\n    }\n\n    .dataframe thead th {\n        text-align: right;\n    }\n</style>\n<table border=\"1\" class=\"dataframe\">\n  <thead>\n    <tr style=\"text-align: right;\">\n      <th></th>\n      <th>feature</th>\n      <th>importance</th>\n    </tr>\n  </thead>\n  <tbody>\n    <tr>\n      <th>3</th>\n      <td>kills</td>\n      <td>0.258703</td>\n    </tr>\n    <tr>\n      <th>15</th>\n      <td>stuns</td>\n      <td>0.164944</td>\n    </tr>\n    <tr>\n      <th>11</th>\n      <td>obs_placed</td>\n      <td>0.097386</td>\n    </tr>\n    <tr>\n      <th>8</th>\n      <td>towers_killed</td>\n      <td>0.077941</td>\n    </tr>\n    <tr>\n      <th>17</th>\n      <td>assists</td>\n      <td>0.073050</td>\n    </tr>\n    <tr>\n      <th>12</th>\n      <td>camps_stacked</td>\n      <td>0.060334</td>\n    </tr>\n    <tr>\n      <th>13</th>\n      <td>rune_pickups</td>\n      <td>0.059466</td>\n    </tr>\n    <tr>\n      <th>14</th>\n      <td>firstblood_claimed</td>\n      <td>0.055840</td>\n    </tr>\n    <tr>\n      <th>7</th>\n      <td>gold_per_min</td>\n      <td>0.031510</td>\n    </tr>\n    <tr>\n      <th>16</th>\n      <td>creeps_stacked</td>\n      <td>0.016212</td>\n    </tr>\n  </tbody>\n</table>\n</div>"
     },
     "execution_count": 57,
     "metadata": {},
     "output_type": "execute_result"
    }
   ],
   "source": [
    "rf_feature_importances = pd.DataFrame({\n",
    "    'feature': X.columns,\n",
    "    'importance': rf_model.feature_importances_\n",
    "}).sort_values(by='importance', ascending=False)\n",
    "rf_feature_importances.head(10)"
   ],
   "metadata": {
    "collapsed": false,
    "ExecuteTime": {
     "end_time": "2025-07-29T19:49:50.441895700Z",
     "start_time": "2025-07-29T19:49:50.381895800Z"
    }
   },
   "id": "48880385c14b0980"
  },
  {
   "cell_type": "code",
   "execution_count": 58,
   "outputs": [
    {
     "data": {
      "text/plain": "               feature  importance\n3                kills    0.256771\n15               stuns    0.152994\n17             assists    0.096964\n11          obs_placed    0.086298\n8        towers_killed    0.082059\n12       camps_stacked    0.062057\n13        rune_pickups    0.058066\n14  firstblood_claimed    0.056168\n7         gold_per_min    0.028181\n4               deaths    0.015660",
      "text/html": "<div>\n<style scoped>\n    .dataframe tbody tr th:only-of-type {\n        vertical-align: middle;\n    }\n\n    .dataframe tbody tr th {\n        vertical-align: top;\n    }\n\n    .dataframe thead th {\n        text-align: right;\n    }\n</style>\n<table border=\"1\" class=\"dataframe\">\n  <thead>\n    <tr style=\"text-align: right;\">\n      <th></th>\n      <th>feature</th>\n      <th>importance</th>\n    </tr>\n  </thead>\n  <tbody>\n    <tr>\n      <th>3</th>\n      <td>kills</td>\n      <td>0.256771</td>\n    </tr>\n    <tr>\n      <th>15</th>\n      <td>stuns</td>\n      <td>0.152994</td>\n    </tr>\n    <tr>\n      <th>17</th>\n      <td>assists</td>\n      <td>0.096964</td>\n    </tr>\n    <tr>\n      <th>11</th>\n      <td>obs_placed</td>\n      <td>0.086298</td>\n    </tr>\n    <tr>\n      <th>8</th>\n      <td>towers_killed</td>\n      <td>0.082059</td>\n    </tr>\n    <tr>\n      <th>12</th>\n      <td>camps_stacked</td>\n      <td>0.062057</td>\n    </tr>\n    <tr>\n      <th>13</th>\n      <td>rune_pickups</td>\n      <td>0.058066</td>\n    </tr>\n    <tr>\n      <th>14</th>\n      <td>firstblood_claimed</td>\n      <td>0.056168</td>\n    </tr>\n    <tr>\n      <th>7</th>\n      <td>gold_per_min</td>\n      <td>0.028181</td>\n    </tr>\n    <tr>\n      <th>4</th>\n      <td>deaths</td>\n      <td>0.015660</td>\n    </tr>\n  </tbody>\n</table>\n</div>"
     },
     "execution_count": 58,
     "metadata": {},
     "output_type": "execute_result"
    }
   ],
   "source": [
    "rf_fe_feature_importances = pd.DataFrame({\n",
    "    'feature': X_fe.columns,\n",
    "    'importance': rf_fe_model.feature_importances_\n",
    "}).sort_values(by='importance', ascending=False)\n",
    "rf_fe_feature_importances.head(10)"
   ],
   "metadata": {
    "collapsed": false,
    "ExecuteTime": {
     "end_time": "2025-07-29T19:49:51.034865100Z",
     "start_time": "2025-07-29T19:49:50.986668Z"
    }
   },
   "id": "6fbe1fefe261f2ee"
  },
  {
   "cell_type": "markdown",
   "source": [
    "# Naive Baseline Model"
   ],
   "metadata": {
    "collapsed": false
   },
   "id": "ac96cf8e4b08b584"
  },
  {
   "cell_type": "code",
   "execution_count": 48,
   "outputs": [
    {
     "name": "stdout",
     "output_type": "stream",
     "text": [
      "Mean Baseline RMSE: 4.877597261406306\n"
     ]
    }
   ],
   "source": [
    "mean_baseline = y_train.mean()\n",
    "y_pred_baseline = [mean_baseline] * len(y_test)\n",
    "print(\"Mean Baseline RMSE:\", root_mean_squared_error(y_test, y_pred_baseline))"
   ],
   "metadata": {
    "collapsed": false,
    "ExecuteTime": {
     "end_time": "2025-07-29T16:30:16.176738100Z",
     "start_time": "2025-07-29T16:30:16.153717400Z"
    }
   },
   "id": "264b1d4af35b9fbe"
  },
  {
   "cell_type": "code",
   "execution_count": 49,
   "outputs": [],
   "source": [
    "y_pred_baseline_train = rf_model.predict(X_train_rf)\n",
    "y_pred_baseline_test = rf_model.predict(X_test_rf)"
   ],
   "metadata": {
    "collapsed": false,
    "ExecuteTime": {
     "end_time": "2025-07-29T16:34:41.015241600Z",
     "start_time": "2025-07-29T16:34:40.565317700Z"
    }
   },
   "id": "c7df30f37aa3aef8"
  },
  {
   "cell_type": "code",
   "execution_count": 50,
   "outputs": [
    {
     "name": "stdout",
     "output_type": "stream",
     "text": [
      "Mean Baseline, Train RMSE: 6.7621321579858105\n",
      "Mean Baseline, Test RMSE: 6.56330562031149\n",
      "Mean Baseline, Train MAE: 5.359821007836883\n",
      "Mean Baseline, Test MAE: 5.245732962160308\n",
      "Mean Baseline, Train R2: -0.9317271901206061\n",
      "Mean Baseline, Test R2: -0.8111570472116103\n"
     ]
    }
   ],
   "source": [
    "print(\"Mean Baseline, Train RMSE:\", root_mean_squared_error(y_train, y_pred_baseline_train))\n",
    "print(\"Mean Baseline, Test RMSE:\", root_mean_squared_error(y_test, y_pred_baseline_test))\n",
    "print(\"Mean Baseline, Train MAE:\", mean_absolute_error(y_train, y_pred_baseline_train))\n",
    "print(\"Mean Baseline, Test MAE:\", mean_absolute_error(y_test, y_pred_baseline_test))\n",
    "print(\"Mean Baseline, Train R2:\", r2_score(y_train, y_pred_baseline_train))\n",
    "print(\"Mean Baseline, Test R2:\", r2_score(y_test, y_pred_baseline_test))"
   ],
   "metadata": {
    "collapsed": false,
    "ExecuteTime": {
     "end_time": "2025-07-29T16:34:41.745490700Z",
     "start_time": "2025-07-29T16:34:41.729323300Z"
    }
   },
   "id": "bd4580b12bacbf31"
  },
  {
   "cell_type": "markdown",
   "source": [
    "# LSTM\n",
    "Wegen den Python-Version voraussetzungen von TensorFlow wird LSTM in einem eigenen Notebook implementiert."
   ],
   "metadata": {
    "collapsed": false
   },
   "id": "846435d1d71651a3"
  }
 ],
 "metadata": {
  "kernelspec": {
   "name": "tf_new",
   "language": "python",
   "display_name": "Python (tf_new)"
  },
  "language_info": {
   "codemirror_mode": {
    "name": "ipython",
    "version": 3
   },
   "file_extension": ".py",
   "mimetype": "text/x-python",
   "name": "python",
   "nbconvert_exporter": "python",
   "pygments_lexer": "ipython3",
   "version": "3.13.5"
  }
 },
 "nbformat": 4,
 "nbformat_minor": 5
}
